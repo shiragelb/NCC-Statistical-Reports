{
  "cells": [
    {
      "cell_type": "markdown",
      "metadata": {
        "id": "ZI20GzHpCXm4"
      },
      "source": [
        "# My New Notebook\n",
        "This is a valid notebook!"
      ],
      "id": "ZI20GzHpCXm4"
    },
    {
      "cell_type": "code",
      "execution_count": 1,
      "metadata": {
        "id": "q6oSChKpCXm5",
        "outputId": "0011f319-29ce-43e8-d6ef-ea749d7575ca",
        "colab": {
          "base_uri": "https://localhost:8080/"
        }
      },
      "outputs": [
        {
          "output_type": "stream",
          "name": "stdout",
          "text": [
            "Hello, world!\n"
          ]
        }
      ],
      "source": [
        "print('Hello, world!')\n"
      ],
      "id": "q6oSChKpCXm5"
    }
  ],
  "metadata": {
    "kernelspec": {
      "display_name": "Python 3",
      "language": "python",
      "name": "python3"
    },
    "language_info": {
      "name": "python",
      "version": "3.10"
    },
    "colab": {
      "provenance": [],
      "toc_visible": true
    }
  },
  "nbformat": 4,
  "nbformat_minor": 5
}