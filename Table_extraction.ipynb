{
  "nbformat": 4,
  "nbformat_minor": 0,
  "metadata": {
    "colab": {
      "provenance": [],
      "collapsed_sections": [
        "V-HqtTT_kr3E"
      ],
      "include_colab_link": true
    },
    "kernelspec": {
      "name": "python3",
      "display_name": "Python 3"
    },
    "language_info": {
      "name": "python"
    }
  },
  "cells": [
    {
      "cell_type": "markdown",
      "metadata": {
        "id": "view-in-github",
        "colab_type": "text"
      },
      "source": [
        "<a href=\"https://colab.research.google.com/github/shiragelb/NCC-Statistical-Reports/blob/main/Table_extraction.ipynb\" target=\"_parent\"><img src=\"https://colab.research.google.com/assets/colab-badge.svg\" alt=\"Open In Colab\"/></a>"
      ]
    },
    {
      "cell_type": "code",
      "source": [
        "!apt-get install pandoc\n",
        "!pip install pypandoc\n",
        "!pip install python-docx\n",
        "!pip install docx2txt"
      ],
      "metadata": {
        "colab": {
          "base_uri": "https://localhost:8080/"
        },
        "id": "wMvSuUElnUQ7",
        "outputId": "45170c98-511c-48d7-c287-6f4454fb10f5"
      },
      "execution_count": 15,
      "outputs": [
        {
          "output_type": "stream",
          "name": "stdout",
          "text": [
            "Reading package lists... Done\n",
            "Building dependency tree... Done\n",
            "Reading state information... Done\n",
            "pandoc is already the newest version (2.9.2.1-3ubuntu2).\n",
            "0 upgraded, 0 newly installed, 0 to remove and 35 not upgraded.\n",
            "Requirement already satisfied: pypandoc in /usr/local/lib/python3.12/dist-packages (1.15)\n",
            "Requirement already satisfied: python-docx in /usr/local/lib/python3.12/dist-packages (1.2.0)\n",
            "Requirement already satisfied: lxml>=3.1.0 in /usr/local/lib/python3.12/dist-packages (from python-docx) (5.4.0)\n",
            "Requirement already satisfied: typing_extensions>=4.9.0 in /usr/local/lib/python3.12/dist-packages (from python-docx) (4.15.0)\n",
            "Requirement already satisfied: docx2txt in /usr/local/lib/python3.12/dist-packages (0.9)\n"
          ]
        }
      ]
    },
    {
      "cell_type": "markdown",
      "source": [
        "# Data extraction from drive"
      ],
      "metadata": {
        "id": "V-HqtTT_kr3E"
      }
    },
    {
      "cell_type": "code",
      "source": [
        "from google.colab import auth\n",
        "from googleapiclient.discovery import build\n",
        "import pandas as pd\n",
        "import os\n",
        "import io\n",
        "from googleapiclient.http import MediaIoBaseDownload\n",
        "import logging\n",
        "\n",
        "# Set up logging\n",
        "logger = logging.getLogger('__main__')\n",
        "logger.setLevel(logging.INFO)\n",
        "\n",
        "\n",
        "class GoogleDriveManager:\n",
        "    \"\"\"\n",
        "    Manages Google Drive operations including listing, filtering, downloading, and uploading files.\n",
        "    \"\"\"\n",
        "\n",
        "    def __init__(self, folder_id):\n",
        "        \"\"\"\n",
        "        Initialize the GoogleDriveManager with authentication and folder ID.\n",
        "\n",
        "        Args:\n",
        "            folder_id: The Google Drive folder ID to work with\n",
        "        \"\"\"\n",
        "        self.folder_id = folder_id\n",
        "        self.drive_service = None\n",
        "        self.files_df = None  # Cache for file listings\n",
        "\n",
        "        # Authenticate and build service\n",
        "        self._authenticate()\n",
        "\n",
        "    def _authenticate(self):\n",
        "        \"\"\"Authenticate with Google Drive and build the service object.\"\"\"\n",
        "        try:\n",
        "            auth.authenticate_user()\n",
        "            self.drive_service = build('drive', 'v3')\n",
        "            logger.info(\"✅ Successfully authenticated with Google Drive\")\n",
        "        except Exception as e:\n",
        "            logger.error(f\"❌ Authentication failed: {e}\")\n",
        "            raise\n",
        "\n",
        "    def list_all_files(self, force_refresh=False):\n",
        "        \"\"\"\n",
        "        Recursively list all files in the folder and subfolders.\n",
        "\n",
        "        Args:\n",
        "            force_refresh: If True, force a new listing even if cached data exists\n",
        "\n",
        "        Returns:\n",
        "            pd.DataFrame: DataFrame with columns [file_name, file_path, file_id, file_url]\n",
        "        \"\"\"\n",
        "        if self.files_df is not None and not force_refresh:\n",
        "            logger.info(\"📋 Using cached file list\")\n",
        "            return self.files_df\n",
        "\n",
        "        logger.info(\"🔍 Listing all files in folder...\")\n",
        "        all_files = self._list_files_recursive(self.folder_id)\n",
        "\n",
        "        # Convert to DataFrame\n",
        "        if all_files:\n",
        "            self.files_df = pd.DataFrame(all_files)\n",
        "\n",
        "            # Deduplicate by folder+name (file_path already encodes folder)\n",
        "            self.files_df = self.files_df.drop_duplicates(\n",
        "                subset=[\"file_path\", \"file_name\"], keep=\"first\"\n",
        "            )\n",
        "\n",
        "            logger.info(f\"✅ Found {len(self.files_df)} unique files\")\n",
        "        else:\n",
        "            self.files_df = pd.DataFrame(columns=['file_name', 'file_path', 'file_id', 'file_url'])\n",
        "            logger.info(\"📁 No files found in folder\")\n",
        "\n",
        "        return self.files_df\n",
        "\n",
        "    def _list_files_recursive(self, parent_id, parent_path=\"\"):\n",
        "        \"\"\"\n",
        "        Recursively list files in a folder.\n",
        "\n",
        "        Args:\n",
        "            parent_id: Google Drive folder ID\n",
        "            parent_path: Path string for tracking folder hierarchy\n",
        "\n",
        "        Returns:\n",
        "            list: List of file dictionaries\n",
        "        \"\"\"\n",
        "        all_files = []\n",
        "        query = f\"'{parent_id}' in parents and trashed=false\"\n",
        "        page_token = None\n",
        "\n",
        "        while True:\n",
        "            try:\n",
        "                response = self.drive_service.files().list(\n",
        "                    q=query,\n",
        "                    spaces='drive',\n",
        "                    fields='nextPageToken, files(id, name, mimeType)',\n",
        "                    pageToken=page_token\n",
        "                ).execute()\n",
        "\n",
        "                for item in response.get('files', []):\n",
        "                    item_path = f\"{parent_path}/{item['name']}\" if parent_path else item['name']\n",
        "\n",
        "                    if item['mimeType'] == 'application/vnd.google-apps.folder':\n",
        "                        # Recurse into subfolder\n",
        "                        all_files.extend(self._list_files_recursive(item['id'], item_path))\n",
        "                    else:\n",
        "                        all_files.append({\n",
        "                            \"file_name\": item['name'],\n",
        "                            \"file_path\": item_path,\n",
        "                            \"file_id\": item['id'],\n",
        "                            \"file_url\": f\"https://drive.google.com/file/d/{item['id']}/view?usp=sharing\"\n",
        "                        })\n",
        "\n",
        "                page_token = response.get('nextPageToken', None)\n",
        "                if page_token is None:\n",
        "                    break\n",
        "\n",
        "            except Exception as e:\n",
        "                logger.error(f\"❌ Error listing files in {parent_path}: {e}\")\n",
        "                break\n",
        "\n",
        "        return all_files\n",
        "\n",
        "    def filter_files(self, df=None, years=None, chapters=None):\n",
        "        \"\"\"\n",
        "        Filter files based on specified years and chapters using exact matching.\n",
        "\n",
        "        Args:\n",
        "            df: DataFrame to filter (if None, uses cached files_df)\n",
        "            years: List of years to include (e.g., [2021, 2022, 2023])\n",
        "            chapters: List of chapter numbers to include (e.g., [1, 2, 5, 10])\n",
        "\n",
        "        Returns:\n",
        "            pd.DataFrame: Filtered DataFrame containing only requested files\n",
        "        \"\"\"\n",
        "        # Use provided df or cached one\n",
        "        if df is None:\n",
        "            if self.files_df is None:\n",
        "                logger.warning(\"⚠️ No files listed yet. Running list_all_files() first.\")\n",
        "                self.list_all_files()\n",
        "            df = self.files_df.copy()\n",
        "        else:\n",
        "            df = df.copy()\n",
        "\n",
        "        if df.empty:\n",
        "            logger.warning(\"⚠️ No files to filter\")\n",
        "            return df\n",
        "\n",
        "        # Apply year filter\n",
        "        if years is not None:\n",
        "            year_strings = [str(year) for year in years]\n",
        "            # Exact match: year must be a folder in the path\n",
        "            year_mask = df['file_path'].apply(\n",
        "                lambda path: any(f\"/{year}/\" in f\"/{path}\" or path.startswith(f\"{year}/\")\n",
        "                               for year in year_strings)\n",
        "            )\n",
        "            df = df[year_mask]\n",
        "            logger.info(f\"📅 Filtered for years: {years} - {len(df)} files\")\n",
        "\n",
        "        # Apply chapter filter\n",
        "        if chapters is not None:\n",
        "            # Exact match for filename pattern: 01.docx, 02.docx, etc.\n",
        "            chapter_filenames = [f\"{ch:02d}.docx\" for ch in chapters]\n",
        "            chapter_mask = df['file_name'].apply(\n",
        "                lambda name: name in chapter_filenames\n",
        "            )\n",
        "            df = df[chapter_mask]\n",
        "            logger.info(f\"📖 Filtered for chapters: {chapters} - {len(df)} files\")\n",
        "\n",
        "        return df\n",
        "\n",
        "    def download_files(self, filtered_df, download_dir=\"/content/reports\"):\n",
        "        \"\"\"\n",
        "        Download files from a filtered DataFrame.\n",
        "\n",
        "        Args:\n",
        "            filtered_df: DataFrame containing files to download\n",
        "            download_dir: Base directory for downloads\n",
        "\n",
        "        Returns:\n",
        "            dict: Dictionary mapping file paths to local paths\n",
        "        \"\"\"\n",
        "        if filtered_df is None or filtered_df.empty:\n",
        "            logger.warning(\"⚠️ No files to download\")\n",
        "            return {}\n",
        "\n",
        "        downloaded_files = {}\n",
        "        total_files = len(filtered_df)\n",
        "\n",
        "        logger.info(f\"📥 Starting download of {total_files} files...\")\n",
        "\n",
        "        for idx, row in filtered_df.iterrows():\n",
        "            file_id = row['file_id']\n",
        "            file_name = row['file_name']\n",
        "            file_path = row['file_path']\n",
        "\n",
        "            # Extract year from path (assuming structure: year/filename)\n",
        "            path_parts = file_path.split('/')\n",
        "            if len(path_parts) >= 2:\n",
        "                year = path_parts[0]\n",
        "                local_path = os.path.join(download_dir, year, file_name)\n",
        "            else:\n",
        "                local_path = os.path.join(download_dir, file_name)\n",
        "\n",
        "            # Ensure directory exists\n",
        "            os.makedirs(os.path.dirname(local_path), exist_ok=True)\n",
        "\n",
        "            try:\n",
        "                # Download file\n",
        "                request = self.drive_service.files().get_media(fileId=file_id)\n",
        "                fh = io.FileIO(local_path, \"wb\")\n",
        "                downloader = MediaIoBaseDownload(fh, request)\n",
        "\n",
        "                done = False\n",
        "                while not done:\n",
        "                    status, done = downloader.next_chunk()\n",
        "                    if status:\n",
        "                        progress = int(status.progress() * 100)\n",
        "                        print(f\"⬇️  Downloading {file_name}: {progress}%\", end='\\r')\n",
        "\n",
        "                logger.info(f\"✅ Downloaded {file_name} to {local_path}\")\n",
        "                downloaded_files[file_path] = local_path\n",
        "\n",
        "            except Exception as e:\n",
        "                logger.warning(f\"⚠️ Failed to download {file_name}: {e}\")\n",
        "                continue\n",
        "\n",
        "        logger.info(f\"✅ Download complete: {len(downloaded_files)}/{total_files} files\")\n",
        "        return downloaded_files\n",
        "\n",
        "    def download_selective(self, years=None, chapters=None, download_dir=\"/content/reports\"):\n",
        "        \"\"\"\n",
        "        Convenience method to list, filter, and download files in one operation.\n",
        "\n",
        "        Args:\n",
        "            years: List of years to download (e.g., [2021, 2022, 2023])\n",
        "            chapters: List of chapter numbers to download (e.g., [1, 2, 5, 10])\n",
        "            download_dir: Base directory for downloads\n",
        "\n",
        "        Returns:\n",
        "            dict: Dictionary mapping file paths to local paths\n",
        "\n",
        "        Example:\n",
        "            # Download chapters 1-5 for years 2021-2023\n",
        "            manager.download_selective(\n",
        "                years=range(2021, 2024),\n",
        "                chapters=range(1, 6),\n",
        "                download_dir=\"/content/reports\"\n",
        "            )\n",
        "        \"\"\"\n",
        "        # Step 1: List all files\n",
        "        logger.info(\"🚀 Starting selective download workflow...\")\n",
        "        all_files = self.list_all_files()\n",
        "\n",
        "        # Step 2: Filter files\n",
        "        filtered_files = self.filter_files(all_files, years=years, chapters=chapters)\n",
        "\n",
        "        if filtered_files is None or filtered_files.empty:\n",
        "            logger.warning(\"⚠️ No files match the specified criteria\")\n",
        "            return {}\n",
        "\n",
        "        logger.info(f\"📊 Found {len(filtered_files)} files matching criteria\")\n",
        "\n",
        "        # Step 3: Download filtered files\n",
        "        downloaded = self.download_files(filtered_files, download_dir)\n",
        "\n",
        "        return downloaded\n",
        "\n",
        "    def get_summary(self, df=None):\n",
        "        \"\"\"\n",
        "        Get summary statistics about the files.\n",
        "\n",
        "        Args:\n",
        "            df: DataFrame to summarize (if None, uses cached files_df)\n",
        "\n",
        "        Returns:\n",
        "            dict: Summary statistics\n",
        "        \"\"\"\n",
        "        if df is None:\n",
        "            if self.files_df is None:\n",
        "                logger.warning(\"⚠️ No files listed yet. Running list_all_files() first.\")\n",
        "                self.list_all_files()\n",
        "            df = self.files_df\n",
        "\n",
        "        if df is None or df.empty:\n",
        "            return {\"total_files\": 0, \"years\": [], \"chapters\": []}\n",
        "\n",
        "        # Extract years from paths\n",
        "        years = df['file_path'].apply(lambda x: x.split('/')[0] if '/' in x else None)\n",
        "        years = sorted(years.dropna().unique())\n",
        "\n",
        "        # Extract chapters from filenames (assuming pattern: 01.docx, 02.docx)\n",
        "        chapters = df['file_name'].apply(\n",
        "            lambda x: int(x[:2]) if x[:2].isdigit() and x.endswith('.docx') else None\n",
        "        )\n",
        "        chapters = sorted(chapters.dropna().unique())\n",
        "\n",
        "        summary = {\n",
        "            \"total_files\": len(df),\n",
        "            \"years\": years,\n",
        "            \"year_count\": len(years),\n",
        "            \"chapters\": chapters,\n",
        "            \"chapter_count\": len(chapters),\n",
        "            \"file_types\": df['file_name'].apply(lambda x: x.split('.')[-1]).value_counts().to_dict()\n",
        "        }\n",
        "\n",
        "        return summary\n",
        "\n",
        "    def preview_files(self, df=None, n=10):\n",
        "        \"\"\"\n",
        "        Preview first n files from the DataFrame.\n",
        "\n",
        "        Args:\n",
        "            df: DataFrame to preview (if None, uses cached files_df)\n",
        "            n: Number of files to preview\n",
        "        \"\"\"\n",
        "        if df is None:\n",
        "            if self.files_df is None:\n",
        "                logger.warning(\"⚠️ No files listed yet. Running list_all_files() first.\")\n",
        "                self.list_all_files()\n",
        "            df = self.files_df\n",
        "\n",
        "        if df is None or df.empty:\n",
        "            logger.info(\"No files to preview\")\n",
        "            return\n",
        "\n",
        "        preview = df.head(n)[['file_name', 'file_path']]\n",
        "        logger.info(f\"\\n📋 Preview of first {min(n, len(df))} files:\")\n",
        "        for idx, row in preview.iterrows():\n",
        "            logger.info(f\"  {row['file_path']}\")\n",
        "\n",
        "    def check_missing_files(self, years, chapters):\n",
        "        \"\"\"\n",
        "        Check which year/chapter combinations are missing.\n",
        "\n",
        "        Args:\n",
        "            years: List of years to check\n",
        "            chapters: List of chapter numbers to check\n",
        "\n",
        "        Returns:\n",
        "            list: List of missing (year, chapter) tuples\n",
        "        \"\"\"\n",
        "        if self.files_df is None:\n",
        "            self.list_all_files()\n",
        "\n",
        "        missing = []\n",
        "\n",
        "        for year in years:\n",
        "            for chapter in chapters:\n",
        "                # Check if this combination exists\n",
        "                filtered = self.filter_files(\n",
        "                    self.files_df,\n",
        "                    years=[year],\n",
        "                    chapters=[chapter]\n",
        "                )\n",
        "\n",
        "                if filtered is None or filtered.empty:\n",
        "                    missing.append((year, chapter))\n",
        "                    logger.warning(f\"⚠️ Missing: Year {year}, Chapter {chapter:02d}\")\n",
        "\n",
        "        if missing:\n",
        "            logger.info(f\"📊 Total missing files: {len(missing)}\")\n",
        "        else:\n",
        "            logger.info(\"✅ All requested files are present\")\n",
        "\n",
        "        return missing"
      ],
      "metadata": {
        "id": "Km-JPMKWmgBM"
      },
      "execution_count": 16,
      "outputs": []
    },
    {
      "cell_type": "code",
      "source": [
        "# Initialize\n",
        "folder_id = \"1e0eA-AIsz_BSwVHOppJMXECX42hBfG4J\"\n",
        "manager = GoogleDriveManager(folder_id)\n",
        "\n",
        "# Download specific years and chapters\n",
        "downloaded = manager.download_selective(\n",
        "    years=range(2001,2025),\n",
        "    chapters=range(1,16)\n",
        ")\n",
        "\n",
        "print(f\"Downloaded {len(downloaded)} files\")"
      ],
      "metadata": {
        "colab": {
          "base_uri": "https://localhost:8080/"
        },
        "id": "7QTrNaXWpI3Q",
        "outputId": "922a5ff1-501b-4ab9-a86c-9b7b9456e97a",
        "collapsed": true
      },
      "execution_count": 17,
      "outputs": [
        {
          "output_type": "stream",
          "name": "stderr",
          "text": [
            "INFO:__main__:✅ Successfully authenticated with Google Drive\n",
            "INFO:__main__:🚀 Starting selective download workflow...\n",
            "INFO:__main__:🔍 Listing all files in folder...\n",
            "INFO:__main__:✅ Found 896 unique files\n",
            "INFO:__main__:📅 Filtered for years: range(2001, 2025) - 895 files\n",
            "INFO:__main__:📖 Filtered for chapters: range(1, 16) - 374 files\n",
            "INFO:__main__:📊 Found 374 files matching criteria\n",
            "INFO:__main__:📥 Starting download of 374 files...\n",
            "INFO:__main__:✅ Downloaded 04.docx to /content/reports/2016/04.docx\n"
          ]
        },
        {
          "output_type": "stream",
          "name": "stdout",
          "text": [
            "⬇️  Downloading 04.docx: 100%\r"
          ]
        },
        {
          "output_type": "stream",
          "name": "stderr",
          "text": [
            "INFO:__main__:✅ Downloaded 11.docx to /content/reports/2016/11.docx\n"
          ]
        },
        {
          "output_type": "stream",
          "name": "stdout",
          "text": [
            "⬇️  Downloading 11.docx: 100%\r"
          ]
        },
        {
          "output_type": "stream",
          "name": "stderr",
          "text": [
            "INFO:__main__:✅ Downloaded 14.docx to /content/reports/2016/14.docx\n"
          ]
        },
        {
          "output_type": "stream",
          "name": "stdout",
          "text": [
            "⬇️  Downloading 14.docx: 100%\r"
          ]
        },
        {
          "output_type": "stream",
          "name": "stderr",
          "text": [
            "INFO:__main__:✅ Downloaded 02.docx to /content/reports/2016/02.docx\n"
          ]
        },
        {
          "output_type": "stream",
          "name": "stdout",
          "text": [
            "⬇️  Downloading 02.docx: 100%\r"
          ]
        },
        {
          "output_type": "stream",
          "name": "stderr",
          "text": [
            "INFO:__main__:✅ Downloaded 09.docx to /content/reports/2016/09.docx\n"
          ]
        },
        {
          "output_type": "stream",
          "name": "stdout",
          "text": [
            "⬇️  Downloading 09.docx: 100%\r"
          ]
        },
        {
          "output_type": "stream",
          "name": "stderr",
          "text": [
            "INFO:__main__:✅ Downloaded 07.docx to /content/reports/2016/07.docx\n"
          ]
        },
        {
          "output_type": "stream",
          "name": "stdout",
          "text": [
            "⬇️  Downloading 07.docx: 100%\r"
          ]
        },
        {
          "output_type": "stream",
          "name": "stderr",
          "text": [
            "INFO:__main__:✅ Downloaded 13.docx to /content/reports/2016/13.docx\n"
          ]
        },
        {
          "output_type": "stream",
          "name": "stdout",
          "text": [
            "⬇️  Downloading 13.docx: 100%\r"
          ]
        },
        {
          "output_type": "stream",
          "name": "stderr",
          "text": [
            "INFO:__main__:✅ Downloaded 12.docx to /content/reports/2016/12.docx\n"
          ]
        },
        {
          "output_type": "stream",
          "name": "stdout",
          "text": [
            "⬇️  Downloading 12.docx: 100%\r"
          ]
        },
        {
          "output_type": "stream",
          "name": "stderr",
          "text": [
            "INFO:__main__:✅ Downloaded 05.docx to /content/reports/2016/05.docx\n"
          ]
        },
        {
          "output_type": "stream",
          "name": "stdout",
          "text": [
            "⬇️  Downloading 05.docx: 100%\r"
          ]
        },
        {
          "output_type": "stream",
          "name": "stderr",
          "text": [
            "INFO:__main__:✅ Downloaded 08.docx to /content/reports/2016/08.docx\n"
          ]
        },
        {
          "output_type": "stream",
          "name": "stdout",
          "text": [
            "⬇️  Downloading 08.docx: 100%\r"
          ]
        },
        {
          "output_type": "stream",
          "name": "stderr",
          "text": [
            "INFO:__main__:✅ Downloaded 03.docx to /content/reports/2016/03.docx\n"
          ]
        },
        {
          "output_type": "stream",
          "name": "stdout",
          "text": [
            "⬇️  Downloading 03.docx: 100%\r"
          ]
        },
        {
          "output_type": "stream",
          "name": "stderr",
          "text": [
            "INFO:__main__:✅ Downloaded 06.docx to /content/reports/2016/06.docx\n"
          ]
        },
        {
          "output_type": "stream",
          "name": "stdout",
          "text": [
            "⬇️  Downloading 06.docx: 100%\r"
          ]
        },
        {
          "output_type": "stream",
          "name": "stderr",
          "text": [
            "INFO:__main__:✅ Downloaded 14.docx to /content/reports/2020/14.docx\n"
          ]
        },
        {
          "output_type": "stream",
          "name": "stdout",
          "text": [
            "⬇️  Downloading 14.docx: 100%\r"
          ]
        },
        {
          "output_type": "stream",
          "name": "stderr",
          "text": [
            "INFO:__main__:✅ Downloaded 13.docx to /content/reports/2020/13.docx\n"
          ]
        },
        {
          "output_type": "stream",
          "name": "stdout",
          "text": [
            "⬇️  Downloading 13.docx: 100%\r"
          ]
        },
        {
          "output_type": "stream",
          "name": "stderr",
          "text": [
            "INFO:__main__:✅ Downloaded 12.docx to /content/reports/2020/12.docx\n"
          ]
        },
        {
          "output_type": "stream",
          "name": "stdout",
          "text": [
            "⬇️  Downloading 12.docx: 100%\r"
          ]
        },
        {
          "output_type": "stream",
          "name": "stderr",
          "text": [
            "INFO:__main__:✅ Downloaded 11.docx to /content/reports/2020/11.docx\n"
          ]
        },
        {
          "output_type": "stream",
          "name": "stdout",
          "text": [
            "⬇️  Downloading 11.docx: 100%\r"
          ]
        },
        {
          "output_type": "stream",
          "name": "stderr",
          "text": [
            "INFO:__main__:✅ Downloaded 10.docx to /content/reports/2020/10.docx\n"
          ]
        },
        {
          "output_type": "stream",
          "name": "stdout",
          "text": [
            "⬇️  Downloading 10.docx: 100%\r"
          ]
        },
        {
          "output_type": "stream",
          "name": "stderr",
          "text": [
            "INFO:__main__:✅ Downloaded 09.docx to /content/reports/2020/09.docx\n"
          ]
        },
        {
          "output_type": "stream",
          "name": "stdout",
          "text": [
            "⬇️  Downloading 09.docx: 100%\r"
          ]
        },
        {
          "output_type": "stream",
          "name": "stderr",
          "text": [
            "INFO:__main__:✅ Downloaded 08.docx to /content/reports/2020/08.docx\n"
          ]
        },
        {
          "output_type": "stream",
          "name": "stdout",
          "text": [
            "⬇️  Downloading 08.docx: 100%\r"
          ]
        },
        {
          "output_type": "stream",
          "name": "stderr",
          "text": [
            "INFO:__main__:✅ Downloaded 07.docx to /content/reports/2020/07.docx\n"
          ]
        },
        {
          "output_type": "stream",
          "name": "stdout",
          "text": [
            "⬇️  Downloading 07.docx: 100%\r"
          ]
        },
        {
          "output_type": "stream",
          "name": "stderr",
          "text": [
            "INFO:__main__:✅ Downloaded 06.docx to /content/reports/2020/06.docx\n"
          ]
        },
        {
          "output_type": "stream",
          "name": "stdout",
          "text": [
            "⬇️  Downloading 06.docx: 100%\r"
          ]
        },
        {
          "output_type": "stream",
          "name": "stderr",
          "text": [
            "INFO:__main__:✅ Downloaded 05.docx to /content/reports/2020/05.docx\n"
          ]
        },
        {
          "output_type": "stream",
          "name": "stdout",
          "text": [
            "⬇️  Downloading 05.docx: 100%\r"
          ]
        },
        {
          "output_type": "stream",
          "name": "stderr",
          "text": [
            "INFO:__main__:✅ Downloaded 04.docx to /content/reports/2020/04.docx\n"
          ]
        },
        {
          "output_type": "stream",
          "name": "stdout",
          "text": [
            "⬇️  Downloading 04.docx: 100%\r"
          ]
        },
        {
          "output_type": "stream",
          "name": "stderr",
          "text": [
            "INFO:__main__:✅ Downloaded 03.docx to /content/reports/2020/03.docx\n"
          ]
        },
        {
          "output_type": "stream",
          "name": "stdout",
          "text": [
            "⬇️  Downloading 03.docx: 100%\r"
          ]
        },
        {
          "output_type": "stream",
          "name": "stderr",
          "text": [
            "INFO:__main__:✅ Downloaded 02.docx to /content/reports/2020/02.docx\n"
          ]
        },
        {
          "output_type": "stream",
          "name": "stdout",
          "text": [
            "⬇️  Downloading 02.docx: 100%\r"
          ]
        },
        {
          "output_type": "stream",
          "name": "stderr",
          "text": [
            "INFO:__main__:✅ Downloaded 01.docx to /content/reports/2020/01.docx\n"
          ]
        },
        {
          "output_type": "stream",
          "name": "stdout",
          "text": [
            "⬇️  Downloading 01.docx: 100%\r"
          ]
        },
        {
          "output_type": "stream",
          "name": "stderr",
          "text": [
            "INFO:__main__:✅ Downloaded 11.docx to /content/reports/2015/11.docx\n"
          ]
        },
        {
          "output_type": "stream",
          "name": "stdout",
          "text": [
            "⬇️  Downloading 11.docx: 100%\r"
          ]
        },
        {
          "output_type": "stream",
          "name": "stderr",
          "text": [
            "INFO:__main__:✅ Downloaded 01.docx to /content/reports/2015/01.docx\n"
          ]
        },
        {
          "output_type": "stream",
          "name": "stdout",
          "text": [
            "⬇️  Downloading 01.docx: 100%\r"
          ]
        },
        {
          "output_type": "stream",
          "name": "stderr",
          "text": [
            "INFO:__main__:✅ Downloaded 15.docx to /content/reports/2015/15.docx\n"
          ]
        },
        {
          "output_type": "stream",
          "name": "stdout",
          "text": [
            "⬇️  Downloading 15.docx: 100%\r"
          ]
        },
        {
          "output_type": "stream",
          "name": "stderr",
          "text": [
            "INFO:__main__:✅ Downloaded 14.docx to /content/reports/2015/14.docx\n"
          ]
        },
        {
          "output_type": "stream",
          "name": "stdout",
          "text": [
            "⬇️  Downloading 14.docx: 100%\r"
          ]
        },
        {
          "output_type": "stream",
          "name": "stderr",
          "text": [
            "INFO:__main__:✅ Downloaded 02.docx to /content/reports/2015/02.docx\n"
          ]
        },
        {
          "output_type": "stream",
          "name": "stdout",
          "text": [
            "⬇️  Downloading 02.docx: 100%\r"
          ]
        },
        {
          "output_type": "stream",
          "name": "stderr",
          "text": [
            "INFO:__main__:✅ Downloaded 09.docx to /content/reports/2015/09.docx\n"
          ]
        },
        {
          "output_type": "stream",
          "name": "stdout",
          "text": [
            "⬇️  Downloading 09.docx: 100%\r"
          ]
        },
        {
          "output_type": "stream",
          "name": "stderr",
          "text": [
            "INFO:__main__:✅ Downloaded 07.docx to /content/reports/2015/07.docx\n"
          ]
        },
        {
          "output_type": "stream",
          "name": "stdout",
          "text": [
            "⬇️  Downloading 07.docx: 100%\r"
          ]
        },
        {
          "output_type": "stream",
          "name": "stderr",
          "text": [
            "INFO:__main__:✅ Downloaded 13.docx to /content/reports/2015/13.docx\n"
          ]
        },
        {
          "output_type": "stream",
          "name": "stdout",
          "text": [
            "⬇️  Downloading 13.docx: 100%\r"
          ]
        },
        {
          "output_type": "stream",
          "name": "stderr",
          "text": [
            "INFO:__main__:✅ Downloaded 04.docx to /content/reports/2015/04.docx\n"
          ]
        },
        {
          "output_type": "stream",
          "name": "stdout",
          "text": [
            "⬇️  Downloading 04.docx: 100%\r"
          ]
        },
        {
          "output_type": "stream",
          "name": "stderr",
          "text": [
            "INFO:__main__:✅ Downloaded 12.docx to /content/reports/2015/12.docx\n"
          ]
        },
        {
          "output_type": "stream",
          "name": "stdout",
          "text": [
            "⬇️  Downloading 12.docx: 100%\r"
          ]
        },
        {
          "output_type": "stream",
          "name": "stderr",
          "text": [
            "INFO:__main__:✅ Downloaded 05.docx to /content/reports/2015/05.docx\n"
          ]
        },
        {
          "output_type": "stream",
          "name": "stdout",
          "text": [
            "⬇️  Downloading 05.docx: 100%\r"
          ]
        },
        {
          "output_type": "stream",
          "name": "stderr",
          "text": [
            "INFO:__main__:✅ Downloaded 08.docx to /content/reports/2015/08.docx\n"
          ]
        },
        {
          "output_type": "stream",
          "name": "stdout",
          "text": [
            "⬇️  Downloading 08.docx: 100%\r"
          ]
        },
        {
          "output_type": "stream",
          "name": "stderr",
          "text": [
            "INFO:__main__:✅ Downloaded 10.docx to /content/reports/2015/10.docx\n"
          ]
        },
        {
          "output_type": "stream",
          "name": "stdout",
          "text": [
            "⬇️  Downloading 10.docx: 100%\r"
          ]
        },
        {
          "output_type": "stream",
          "name": "stderr",
          "text": [
            "INFO:__main__:✅ Downloaded 03.docx to /content/reports/2015/03.docx\n"
          ]
        },
        {
          "output_type": "stream",
          "name": "stdout",
          "text": [
            "⬇️  Downloading 03.docx: 100%\r"
          ]
        },
        {
          "output_type": "stream",
          "name": "stderr",
          "text": [
            "INFO:__main__:✅ Downloaded 06.docx to /content/reports/2015/06.docx\n"
          ]
        },
        {
          "output_type": "stream",
          "name": "stdout",
          "text": [
            "⬇️  Downloading 06.docx: 100%\r"
          ]
        },
        {
          "output_type": "stream",
          "name": "stderr",
          "text": [
            "INFO:__main__:✅ Downloaded 06.docx to /content/reports/2004/06.docx\n"
          ]
        },
        {
          "output_type": "stream",
          "name": "stdout",
          "text": [
            "⬇️  Downloading 06.docx: 100%\r"
          ]
        },
        {
          "output_type": "stream",
          "name": "stderr",
          "text": [
            "INFO:__main__:✅ Downloaded 01.docx to /content/reports/2004/01.docx\n"
          ]
        },
        {
          "output_type": "stream",
          "name": "stdout",
          "text": [
            "⬇️  Downloading 01.docx: 100%\r"
          ]
        },
        {
          "output_type": "stream",
          "name": "stderr",
          "text": [
            "INFO:__main__:✅ Downloaded 15.docx to /content/reports/2004/15.docx\n"
          ]
        },
        {
          "output_type": "stream",
          "name": "stdout",
          "text": [
            "⬇️  Downloading 15.docx: 100%\r"
          ]
        },
        {
          "output_type": "stream",
          "name": "stderr",
          "text": [
            "INFO:__main__:✅ Downloaded 14.docx to /content/reports/2004/14.docx\n"
          ]
        },
        {
          "output_type": "stream",
          "name": "stdout",
          "text": [
            "⬇️  Downloading 14.docx: 100%\r"
          ]
        },
        {
          "output_type": "stream",
          "name": "stderr",
          "text": [
            "INFO:__main__:✅ Downloaded 02.docx to /content/reports/2004/02.docx\n"
          ]
        },
        {
          "output_type": "stream",
          "name": "stdout",
          "text": [
            "⬇️  Downloading 02.docx: 100%\r"
          ]
        },
        {
          "output_type": "stream",
          "name": "stderr",
          "text": [
            "INFO:__main__:✅ Downloaded 07.docx to /content/reports/2004/07.docx\n"
          ]
        },
        {
          "output_type": "stream",
          "name": "stdout",
          "text": [
            "⬇️  Downloading 07.docx: 100%\r"
          ]
        },
        {
          "output_type": "stream",
          "name": "stderr",
          "text": [
            "INFO:__main__:✅ Downloaded 13.docx to /content/reports/2004/13.docx\n"
          ]
        },
        {
          "output_type": "stream",
          "name": "stdout",
          "text": [
            "⬇️  Downloading 13.docx: 100%\r"
          ]
        },
        {
          "output_type": "stream",
          "name": "stderr",
          "text": [
            "INFO:__main__:✅ Downloaded 04.docx to /content/reports/2004/04.docx\n"
          ]
        },
        {
          "output_type": "stream",
          "name": "stdout",
          "text": [
            "⬇️  Downloading 04.docx: 100%\r"
          ]
        },
        {
          "output_type": "stream",
          "name": "stderr",
          "text": [
            "INFO:__main__:✅ Downloaded 12.docx to /content/reports/2004/12.docx\n"
          ]
        },
        {
          "output_type": "stream",
          "name": "stdout",
          "text": [
            "⬇️  Downloading 12.docx: 100%\r"
          ]
        },
        {
          "output_type": "stream",
          "name": "stderr",
          "text": [
            "INFO:__main__:✅ Downloaded 05.docx to /content/reports/2004/05.docx\n"
          ]
        },
        {
          "output_type": "stream",
          "name": "stdout",
          "text": [
            "⬇️  Downloading 05.docx: 100%\r"
          ]
        },
        {
          "output_type": "stream",
          "name": "stderr",
          "text": [
            "INFO:__main__:✅ Downloaded 08.docx to /content/reports/2004/08.docx\n"
          ]
        },
        {
          "output_type": "stream",
          "name": "stdout",
          "text": [
            "⬇️  Downloading 08.docx: 100%\r"
          ]
        },
        {
          "output_type": "stream",
          "name": "stderr",
          "text": [
            "INFO:__main__:✅ Downloaded 10.docx to /content/reports/2004/10.docx\n"
          ]
        },
        {
          "output_type": "stream",
          "name": "stdout",
          "text": [
            "⬇️  Downloading 10.docx: 100%\r"
          ]
        },
        {
          "output_type": "stream",
          "name": "stderr",
          "text": [
            "INFO:__main__:✅ Downloaded 03.docx to /content/reports/2004/03.docx\n"
          ]
        },
        {
          "output_type": "stream",
          "name": "stdout",
          "text": [
            "⬇️  Downloading 03.docx: 100%\r"
          ]
        },
        {
          "output_type": "stream",
          "name": "stderr",
          "text": [
            "INFO:__main__:✅ Downloaded 11.docx to /content/reports/2003/11.docx\n"
          ]
        },
        {
          "output_type": "stream",
          "name": "stdout",
          "text": [
            "⬇️  Downloading 11.docx: 100%\r"
          ]
        },
        {
          "output_type": "stream",
          "name": "stderr",
          "text": [
            "INFO:__main__:✅ Downloaded 01.docx to /content/reports/2003/01.docx\n"
          ]
        },
        {
          "output_type": "stream",
          "name": "stdout",
          "text": [
            "⬇️  Downloading 01.docx: 100%\r"
          ]
        },
        {
          "output_type": "stream",
          "name": "stderr",
          "text": [
            "INFO:__main__:✅ Downloaded 15.docx to /content/reports/2003/15.docx\n"
          ]
        },
        {
          "output_type": "stream",
          "name": "stdout",
          "text": [
            "⬇️  Downloading 15.docx: 100%\r"
          ]
        },
        {
          "output_type": "stream",
          "name": "stderr",
          "text": [
            "INFO:__main__:✅ Downloaded 14.docx to /content/reports/2003/14.docx\n"
          ]
        },
        {
          "output_type": "stream",
          "name": "stdout",
          "text": [
            "⬇️  Downloading 14.docx: 100%\r"
          ]
        },
        {
          "output_type": "stream",
          "name": "stderr",
          "text": [
            "INFO:__main__:✅ Downloaded 02.docx to /content/reports/2003/02.docx\n"
          ]
        },
        {
          "output_type": "stream",
          "name": "stdout",
          "text": [
            "⬇️  Downloading 02.docx: 100%\r"
          ]
        },
        {
          "output_type": "stream",
          "name": "stderr",
          "text": [
            "INFO:__main__:✅ Downloaded 09.docx to /content/reports/2003/09.docx\n"
          ]
        },
        {
          "output_type": "stream",
          "name": "stdout",
          "text": [
            "⬇️  Downloading 09.docx: 100%\r"
          ]
        },
        {
          "output_type": "stream",
          "name": "stderr",
          "text": [
            "INFO:__main__:✅ Downloaded 07.docx to /content/reports/2003/07.docx\n"
          ]
        },
        {
          "output_type": "stream",
          "name": "stdout",
          "text": [
            "⬇️  Downloading 07.docx: 100%\r"
          ]
        },
        {
          "output_type": "stream",
          "name": "stderr",
          "text": [
            "INFO:__main__:✅ Downloaded 13.docx to /content/reports/2003/13.docx\n"
          ]
        },
        {
          "output_type": "stream",
          "name": "stdout",
          "text": [
            "⬇️  Downloading 13.docx: 100%\r"
          ]
        },
        {
          "output_type": "stream",
          "name": "stderr",
          "text": [
            "INFO:__main__:✅ Downloaded 04.docx to /content/reports/2003/04.docx\n"
          ]
        },
        {
          "output_type": "stream",
          "name": "stdout",
          "text": [
            "⬇️  Downloading 04.docx: 100%\r"
          ]
        },
        {
          "output_type": "stream",
          "name": "stderr",
          "text": [
            "INFO:__main__:✅ Downloaded 12.docx to /content/reports/2003/12.docx\n"
          ]
        },
        {
          "output_type": "stream",
          "name": "stdout",
          "text": [
            "⬇️  Downloading 12.docx: 100%\r"
          ]
        },
        {
          "output_type": "stream",
          "name": "stderr",
          "text": [
            "INFO:__main__:✅ Downloaded 05.docx to /content/reports/2003/05.docx\n"
          ]
        },
        {
          "output_type": "stream",
          "name": "stdout",
          "text": [
            "⬇️  Downloading 05.docx: 100%\r"
          ]
        },
        {
          "output_type": "stream",
          "name": "stderr",
          "text": [
            "INFO:__main__:✅ Downloaded 08.docx to /content/reports/2003/08.docx\n"
          ]
        },
        {
          "output_type": "stream",
          "name": "stdout",
          "text": [
            "⬇️  Downloading 08.docx: 100%\r"
          ]
        },
        {
          "output_type": "stream",
          "name": "stderr",
          "text": [
            "INFO:__main__:✅ Downloaded 10.docx to /content/reports/2003/10.docx\n"
          ]
        },
        {
          "output_type": "stream",
          "name": "stdout",
          "text": [
            "⬇️  Downloading 10.docx: 100%\r"
          ]
        },
        {
          "output_type": "stream",
          "name": "stderr",
          "text": [
            "INFO:__main__:✅ Downloaded 03.docx to /content/reports/2003/03.docx\n"
          ]
        },
        {
          "output_type": "stream",
          "name": "stdout",
          "text": [
            "⬇️  Downloading 03.docx: 100%\r"
          ]
        },
        {
          "output_type": "stream",
          "name": "stderr",
          "text": [
            "INFO:__main__:✅ Downloaded 06.docx to /content/reports/2003/06.docx\n"
          ]
        },
        {
          "output_type": "stream",
          "name": "stdout",
          "text": [
            "⬇️  Downloading 06.docx: 100%\r"
          ]
        },
        {
          "output_type": "stream",
          "name": "stderr",
          "text": [
            "INFO:__main__:✅ Downloaded 01.docx to /content/reports/2018/01.docx\n"
          ]
        },
        {
          "output_type": "stream",
          "name": "stdout",
          "text": [
            "⬇️  Downloading 01.docx: 100%\r"
          ]
        },
        {
          "output_type": "stream",
          "name": "stderr",
          "text": [
            "INFO:__main__:✅ Downloaded 11.docx to /content/reports/2018/11.docx\n"
          ]
        },
        {
          "output_type": "stream",
          "name": "stdout",
          "text": [
            "⬇️  Downloading 11.docx: 100%\r"
          ]
        },
        {
          "output_type": "stream",
          "name": "stderr",
          "text": [
            "INFO:__main__:✅ Downloaded 14.docx to /content/reports/2018/14.docx\n"
          ]
        },
        {
          "output_type": "stream",
          "name": "stdout",
          "text": [
            "⬇️  Downloading 14.docx: 100%\r"
          ]
        },
        {
          "output_type": "stream",
          "name": "stderr",
          "text": [
            "INFO:__main__:✅ Downloaded 02.docx to /content/reports/2018/02.docx\n"
          ]
        },
        {
          "output_type": "stream",
          "name": "stdout",
          "text": [
            "⬇️  Downloading 02.docx: 100%\r"
          ]
        },
        {
          "output_type": "stream",
          "name": "stderr",
          "text": [
            "INFO:__main__:✅ Downloaded 09.docx to /content/reports/2018/09.docx\n"
          ]
        },
        {
          "output_type": "stream",
          "name": "stdout",
          "text": [
            "⬇️  Downloading 09.docx: 100%\r"
          ]
        },
        {
          "output_type": "stream",
          "name": "stderr",
          "text": [
            "INFO:__main__:✅ Downloaded 07.docx to /content/reports/2018/07.docx\n"
          ]
        },
        {
          "output_type": "stream",
          "name": "stdout",
          "text": [
            "⬇️  Downloading 07.docx: 100%\r"
          ]
        },
        {
          "output_type": "stream",
          "name": "stderr",
          "text": [
            "INFO:__main__:✅ Downloaded 13.docx to /content/reports/2018/13.docx\n"
          ]
        },
        {
          "output_type": "stream",
          "name": "stdout",
          "text": [
            "⬇️  Downloading 13.docx: 100%\r"
          ]
        },
        {
          "output_type": "stream",
          "name": "stderr",
          "text": [
            "INFO:__main__:✅ Downloaded 04.docx to /content/reports/2018/04.docx\n"
          ]
        },
        {
          "output_type": "stream",
          "name": "stdout",
          "text": [
            "⬇️  Downloading 04.docx: 100%\r"
          ]
        },
        {
          "output_type": "stream",
          "name": "stderr",
          "text": [
            "INFO:__main__:✅ Downloaded 12.docx to /content/reports/2018/12.docx\n"
          ]
        },
        {
          "output_type": "stream",
          "name": "stdout",
          "text": [
            "⬇️  Downloading 12.docx: 100%\r"
          ]
        },
        {
          "output_type": "stream",
          "name": "stderr",
          "text": [
            "INFO:__main__:✅ Downloaded 05.docx to /content/reports/2018/05.docx\n"
          ]
        },
        {
          "output_type": "stream",
          "name": "stdout",
          "text": [
            "⬇️  Downloading 05.docx: 100%\r"
          ]
        },
        {
          "output_type": "stream",
          "name": "stderr",
          "text": [
            "INFO:__main__:✅ Downloaded 08.docx to /content/reports/2018/08.docx\n"
          ]
        },
        {
          "output_type": "stream",
          "name": "stdout",
          "text": [
            "⬇️  Downloading 08.docx: 100%\r"
          ]
        },
        {
          "output_type": "stream",
          "name": "stderr",
          "text": [
            "INFO:__main__:✅ Downloaded 10.docx to /content/reports/2018/10.docx\n"
          ]
        },
        {
          "output_type": "stream",
          "name": "stdout",
          "text": [
            "⬇️  Downloading 10.docx: 100%\r"
          ]
        },
        {
          "output_type": "stream",
          "name": "stderr",
          "text": [
            "INFO:__main__:✅ Downloaded 03.docx to /content/reports/2018/03.docx\n"
          ]
        },
        {
          "output_type": "stream",
          "name": "stdout",
          "text": [
            "⬇️  Downloading 03.docx: 100%\r"
          ]
        },
        {
          "output_type": "stream",
          "name": "stderr",
          "text": [
            "INFO:__main__:✅ Downloaded 06.docx to /content/reports/2018/06.docx\n"
          ]
        },
        {
          "output_type": "stream",
          "name": "stdout",
          "text": [
            "⬇️  Downloading 06.docx: 100%\r"
          ]
        },
        {
          "output_type": "stream",
          "name": "stderr",
          "text": [
            "INFO:__main__:✅ Downloaded 11.docx to /content/reports/2019/11.docx\n"
          ]
        },
        {
          "output_type": "stream",
          "name": "stdout",
          "text": [
            "⬇️  Downloading 11.docx: 100%\r"
          ]
        },
        {
          "output_type": "stream",
          "name": "stderr",
          "text": [
            "INFO:__main__:✅ Downloaded 01.docx to /content/reports/2019/01.docx\n"
          ]
        },
        {
          "output_type": "stream",
          "name": "stdout",
          "text": [
            "⬇️  Downloading 01.docx: 100%\r"
          ]
        },
        {
          "output_type": "stream",
          "name": "stderr",
          "text": [
            "INFO:__main__:✅ Downloaded 14.docx to /content/reports/2019/14.docx\n"
          ]
        },
        {
          "output_type": "stream",
          "name": "stdout",
          "text": [
            "⬇️  Downloading 14.docx: 100%\r"
          ]
        },
        {
          "output_type": "stream",
          "name": "stderr",
          "text": [
            "INFO:__main__:✅ Downloaded 02.docx to /content/reports/2019/02.docx\n"
          ]
        },
        {
          "output_type": "stream",
          "name": "stdout",
          "text": [
            "⬇️  Downloading 02.docx: 100%\r"
          ]
        },
        {
          "output_type": "stream",
          "name": "stderr",
          "text": [
            "INFO:__main__:✅ Downloaded 09.docx to /content/reports/2019/09.docx\n"
          ]
        },
        {
          "output_type": "stream",
          "name": "stdout",
          "text": [
            "⬇️  Downloading 09.docx: 100%\r"
          ]
        },
        {
          "output_type": "stream",
          "name": "stderr",
          "text": [
            "INFO:__main__:✅ Downloaded 07.docx to /content/reports/2019/07.docx\n"
          ]
        },
        {
          "output_type": "stream",
          "name": "stdout",
          "text": [
            "⬇️  Downloading 07.docx: 100%\r"
          ]
        },
        {
          "output_type": "stream",
          "name": "stderr",
          "text": [
            "INFO:__main__:✅ Downloaded 13.docx to /content/reports/2019/13.docx\n"
          ]
        },
        {
          "output_type": "stream",
          "name": "stdout",
          "text": [
            "⬇️  Downloading 13.docx: 100%\r"
          ]
        },
        {
          "output_type": "stream",
          "name": "stderr",
          "text": [
            "INFO:__main__:✅ Downloaded 04.docx to /content/reports/2019/04.docx\n"
          ]
        },
        {
          "output_type": "stream",
          "name": "stdout",
          "text": [
            "⬇️  Downloading 04.docx: 100%\r"
          ]
        },
        {
          "output_type": "stream",
          "name": "stderr",
          "text": [
            "INFO:__main__:✅ Downloaded 12.docx to /content/reports/2019/12.docx\n"
          ]
        },
        {
          "output_type": "stream",
          "name": "stdout",
          "text": [
            "⬇️  Downloading 12.docx: 100%\r"
          ]
        },
        {
          "output_type": "stream",
          "name": "stderr",
          "text": [
            "INFO:__main__:✅ Downloaded 05.docx to /content/reports/2019/05.docx\n"
          ]
        },
        {
          "output_type": "stream",
          "name": "stdout",
          "text": [
            "⬇️  Downloading 05.docx: 100%\r"
          ]
        },
        {
          "output_type": "stream",
          "name": "stderr",
          "text": [
            "INFO:__main__:✅ Downloaded 08.docx to /content/reports/2019/08.docx\n"
          ]
        },
        {
          "output_type": "stream",
          "name": "stdout",
          "text": [
            "⬇️  Downloading 08.docx: 100%\r"
          ]
        },
        {
          "output_type": "stream",
          "name": "stderr",
          "text": [
            "INFO:__main__:✅ Downloaded 10.docx to /content/reports/2019/10.docx\n"
          ]
        },
        {
          "output_type": "stream",
          "name": "stdout",
          "text": [
            "⬇️  Downloading 10.docx: 100%\r"
          ]
        },
        {
          "output_type": "stream",
          "name": "stderr",
          "text": [
            "INFO:__main__:✅ Downloaded 03.docx to /content/reports/2019/03.docx\n"
          ]
        },
        {
          "output_type": "stream",
          "name": "stdout",
          "text": [
            "⬇️  Downloading 03.docx: 100%\r"
          ]
        },
        {
          "output_type": "stream",
          "name": "stderr",
          "text": [
            "INFO:__main__:✅ Downloaded 06.docx to /content/reports/2019/06.docx\n"
          ]
        },
        {
          "output_type": "stream",
          "name": "stdout",
          "text": [
            "⬇️  Downloading 06.docx: 100%\r"
          ]
        },
        {
          "output_type": "stream",
          "name": "stderr",
          "text": [
            "INFO:__main__:✅ Downloaded 01.docx to /content/reports/2021/01.docx\n"
          ]
        },
        {
          "output_type": "stream",
          "name": "stdout",
          "text": [
            "⬇️  Downloading 01.docx: 100%\r"
          ]
        },
        {
          "output_type": "stream",
          "name": "stderr",
          "text": [
            "INFO:__main__:✅ Downloaded 02.docx to /content/reports/2021/02.docx\n"
          ]
        },
        {
          "output_type": "stream",
          "name": "stdout",
          "text": [
            "⬇️  Downloading 02.docx: 100%\r"
          ]
        },
        {
          "output_type": "stream",
          "name": "stderr",
          "text": [
            "INFO:__main__:✅ Downloaded 14.docx to /content/reports/2021/14.docx\n"
          ]
        },
        {
          "output_type": "stream",
          "name": "stdout",
          "text": [
            "⬇️  Downloading 14.docx: 100%\r"
          ]
        },
        {
          "output_type": "stream",
          "name": "stderr",
          "text": [
            "INFO:__main__:✅ Downloaded 13.docx to /content/reports/2021/13.docx\n"
          ]
        },
        {
          "output_type": "stream",
          "name": "stdout",
          "text": [
            "⬇️  Downloading 13.docx: 100%\r"
          ]
        },
        {
          "output_type": "stream",
          "name": "stderr",
          "text": [
            "INFO:__main__:✅ Downloaded 12.docx to /content/reports/2021/12.docx\n"
          ]
        },
        {
          "output_type": "stream",
          "name": "stdout",
          "text": [
            "⬇️  Downloading 12.docx: 100%\r"
          ]
        },
        {
          "output_type": "stream",
          "name": "stderr",
          "text": [
            "INFO:__main__:✅ Downloaded 11.docx to /content/reports/2021/11.docx\n"
          ]
        },
        {
          "output_type": "stream",
          "name": "stdout",
          "text": [
            "⬇️  Downloading 11.docx: 100%\r"
          ]
        },
        {
          "output_type": "stream",
          "name": "stderr",
          "text": [
            "INFO:__main__:✅ Downloaded 10.docx to /content/reports/2021/10.docx\n"
          ]
        },
        {
          "output_type": "stream",
          "name": "stdout",
          "text": [
            "⬇️  Downloading 10.docx: 100%\r"
          ]
        },
        {
          "output_type": "stream",
          "name": "stderr",
          "text": [
            "INFO:__main__:✅ Downloaded 09.docx to /content/reports/2021/09.docx\n"
          ]
        },
        {
          "output_type": "stream",
          "name": "stdout",
          "text": [
            "⬇️  Downloading 09.docx: 100%\r"
          ]
        },
        {
          "output_type": "stream",
          "name": "stderr",
          "text": [
            "INFO:__main__:✅ Downloaded 08.docx to /content/reports/2021/08.docx\n"
          ]
        },
        {
          "output_type": "stream",
          "name": "stdout",
          "text": [
            "⬇️  Downloading 08.docx: 100%\r"
          ]
        },
        {
          "output_type": "stream",
          "name": "stderr",
          "text": [
            "INFO:__main__:✅ Downloaded 07.docx to /content/reports/2021/07.docx\n"
          ]
        },
        {
          "output_type": "stream",
          "name": "stdout",
          "text": [
            "⬇️  Downloading 07.docx: 100%\r"
          ]
        },
        {
          "output_type": "stream",
          "name": "stderr",
          "text": [
            "INFO:__main__:✅ Downloaded 06.docx to /content/reports/2021/06.docx\n"
          ]
        },
        {
          "output_type": "stream",
          "name": "stdout",
          "text": [
            "⬇️  Downloading 06.docx: 100%\r"
          ]
        },
        {
          "output_type": "stream",
          "name": "stderr",
          "text": [
            "INFO:__main__:✅ Downloaded 05.docx to /content/reports/2021/05.docx\n"
          ]
        },
        {
          "output_type": "stream",
          "name": "stdout",
          "text": [
            "⬇️  Downloading 05.docx: 100%\r"
          ]
        },
        {
          "output_type": "stream",
          "name": "stderr",
          "text": [
            "INFO:__main__:✅ Downloaded 04.docx to /content/reports/2021/04.docx\n"
          ]
        },
        {
          "output_type": "stream",
          "name": "stdout",
          "text": [
            "⬇️  Downloading 04.docx: 100%\r"
          ]
        },
        {
          "output_type": "stream",
          "name": "stderr",
          "text": [
            "INFO:__main__:✅ Downloaded 03.docx to /content/reports/2021/03.docx\n"
          ]
        },
        {
          "output_type": "stream",
          "name": "stdout",
          "text": [
            "⬇️  Downloading 03.docx: 100%\r"
          ]
        },
        {
          "output_type": "stream",
          "name": "stderr",
          "text": [
            "INFO:__main__:✅ Downloaded 01.docx to /content/reports/2021/01.docx\n"
          ]
        },
        {
          "output_type": "stream",
          "name": "stdout",
          "text": [
            "⬇️  Downloading 01.docx: 100%\r"
          ]
        },
        {
          "output_type": "stream",
          "name": "stderr",
          "text": [
            "INFO:__main__:✅ Downloaded 02.docx to /content/reports/2021/02.docx\n"
          ]
        },
        {
          "output_type": "stream",
          "name": "stdout",
          "text": [
            "⬇️  Downloading 02.docx: 100%\r"
          ]
        },
        {
          "output_type": "stream",
          "name": "stderr",
          "text": [
            "INFO:__main__:✅ Downloaded 09.docx to /content/reports/2021/09.docx\n"
          ]
        },
        {
          "output_type": "stream",
          "name": "stdout",
          "text": [
            "⬇️  Downloading 09.docx: 100%\r"
          ]
        },
        {
          "output_type": "stream",
          "name": "stderr",
          "text": [
            "INFO:__main__:✅ Downloaded 07.docx to /content/reports/2021/07.docx\n"
          ]
        },
        {
          "output_type": "stream",
          "name": "stdout",
          "text": [
            "⬇️  Downloading 07.docx: 100%\r"
          ]
        },
        {
          "output_type": "stream",
          "name": "stderr",
          "text": [
            "INFO:__main__:✅ Downloaded 04.docx to /content/reports/2021/04.docx\n"
          ]
        },
        {
          "output_type": "stream",
          "name": "stdout",
          "text": [
            "⬇️  Downloading 04.docx: 100%\r"
          ]
        },
        {
          "output_type": "stream",
          "name": "stderr",
          "text": [
            "INFO:__main__:✅ Downloaded 05.docx to /content/reports/2021/05.docx\n"
          ]
        },
        {
          "output_type": "stream",
          "name": "stdout",
          "text": [
            "⬇️  Downloading 05.docx: 100%\r"
          ]
        },
        {
          "output_type": "stream",
          "name": "stderr",
          "text": [
            "INFO:__main__:✅ Downloaded 08.docx to /content/reports/2021/08.docx\n"
          ]
        },
        {
          "output_type": "stream",
          "name": "stdout",
          "text": [
            "⬇️  Downloading 08.docx: 100%\r"
          ]
        },
        {
          "output_type": "stream",
          "name": "stderr",
          "text": [
            "INFO:__main__:✅ Downloaded 03.docx to /content/reports/2021/03.docx\n"
          ]
        },
        {
          "output_type": "stream",
          "name": "stdout",
          "text": [
            "⬇️  Downloading 03.docx: 100%\r"
          ]
        },
        {
          "output_type": "stream",
          "name": "stderr",
          "text": [
            "INFO:__main__:✅ Downloaded 06.docx to /content/reports/2021/06.docx\n"
          ]
        },
        {
          "output_type": "stream",
          "name": "stdout",
          "text": [
            "⬇️  Downloading 06.docx: 100%\r"
          ]
        },
        {
          "output_type": "stream",
          "name": "stderr",
          "text": [
            "INFO:__main__:✅ Downloaded 02.docx to /content/reports/2002/02.docx\n"
          ]
        },
        {
          "output_type": "stream",
          "name": "stdout",
          "text": [
            "⬇️  Downloading 02.docx: 100%\r"
          ]
        },
        {
          "output_type": "stream",
          "name": "stderr",
          "text": [
            "INFO:__main__:✅ Downloaded 11.docx to /content/reports/2002/11.docx\n"
          ]
        },
        {
          "output_type": "stream",
          "name": "stdout",
          "text": [
            "⬇️  Downloading 11.docx: 100%\r"
          ]
        },
        {
          "output_type": "stream",
          "name": "stderr",
          "text": [
            "INFO:__main__:✅ Downloaded 01.docx to /content/reports/2002/01.docx\n"
          ]
        },
        {
          "output_type": "stream",
          "name": "stdout",
          "text": [
            "⬇️  Downloading 01.docx: 100%\r"
          ]
        },
        {
          "output_type": "stream",
          "name": "stderr",
          "text": [
            "INFO:__main__:✅ Downloaded 15.docx to /content/reports/2002/15.docx\n"
          ]
        },
        {
          "output_type": "stream",
          "name": "stdout",
          "text": [
            "⬇️  Downloading 15.docx: 100%\r"
          ]
        },
        {
          "output_type": "stream",
          "name": "stderr",
          "text": [
            "INFO:__main__:✅ Downloaded 14.docx to /content/reports/2002/14.docx\n"
          ]
        },
        {
          "output_type": "stream",
          "name": "stdout",
          "text": [
            "⬇️  Downloading 14.docx: 100%\r"
          ]
        },
        {
          "output_type": "stream",
          "name": "stderr",
          "text": [
            "INFO:__main__:✅ Downloaded 09.docx to /content/reports/2002/09.docx\n"
          ]
        },
        {
          "output_type": "stream",
          "name": "stdout",
          "text": [
            "⬇️  Downloading 09.docx: 100%\r"
          ]
        },
        {
          "output_type": "stream",
          "name": "stderr",
          "text": [
            "INFO:__main__:✅ Downloaded 07.docx to /content/reports/2002/07.docx\n"
          ]
        },
        {
          "output_type": "stream",
          "name": "stdout",
          "text": [
            "⬇️  Downloading 07.docx: 100%\r"
          ]
        },
        {
          "output_type": "stream",
          "name": "stderr",
          "text": [
            "INFO:__main__:✅ Downloaded 13.docx to /content/reports/2002/13.docx\n"
          ]
        },
        {
          "output_type": "stream",
          "name": "stdout",
          "text": [
            "⬇️  Downloading 13.docx: 100%\r"
          ]
        },
        {
          "output_type": "stream",
          "name": "stderr",
          "text": [
            "INFO:__main__:✅ Downloaded 04.docx to /content/reports/2002/04.docx\n"
          ]
        },
        {
          "output_type": "stream",
          "name": "stdout",
          "text": [
            "⬇️  Downloading 04.docx: 100%\r"
          ]
        },
        {
          "output_type": "stream",
          "name": "stderr",
          "text": [
            "INFO:__main__:✅ Downloaded 12.docx to /content/reports/2002/12.docx\n"
          ]
        },
        {
          "output_type": "stream",
          "name": "stdout",
          "text": [
            "⬇️  Downloading 12.docx: 100%\r"
          ]
        },
        {
          "output_type": "stream",
          "name": "stderr",
          "text": [
            "INFO:__main__:✅ Downloaded 05.docx to /content/reports/2002/05.docx\n"
          ]
        },
        {
          "output_type": "stream",
          "name": "stdout",
          "text": [
            "⬇️  Downloading 05.docx: 100%\r"
          ]
        },
        {
          "output_type": "stream",
          "name": "stderr",
          "text": [
            "INFO:__main__:✅ Downloaded 08.docx to /content/reports/2002/08.docx\n"
          ]
        },
        {
          "output_type": "stream",
          "name": "stdout",
          "text": [
            "⬇️  Downloading 08.docx: 100%\r"
          ]
        },
        {
          "output_type": "stream",
          "name": "stderr",
          "text": [
            "INFO:__main__:✅ Downloaded 10.docx to /content/reports/2002/10.docx\n"
          ]
        },
        {
          "output_type": "stream",
          "name": "stdout",
          "text": [
            "⬇️  Downloading 10.docx: 100%\r"
          ]
        },
        {
          "output_type": "stream",
          "name": "stderr",
          "text": [
            "INFO:__main__:✅ Downloaded 03.docx to /content/reports/2002/03.docx\n"
          ]
        },
        {
          "output_type": "stream",
          "name": "stdout",
          "text": [
            "⬇️  Downloading 03.docx: 100%\r"
          ]
        },
        {
          "output_type": "stream",
          "name": "stderr",
          "text": [
            "INFO:__main__:✅ Downloaded 06.docx to /content/reports/2002/06.docx\n"
          ]
        },
        {
          "output_type": "stream",
          "name": "stdout",
          "text": [
            "⬇️  Downloading 06.docx: 100%\r"
          ]
        },
        {
          "output_type": "stream",
          "name": "stderr",
          "text": [
            "INFO:__main__:✅ Downloaded 11.docx to /content/reports/2005/11.docx\n"
          ]
        },
        {
          "output_type": "stream",
          "name": "stdout",
          "text": [
            "⬇️  Downloading 11.docx: 100%\r"
          ]
        },
        {
          "output_type": "stream",
          "name": "stderr",
          "text": [
            "INFO:__main__:✅ Downloaded 01.docx to /content/reports/2005/01.docx\n"
          ]
        },
        {
          "output_type": "stream",
          "name": "stdout",
          "text": [
            "⬇️  Downloading 01.docx: 100%\r"
          ]
        },
        {
          "output_type": "stream",
          "name": "stderr",
          "text": [
            "INFO:__main__:✅ Downloaded 15.docx to /content/reports/2005/15.docx\n"
          ]
        },
        {
          "output_type": "stream",
          "name": "stdout",
          "text": [
            "⬇️  Downloading 15.docx: 100%\r"
          ]
        },
        {
          "output_type": "stream",
          "name": "stderr",
          "text": [
            "INFO:__main__:✅ Downloaded 14.docx to /content/reports/2005/14.docx\n"
          ]
        },
        {
          "output_type": "stream",
          "name": "stdout",
          "text": [
            "⬇️  Downloading 14.docx: 100%\r"
          ]
        },
        {
          "output_type": "stream",
          "name": "stderr",
          "text": [
            "INFO:__main__:✅ Downloaded 02.docx to /content/reports/2005/02.docx\n"
          ]
        },
        {
          "output_type": "stream",
          "name": "stdout",
          "text": [
            "⬇️  Downloading 02.docx: 100%\r"
          ]
        },
        {
          "output_type": "stream",
          "name": "stderr",
          "text": [
            "INFO:__main__:✅ Downloaded 09.docx to /content/reports/2005/09.docx\n"
          ]
        },
        {
          "output_type": "stream",
          "name": "stdout",
          "text": [
            "⬇️  Downloading 09.docx: 100%\r"
          ]
        },
        {
          "output_type": "stream",
          "name": "stderr",
          "text": [
            "INFO:__main__:✅ Downloaded 07.docx to /content/reports/2005/07.docx\n"
          ]
        },
        {
          "output_type": "stream",
          "name": "stdout",
          "text": [
            "⬇️  Downloading 07.docx: 100%\r"
          ]
        },
        {
          "output_type": "stream",
          "name": "stderr",
          "text": [
            "INFO:__main__:✅ Downloaded 13.docx to /content/reports/2005/13.docx\n"
          ]
        },
        {
          "output_type": "stream",
          "name": "stdout",
          "text": [
            "⬇️  Downloading 13.docx: 100%\r"
          ]
        },
        {
          "output_type": "stream",
          "name": "stderr",
          "text": [
            "INFO:__main__:✅ Downloaded 04.docx to /content/reports/2005/04.docx\n"
          ]
        },
        {
          "output_type": "stream",
          "name": "stdout",
          "text": [
            "⬇️  Downloading 04.docx: 100%\r"
          ]
        },
        {
          "output_type": "stream",
          "name": "stderr",
          "text": [
            "INFO:__main__:✅ Downloaded 12.docx to /content/reports/2005/12.docx\n"
          ]
        },
        {
          "output_type": "stream",
          "name": "stdout",
          "text": [
            "⬇️  Downloading 12.docx: 100%\r"
          ]
        },
        {
          "output_type": "stream",
          "name": "stderr",
          "text": [
            "INFO:__main__:✅ Downloaded 08.docx to /content/reports/2005/08.docx\n"
          ]
        },
        {
          "output_type": "stream",
          "name": "stdout",
          "text": [
            "⬇️  Downloading 08.docx: 100%\r"
          ]
        },
        {
          "output_type": "stream",
          "name": "stderr",
          "text": [
            "INFO:__main__:✅ Downloaded 10.docx to /content/reports/2005/10.docx\n"
          ]
        },
        {
          "output_type": "stream",
          "name": "stdout",
          "text": [
            "⬇️  Downloading 10.docx: 100%\r"
          ]
        },
        {
          "output_type": "stream",
          "name": "stderr",
          "text": [
            "INFO:__main__:✅ Downloaded 03.docx to /content/reports/2005/03.docx\n"
          ]
        },
        {
          "output_type": "stream",
          "name": "stdout",
          "text": [
            "⬇️  Downloading 03.docx: 100%\r"
          ]
        },
        {
          "output_type": "stream",
          "name": "stderr",
          "text": [
            "INFO:__main__:✅ Downloaded 06.docx to /content/reports/2005/06.docx\n"
          ]
        },
        {
          "output_type": "stream",
          "name": "stdout",
          "text": [
            "⬇️  Downloading 06.docx: 100%\r"
          ]
        },
        {
          "output_type": "stream",
          "name": "stderr",
          "text": [
            "INFO:__main__:✅ Downloaded 11.docx to /content/reports/2010/11.docx\n"
          ]
        },
        {
          "output_type": "stream",
          "name": "stdout",
          "text": [
            "⬇️  Downloading 11.docx: 100%\r"
          ]
        },
        {
          "output_type": "stream",
          "name": "stderr",
          "text": [
            "INFO:__main__:✅ Downloaded 01.docx to /content/reports/2010/01.docx\n"
          ]
        },
        {
          "output_type": "stream",
          "name": "stdout",
          "text": [
            "⬇️  Downloading 01.docx: 100%\r"
          ]
        },
        {
          "output_type": "stream",
          "name": "stderr",
          "text": [
            "INFO:__main__:✅ Downloaded 15.docx to /content/reports/2010/15.docx\n"
          ]
        },
        {
          "output_type": "stream",
          "name": "stdout",
          "text": [
            "⬇️  Downloading 15.docx: 100%\r"
          ]
        },
        {
          "output_type": "stream",
          "name": "stderr",
          "text": [
            "INFO:__main__:✅ Downloaded 14.docx to /content/reports/2010/14.docx\n"
          ]
        },
        {
          "output_type": "stream",
          "name": "stdout",
          "text": [
            "⬇️  Downloading 14.docx: 100%\r"
          ]
        },
        {
          "output_type": "stream",
          "name": "stderr",
          "text": [
            "INFO:__main__:✅ Downloaded 02.docx to /content/reports/2010/02.docx\n"
          ]
        },
        {
          "output_type": "stream",
          "name": "stdout",
          "text": [
            "⬇️  Downloading 02.docx: 100%\r"
          ]
        },
        {
          "output_type": "stream",
          "name": "stderr",
          "text": [
            "INFO:__main__:✅ Downloaded 09.docx to /content/reports/2010/09.docx\n"
          ]
        },
        {
          "output_type": "stream",
          "name": "stdout",
          "text": [
            "⬇️  Downloading 09.docx: 100%\r"
          ]
        },
        {
          "output_type": "stream",
          "name": "stderr",
          "text": [
            "INFO:__main__:✅ Downloaded 07.docx to /content/reports/2010/07.docx\n"
          ]
        },
        {
          "output_type": "stream",
          "name": "stdout",
          "text": [
            "⬇️  Downloading 07.docx: 100%\r"
          ]
        },
        {
          "output_type": "stream",
          "name": "stderr",
          "text": [
            "INFO:__main__:✅ Downloaded 13.docx to /content/reports/2010/13.docx\n"
          ]
        },
        {
          "output_type": "stream",
          "name": "stdout",
          "text": [
            "⬇️  Downloading 13.docx: 100%\r"
          ]
        },
        {
          "output_type": "stream",
          "name": "stderr",
          "text": [
            "INFO:__main__:✅ Downloaded 04.docx to /content/reports/2010/04.docx\n"
          ]
        },
        {
          "output_type": "stream",
          "name": "stdout",
          "text": [
            "⬇️  Downloading 04.docx: 100%\r"
          ]
        },
        {
          "output_type": "stream",
          "name": "stderr",
          "text": [
            "INFO:__main__:✅ Downloaded 12.docx to /content/reports/2010/12.docx\n"
          ]
        },
        {
          "output_type": "stream",
          "name": "stdout",
          "text": [
            "⬇️  Downloading 12.docx: 100%\r"
          ]
        },
        {
          "output_type": "stream",
          "name": "stderr",
          "text": [
            "INFO:__main__:✅ Downloaded 05.docx to /content/reports/2010/05.docx\n"
          ]
        },
        {
          "output_type": "stream",
          "name": "stdout",
          "text": [
            "⬇️  Downloading 05.docx: 100%\r"
          ]
        },
        {
          "output_type": "stream",
          "name": "stderr",
          "text": [
            "INFO:__main__:✅ Downloaded 08.docx to /content/reports/2010/08.docx\n"
          ]
        },
        {
          "output_type": "stream",
          "name": "stdout",
          "text": [
            "⬇️  Downloading 08.docx: 100%\r"
          ]
        },
        {
          "output_type": "stream",
          "name": "stderr",
          "text": [
            "INFO:__main__:✅ Downloaded 10.docx to /content/reports/2010/10.docx\n"
          ]
        },
        {
          "output_type": "stream",
          "name": "stdout",
          "text": [
            "⬇️  Downloading 10.docx: 100%\r"
          ]
        },
        {
          "output_type": "stream",
          "name": "stderr",
          "text": [
            "INFO:__main__:✅ Downloaded 03.docx to /content/reports/2010/03.docx\n"
          ]
        },
        {
          "output_type": "stream",
          "name": "stdout",
          "text": [
            "⬇️  Downloading 03.docx: 100%\r"
          ]
        },
        {
          "output_type": "stream",
          "name": "stderr",
          "text": [
            "INFO:__main__:✅ Downloaded 06.docx to /content/reports/2010/06.docx\n"
          ]
        },
        {
          "output_type": "stream",
          "name": "stdout",
          "text": [
            "⬇️  Downloading 06.docx: 100%\r"
          ]
        },
        {
          "output_type": "stream",
          "name": "stderr",
          "text": [
            "INFO:__main__:✅ Downloaded 11.docx to /content/reports/2011/11.docx\n"
          ]
        },
        {
          "output_type": "stream",
          "name": "stdout",
          "text": [
            "⬇️  Downloading 11.docx: 100%\r"
          ]
        },
        {
          "output_type": "stream",
          "name": "stderr",
          "text": [
            "INFO:__main__:✅ Downloaded 01.docx to /content/reports/2011/01.docx\n"
          ]
        },
        {
          "output_type": "stream",
          "name": "stdout",
          "text": [
            "⬇️  Downloading 01.docx: 100%\r"
          ]
        },
        {
          "output_type": "stream",
          "name": "stderr",
          "text": [
            "INFO:__main__:✅ Downloaded 15.docx to /content/reports/2011/15.docx\n"
          ]
        },
        {
          "output_type": "stream",
          "name": "stdout",
          "text": [
            "⬇️  Downloading 15.docx: 100%\r"
          ]
        },
        {
          "output_type": "stream",
          "name": "stderr",
          "text": [
            "INFO:__main__:✅ Downloaded 14.docx to /content/reports/2011/14.docx\n"
          ]
        },
        {
          "output_type": "stream",
          "name": "stdout",
          "text": [
            "⬇️  Downloading 14.docx: 100%\r"
          ]
        },
        {
          "output_type": "stream",
          "name": "stderr",
          "text": [
            "INFO:__main__:✅ Downloaded 02.docx to /content/reports/2011/02.docx\n"
          ]
        },
        {
          "output_type": "stream",
          "name": "stdout",
          "text": [
            "⬇️  Downloading 02.docx: 100%\r"
          ]
        },
        {
          "output_type": "stream",
          "name": "stderr",
          "text": [
            "INFO:__main__:✅ Downloaded 09.docx to /content/reports/2011/09.docx\n"
          ]
        },
        {
          "output_type": "stream",
          "name": "stdout",
          "text": [
            "⬇️  Downloading 09.docx: 100%\r"
          ]
        },
        {
          "output_type": "stream",
          "name": "stderr",
          "text": [
            "INFO:__main__:✅ Downloaded 07.docx to /content/reports/2011/07.docx\n"
          ]
        },
        {
          "output_type": "stream",
          "name": "stdout",
          "text": [
            "⬇️  Downloading 07.docx: 100%\r"
          ]
        },
        {
          "output_type": "stream",
          "name": "stderr",
          "text": [
            "INFO:__main__:✅ Downloaded 13.docx to /content/reports/2011/13.docx\n"
          ]
        },
        {
          "output_type": "stream",
          "name": "stdout",
          "text": [
            "⬇️  Downloading 13.docx: 100%\r"
          ]
        },
        {
          "output_type": "stream",
          "name": "stderr",
          "text": [
            "INFO:__main__:✅ Downloaded 04.docx to /content/reports/2011/04.docx\n"
          ]
        },
        {
          "output_type": "stream",
          "name": "stdout",
          "text": [
            "⬇️  Downloading 04.docx: 100%\r"
          ]
        },
        {
          "output_type": "stream",
          "name": "stderr",
          "text": [
            "INFO:__main__:✅ Downloaded 12.docx to /content/reports/2011/12.docx\n"
          ]
        },
        {
          "output_type": "stream",
          "name": "stdout",
          "text": [
            "⬇️  Downloading 12.docx: 100%\r"
          ]
        },
        {
          "output_type": "stream",
          "name": "stderr",
          "text": [
            "INFO:__main__:✅ Downloaded 05.docx to /content/reports/2011/05.docx\n"
          ]
        },
        {
          "output_type": "stream",
          "name": "stdout",
          "text": [
            "⬇️  Downloading 05.docx: 100%\r"
          ]
        },
        {
          "output_type": "stream",
          "name": "stderr",
          "text": [
            "INFO:__main__:✅ Downloaded 08.docx to /content/reports/2011/08.docx\n"
          ]
        },
        {
          "output_type": "stream",
          "name": "stdout",
          "text": [
            "⬇️  Downloading 08.docx: 100%\r"
          ]
        },
        {
          "output_type": "stream",
          "name": "stderr",
          "text": [
            "INFO:__main__:✅ Downloaded 10.docx to /content/reports/2011/10.docx\n"
          ]
        },
        {
          "output_type": "stream",
          "name": "stdout",
          "text": [
            "⬇️  Downloading 10.docx: 100%\r"
          ]
        },
        {
          "output_type": "stream",
          "name": "stderr",
          "text": [
            "INFO:__main__:✅ Downloaded 03.docx to /content/reports/2011/03.docx\n"
          ]
        },
        {
          "output_type": "stream",
          "name": "stdout",
          "text": [
            "⬇️  Downloading 03.docx: 100%\r"
          ]
        },
        {
          "output_type": "stream",
          "name": "stderr",
          "text": [
            "INFO:__main__:✅ Downloaded 06.docx to /content/reports/2011/06.docx\n"
          ]
        },
        {
          "output_type": "stream",
          "name": "stdout",
          "text": [
            "⬇️  Downloading 06.docx: 100%\r"
          ]
        },
        {
          "output_type": "stream",
          "name": "stderr",
          "text": [
            "INFO:__main__:✅ Downloaded 11.docx to /content/reports/2009/11.docx\n"
          ]
        },
        {
          "output_type": "stream",
          "name": "stdout",
          "text": [
            "⬇️  Downloading 11.docx: 100%\r"
          ]
        },
        {
          "output_type": "stream",
          "name": "stderr",
          "text": [
            "INFO:__main__:✅ Downloaded 01.docx to /content/reports/2009/01.docx\n"
          ]
        },
        {
          "output_type": "stream",
          "name": "stdout",
          "text": [
            "⬇️  Downloading 01.docx: 100%\r"
          ]
        },
        {
          "output_type": "stream",
          "name": "stderr",
          "text": [
            "INFO:__main__:✅ Downloaded 15.docx to /content/reports/2009/15.docx\n"
          ]
        },
        {
          "output_type": "stream",
          "name": "stdout",
          "text": [
            "⬇️  Downloading 15.docx: 100%\r"
          ]
        },
        {
          "output_type": "stream",
          "name": "stderr",
          "text": [
            "INFO:__main__:✅ Downloaded 14.docx to /content/reports/2009/14.docx\n"
          ]
        },
        {
          "output_type": "stream",
          "name": "stdout",
          "text": [
            "⬇️  Downloading 14.docx: 100%\r"
          ]
        },
        {
          "output_type": "stream",
          "name": "stderr",
          "text": [
            "INFO:__main__:✅ Downloaded 02.docx to /content/reports/2009/02.docx\n"
          ]
        },
        {
          "output_type": "stream",
          "name": "stdout",
          "text": [
            "⬇️  Downloading 02.docx: 100%\r"
          ]
        },
        {
          "output_type": "stream",
          "name": "stderr",
          "text": [
            "INFO:__main__:✅ Downloaded 09.docx to /content/reports/2009/09.docx\n"
          ]
        },
        {
          "output_type": "stream",
          "name": "stdout",
          "text": [
            "⬇️  Downloading 09.docx: 100%\r"
          ]
        },
        {
          "output_type": "stream",
          "name": "stderr",
          "text": [
            "INFO:__main__:✅ Downloaded 07.docx to /content/reports/2009/07.docx\n"
          ]
        },
        {
          "output_type": "stream",
          "name": "stdout",
          "text": [
            "⬇️  Downloading 07.docx: 100%\r"
          ]
        },
        {
          "output_type": "stream",
          "name": "stderr",
          "text": [
            "INFO:__main__:✅ Downloaded 13.docx to /content/reports/2009/13.docx\n"
          ]
        },
        {
          "output_type": "stream",
          "name": "stdout",
          "text": [
            "⬇️  Downloading 13.docx: 100%\r"
          ]
        },
        {
          "output_type": "stream",
          "name": "stderr",
          "text": [
            "INFO:__main__:✅ Downloaded 04.docx to /content/reports/2009/04.docx\n"
          ]
        },
        {
          "output_type": "stream",
          "name": "stdout",
          "text": [
            "⬇️  Downloading 04.docx: 100%\r"
          ]
        },
        {
          "output_type": "stream",
          "name": "stderr",
          "text": [
            "INFO:__main__:✅ Downloaded 12.docx to /content/reports/2009/12.docx\n"
          ]
        },
        {
          "output_type": "stream",
          "name": "stdout",
          "text": [
            "⬇️  Downloading 12.docx: 100%\r"
          ]
        },
        {
          "output_type": "stream",
          "name": "stderr",
          "text": [
            "INFO:__main__:✅ Downloaded 05.docx to /content/reports/2009/05.docx\n"
          ]
        },
        {
          "output_type": "stream",
          "name": "stdout",
          "text": [
            "⬇️  Downloading 05.docx: 100%\r"
          ]
        },
        {
          "output_type": "stream",
          "name": "stderr",
          "text": [
            "INFO:__main__:✅ Downloaded 08.docx to /content/reports/2009/08.docx\n"
          ]
        },
        {
          "output_type": "stream",
          "name": "stdout",
          "text": [
            "⬇️  Downloading 08.docx: 100%\r"
          ]
        },
        {
          "output_type": "stream",
          "name": "stderr",
          "text": [
            "INFO:__main__:✅ Downloaded 10.docx to /content/reports/2009/10.docx\n"
          ]
        },
        {
          "output_type": "stream",
          "name": "stdout",
          "text": [
            "⬇️  Downloading 10.docx: 100%\r"
          ]
        },
        {
          "output_type": "stream",
          "name": "stderr",
          "text": [
            "INFO:__main__:✅ Downloaded 03.docx to /content/reports/2009/03.docx\n"
          ]
        },
        {
          "output_type": "stream",
          "name": "stdout",
          "text": [
            "⬇️  Downloading 03.docx: 100%\r"
          ]
        },
        {
          "output_type": "stream",
          "name": "stderr",
          "text": [
            "INFO:__main__:✅ Downloaded 01.docx to /content/reports/2017/01.docx\n"
          ]
        },
        {
          "output_type": "stream",
          "name": "stdout",
          "text": [
            "⬇️  Downloading 01.docx: 100%\r"
          ]
        },
        {
          "output_type": "stream",
          "name": "stderr",
          "text": [
            "INFO:__main__:✅ Downloaded 11.docx to /content/reports/2017/11.docx\n"
          ]
        },
        {
          "output_type": "stream",
          "name": "stdout",
          "text": [
            "⬇️  Downloading 11.docx: 100%\r"
          ]
        },
        {
          "output_type": "stream",
          "name": "stderr",
          "text": [
            "INFO:__main__:✅ Downloaded 15.docx to /content/reports/2017/15.docx\n"
          ]
        },
        {
          "output_type": "stream",
          "name": "stdout",
          "text": [
            "⬇️  Downloading 15.docx: 100%\r"
          ]
        },
        {
          "output_type": "stream",
          "name": "stderr",
          "text": [
            "INFO:__main__:✅ Downloaded 14.docx to /content/reports/2017/14.docx\n"
          ]
        },
        {
          "output_type": "stream",
          "name": "stdout",
          "text": [
            "⬇️  Downloading 14.docx: 100%\r"
          ]
        },
        {
          "output_type": "stream",
          "name": "stderr",
          "text": [
            "INFO:__main__:✅ Downloaded 02.docx to /content/reports/2017/02.docx\n"
          ]
        },
        {
          "output_type": "stream",
          "name": "stdout",
          "text": [
            "⬇️  Downloading 02.docx: 100%\r"
          ]
        },
        {
          "output_type": "stream",
          "name": "stderr",
          "text": [
            "INFO:__main__:✅ Downloaded 09.docx to /content/reports/2017/09.docx\n"
          ]
        },
        {
          "output_type": "stream",
          "name": "stdout",
          "text": [
            "⬇️  Downloading 09.docx: 100%\r"
          ]
        },
        {
          "output_type": "stream",
          "name": "stderr",
          "text": [
            "INFO:__main__:✅ Downloaded 07.docx to /content/reports/2017/07.docx\n"
          ]
        },
        {
          "output_type": "stream",
          "name": "stdout",
          "text": [
            "⬇️  Downloading 07.docx: 100%\r"
          ]
        },
        {
          "output_type": "stream",
          "name": "stderr",
          "text": [
            "INFO:__main__:✅ Downloaded 13.docx to /content/reports/2017/13.docx\n"
          ]
        },
        {
          "output_type": "stream",
          "name": "stdout",
          "text": [
            "⬇️  Downloading 13.docx: 100%\r"
          ]
        },
        {
          "output_type": "stream",
          "name": "stderr",
          "text": [
            "INFO:__main__:✅ Downloaded 04.docx to /content/reports/2017/04.docx\n"
          ]
        },
        {
          "output_type": "stream",
          "name": "stdout",
          "text": [
            "⬇️  Downloading 04.docx: 100%\r"
          ]
        },
        {
          "output_type": "stream",
          "name": "stderr",
          "text": [
            "INFO:__main__:✅ Downloaded 12.docx to /content/reports/2017/12.docx\n"
          ]
        },
        {
          "output_type": "stream",
          "name": "stdout",
          "text": [
            "⬇️  Downloading 12.docx: 100%\r"
          ]
        },
        {
          "output_type": "stream",
          "name": "stderr",
          "text": [
            "INFO:__main__:✅ Downloaded 05.docx to /content/reports/2017/05.docx\n"
          ]
        },
        {
          "output_type": "stream",
          "name": "stdout",
          "text": [
            "⬇️  Downloading 05.docx: 100%\r"
          ]
        },
        {
          "output_type": "stream",
          "name": "stderr",
          "text": [
            "INFO:__main__:✅ Downloaded 08.docx to /content/reports/2017/08.docx\n"
          ]
        },
        {
          "output_type": "stream",
          "name": "stdout",
          "text": [
            "⬇️  Downloading 08.docx: 100%\r"
          ]
        },
        {
          "output_type": "stream",
          "name": "stderr",
          "text": [
            "INFO:__main__:✅ Downloaded 10.docx to /content/reports/2017/10.docx\n"
          ]
        },
        {
          "output_type": "stream",
          "name": "stdout",
          "text": [
            "⬇️  Downloading 10.docx: 100%\r"
          ]
        },
        {
          "output_type": "stream",
          "name": "stderr",
          "text": [
            "INFO:__main__:✅ Downloaded 03.docx to /content/reports/2017/03.docx\n"
          ]
        },
        {
          "output_type": "stream",
          "name": "stdout",
          "text": [
            "⬇️  Downloading 03.docx: 100%\r"
          ]
        },
        {
          "output_type": "stream",
          "name": "stderr",
          "text": [
            "INFO:__main__:✅ Downloaded 06.docx to /content/reports/2017/06.docx\n"
          ]
        },
        {
          "output_type": "stream",
          "name": "stdout",
          "text": [
            "⬇️  Downloading 06.docx: 100%\r"
          ]
        },
        {
          "output_type": "stream",
          "name": "stderr",
          "text": [
            "INFO:__main__:✅ Downloaded 11.docx to /content/reports/2013/11.docx\n"
          ]
        },
        {
          "output_type": "stream",
          "name": "stdout",
          "text": [
            "⬇️  Downloading 11.docx: 100%\r"
          ]
        },
        {
          "output_type": "stream",
          "name": "stderr",
          "text": [
            "INFO:__main__:✅ Downloaded 15.docx to /content/reports/2013/15.docx\n"
          ]
        },
        {
          "output_type": "stream",
          "name": "stdout",
          "text": [
            "⬇️  Downloading 15.docx: 100%\r"
          ]
        },
        {
          "output_type": "stream",
          "name": "stderr",
          "text": [
            "INFO:__main__:✅ Downloaded 14.docx to /content/reports/2013/14.docx\n"
          ]
        },
        {
          "output_type": "stream",
          "name": "stdout",
          "text": [
            "⬇️  Downloading 14.docx: 100%\r"
          ]
        },
        {
          "output_type": "stream",
          "name": "stderr",
          "text": [
            "INFO:__main__:✅ Downloaded 02.docx to /content/reports/2013/02.docx\n"
          ]
        },
        {
          "output_type": "stream",
          "name": "stdout",
          "text": [
            "⬇️  Downloading 02.docx: 100%\r"
          ]
        },
        {
          "output_type": "stream",
          "name": "stderr",
          "text": [
            "INFO:__main__:✅ Downloaded 09.docx to /content/reports/2013/09.docx\n"
          ]
        },
        {
          "output_type": "stream",
          "name": "stdout",
          "text": [
            "⬇️  Downloading 09.docx: 100%\r"
          ]
        },
        {
          "output_type": "stream",
          "name": "stderr",
          "text": [
            "INFO:__main__:✅ Downloaded 07.docx to /content/reports/2013/07.docx\n"
          ]
        },
        {
          "output_type": "stream",
          "name": "stdout",
          "text": [
            "⬇️  Downloading 07.docx: 100%\r"
          ]
        },
        {
          "output_type": "stream",
          "name": "stderr",
          "text": [
            "INFO:__main__:✅ Downloaded 13.docx to /content/reports/2013/13.docx\n"
          ]
        },
        {
          "output_type": "stream",
          "name": "stdout",
          "text": [
            "⬇️  Downloading 13.docx: 100%\r"
          ]
        },
        {
          "output_type": "stream",
          "name": "stderr",
          "text": [
            "INFO:__main__:✅ Downloaded 04.docx to /content/reports/2013/04.docx\n"
          ]
        },
        {
          "output_type": "stream",
          "name": "stdout",
          "text": [
            "⬇️  Downloading 04.docx: 100%\r"
          ]
        },
        {
          "output_type": "stream",
          "name": "stderr",
          "text": [
            "INFO:__main__:✅ Downloaded 12.docx to /content/reports/2013/12.docx\n"
          ]
        },
        {
          "output_type": "stream",
          "name": "stdout",
          "text": [
            "⬇️  Downloading 12.docx: 100%\r"
          ]
        },
        {
          "output_type": "stream",
          "name": "stderr",
          "text": [
            "INFO:__main__:✅ Downloaded 05.docx to /content/reports/2013/05.docx\n"
          ]
        },
        {
          "output_type": "stream",
          "name": "stdout",
          "text": [
            "⬇️  Downloading 05.docx: 100%\r"
          ]
        },
        {
          "output_type": "stream",
          "name": "stderr",
          "text": [
            "INFO:__main__:✅ Downloaded 08.docx to /content/reports/2013/08.docx\n"
          ]
        },
        {
          "output_type": "stream",
          "name": "stdout",
          "text": [
            "⬇️  Downloading 08.docx: 100%\r"
          ]
        },
        {
          "output_type": "stream",
          "name": "stderr",
          "text": [
            "INFO:__main__:✅ Downloaded 10.docx to /content/reports/2013/10.docx\n"
          ]
        },
        {
          "output_type": "stream",
          "name": "stdout",
          "text": [
            "⬇️  Downloading 10.docx: 100%\r"
          ]
        },
        {
          "output_type": "stream",
          "name": "stderr",
          "text": [
            "INFO:__main__:✅ Downloaded 03.docx to /content/reports/2013/03.docx\n"
          ]
        },
        {
          "output_type": "stream",
          "name": "stdout",
          "text": [
            "⬇️  Downloading 03.docx: 100%\r"
          ]
        },
        {
          "output_type": "stream",
          "name": "stderr",
          "text": [
            "INFO:__main__:✅ Downloaded 06.docx to /content/reports/2013/06.docx\n"
          ]
        },
        {
          "output_type": "stream",
          "name": "stdout",
          "text": [
            "⬇️  Downloading 06.docx: 100%\r"
          ]
        },
        {
          "output_type": "stream",
          "name": "stderr",
          "text": [
            "INFO:__main__:✅ Downloaded 11.docx to /content/reports/2006/11.docx\n"
          ]
        },
        {
          "output_type": "stream",
          "name": "stdout",
          "text": [
            "⬇️  Downloading 11.docx: 100%\r"
          ]
        },
        {
          "output_type": "stream",
          "name": "stderr",
          "text": [
            "INFO:__main__:✅ Downloaded 01.docx to /content/reports/2006/01.docx\n"
          ]
        },
        {
          "output_type": "stream",
          "name": "stdout",
          "text": [
            "⬇️  Downloading 01.docx: 100%\r"
          ]
        },
        {
          "output_type": "stream",
          "name": "stderr",
          "text": [
            "INFO:__main__:✅ Downloaded 15.docx to /content/reports/2006/15.docx\n"
          ]
        },
        {
          "output_type": "stream",
          "name": "stdout",
          "text": [
            "⬇️  Downloading 15.docx: 100%\r"
          ]
        },
        {
          "output_type": "stream",
          "name": "stderr",
          "text": [
            "INFO:__main__:✅ Downloaded 14.docx to /content/reports/2006/14.docx\n"
          ]
        },
        {
          "output_type": "stream",
          "name": "stdout",
          "text": [
            "⬇️  Downloading 14.docx: 100%\r"
          ]
        },
        {
          "output_type": "stream",
          "name": "stderr",
          "text": [
            "INFO:__main__:✅ Downloaded 02.docx to /content/reports/2006/02.docx\n"
          ]
        },
        {
          "output_type": "stream",
          "name": "stdout",
          "text": [
            "⬇️  Downloading 02.docx: 100%\r"
          ]
        },
        {
          "output_type": "stream",
          "name": "stderr",
          "text": [
            "INFO:__main__:✅ Downloaded 09.docx to /content/reports/2006/09.docx\n"
          ]
        },
        {
          "output_type": "stream",
          "name": "stdout",
          "text": [
            "⬇️  Downloading 09.docx: 100%\r"
          ]
        },
        {
          "output_type": "stream",
          "name": "stderr",
          "text": [
            "INFO:__main__:✅ Downloaded 07.docx to /content/reports/2006/07.docx\n"
          ]
        },
        {
          "output_type": "stream",
          "name": "stdout",
          "text": [
            "⬇️  Downloading 07.docx: 100%\r"
          ]
        },
        {
          "output_type": "stream",
          "name": "stderr",
          "text": [
            "INFO:__main__:✅ Downloaded 13.docx to /content/reports/2006/13.docx\n"
          ]
        },
        {
          "output_type": "stream",
          "name": "stdout",
          "text": [
            "⬇️  Downloading 13.docx: 100%\r"
          ]
        },
        {
          "output_type": "stream",
          "name": "stderr",
          "text": [
            "INFO:__main__:✅ Downloaded 04.docx to /content/reports/2006/04.docx\n"
          ]
        },
        {
          "output_type": "stream",
          "name": "stdout",
          "text": [
            "⬇️  Downloading 04.docx: 100%\r"
          ]
        },
        {
          "output_type": "stream",
          "name": "stderr",
          "text": [
            "INFO:__main__:✅ Downloaded 12.docx to /content/reports/2006/12.docx\n"
          ]
        },
        {
          "output_type": "stream",
          "name": "stdout",
          "text": [
            "⬇️  Downloading 12.docx: 100%\r"
          ]
        },
        {
          "output_type": "stream",
          "name": "stderr",
          "text": [
            "INFO:__main__:✅ Downloaded 05.docx to /content/reports/2006/05.docx\n"
          ]
        },
        {
          "output_type": "stream",
          "name": "stdout",
          "text": [
            "⬇️  Downloading 05.docx: 100%\r"
          ]
        },
        {
          "output_type": "stream",
          "name": "stderr",
          "text": [
            "INFO:__main__:✅ Downloaded 08.docx to /content/reports/2006/08.docx\n"
          ]
        },
        {
          "output_type": "stream",
          "name": "stdout",
          "text": [
            "⬇️  Downloading 08.docx: 100%\r"
          ]
        },
        {
          "output_type": "stream",
          "name": "stderr",
          "text": [
            "INFO:__main__:✅ Downloaded 10.docx to /content/reports/2006/10.docx\n"
          ]
        },
        {
          "output_type": "stream",
          "name": "stdout",
          "text": [
            "⬇️  Downloading 10.docx: 100%\r"
          ]
        },
        {
          "output_type": "stream",
          "name": "stderr",
          "text": [
            "INFO:__main__:✅ Downloaded 03.docx to /content/reports/2006/03.docx\n"
          ]
        },
        {
          "output_type": "stream",
          "name": "stdout",
          "text": [
            "⬇️  Downloading 03.docx: 100%\r"
          ]
        },
        {
          "output_type": "stream",
          "name": "stderr",
          "text": [
            "INFO:__main__:✅ Downloaded 06.docx to /content/reports/2006/06.docx\n"
          ]
        },
        {
          "output_type": "stream",
          "name": "stdout",
          "text": [
            "⬇️  Downloading 06.docx: 100%\r"
          ]
        },
        {
          "output_type": "stream",
          "name": "stderr",
          "text": [
            "INFO:__main__:✅ Downloaded 11.docx to /content/reports/2007/11.docx\n"
          ]
        },
        {
          "output_type": "stream",
          "name": "stdout",
          "text": [
            "⬇️  Downloading 11.docx: 100%\r"
          ]
        },
        {
          "output_type": "stream",
          "name": "stderr",
          "text": [
            "INFO:__main__:✅ Downloaded 01.docx to /content/reports/2007/01.docx\n"
          ]
        },
        {
          "output_type": "stream",
          "name": "stdout",
          "text": [
            "⬇️  Downloading 01.docx: 100%\r"
          ]
        },
        {
          "output_type": "stream",
          "name": "stderr",
          "text": [
            "INFO:__main__:✅ Downloaded 15.docx to /content/reports/2007/15.docx\n"
          ]
        },
        {
          "output_type": "stream",
          "name": "stdout",
          "text": [
            "⬇️  Downloading 15.docx: 100%\r"
          ]
        },
        {
          "output_type": "stream",
          "name": "stderr",
          "text": [
            "INFO:__main__:✅ Downloaded 14.docx to /content/reports/2007/14.docx\n"
          ]
        },
        {
          "output_type": "stream",
          "name": "stdout",
          "text": [
            "⬇️  Downloading 14.docx: 100%\r"
          ]
        },
        {
          "output_type": "stream",
          "name": "stderr",
          "text": [
            "INFO:__main__:✅ Downloaded 02.docx to /content/reports/2007/02.docx\n"
          ]
        },
        {
          "output_type": "stream",
          "name": "stdout",
          "text": [
            "⬇️  Downloading 02.docx: 100%\r"
          ]
        },
        {
          "output_type": "stream",
          "name": "stderr",
          "text": [
            "INFO:__main__:✅ Downloaded 09.docx to /content/reports/2007/09.docx\n"
          ]
        },
        {
          "output_type": "stream",
          "name": "stdout",
          "text": [
            "⬇️  Downloading 09.docx: 100%\r"
          ]
        },
        {
          "output_type": "stream",
          "name": "stderr",
          "text": [
            "INFO:__main__:✅ Downloaded 07.docx to /content/reports/2007/07.docx\n"
          ]
        },
        {
          "output_type": "stream",
          "name": "stdout",
          "text": [
            "⬇️  Downloading 07.docx: 100%\r"
          ]
        },
        {
          "output_type": "stream",
          "name": "stderr",
          "text": [
            "INFO:__main__:✅ Downloaded 13.docx to /content/reports/2007/13.docx\n"
          ]
        },
        {
          "output_type": "stream",
          "name": "stdout",
          "text": [
            "⬇️  Downloading 13.docx: 100%\r"
          ]
        },
        {
          "output_type": "stream",
          "name": "stderr",
          "text": [
            "INFO:__main__:✅ Downloaded 04.docx to /content/reports/2007/04.docx\n"
          ]
        },
        {
          "output_type": "stream",
          "name": "stdout",
          "text": [
            "⬇️  Downloading 04.docx: 100%\r"
          ]
        },
        {
          "output_type": "stream",
          "name": "stderr",
          "text": [
            "INFO:__main__:✅ Downloaded 12.docx to /content/reports/2007/12.docx\n"
          ]
        },
        {
          "output_type": "stream",
          "name": "stdout",
          "text": [
            "⬇️  Downloading 12.docx: 100%\r"
          ]
        },
        {
          "output_type": "stream",
          "name": "stderr",
          "text": [
            "INFO:__main__:✅ Downloaded 05.docx to /content/reports/2007/05.docx\n"
          ]
        },
        {
          "output_type": "stream",
          "name": "stdout",
          "text": [
            "⬇️  Downloading 05.docx: 100%\r"
          ]
        },
        {
          "output_type": "stream",
          "name": "stderr",
          "text": [
            "INFO:__main__:✅ Downloaded 08.docx to /content/reports/2007/08.docx\n"
          ]
        },
        {
          "output_type": "stream",
          "name": "stdout",
          "text": [
            "⬇️  Downloading 08.docx: 100%\r"
          ]
        },
        {
          "output_type": "stream",
          "name": "stderr",
          "text": [
            "INFO:__main__:✅ Downloaded 10.docx to /content/reports/2007/10.docx\n"
          ]
        },
        {
          "output_type": "stream",
          "name": "stdout",
          "text": [
            "⬇️  Downloading 10.docx: 100%\r"
          ]
        },
        {
          "output_type": "stream",
          "name": "stderr",
          "text": [
            "INFO:__main__:✅ Downloaded 03.docx to /content/reports/2007/03.docx\n"
          ]
        },
        {
          "output_type": "stream",
          "name": "stdout",
          "text": [
            "⬇️  Downloading 03.docx: 100%\r"
          ]
        },
        {
          "output_type": "stream",
          "name": "stderr",
          "text": [
            "INFO:__main__:✅ Downloaded 06.docx to /content/reports/2007/06.docx\n"
          ]
        },
        {
          "output_type": "stream",
          "name": "stdout",
          "text": [
            "⬇️  Downloading 06.docx: 100%\r"
          ]
        },
        {
          "output_type": "stream",
          "name": "stderr",
          "text": [
            "INFO:__main__:✅ Downloaded 11.docx to /content/reports/2008/11.docx\n"
          ]
        },
        {
          "output_type": "stream",
          "name": "stdout",
          "text": [
            "⬇️  Downloading 11.docx: 100%\r"
          ]
        },
        {
          "output_type": "stream",
          "name": "stderr",
          "text": [
            "INFO:__main__:✅ Downloaded 01.docx to /content/reports/2008/01.docx\n"
          ]
        },
        {
          "output_type": "stream",
          "name": "stdout",
          "text": [
            "⬇️  Downloading 01.docx: 100%\r"
          ]
        },
        {
          "output_type": "stream",
          "name": "stderr",
          "text": [
            "INFO:__main__:✅ Downloaded 15.docx to /content/reports/2008/15.docx\n"
          ]
        },
        {
          "output_type": "stream",
          "name": "stdout",
          "text": [
            "⬇️  Downloading 15.docx: 100%\r"
          ]
        },
        {
          "output_type": "stream",
          "name": "stderr",
          "text": [
            "INFO:__main__:✅ Downloaded 14.docx to /content/reports/2008/14.docx\n"
          ]
        },
        {
          "output_type": "stream",
          "name": "stdout",
          "text": [
            "⬇️  Downloading 14.docx: 100%\r"
          ]
        },
        {
          "output_type": "stream",
          "name": "stderr",
          "text": [
            "INFO:__main__:✅ Downloaded 02.docx to /content/reports/2008/02.docx\n"
          ]
        },
        {
          "output_type": "stream",
          "name": "stdout",
          "text": [
            "⬇️  Downloading 02.docx: 100%\r"
          ]
        },
        {
          "output_type": "stream",
          "name": "stderr",
          "text": [
            "INFO:__main__:✅ Downloaded 09.docx to /content/reports/2008/09.docx\n"
          ]
        },
        {
          "output_type": "stream",
          "name": "stdout",
          "text": [
            "⬇️  Downloading 09.docx: 100%\r"
          ]
        },
        {
          "output_type": "stream",
          "name": "stderr",
          "text": [
            "INFO:__main__:✅ Downloaded 07.docx to /content/reports/2008/07.docx\n"
          ]
        },
        {
          "output_type": "stream",
          "name": "stdout",
          "text": [
            "⬇️  Downloading 07.docx: 100%\r"
          ]
        },
        {
          "output_type": "stream",
          "name": "stderr",
          "text": [
            "INFO:__main__:✅ Downloaded 13.docx to /content/reports/2008/13.docx\n"
          ]
        },
        {
          "output_type": "stream",
          "name": "stdout",
          "text": [
            "⬇️  Downloading 13.docx: 100%\r"
          ]
        },
        {
          "output_type": "stream",
          "name": "stderr",
          "text": [
            "INFO:__main__:✅ Downloaded 04.docx to /content/reports/2008/04.docx\n"
          ]
        },
        {
          "output_type": "stream",
          "name": "stdout",
          "text": [
            "⬇️  Downloading 04.docx: 100%\r"
          ]
        },
        {
          "output_type": "stream",
          "name": "stderr",
          "text": [
            "INFO:__main__:✅ Downloaded 12.docx to /content/reports/2008/12.docx\n"
          ]
        },
        {
          "output_type": "stream",
          "name": "stdout",
          "text": [
            "⬇️  Downloading 12.docx: 100%\r"
          ]
        },
        {
          "output_type": "stream",
          "name": "stderr",
          "text": [
            "INFO:__main__:✅ Downloaded 05.docx to /content/reports/2008/05.docx\n"
          ]
        },
        {
          "output_type": "stream",
          "name": "stdout",
          "text": [
            "⬇️  Downloading 05.docx: 100%\r"
          ]
        },
        {
          "output_type": "stream",
          "name": "stderr",
          "text": [
            "INFO:__main__:✅ Downloaded 08.docx to /content/reports/2008/08.docx\n"
          ]
        },
        {
          "output_type": "stream",
          "name": "stdout",
          "text": [
            "⬇️  Downloading 08.docx: 100%\r"
          ]
        },
        {
          "output_type": "stream",
          "name": "stderr",
          "text": [
            "INFO:__main__:✅ Downloaded 10.docx to /content/reports/2008/10.docx\n"
          ]
        },
        {
          "output_type": "stream",
          "name": "stdout",
          "text": [
            "⬇️  Downloading 10.docx: 100%\r"
          ]
        },
        {
          "output_type": "stream",
          "name": "stderr",
          "text": [
            "INFO:__main__:✅ Downloaded 03.docx to /content/reports/2008/03.docx\n"
          ]
        },
        {
          "output_type": "stream",
          "name": "stdout",
          "text": [
            "⬇️  Downloading 03.docx: 100%\r"
          ]
        },
        {
          "output_type": "stream",
          "name": "stderr",
          "text": [
            "INFO:__main__:✅ Downloaded 06.docx to /content/reports/2008/06.docx\n"
          ]
        },
        {
          "output_type": "stream",
          "name": "stdout",
          "text": [
            "⬇️  Downloading 06.docx: 100%\r"
          ]
        },
        {
          "output_type": "stream",
          "name": "stderr",
          "text": [
            "INFO:__main__:✅ Downloaded 01.docx to /content/reports/2001/01.docx\n"
          ]
        },
        {
          "output_type": "stream",
          "name": "stdout",
          "text": [
            "⬇️  Downloading 01.docx: 100%\r"
          ]
        },
        {
          "output_type": "stream",
          "name": "stderr",
          "text": [
            "INFO:__main__:✅ Downloaded 11.docx to /content/reports/2001/11.docx\n"
          ]
        },
        {
          "output_type": "stream",
          "name": "stdout",
          "text": [
            "⬇️  Downloading 11.docx: 100%\r"
          ]
        },
        {
          "output_type": "stream",
          "name": "stderr",
          "text": [
            "INFO:__main__:✅ Downloaded 15.docx to /content/reports/2001/15.docx\n"
          ]
        },
        {
          "output_type": "stream",
          "name": "stdout",
          "text": [
            "⬇️  Downloading 15.docx: 100%\r"
          ]
        },
        {
          "output_type": "stream",
          "name": "stderr",
          "text": [
            "INFO:__main__:✅ Downloaded 14.docx to /content/reports/2001/14.docx\n"
          ]
        },
        {
          "output_type": "stream",
          "name": "stdout",
          "text": [
            "⬇️  Downloading 14.docx: 100%\r"
          ]
        },
        {
          "output_type": "stream",
          "name": "stderr",
          "text": [
            "INFO:__main__:✅ Downloaded 02.docx to /content/reports/2001/02.docx\n"
          ]
        },
        {
          "output_type": "stream",
          "name": "stdout",
          "text": [
            "⬇️  Downloading 02.docx: 100%\r"
          ]
        },
        {
          "output_type": "stream",
          "name": "stderr",
          "text": [
            "INFO:__main__:✅ Downloaded 09.docx to /content/reports/2001/09.docx\n"
          ]
        },
        {
          "output_type": "stream",
          "name": "stdout",
          "text": [
            "⬇️  Downloading 09.docx: 100%\r"
          ]
        },
        {
          "output_type": "stream",
          "name": "stderr",
          "text": [
            "INFO:__main__:✅ Downloaded 07.docx to /content/reports/2001/07.docx\n"
          ]
        },
        {
          "output_type": "stream",
          "name": "stdout",
          "text": [
            "⬇️  Downloading 07.docx: 100%\r"
          ]
        },
        {
          "output_type": "stream",
          "name": "stderr",
          "text": [
            "INFO:__main__:✅ Downloaded 13.docx to /content/reports/2001/13.docx\n"
          ]
        },
        {
          "output_type": "stream",
          "name": "stdout",
          "text": [
            "⬇️  Downloading 13.docx: 100%\r"
          ]
        },
        {
          "output_type": "stream",
          "name": "stderr",
          "text": [
            "INFO:__main__:✅ Downloaded 04.docx to /content/reports/2001/04.docx\n"
          ]
        },
        {
          "output_type": "stream",
          "name": "stdout",
          "text": [
            "⬇️  Downloading 04.docx: 100%\r"
          ]
        },
        {
          "output_type": "stream",
          "name": "stderr",
          "text": [
            "INFO:__main__:✅ Downloaded 12.docx to /content/reports/2001/12.docx\n"
          ]
        },
        {
          "output_type": "stream",
          "name": "stdout",
          "text": [
            "⬇️  Downloading 12.docx: 100%\r"
          ]
        },
        {
          "output_type": "stream",
          "name": "stderr",
          "text": [
            "INFO:__main__:✅ Downloaded 05.docx to /content/reports/2001/05.docx\n"
          ]
        },
        {
          "output_type": "stream",
          "name": "stdout",
          "text": [
            "⬇️  Downloading 05.docx: 100%\r"
          ]
        },
        {
          "output_type": "stream",
          "name": "stderr",
          "text": [
            "INFO:__main__:✅ Downloaded 08.docx to /content/reports/2001/08.docx\n"
          ]
        },
        {
          "output_type": "stream",
          "name": "stdout",
          "text": [
            "⬇️  Downloading 08.docx: 100%\r"
          ]
        },
        {
          "output_type": "stream",
          "name": "stderr",
          "text": [
            "INFO:__main__:✅ Downloaded 10.docx to /content/reports/2001/10.docx\n"
          ]
        },
        {
          "output_type": "stream",
          "name": "stdout",
          "text": [
            "⬇️  Downloading 10.docx: 100%\r"
          ]
        },
        {
          "output_type": "stream",
          "name": "stderr",
          "text": [
            "INFO:__main__:✅ Downloaded 03.docx to /content/reports/2001/03.docx\n"
          ]
        },
        {
          "output_type": "stream",
          "name": "stdout",
          "text": [
            "⬇️  Downloading 03.docx: 100%\r"
          ]
        },
        {
          "output_type": "stream",
          "name": "stderr",
          "text": [
            "INFO:__main__:✅ Downloaded 06.docx to /content/reports/2001/06.docx\n"
          ]
        },
        {
          "output_type": "stream",
          "name": "stdout",
          "text": [
            "⬇️  Downloading 06.docx: 100%\r"
          ]
        },
        {
          "output_type": "stream",
          "name": "stderr",
          "text": [
            "INFO:__main__:✅ Downloaded 13.docx to /content/reports/2024/13.docx\n"
          ]
        },
        {
          "output_type": "stream",
          "name": "stdout",
          "text": [
            "⬇️  Downloading 13.docx: 100%\r"
          ]
        },
        {
          "output_type": "stream",
          "name": "stderr",
          "text": [
            "INFO:__main__:✅ Downloaded 11.docx to /content/reports/2024/11.docx\n"
          ]
        },
        {
          "output_type": "stream",
          "name": "stdout",
          "text": [
            "⬇️  Downloading 11.docx: 100%\r"
          ]
        },
        {
          "output_type": "stream",
          "name": "stderr",
          "text": [
            "INFO:__main__:✅ Downloaded 01.docx to /content/reports/2024/01.docx\n"
          ]
        },
        {
          "output_type": "stream",
          "name": "stdout",
          "text": [
            "⬇️  Downloading 01.docx: 100%\r"
          ]
        },
        {
          "output_type": "stream",
          "name": "stderr",
          "text": [
            "INFO:__main__:✅ Downloaded 14.docx to /content/reports/2024/14.docx\n"
          ]
        },
        {
          "output_type": "stream",
          "name": "stdout",
          "text": [
            "⬇️  Downloading 14.docx: 100%\r"
          ]
        },
        {
          "output_type": "stream",
          "name": "stderr",
          "text": [
            "INFO:__main__:✅ Downloaded 02.docx to /content/reports/2024/02.docx\n"
          ]
        },
        {
          "output_type": "stream",
          "name": "stdout",
          "text": [
            "⬇️  Downloading 02.docx: 100%\r"
          ]
        },
        {
          "output_type": "stream",
          "name": "stderr",
          "text": [
            "INFO:__main__:✅ Downloaded 09.docx to /content/reports/2024/09.docx\n"
          ]
        },
        {
          "output_type": "stream",
          "name": "stdout",
          "text": [
            "⬇️  Downloading 09.docx: 100%\r"
          ]
        },
        {
          "output_type": "stream",
          "name": "stderr",
          "text": [
            "INFO:__main__:✅ Downloaded 07.docx to /content/reports/2024/07.docx\n"
          ]
        },
        {
          "output_type": "stream",
          "name": "stdout",
          "text": [
            "⬇️  Downloading 07.docx: 100%\r"
          ]
        },
        {
          "output_type": "stream",
          "name": "stderr",
          "text": [
            "INFO:__main__:✅ Downloaded 04.docx to /content/reports/2024/04.docx\n"
          ]
        },
        {
          "output_type": "stream",
          "name": "stdout",
          "text": [
            "⬇️  Downloading 04.docx: 100%\r"
          ]
        },
        {
          "output_type": "stream",
          "name": "stderr",
          "text": [
            "INFO:__main__:✅ Downloaded 12.docx to /content/reports/2024/12.docx\n"
          ]
        },
        {
          "output_type": "stream",
          "name": "stdout",
          "text": [
            "⬇️  Downloading 12.docx: 100%\r"
          ]
        },
        {
          "output_type": "stream",
          "name": "stderr",
          "text": [
            "INFO:__main__:✅ Downloaded 05.docx to /content/reports/2024/05.docx\n"
          ]
        },
        {
          "output_type": "stream",
          "name": "stdout",
          "text": [
            "⬇️  Downloading 05.docx: 100%\r"
          ]
        },
        {
          "output_type": "stream",
          "name": "stderr",
          "text": [
            "INFO:__main__:✅ Downloaded 08.docx to /content/reports/2024/08.docx\n"
          ]
        },
        {
          "output_type": "stream",
          "name": "stdout",
          "text": [
            "⬇️  Downloading 08.docx: 100%\r"
          ]
        },
        {
          "output_type": "stream",
          "name": "stderr",
          "text": [
            "INFO:__main__:✅ Downloaded 10.docx to /content/reports/2024/10.docx\n"
          ]
        },
        {
          "output_type": "stream",
          "name": "stdout",
          "text": [
            "⬇️  Downloading 10.docx: 100%\r"
          ]
        },
        {
          "output_type": "stream",
          "name": "stderr",
          "text": [
            "INFO:__main__:✅ Downloaded 03.docx to /content/reports/2024/03.docx\n"
          ]
        },
        {
          "output_type": "stream",
          "name": "stdout",
          "text": [
            "⬇️  Downloading 03.docx: 100%\r"
          ]
        },
        {
          "output_type": "stream",
          "name": "stderr",
          "text": [
            "INFO:__main__:✅ Downloaded 06.docx to /content/reports/2024/06.docx\n"
          ]
        },
        {
          "output_type": "stream",
          "name": "stdout",
          "text": [
            "⬇️  Downloading 06.docx: 100%\r"
          ]
        },
        {
          "output_type": "stream",
          "name": "stderr",
          "text": [
            "INFO:__main__:✅ Downloaded 03.docx to /content/reports/2024/03.docx\n"
          ]
        },
        {
          "output_type": "stream",
          "name": "stdout",
          "text": [
            "⬇️  Downloading 03.docx: 100%\r"
          ]
        },
        {
          "output_type": "stream",
          "name": "stderr",
          "text": [
            "INFO:__main__:✅ Downloaded 10.docx to /content/reports/2024/10.docx\n"
          ]
        },
        {
          "output_type": "stream",
          "name": "stdout",
          "text": [
            "⬇️  Downloading 10.docx: 100%\r"
          ]
        },
        {
          "output_type": "stream",
          "name": "stderr",
          "text": [
            "INFO:__main__:✅ Downloaded 12.docx to /content/reports/2024/12.docx\n"
          ]
        },
        {
          "output_type": "stream",
          "name": "stdout",
          "text": [
            "⬇️  Downloading 12.docx: 100%\r"
          ]
        },
        {
          "output_type": "stream",
          "name": "stderr",
          "text": [
            "INFO:__main__:✅ Downloaded 08.docx to /content/reports/2024/08.docx\n"
          ]
        },
        {
          "output_type": "stream",
          "name": "stdout",
          "text": [
            "⬇️  Downloading 08.docx: 100%\r"
          ]
        },
        {
          "output_type": "stream",
          "name": "stderr",
          "text": [
            "INFO:__main__:✅ Downloaded 02.docx to /content/reports/2024/02.docx\n"
          ]
        },
        {
          "output_type": "stream",
          "name": "stdout",
          "text": [
            "⬇️  Downloading 02.docx: 100%\r"
          ]
        },
        {
          "output_type": "stream",
          "name": "stderr",
          "text": [
            "INFO:__main__:✅ Downloaded 06.docx to /content/reports/2024/06.docx\n"
          ]
        },
        {
          "output_type": "stream",
          "name": "stdout",
          "text": [
            "⬇️  Downloading 06.docx: 100%\r"
          ]
        },
        {
          "output_type": "stream",
          "name": "stderr",
          "text": [
            "INFO:__main__:✅ Downloaded 01.docx to /content/reports/2024/01.docx\n"
          ]
        },
        {
          "output_type": "stream",
          "name": "stdout",
          "text": [
            "⬇️  Downloading 01.docx: 100%\r"
          ]
        },
        {
          "output_type": "stream",
          "name": "stderr",
          "text": [
            "INFO:__main__:✅ Downloaded 05.docx to /content/reports/2024/05.docx\n"
          ]
        },
        {
          "output_type": "stream",
          "name": "stdout",
          "text": [
            "⬇️  Downloading 05.docx: 100%\r"
          ]
        },
        {
          "output_type": "stream",
          "name": "stderr",
          "text": [
            "INFO:__main__:✅ Downloaded 11.docx to /content/reports/2024/11.docx\n"
          ]
        },
        {
          "output_type": "stream",
          "name": "stdout",
          "text": [
            "⬇️  Downloading 11.docx: 100%\r"
          ]
        },
        {
          "output_type": "stream",
          "name": "stderr",
          "text": [
            "INFO:__main__:✅ Downloaded 07.docx to /content/reports/2024/07.docx\n"
          ]
        },
        {
          "output_type": "stream",
          "name": "stdout",
          "text": [
            "⬇️  Downloading 07.docx: 100%\r"
          ]
        },
        {
          "output_type": "stream",
          "name": "stderr",
          "text": [
            "INFO:__main__:✅ Downloaded 09.docx to /content/reports/2024/09.docx\n"
          ]
        },
        {
          "output_type": "stream",
          "name": "stdout",
          "text": [
            "⬇️  Downloading 09.docx: 100%\r"
          ]
        },
        {
          "output_type": "stream",
          "name": "stderr",
          "text": [
            "INFO:__main__:✅ Downloaded 14.docx to /content/reports/2024/14.docx\n"
          ]
        },
        {
          "output_type": "stream",
          "name": "stdout",
          "text": [
            "⬇️  Downloading 14.docx: 100%\r"
          ]
        },
        {
          "output_type": "stream",
          "name": "stderr",
          "text": [
            "INFO:__main__:✅ Downloaded 04.docx to /content/reports/2024/04.docx\n"
          ]
        },
        {
          "output_type": "stream",
          "name": "stdout",
          "text": [
            "⬇️  Downloading 04.docx: 100%\r"
          ]
        },
        {
          "output_type": "stream",
          "name": "stderr",
          "text": [
            "INFO:__main__:✅ Downloaded 11.docx to /content/reports/2022/11.docx\n"
          ]
        },
        {
          "output_type": "stream",
          "name": "stdout",
          "text": [
            "⬇️  Downloading 11.docx: 100%\r"
          ]
        },
        {
          "output_type": "stream",
          "name": "stderr",
          "text": [
            "INFO:__main__:✅ Downloaded 01.docx to /content/reports/2022/01.docx\n"
          ]
        },
        {
          "output_type": "stream",
          "name": "stdout",
          "text": [
            "⬇️  Downloading 01.docx: 100%\r"
          ]
        },
        {
          "output_type": "stream",
          "name": "stderr",
          "text": [
            "INFO:__main__:✅ Downloaded 14.docx to /content/reports/2022/14.docx\n"
          ]
        },
        {
          "output_type": "stream",
          "name": "stdout",
          "text": [
            "⬇️  Downloading 14.docx: 100%\r"
          ]
        },
        {
          "output_type": "stream",
          "name": "stderr",
          "text": [
            "INFO:__main__:✅ Downloaded 02.docx to /content/reports/2022/02.docx\n"
          ]
        },
        {
          "output_type": "stream",
          "name": "stdout",
          "text": [
            "⬇️  Downloading 02.docx: 100%\r"
          ]
        },
        {
          "output_type": "stream",
          "name": "stderr",
          "text": [
            "INFO:__main__:✅ Downloaded 09.docx to /content/reports/2022/09.docx\n"
          ]
        },
        {
          "output_type": "stream",
          "name": "stdout",
          "text": [
            "⬇️  Downloading 09.docx: 100%\r"
          ]
        },
        {
          "output_type": "stream",
          "name": "stderr",
          "text": [
            "INFO:__main__:✅ Downloaded 07.docx to /content/reports/2022/07.docx\n"
          ]
        },
        {
          "output_type": "stream",
          "name": "stdout",
          "text": [
            "⬇️  Downloading 07.docx: 100%\r"
          ]
        },
        {
          "output_type": "stream",
          "name": "stderr",
          "text": [
            "INFO:__main__:✅ Downloaded 13.docx to /content/reports/2022/13.docx\n"
          ]
        },
        {
          "output_type": "stream",
          "name": "stdout",
          "text": [
            "⬇️  Downloading 13.docx: 100%\r"
          ]
        },
        {
          "output_type": "stream",
          "name": "stderr",
          "text": [
            "INFO:__main__:✅ Downloaded 04.docx to /content/reports/2022/04.docx\n"
          ]
        },
        {
          "output_type": "stream",
          "name": "stdout",
          "text": [
            "⬇️  Downloading 04.docx: 100%\r"
          ]
        },
        {
          "output_type": "stream",
          "name": "stderr",
          "text": [
            "INFO:__main__:✅ Downloaded 12.docx to /content/reports/2022/12.docx\n"
          ]
        },
        {
          "output_type": "stream",
          "name": "stdout",
          "text": [
            "⬇️  Downloading 12.docx: 100%\r"
          ]
        },
        {
          "output_type": "stream",
          "name": "stderr",
          "text": [
            "INFO:__main__:✅ Downloaded 05.docx to /content/reports/2022/05.docx\n"
          ]
        },
        {
          "output_type": "stream",
          "name": "stdout",
          "text": [
            "⬇️  Downloading 05.docx: 100%\r"
          ]
        },
        {
          "output_type": "stream",
          "name": "stderr",
          "text": [
            "INFO:__main__:✅ Downloaded 08.docx to /content/reports/2022/08.docx\n"
          ]
        },
        {
          "output_type": "stream",
          "name": "stdout",
          "text": [
            "⬇️  Downloading 08.docx: 100%\r"
          ]
        },
        {
          "output_type": "stream",
          "name": "stderr",
          "text": [
            "INFO:__main__:✅ Downloaded 10.docx to /content/reports/2022/10.docx\n"
          ]
        },
        {
          "output_type": "stream",
          "name": "stdout",
          "text": [
            "⬇️  Downloading 10.docx: 100%\r"
          ]
        },
        {
          "output_type": "stream",
          "name": "stderr",
          "text": [
            "INFO:__main__:✅ Downloaded 03.docx to /content/reports/2022/03.docx\n"
          ]
        },
        {
          "output_type": "stream",
          "name": "stdout",
          "text": [
            "⬇️  Downloading 03.docx: 100%\r"
          ]
        },
        {
          "output_type": "stream",
          "name": "stderr",
          "text": [
            "INFO:__main__:✅ Downloaded 06.docx to /content/reports/2022/06.docx\n"
          ]
        },
        {
          "output_type": "stream",
          "name": "stdout",
          "text": [
            "⬇️  Downloading 06.docx: 100%\r"
          ]
        },
        {
          "output_type": "stream",
          "name": "stderr",
          "text": [
            "INFO:__main__:✅ Downloaded 07.docx to /content/reports/2023/07.docx\n"
          ]
        },
        {
          "output_type": "stream",
          "name": "stdout",
          "text": [
            "⬇️  Downloading 07.docx: 100%\r"
          ]
        },
        {
          "output_type": "stream",
          "name": "stderr",
          "text": [
            "INFO:__main__:✅ Downloaded 01.docx to /content/reports/2023/01.docx\n"
          ]
        },
        {
          "output_type": "stream",
          "name": "stdout",
          "text": [
            "⬇️  Downloading 01.docx: 100%\r"
          ]
        },
        {
          "output_type": "stream",
          "name": "stderr",
          "text": [
            "INFO:__main__:✅ Downloaded 02.docx to /content/reports/2023/02.docx\n"
          ]
        },
        {
          "output_type": "stream",
          "name": "stdout",
          "text": [
            "⬇️  Downloading 02.docx: 100%\r"
          ]
        },
        {
          "output_type": "stream",
          "name": "stderr",
          "text": [
            "INFO:__main__:✅ Downloaded 14.docx to /content/reports/2023/14.docx\n"
          ]
        },
        {
          "output_type": "stream",
          "name": "stdout",
          "text": [
            "⬇️  Downloading 14.docx: 100%\r"
          ]
        },
        {
          "output_type": "stream",
          "name": "stderr",
          "text": [
            "INFO:__main__:✅ Downloaded 13.docx to /content/reports/2023/13.docx\n"
          ]
        },
        {
          "output_type": "stream",
          "name": "stdout",
          "text": [
            "⬇️  Downloading 13.docx: 100%\r"
          ]
        },
        {
          "output_type": "stream",
          "name": "stderr",
          "text": [
            "INFO:__main__:✅ Downloaded 12.docx to /content/reports/2023/12.docx\n"
          ]
        },
        {
          "output_type": "stream",
          "name": "stdout",
          "text": [
            "⬇️  Downloading 12.docx: 100%\r"
          ]
        },
        {
          "output_type": "stream",
          "name": "stderr",
          "text": [
            "INFO:__main__:✅ Downloaded 11.docx to /content/reports/2023/11.docx\n"
          ]
        },
        {
          "output_type": "stream",
          "name": "stdout",
          "text": [
            "⬇️  Downloading 11.docx: 100%\r"
          ]
        },
        {
          "output_type": "stream",
          "name": "stderr",
          "text": [
            "INFO:__main__:✅ Downloaded 09.docx to /content/reports/2023/09.docx\n"
          ]
        },
        {
          "output_type": "stream",
          "name": "stdout",
          "text": [
            "⬇️  Downloading 09.docx: 100%\r"
          ]
        },
        {
          "output_type": "stream",
          "name": "stderr",
          "text": [
            "INFO:__main__:✅ Downloaded 10.docx to /content/reports/2023/10.docx\n"
          ]
        },
        {
          "output_type": "stream",
          "name": "stdout",
          "text": [
            "⬇️  Downloading 10.docx: 100%\r"
          ]
        },
        {
          "output_type": "stream",
          "name": "stderr",
          "text": [
            "INFO:__main__:✅ Downloaded 08.docx to /content/reports/2023/08.docx\n"
          ]
        },
        {
          "output_type": "stream",
          "name": "stdout",
          "text": [
            "⬇️  Downloading 08.docx: 100%\r"
          ]
        },
        {
          "output_type": "stream",
          "name": "stderr",
          "text": [
            "INFO:__main__:✅ Downloaded 06.docx to /content/reports/2023/06.docx\n"
          ]
        },
        {
          "output_type": "stream",
          "name": "stdout",
          "text": [
            "⬇️  Downloading 06.docx: 100%\r"
          ]
        },
        {
          "output_type": "stream",
          "name": "stderr",
          "text": [
            "INFO:__main__:✅ Downloaded 05.docx to /content/reports/2023/05.docx\n"
          ]
        },
        {
          "output_type": "stream",
          "name": "stdout",
          "text": [
            "⬇️  Downloading 05.docx: 100%\r"
          ]
        },
        {
          "output_type": "stream",
          "name": "stderr",
          "text": [
            "INFO:__main__:✅ Downloaded 04.docx to /content/reports/2023/04.docx\n"
          ]
        },
        {
          "output_type": "stream",
          "name": "stdout",
          "text": [
            "⬇️  Downloading 04.docx: 100%\r"
          ]
        },
        {
          "output_type": "stream",
          "name": "stderr",
          "text": [
            "INFO:__main__:✅ Downloaded 03.docx to /content/reports/2023/03.docx\n"
          ]
        },
        {
          "output_type": "stream",
          "name": "stdout",
          "text": [
            "⬇️  Downloading 03.docx: 100%\r"
          ]
        },
        {
          "output_type": "stream",
          "name": "stderr",
          "text": [
            "INFO:__main__:✅ Downloaded 01.docx to /content/reports/2023/01.docx\n"
          ]
        },
        {
          "output_type": "stream",
          "name": "stdout",
          "text": [
            "⬇️  Downloading 01.docx: 100%\r"
          ]
        },
        {
          "output_type": "stream",
          "name": "stderr",
          "text": [
            "INFO:__main__:✅ Downloaded 09.docx to /content/reports/2023/09.docx\n"
          ]
        },
        {
          "output_type": "stream",
          "name": "stdout",
          "text": [
            "⬇️  Downloading 09.docx: 100%\r"
          ]
        },
        {
          "output_type": "stream",
          "name": "stderr",
          "text": [
            "INFO:__main__:✅ Downloaded 07.docx to /content/reports/2023/07.docx\n"
          ]
        },
        {
          "output_type": "stream",
          "name": "stdout",
          "text": [
            "⬇️  Downloading 07.docx: 100%\r"
          ]
        },
        {
          "output_type": "stream",
          "name": "stderr",
          "text": [
            "INFO:__main__:✅ Downloaded 04.docx to /content/reports/2023/04.docx\n"
          ]
        },
        {
          "output_type": "stream",
          "name": "stdout",
          "text": [
            "⬇️  Downloading 04.docx: 100%\r"
          ]
        },
        {
          "output_type": "stream",
          "name": "stderr",
          "text": [
            "INFO:__main__:✅ Downloaded 05.docx to /content/reports/2023/05.docx\n"
          ]
        },
        {
          "output_type": "stream",
          "name": "stdout",
          "text": [
            "⬇️  Downloading 05.docx: 100%\r"
          ]
        },
        {
          "output_type": "stream",
          "name": "stderr",
          "text": [
            "INFO:__main__:✅ Downloaded 08.docx to /content/reports/2023/08.docx\n"
          ]
        },
        {
          "output_type": "stream",
          "name": "stdout",
          "text": [
            "⬇️  Downloading 08.docx: 100%\r"
          ]
        },
        {
          "output_type": "stream",
          "name": "stderr",
          "text": [
            "INFO:__main__:✅ Downloaded 03.docx to /content/reports/2023/03.docx\n"
          ]
        },
        {
          "output_type": "stream",
          "name": "stdout",
          "text": [
            "⬇️  Downloading 03.docx: 100%\r"
          ]
        },
        {
          "output_type": "stream",
          "name": "stderr",
          "text": [
            "INFO:__main__:✅ Downloaded 06.docx to /content/reports/2023/06.docx\n"
          ]
        },
        {
          "output_type": "stream",
          "name": "stdout",
          "text": [
            "⬇️  Downloading 06.docx: 100%\r"
          ]
        },
        {
          "output_type": "stream",
          "name": "stderr",
          "text": [
            "INFO:__main__:✅ Downloaded 01.docx to /content/reports/2012/01.docx\n"
          ]
        },
        {
          "output_type": "stream",
          "name": "stdout",
          "text": [
            "⬇️  Downloading 01.docx: 100%\r"
          ]
        },
        {
          "output_type": "stream",
          "name": "stderr",
          "text": [
            "INFO:__main__:✅ Downloaded 11.docx to /content/reports/2012/11.docx\n"
          ]
        },
        {
          "output_type": "stream",
          "name": "stdout",
          "text": [
            "⬇️  Downloading 11.docx: 100%\r"
          ]
        },
        {
          "output_type": "stream",
          "name": "stderr",
          "text": [
            "INFO:__main__:✅ Downloaded 15.docx to /content/reports/2012/15.docx\n"
          ]
        },
        {
          "output_type": "stream",
          "name": "stdout",
          "text": [
            "⬇️  Downloading 15.docx: 100%\r"
          ]
        },
        {
          "output_type": "stream",
          "name": "stderr",
          "text": [
            "INFO:__main__:✅ Downloaded 14.docx to /content/reports/2012/14.docx\n"
          ]
        },
        {
          "output_type": "stream",
          "name": "stdout",
          "text": [
            "⬇️  Downloading 14.docx: 100%\r"
          ]
        },
        {
          "output_type": "stream",
          "name": "stderr",
          "text": [
            "INFO:__main__:✅ Downloaded 02.docx to /content/reports/2012/02.docx\n"
          ]
        },
        {
          "output_type": "stream",
          "name": "stdout",
          "text": [
            "⬇️  Downloading 02.docx: 100%\r"
          ]
        },
        {
          "output_type": "stream",
          "name": "stderr",
          "text": [
            "INFO:__main__:✅ Downloaded 09.docx to /content/reports/2012/09.docx\n"
          ]
        },
        {
          "output_type": "stream",
          "name": "stdout",
          "text": [
            "⬇️  Downloading 09.docx: 100%\r"
          ]
        },
        {
          "output_type": "stream",
          "name": "stderr",
          "text": [
            "INFO:__main__:✅ Downloaded 07.docx to /content/reports/2012/07.docx\n"
          ]
        },
        {
          "output_type": "stream",
          "name": "stdout",
          "text": [
            "⬇️  Downloading 07.docx: 100%\r"
          ]
        },
        {
          "output_type": "stream",
          "name": "stderr",
          "text": [
            "INFO:__main__:✅ Downloaded 13.docx to /content/reports/2012/13.docx\n"
          ]
        },
        {
          "output_type": "stream",
          "name": "stdout",
          "text": [
            "⬇️  Downloading 13.docx: 100%\r"
          ]
        },
        {
          "output_type": "stream",
          "name": "stderr",
          "text": [
            "INFO:__main__:✅ Downloaded 04.docx to /content/reports/2012/04.docx\n"
          ]
        },
        {
          "output_type": "stream",
          "name": "stdout",
          "text": [
            "⬇️  Downloading 04.docx: 100%\r"
          ]
        },
        {
          "output_type": "stream",
          "name": "stderr",
          "text": [
            "INFO:__main__:✅ Downloaded 12.docx to /content/reports/2012/12.docx\n"
          ]
        },
        {
          "output_type": "stream",
          "name": "stdout",
          "text": [
            "⬇️  Downloading 12.docx: 100%\r"
          ]
        },
        {
          "output_type": "stream",
          "name": "stderr",
          "text": [
            "INFO:__main__:✅ Downloaded 05.docx to /content/reports/2012/05.docx\n"
          ]
        },
        {
          "output_type": "stream",
          "name": "stdout",
          "text": [
            "⬇️  Downloading 05.docx: 100%\r"
          ]
        },
        {
          "output_type": "stream",
          "name": "stderr",
          "text": [
            "INFO:__main__:✅ Downloaded 08.docx to /content/reports/2012/08.docx\n"
          ]
        },
        {
          "output_type": "stream",
          "name": "stdout",
          "text": [
            "⬇️  Downloading 08.docx: 100%\r"
          ]
        },
        {
          "output_type": "stream",
          "name": "stderr",
          "text": [
            "INFO:__main__:✅ Downloaded 10.docx to /content/reports/2012/10.docx\n"
          ]
        },
        {
          "output_type": "stream",
          "name": "stdout",
          "text": [
            "⬇️  Downloading 10.docx: 100%\r"
          ]
        },
        {
          "output_type": "stream",
          "name": "stderr",
          "text": [
            "INFO:__main__:✅ Downloaded 03.docx to /content/reports/2012/03.docx\n"
          ]
        },
        {
          "output_type": "stream",
          "name": "stdout",
          "text": [
            "⬇️  Downloading 03.docx: 100%\r"
          ]
        },
        {
          "output_type": "stream",
          "name": "stderr",
          "text": [
            "INFO:__main__:✅ Downloaded 06.docx to /content/reports/2012/06.docx\n"
          ]
        },
        {
          "output_type": "stream",
          "name": "stdout",
          "text": [
            "⬇️  Downloading 06.docx: 100%\r"
          ]
        },
        {
          "output_type": "stream",
          "name": "stderr",
          "text": [
            "INFO:__main__:✅ Downloaded 11.docx to /content/reports/2014/11.docx\n"
          ]
        },
        {
          "output_type": "stream",
          "name": "stdout",
          "text": [
            "⬇️  Downloading 11.docx: 100%\r"
          ]
        },
        {
          "output_type": "stream",
          "name": "stderr",
          "text": [
            "INFO:__main__:✅ Downloaded 01.docx to /content/reports/2014/01.docx\n"
          ]
        },
        {
          "output_type": "stream",
          "name": "stdout",
          "text": [
            "⬇️  Downloading 01.docx: 100%\r"
          ]
        },
        {
          "output_type": "stream",
          "name": "stderr",
          "text": [
            "INFO:__main__:✅ Downloaded 14.docx to /content/reports/2014/14.docx\n"
          ]
        },
        {
          "output_type": "stream",
          "name": "stdout",
          "text": [
            "⬇️  Downloading 14.docx: 100%\r"
          ]
        },
        {
          "output_type": "stream",
          "name": "stderr",
          "text": [
            "INFO:__main__:✅ Downloaded 02.docx to /content/reports/2014/02.docx\n"
          ]
        },
        {
          "output_type": "stream",
          "name": "stdout",
          "text": [
            "⬇️  Downloading 02.docx: 100%\r"
          ]
        },
        {
          "output_type": "stream",
          "name": "stderr",
          "text": [
            "INFO:__main__:✅ Downloaded 09.docx to /content/reports/2014/09.docx\n"
          ]
        },
        {
          "output_type": "stream",
          "name": "stdout",
          "text": [
            "⬇️  Downloading 09.docx: 100%\r"
          ]
        },
        {
          "output_type": "stream",
          "name": "stderr",
          "text": [
            "INFO:__main__:✅ Downloaded 07.docx to /content/reports/2014/07.docx\n"
          ]
        },
        {
          "output_type": "stream",
          "name": "stdout",
          "text": [
            "⬇️  Downloading 07.docx: 100%\r"
          ]
        },
        {
          "output_type": "stream",
          "name": "stderr",
          "text": [
            "INFO:__main__:✅ Downloaded 13.docx to /content/reports/2014/13.docx\n"
          ]
        },
        {
          "output_type": "stream",
          "name": "stdout",
          "text": [
            "⬇️  Downloading 13.docx: 100%\r"
          ]
        },
        {
          "output_type": "stream",
          "name": "stderr",
          "text": [
            "INFO:__main__:✅ Downloaded 04.docx to /content/reports/2014/04.docx\n"
          ]
        },
        {
          "output_type": "stream",
          "name": "stdout",
          "text": [
            "⬇️  Downloading 04.docx: 100%\r"
          ]
        },
        {
          "output_type": "stream",
          "name": "stderr",
          "text": [
            "INFO:__main__:✅ Downloaded 12.docx to /content/reports/2014/12.docx\n"
          ]
        },
        {
          "output_type": "stream",
          "name": "stdout",
          "text": [
            "⬇️  Downloading 12.docx: 100%\r"
          ]
        },
        {
          "output_type": "stream",
          "name": "stderr",
          "text": [
            "INFO:__main__:✅ Downloaded 05.docx to /content/reports/2014/05.docx\n"
          ]
        },
        {
          "output_type": "stream",
          "name": "stdout",
          "text": [
            "⬇️  Downloading 05.docx: 100%\r"
          ]
        },
        {
          "output_type": "stream",
          "name": "stderr",
          "text": [
            "INFO:__main__:✅ Downloaded 08.docx to /content/reports/2014/08.docx\n"
          ]
        },
        {
          "output_type": "stream",
          "name": "stdout",
          "text": [
            "⬇️  Downloading 08.docx: 100%\r"
          ]
        },
        {
          "output_type": "stream",
          "name": "stderr",
          "text": [
            "INFO:__main__:✅ Downloaded 10.docx to /content/reports/2014/10.docx\n"
          ]
        },
        {
          "output_type": "stream",
          "name": "stdout",
          "text": [
            "⬇️  Downloading 10.docx: 100%\r"
          ]
        },
        {
          "output_type": "stream",
          "name": "stderr",
          "text": [
            "INFO:__main__:✅ Downloaded 03.docx to /content/reports/2014/03.docx\n"
          ]
        },
        {
          "output_type": "stream",
          "name": "stdout",
          "text": [
            "⬇️  Downloading 03.docx: 100%\r"
          ]
        },
        {
          "output_type": "stream",
          "name": "stderr",
          "text": [
            "INFO:__main__:✅ Downloaded 06.docx to /content/reports/2014/06.docx\n",
            "INFO:__main__:✅ Download complete: 374/374 files\n"
          ]
        },
        {
          "output_type": "stream",
          "name": "stdout",
          "text": [
            "⬇️  Downloading 06.docx: 100%\rDownloaded 374 files\n"
          ]
        }
      ]
    },
    {
      "cell_type": "markdown",
      "source": [
        "# Data extraction class"
      ],
      "metadata": {
        "id": "OkcPb6r0r461"
      }
    },
    {
      "cell_type": "code",
      "source": [
        "import os\n",
        "import json\n",
        "import pandas as pd\n",
        "from docx import Document\n",
        "\n",
        "\n",
        "class TableExtractor:\n",
        "    \"\"\"Simple class for extracting tables from Word documents with statistics tracking.\"\"\"\n",
        "\n",
        "    def __init__(self, base_dir=\"/content/reports\", out_dir=\"/content/tables\"):\n",
        "        \"\"\"Initialize the extractor with directories and statistics.\"\"\"\n",
        "        self.base_dir = base_dir\n",
        "        self.out_dir = out_dir\n",
        "\n",
        "        # Configuration constants\n",
        "        self.YEAR_RANGE = (2001, 2025)\n",
        "        self.VALID_EXTENSION = \".docx\"\n",
        "        self.TABLE_MARKER = \"לוח\"  # Hebrew for \"table\"\n",
        "        self.EXCLUDE_MARKER = \"תרשים\"  # Hebrew for \"diagram\" - exclude these\n",
        "        self.ENCODING = \"utf-8-sig\"\n",
        "        self.SUMMARY_FILE = \"tables_summary.json\"\n",
        "        self.COLUMNS_FILE = \"tables_columns.json\"\n",
        "\n",
        "        # Metadata collectors\n",
        "        self.all_summaries = {}\n",
        "        self.all_colnames = {}\n",
        "\n",
        "        # Create output directory\n",
        "        os.makedirs(self.out_dir, exist_ok=True)\n",
        "\n",
        "    def _is_valid_table(self, table):\n",
        "        \"\"\"\n",
        "        Check if a table is valid (contains Hebrew table marker in first row).\n",
        "\n",
        "        Args:\n",
        "            table: A docx table object\n",
        "\n",
        "        Returns:\n",
        "            tuple: (is_valid: bool, table_name: str)\n",
        "        \"\"\"\n",
        "        if len(table.rows) <= 1:\n",
        "            return False, \"\"\n",
        "\n",
        "        # Check first row cells for table marker\n",
        "        for cell in table.rows[0].cells:\n",
        "            cell_text = cell.text\n",
        "            if self.TABLE_MARKER in cell_text and self.EXCLUDE_MARKER not in cell_text:\n",
        "                return True, cell_text.strip()\n",
        "\n",
        "        return False, \"\"\n",
        "\n",
        "    def _extract_table_data(self, table):\n",
        "        \"\"\"\n",
        "        Extract data from a docx table and convert to DataFrame.\n",
        "\n",
        "        Args:\n",
        "            table: A docx table object\n",
        "\n",
        "        Returns:\n",
        "            pd.DataFrame: Table data as a DataFrame\n",
        "        \"\"\"\n",
        "        data = [[cell.text.strip() for cell in row.cells] for row in table.rows]\n",
        "        return pd.DataFrame(data)\n",
        "\n",
        "    def _save_table_data(self, df, identifier, year, chapter):\n",
        "        \"\"\"\n",
        "        Save DataFrame as CSV file in the appropriate directory structure.\n",
        "\n",
        "        Args:\n",
        "            df: pandas DataFrame to save\n",
        "            identifier: Unique identifier for the table\n",
        "            year: Year of the document\n",
        "            chapter: Chapter identifier\n",
        "\n",
        "        Returns:\n",
        "            str: Path where the file was saved\n",
        "        \"\"\"\n",
        "        save_dir = os.path.join(self.out_dir, str(year), chapter)\n",
        "        os.makedirs(save_dir, exist_ok=True)\n",
        "\n",
        "        save_path = os.path.join(save_dir, f\"{identifier}.csv\")\n",
        "        df.to_csv(save_path, index=False, encoding=self.ENCODING)\n",
        "\n",
        "        return save_path\n",
        "\n",
        "    def _process_document(self, fpath, year, chapter):\n",
        "        \"\"\"\n",
        "        Process a single Word document and extract all valid tables.\n",
        "\n",
        "        Args:\n",
        "            fpath: Full path to the document\n",
        "            year: Year of the document\n",
        "            chapter: Chapter identifier from filename\n",
        "\n",
        "        Returns:\n",
        "            int: Number of tables extracted from this document\n",
        "        \"\"\"\n",
        "        summary = {}\n",
        "        colnames_map = {}\n",
        "        tables_extracted = 0\n",
        "\n",
        "        try:\n",
        "            doc = Document(fpath)\n",
        "        except Exception as e:\n",
        "            print(f\"skip {fpath}: {e}\")\n",
        "            return 0\n",
        "\n",
        "        serial = 1\n",
        "\n",
        "        for table in doc.tables:\n",
        "            # Validate table\n",
        "            is_valid, table_name = self._is_valid_table(table)\n",
        "            if not is_valid:\n",
        "                continue\n",
        "\n",
        "            # Extract data\n",
        "            df = self._extract_table_data(table)\n",
        "\n",
        "            # Skip empty tables\n",
        "            if len(df) == 0:\n",
        "                continue\n",
        "\n",
        "            # Create identifier\n",
        "            chapter = chapter.replace(\".docx\", \"\")\n",
        "            identifier = f\"{serial}_{chapter}_{year}\"\n",
        "\n",
        "            # Record mapping for JSON\n",
        "            if len(df) > 0:\n",
        "                # Deduplicate consecutive repeated text in header\n",
        "                header_cells = df.iloc[0].astype(str).tolist()\n",
        "                unique_header = []\n",
        "                for cell in header_cells:\n",
        "                    if not unique_header or cell != unique_header[-1]:\n",
        "                        unique_header.append(cell)\n",
        "                summary[identifier] = \" \".join(unique_header)\n",
        "            else:\n",
        "                continue\n",
        "\n",
        "            # Combine rows [1] and [2] for column names\n",
        "            if len(df) > 2:\n",
        "                row1 = df.iloc[1].astype(str).tolist()\n",
        "                row2 = df.iloc[2].astype(str).tolist()\n",
        "                colnames_map[identifier] = [f\"{r1} {r2}\".strip() for r1, r2 in zip(row1, row2)]\n",
        "            elif len(df) > 1:\n",
        "                colnames_map[identifier] = df.iloc[1].astype(str).tolist()\n",
        "            else:\n",
        "                colnames_map[identifier] = []\n",
        "\n",
        "            # Save to CSV\n",
        "            self._save_table_data(df, identifier, year, chapter)\n",
        "\n",
        "            serial += 1\n",
        "\n",
        "        # Update metadata collectors\n",
        "        self.all_summaries.update(summary)\n",
        "        self.all_colnames.update(colnames_map)\n",
        "\n",
        "    def _save_metadata(self):\n",
        "        \"\"\"Save summary and column metadata to JSON files.\"\"\"\n",
        "        with open(os.path.join(self.out_dir, self.SUMMARY_FILE), \"w\", encoding=\"utf-8\") as f:\n",
        "            json.dump(self.all_summaries, f, ensure_ascii=False, indent=2)\n",
        "\n",
        "        with open(os.path.join(self.out_dir, self.COLUMNS_FILE), \"w\", encoding=\"utf-8\") as f:\n",
        "            json.dump(self.all_colnames, f, ensure_ascii=False, indent=2)\n",
        "\n",
        "    def process_files(self, years=None, chapters=None):\n",
        "        \"\"\"\n",
        "        Process Word documents filtered by years and chapters.\n",
        "\n",
        "        Args:\n",
        "            years: List/range of years to process (None = all years in YEAR_RANGE)\n",
        "            chapters: List of chapter identifiers to process (None = all chapters)\n",
        "\n",
        "        Example:\n",
        "            extractor.process_files()  # Process all files\n",
        "            extractor.process_files(years=[2023, 2024])  # Specific years\n",
        "            extractor.process_files(chapters=['1', '2', '3'])  # Specific chapters\n",
        "            extractor.process_files(years=range(2020, 2025), chapters=['1', '2'])  # Both\n",
        "        \"\"\"\n",
        "        # Reset statistics for new extraction session\n",
        "        self.all_summaries = {}\n",
        "        self.all_colnames = {}\n",
        "\n",
        "        # Determine which years to process\n",
        "        if years is None:\n",
        "            years_to_process = range(*self.YEAR_RANGE)\n",
        "        else:\n",
        "            years_to_process = years\n",
        "\n",
        "        # Convert chapters to set for faster lookup (if provided)\n",
        "        chapters_to_process = set(map(str, chapters)) if chapters else None\n",
        "\n",
        "        # Process each year\n",
        "        for year in years_to_process:\n",
        "            print(year)\n",
        "            year_path = os.path.join(self.base_dir, str(year))\n",
        "\n",
        "            if not os.path.isdir(year_path):\n",
        "                continue\n",
        "\n",
        "            # Process each document in the year directory\n",
        "            for fname in os.listdir(year_path):\n",
        "                if not fname.endswith(self.VALID_EXTENSION):\n",
        "                    continue\n",
        "\n",
        "                # Extract chapter from filename\n",
        "                chapter = fname.split(\"_\")[0]\n",
        "\n",
        "                # Skip if not in chapters to process\n",
        "                if chapters_to_process and chapter not in chapters_to_process:\n",
        "                    continue\n",
        "\n",
        "                fpath = os.path.join(year_path, fname)\n",
        "\n",
        "                # Process the document\n",
        "                self._process_document(fpath, year, chapter)\n",
        "\n",
        "        # Save consolidated metadata\n",
        "        self._save_metadata()\n",
        "\n",
        "    def _identify_continuation_groups(self, summaries):\n",
        "        \"\"\"\n",
        "        Identify groups of tables that should be combined (original + continuations).\n",
        "        Groups are formed by sequential position - any table with \"(המשך)\" belongs\n",
        "        to the most recent table without \"(המשך)\".\n",
        "\n",
        "        Args:\n",
        "            summaries: Dictionary of table summaries\n",
        "\n",
        "        Returns:\n",
        "            dict: Groups of related tables {original_id: [original_id, continuation_ids...]}\n",
        "        \"\"\"\n",
        "        groups = {}\n",
        "        continuation_marker = \"(המשך)\"\n",
        "\n",
        "        # Sort identifiers to process them in order (important for maintaining sequence)\n",
        "        sorted_ids = sorted(summaries.keys(), key=lambda x: (\n",
        "            int(x.split('_')[2]),  # year\n",
        "            x.split('_')[1],        # chapter\n",
        "            int(x.split('_')[0])    # serial number\n",
        "        ))\n",
        "\n",
        "        current_group_original = None\n",
        "\n",
        "        for identifier in sorted_ids:\n",
        "            header = summaries[identifier]\n",
        "\n",
        "            # Check if this is a continuation\n",
        "            if continuation_marker in header:\n",
        "                # This is a continuation - add to current group\n",
        "                if current_group_original:\n",
        "                    groups[current_group_original].append(identifier)\n",
        "                else:\n",
        "                    # This shouldn't happen - continuation without an original\n",
        "                    print(f\"Warning: Continuation table found without a preceding original: {identifier}\")\n",
        "            else:\n",
        "                # This is an original table (not a continuation)\n",
        "                # Start a new group\n",
        "                current_group_original = identifier\n",
        "                groups[identifier] = [identifier]  # Group starts with the original\n",
        "\n",
        "        # Filter out groups with only one table (no continuations)\n",
        "        groups_with_continuations = {k: v for k, v in groups.items() if len(v) > 1}\n",
        "\n",
        "        return groups_with_continuations\n",
        "\n",
        "    def _combine_csv_files(self, identifiers, summaries):\n",
        "        \"\"\"\n",
        "        Load and combine multiple CSV files into one, removing duplicate headers.\n",
        "\n",
        "        Args:\n",
        "            identifiers: List of table identifiers [original, continuation1, ...]\n",
        "            summaries: Dictionary of table summaries (not used in simplified version)\n",
        "\n",
        "        Returns:\n",
        "            pd.DataFrame: Combined dataframe\n",
        "        \"\"\"\n",
        "        if not identifiers:\n",
        "            return None\n",
        "\n",
        "        combined_df = None\n",
        "        original_id = identifiers[0]\n",
        "\n",
        "        # Parse identifier to get year and chapter\n",
        "        parts = original_id.split('_')\n",
        "        year = parts[2]\n",
        "        chapter = parts[1]\n",
        "\n",
        "        for i, identifier in enumerate(identifiers):\n",
        "            # Build path to CSV file\n",
        "            csv_path = os.path.join(self.out_dir, year, chapter, f\"{identifier}.csv\")\n",
        "\n",
        "            if not os.path.exists(csv_path):\n",
        "                print(f\"Warning: CSV file not found: {csv_path}\")\n",
        "                continue\n",
        "\n",
        "            # Load the CSV\n",
        "            df = pd.read_csv(csv_path, encoding=self.ENCODING)\n",
        "\n",
        "            if i == 0:\n",
        "                # First table (original) - keep everything\n",
        "                combined_df = df\n",
        "            else:\n",
        "                # Continuation table - skip first row (the title row)\n",
        "                if len(df) > 1:\n",
        "                    combined_df = pd.concat([combined_df, df.iloc[1:]],\n",
        "                                           ignore_index=True)\n",
        "                else:\n",
        "                    # If continuation only has header, skip it entirely\n",
        "                    print(f\"  Note: Continuation {identifier} has no data rows\")\n",
        "\n",
        "        return combined_df\n",
        "\n",
        "    def combine_continuation_tables(self):\n",
        "      \"\"\"\n",
        "      Combine continuation tables with their originals after extraction.\n",
        "      This should be called after process_files() to merge any continuation tables.\n",
        "\n",
        "      Returns:\n",
        "          dict: Information about combined tables\n",
        "      \"\"\"\n",
        "      # Load current summaries\n",
        "      summary_path = os.path.join(self.out_dir, self.SUMMARY_FILE)\n",
        "      columns_path = os.path.join(self.out_dir, self.COLUMNS_FILE)\n",
        "\n",
        "      if not os.path.exists(summary_path):\n",
        "          print(\"No summaries file found. Run process_files() first.\")\n",
        "          return {}\n",
        "\n",
        "      # Load metadata\n",
        "      with open(summary_path, 'r', encoding='utf-8') as f:\n",
        "          summaries = json.load(f)\n",
        "\n",
        "      with open(columns_path, 'r', encoding='utf-8') as f:\n",
        "          colnames = json.load(f)\n",
        "\n",
        "      # Identify continuation groups\n",
        "      groups = self._identify_continuation_groups(summaries)\n",
        "\n",
        "      if not groups:\n",
        "          print(\"No continuation tables found.\")\n",
        "          return {}\n",
        "\n",
        "      print(f\"\\nFound {len(groups)} table(s) with continuations to combine...\")\n",
        "\n",
        "      # Track what we combined\n",
        "      combined_info = {}\n",
        "\n",
        "      # Process each group\n",
        "      for original_id, identifier_list in groups.items():\n",
        "          print(f\"\\nCombining {original_id} with {len(identifier_list)-1} continuation(s)...\")\n",
        "\n",
        "          # Combine the CSV files\n",
        "          combined_df = self._combine_csv_files(identifier_list, summaries)\n",
        "\n",
        "          if combined_df is not None:\n",
        "              # Parse identifier to get year and chapter\n",
        "              parts = original_id.split('_')\n",
        "              year = parts[2]\n",
        "              chapter = parts[1]\n",
        "\n",
        "              # Save the combined CSV (overwriting the original)\n",
        "              save_path = os.path.join(self.out_dir, year, chapter, f\"{original_id}.csv\")\n",
        "              combined_df.to_csv(save_path, index=False, encoding=self.ENCODING)\n",
        "\n",
        "              # Delete continuation CSV files\n",
        "              for continuation_id in identifier_list[1:]:  # Skip the original\n",
        "                  continuation_path = os.path.join(self.out_dir, year, chapter, f\"{continuation_id}.csv\")\n",
        "                  if os.path.exists(continuation_path):\n",
        "                      os.remove(continuation_path)\n",
        "                      print(f\"  Removed: {continuation_id}.csv\")\n",
        "\n",
        "              # Track combination info\n",
        "              combined_info[original_id] = {\n",
        "                  'parts_combined': len(identifier_list),\n",
        "                  'continuation_ids': identifier_list[1:],\n",
        "                  'rows_in_combined': len(combined_df)\n",
        "              }\n",
        "\n",
        "              print(f\"  Combined table saved as: {original_id}.csv ({len(combined_df)} rows)\")\n",
        "\n",
        "      # Remove continuation entries from metadata\n",
        "      summaries_without_continuations = {k: v for k, v in summaries.items()\n",
        "                                        if \"(המשך)\" not in v}\n",
        "      colnames_without_continuations = {k: v for k, v in colnames.items()\n",
        "                                      if \"(המשך)\" not in summaries.get(k, \"\")}\n",
        "\n",
        "      # Renumber tables sequentially per chapter-year\n",
        "      print(\"\\nRenumbering tables sequentially...\")\n",
        "\n",
        "      # Group by chapter and year\n",
        "      grouped = {}\n",
        "      for identifier in summaries_without_continuations.keys():\n",
        "          parts = identifier.split('_')\n",
        "          if len(parts) >= 3:\n",
        "              chapter = parts[1]\n",
        "              year = parts[2]\n",
        "              key = f\"{chapter}_{year}\"\n",
        "              if key not in grouped:\n",
        "                  grouped[key] = []\n",
        "              grouped[key].append(identifier)\n",
        "\n",
        "      # Sort each group by original serial number\n",
        "      for key in grouped:\n",
        "          grouped[key].sort(key=lambda x: int(x.split('_')[0]))\n",
        "\n",
        "      # Create new dictionaries with sequential numbering\n",
        "      new_summaries = {}\n",
        "      new_colnames = {}\n",
        "      rename_map = {}  # Track old -> new identifier mapping\n",
        "\n",
        "      for chapter_year, identifiers in grouped.items():\n",
        "          chapter, year = chapter_year.split('_')\n",
        "\n",
        "          for new_serial, old_identifier in enumerate(identifiers, start=1):\n",
        "              new_identifier = f\"{new_serial}_{chapter}_{year}\"\n",
        "              rename_map[old_identifier] = new_identifier\n",
        "\n",
        "              # Copy to new dictionaries with new key\n",
        "              new_summaries[new_identifier] = summaries_without_continuations[old_identifier]\n",
        "              if old_identifier in colnames_without_continuations:\n",
        "                  new_colnames[new_identifier] = colnames_without_continuations[old_identifier]\n",
        "\n",
        "      # Rename CSV files\n",
        "      for old_id, new_id in rename_map.items():\n",
        "          if old_id != new_id:  # Only rename if different\n",
        "              parts_old = old_id.split('_')\n",
        "              parts_new = new_id.split('_')\n",
        "              year = parts_old[2]\n",
        "              chapter = parts_old[1]\n",
        "\n",
        "              old_path = os.path.join(self.out_dir, year, chapter, f\"{old_id}.csv\")\n",
        "              new_path = os.path.join(self.out_dir, year, chapter, f\"{new_id}.csv\")\n",
        "\n",
        "              if os.path.exists(old_path):\n",
        "                  os.rename(old_path, new_path)\n",
        "                  print(f\"  Renamed: {old_id}.csv -> {new_id}.csv\")\n",
        "\n",
        "      # Update combined_info with new identifiers\n",
        "      updated_combined_info = {}\n",
        "      for old_id, info in combined_info.items():\n",
        "          new_id = rename_map.get(old_id, old_id)\n",
        "          updated_combined_info[new_id] = info\n",
        "\n",
        "      # Save updated metadata with sequential numbering\n",
        "      with open(summary_path, 'w', encoding='utf-8') as f:\n",
        "          json.dump(new_summaries, f, ensure_ascii=False, indent=2)\n",
        "\n",
        "      with open(columns_path, 'w', encoding='utf-8') as f:\n",
        "          json.dump(new_colnames, f, ensure_ascii=False, indent=2)\n",
        "\n",
        "      # Save combination tracking info\n",
        "      tracking_path = os.path.join(self.out_dir, \"combined_tables_info.json\")\n",
        "      with open(tracking_path, 'w', encoding='utf-8') as f:\n",
        "          json.dump(updated_combined_info, f, ensure_ascii=False, indent=2)\n",
        "\n",
        "      print(f\"\\n✓ Combination complete! Combined {len(groups)} table(s)\")\n",
        "      print(f\"  Tables renumbered sequentially per chapter-year\")\n",
        "      print(f\"  Combination details saved to: combined_tables_info.json\")\n",
        "\n",
        "      return updated_combined_info\n",
        "\n",
        "    def calculate_statistics(self):\n",
        "      \"\"\"\n",
        "      Calculate statistics from the table_summary.json file.\n",
        "\n",
        "      Returns:\n",
        "          dict: Statistics with 'total' and 'per_chapter_year' breakdown\n",
        "      \"\"\"\n",
        "      summary_path = os.path.join(self.out_dir, self.SUMMARY_FILE)\n",
        "\n",
        "      if not os.path.exists(summary_path):\n",
        "          return {'total': 0, 'per_chapter_year': {}}\n",
        "\n",
        "      # Load summaries\n",
        "      with open(summary_path, 'r', encoding='utf-8') as f:\n",
        "          summaries = json.load(f)\n",
        "\n",
        "      # Calculate statistics\n",
        "      total = len(summaries)\n",
        "      per_chapter_year = {}\n",
        "\n",
        "      for identifier in summaries.keys():\n",
        "          # Parse identifier: \"serial_chapter_year\"\n",
        "          parts = identifier.split('_')\n",
        "          if len(parts) >= 3:\n",
        "              chapter = parts[1]\n",
        "              year = int(parts[2])\n",
        "\n",
        "              if chapter not in per_chapter_year:\n",
        "                  per_chapter_year[chapter] = {}\n",
        "              if year not in per_chapter_year[chapter]:\n",
        "                  per_chapter_year[chapter][year] = 0\n",
        "              per_chapter_year[chapter][year] += 1\n",
        "\n",
        "      return {\n",
        "          'total': total,\n",
        "          'per_chapter_year': per_chapter_year\n",
        "      }\n",
        "\n",
        "    def print_summary(self):\n",
        "        \"\"\"Print a formatted summary of extraction statistics.\"\"\"\n",
        "        stats = self.calculate_statistics()\n",
        "\n",
        "        print(\"\\n\" + \"=\"*50)\n",
        "        print(\"EXTRACTION SUMMARY\")\n",
        "        print(\"=\"*50)\n",
        "        print(f\"Total tables extracted: {stats['total']}\")\n",
        "\n",
        "        if stats['per_chapter_year']:\n",
        "            print(\"\\nTables per chapter per year:\")\n",
        "            for chapter in sorted(stats['per_chapter_year'].keys()):\n",
        "                print(f\"\\nChapter {chapter}:\")\n",
        "                for year in sorted(stats['per_chapter_year'][chapter].keys()):\n",
        "                    count = stats['per_chapter_year'][chapter][year]\n",
        "                    if count > 0:  # Only show years with tables\n",
        "                        print(f\"  {year}: {count}\")\n",
        "        else:\n",
        "            print(\"\\nNo tables found.\")\n",
        "        print(\"=\"*50)"
      ],
      "metadata": {
        "id": "ErtYpb9Qr8O5"
      },
      "execution_count": 18,
      "outputs": []
    },
    {
      "cell_type": "code",
      "source": [
        "# Initialize\n",
        "extractor = TableExtractor(base_dir=\"/content/reports\", out_dir=\"/content/tables\")\n",
        "\n",
        "# Process everything\n",
        "extractor.process_files()"
      ],
      "metadata": {
        "colab": {
          "base_uri": "https://localhost:8080/"
        },
        "id": "aeHTZd6gtq-X",
        "outputId": "9135e8de-fbcb-481f-f92a-f90893c7716b"
      },
      "execution_count": 19,
      "outputs": [
        {
          "output_type": "stream",
          "name": "stdout",
          "text": [
            "2001\n",
            "2002\n",
            "2003\n",
            "2004\n",
            "2005\n",
            "2006\n",
            "2007\n",
            "2008\n",
            "2009\n",
            "2010\n",
            "2011\n",
            "2012\n",
            "2013\n",
            "2014\n",
            "2015\n",
            "2016\n",
            "2017\n",
            "2018\n",
            "2019\n",
            "2020\n",
            "2021\n",
            "2022\n",
            "2023\n",
            "2024\n"
          ]
        }
      ]
    },
    {
      "cell_type": "code",
      "source": [
        "# Combine continuation tables\n",
        "combined = extractor.combine_continuation_tables()"
      ],
      "metadata": {
        "colab": {
          "base_uri": "https://localhost:8080/"
        },
        "id": "R1vmHozAnCNP",
        "outputId": "db1da4a7-912e-437c-c3cd-d7b25a40dac8"
      },
      "execution_count": 20,
      "outputs": [
        {
          "output_type": "stream",
          "name": "stdout",
          "text": [
            "\u001b[1;30;43mStreaming output truncated to the last 5000 lines.\u001b[0m\n",
            "\n",
            "Combining 24_07_2010 with 1 continuation(s)...\n",
            "  Removed: 25_07_2010.csv\n",
            "  Combined table saved as: 24_07_2010.csv (23 rows)\n",
            "\n",
            "Combining 29_07_2010 with 1 continuation(s)...\n",
            "  Removed: 30_07_2010.csv\n",
            "  Combined table saved as: 29_07_2010.csv (27 rows)\n",
            "\n",
            "Combining 20_08_2010 with 1 continuation(s)...\n",
            "  Removed: 21_08_2010.csv\n",
            "  Combined table saved as: 20_08_2010.csv (34 rows)\n",
            "\n",
            "Combining 22_08_2010 with 1 continuation(s)...\n",
            "  Removed: 23_08_2010.csv\n",
            "  Combined table saved as: 22_08_2010.csv (34 rows)\n",
            "\n",
            "Combining 25_08_2010 with 2 continuation(s)...\n",
            "  Removed: 26_08_2010.csv\n",
            "  Removed: 27_08_2010.csv\n",
            "  Combined table saved as: 25_08_2010.csv (187 rows)\n",
            "\n",
            "Combining 33_08_2010 with 1 continuation(s)...\n",
            "  Removed: 34_08_2010.csv\n",
            "  Combined table saved as: 33_08_2010.csv (38 rows)\n",
            "\n",
            "Combining 39_08_2010 with 2 continuation(s)...\n",
            "  Removed: 40_08_2010.csv\n",
            "  Removed: 41_08_2010.csv\n",
            "  Combined table saved as: 39_08_2010.csv (176 rows)\n",
            "\n",
            "Combining 1_09_2010 with 1 continuation(s)...\n",
            "  Removed: 2_09_2010.csv\n",
            "  Combined table saved as: 1_09_2010.csv (44 rows)\n",
            "\n",
            "Combining 3_09_2010 with 2 continuation(s)...\n",
            "  Removed: 4_09_2010.csv\n",
            "  Removed: 5_09_2010.csv\n",
            "  Combined table saved as: 3_09_2010.csv (188 rows)\n",
            "\n",
            "Combining 11_09_2010 with 1 continuation(s)...\n",
            "  Removed: 12_09_2010.csv\n",
            "  Combined table saved as: 11_09_2010.csv (42 rows)\n",
            "\n",
            "Combining 14_09_2010 with 1 continuation(s)...\n",
            "  Removed: 15_09_2010.csv\n",
            "  Combined table saved as: 14_09_2010.csv (189 rows)\n",
            "\n",
            "Combining 20_09_2010 with 1 continuation(s)...\n",
            "  Removed: 21_09_2010.csv\n",
            "  Combined table saved as: 20_09_2010.csv (42 rows)\n",
            "\n",
            "Combining 1_10_2010 with 3 continuation(s)...\n",
            "  Removed: 2_10_2010.csv\n",
            "  Removed: 3_10_2010.csv\n",
            "  Removed: 4_10_2010.csv\n",
            "  Combined table saved as: 1_10_2010.csv (233 rows)\n",
            "\n",
            "Combining 8_10_2010 with 4 continuation(s)...\n",
            "  Removed: 9_10_2010.csv\n",
            "  Removed: 10_10_2010.csv\n",
            "  Removed: 11_10_2010.csv\n",
            "  Removed: 12_10_2010.csv\n",
            "  Combined table saved as: 8_10_2010.csv (208 rows)\n",
            "\n",
            "Combining 2_11_2010 with 1 continuation(s)...\n",
            "  Removed: 3_11_2010.csv\n",
            "  Combined table saved as: 2_11_2010.csv (40 rows)\n",
            "\n",
            "Combining 4_12_2010 with 1 continuation(s)...\n",
            "  Removed: 5_12_2010.csv\n",
            "  Combined table saved as: 4_12_2010.csv (194 rows)\n",
            "\n",
            "Combining 6_12_2010 with 2 continuation(s)...\n",
            "  Removed: 7_12_2010.csv\n",
            "  Removed: 8_12_2010.csv\n",
            "  Combined table saved as: 6_12_2010.csv (83 rows)\n",
            "\n",
            "Combining 16_12_2010 with 1 continuation(s)...\n",
            "  Removed: 17_12_2010.csv\n",
            "  Combined table saved as: 16_12_2010.csv (55 rows)\n",
            "\n",
            "Combining 39_12_2010 with 1 continuation(s)...\n",
            "  Removed: 40_12_2010.csv\n",
            "  Combined table saved as: 39_12_2010.csv (24 rows)\n",
            "\n",
            "Combining 7_13_2010 with 5 continuation(s)...\n",
            "  Removed: 8_13_2010.csv\n",
            "  Removed: 9_13_2010.csv\n",
            "  Removed: 10_13_2010.csv\n",
            "  Removed: 11_13_2010.csv\n",
            "  Removed: 12_13_2010.csv\n",
            "  Combined table saved as: 7_13_2010.csv (234 rows)\n",
            "\n",
            "Combining 13_13_2010 with 1 continuation(s)...\n",
            "  Removed: 14_13_2010.csv\n",
            "  Combined table saved as: 13_13_2010.csv (42 rows)\n",
            "\n",
            "Combining 22_13_2010 with 2 continuation(s)...\n",
            "  Removed: 23_13_2010.csv\n",
            "  Removed: 24_13_2010.csv\n",
            "  Combined table saved as: 22_13_2010.csv (186 rows)\n",
            "\n",
            "Combining 28_13_2010 with 1 continuation(s)...\n",
            "  Removed: 29_13_2010.csv\n",
            "  Combined table saved as: 28_13_2010.csv (43 rows)\n",
            "\n",
            "Combining 6_14_2010 with 1 continuation(s)...\n",
            "  Removed: 7_14_2010.csv\n",
            "  Combined table saved as: 6_14_2010.csv (237 rows)\n",
            "\n",
            "Combining 25_14_2010 with 1 continuation(s)...\n",
            "  Removed: 26_14_2010.csv\n",
            "  Combined table saved as: 25_14_2010.csv (64 rows)\n",
            "\n",
            "Combining 4_01_2011 with 1 continuation(s)...\n",
            "  Removed: 5_01_2011.csv\n",
            "  Combined table saved as: 4_01_2011.csv (33 rows)\n",
            "\n",
            "Combining 6_01_2011 with 2 continuation(s)...\n",
            "  Removed: 7_01_2011.csv\n",
            "  Removed: 8_01_2011.csv\n",
            "  Combined table saved as: 6_01_2011.csv (194 rows)\n",
            "\n",
            "Combining 10_01_2011 with 1 continuation(s)...\n",
            "  Removed: 11_01_2011.csv\n",
            "  Combined table saved as: 10_01_2011.csv (129 rows)\n",
            "\n",
            "Combining 2_02_2011 with 1 continuation(s)...\n",
            "  Removed: 3_02_2011.csv\n",
            "  Combined table saved as: 2_02_2011.csv (53 rows)\n",
            "\n",
            "Combining 9_02_2011 with 1 continuation(s)...\n",
            "  Removed: 10_02_2011.csv\n",
            "  Combined table saved as: 9_02_2011.csv (123 rows)\n",
            "\n",
            "Combining 4_03_2011 with 3 continuation(s)...\n",
            "  Removed: 5_03_2011.csv\n",
            "  Removed: 6_03_2011.csv\n",
            "  Removed: 7_03_2011.csv\n",
            "  Combined table saved as: 4_03_2011.csv (193 rows)\n",
            "\n",
            "Combining 11_03_2011 with 1 continuation(s)...\n",
            "  Removed: 12_03_2011.csv\n",
            "  Combined table saved as: 11_03_2011.csv (40 rows)\n",
            "\n",
            "Combining 20_03_2011 with 1 continuation(s)...\n",
            "  Removed: 21_03_2011.csv\n",
            "  Combined table saved as: 20_03_2011.csv (42 rows)\n",
            "\n",
            "Combining 1_05_2011 with 1 continuation(s)...\n",
            "  Removed: 2_05_2011.csv\n",
            "  Combined table saved as: 1_05_2011.csv (39 rows)\n",
            "\n",
            "Combining 8_05_2011 with 3 continuation(s)...\n",
            "  Removed: 9_05_2011.csv\n",
            "  Removed: 10_05_2011.csv\n",
            "  Removed: 11_05_2011.csv\n",
            "  Combined table saved as: 8_05_2011.csv (148 rows)\n",
            "\n",
            "Combining 36_05_2011 with 3 continuation(s)...\n",
            "  Removed: 37_05_2011.csv\n",
            "  Removed: 38_05_2011.csv\n",
            "  Removed: 39_05_2011.csv\n",
            "  Combined table saved as: 36_05_2011.csv (137 rows)\n",
            "\n",
            "Combining 40_05_2011 with 1 continuation(s)...\n",
            "  Removed: 41_05_2011.csv\n",
            "  Combined table saved as: 40_05_2011.csv (48 rows)\n",
            "\n",
            "Combining 42_05_2011 with 1 continuation(s)...\n",
            "  Removed: 43_05_2011.csv\n",
            "  Combined table saved as: 42_05_2011.csv (134 rows)\n",
            "\n",
            "Combining 1_06_2011 with 1 continuation(s)...\n",
            "  Removed: 2_06_2011.csv\n",
            "  Combined table saved as: 1_06_2011.csv (44 rows)\n",
            "\n",
            "Combining 3_06_2011 with 1 continuation(s)...\n",
            "  Removed: 4_06_2011.csv\n",
            "  Combined table saved as: 3_06_2011.csv (38 rows)\n",
            "\n",
            "Combining 1_07_2011 with 1 continuation(s)...\n",
            "  Removed: 2_07_2011.csv\n",
            "  Combined table saved as: 1_07_2011.csv (42 rows)\n",
            "\n",
            "Combining 9_07_2011 with 1 continuation(s)...\n",
            "  Removed: 10_07_2011.csv\n",
            "  Combined table saved as: 9_07_2011.csv (198 rows)\n",
            "\n",
            "Combining 24_07_2011 with 3 continuation(s)...\n",
            "  Removed: 25_07_2011.csv\n",
            "  Removed: 26_07_2011.csv\n",
            "  Removed: 27_07_2011.csv\n",
            "  Combined table saved as: 24_07_2011.csv (144 rows)\n",
            "\n",
            "Combining 5_08_2011 with 1 continuation(s)...\n",
            "  Removed: 6_08_2011.csv\n",
            "  Combined table saved as: 5_08_2011.csv (51 rows)\n",
            "\n",
            "Combining 16_08_2011 with 2 continuation(s)...\n",
            "  Removed: 17_08_2011.csv\n",
            "  Removed: 18_08_2011.csv\n",
            "  Combined table saved as: 16_08_2011.csv (47 rows)\n",
            "\n",
            "Combining 25_08_2011 with 1 continuation(s)...\n",
            "  Removed: 26_08_2011.csv\n",
            "  Combined table saved as: 25_08_2011.csv (38 rows)\n",
            "\n",
            "Combining 31_08_2011 with 1 continuation(s)...\n",
            "  Removed: 32_08_2011.csv\n",
            "  Combined table saved as: 31_08_2011.csv (84 rows)\n",
            "\n",
            "Combining 1_09_2011 with 1 continuation(s)...\n",
            "  Removed: 2_09_2011.csv\n",
            "  Combined table saved as: 1_09_2011.csv (44 rows)\n",
            "\n",
            "Combining 9_09_2011 with 1 continuation(s)...\n",
            "  Removed: 10_09_2011.csv\n",
            "  Combined table saved as: 9_09_2011.csv (39 rows)\n",
            "\n",
            "Combining 17_09_2011 with 1 continuation(s)...\n",
            "  Removed: 18_09_2011.csv\n",
            "  Combined table saved as: 17_09_2011.csv (42 rows)\n",
            "\n",
            "Combining 1_10_2011 with 3 continuation(s)...\n",
            "  Removed: 2_10_2011.csv\n",
            "  Removed: 3_10_2011.csv\n",
            "  Removed: 4_10_2011.csv\n",
            "  Combined table saved as: 1_10_2011.csv (233 rows)\n",
            "\n",
            "Combining 12_10_2011 with 3 continuation(s)...\n",
            "  Removed: 13_10_2011.csv\n",
            "  Removed: 14_10_2011.csv\n",
            "  Removed: 15_10_2011.csv\n",
            "  Combined table saved as: 12_10_2011.csv (208 rows)\n",
            "\n",
            "Combining 22_10_2011 with 1 continuation(s)...\n",
            "  Removed: 23_10_2011.csv\n",
            "  Combined table saved as: 22_10_2011.csv (33 rows)\n",
            "\n",
            "Combining 4_12_2011 with 1 continuation(s)...\n",
            "  Removed: 5_12_2011.csv\n",
            "  Combined table saved as: 4_12_2011.csv (194 rows)\n",
            "\n",
            "Combining 6_12_2011 with 1 continuation(s)...\n",
            "  Removed: 7_12_2011.csv\n",
            "  Combined table saved as: 6_12_2011.csv (194 rows)\n",
            "\n",
            "Combining 8_12_2011 with 2 continuation(s)...\n",
            "  Removed: 9_12_2011.csv\n",
            "  Removed: 10_12_2011.csv\n",
            "  Combined table saved as: 8_12_2011.csv (82 rows)\n",
            "\n",
            "Combining 11_12_2011 with 2 continuation(s)...\n",
            "  Removed: 12_12_2011.csv\n",
            "  Removed: 13_12_2011.csv\n",
            "  Combined table saved as: 11_12_2011.csv (105 rows)\n",
            "\n",
            "Combining 46_12_2011 with 1 continuation(s)...\n",
            "  Removed: 47_12_2011.csv\n",
            "  Combined table saved as: 46_12_2011.csv (22 rows)\n",
            "\n",
            "Combining 8_13_2011 with 1 continuation(s)...\n",
            "  Removed: 9_13_2011.csv\n",
            "  Combined table saved as: 8_13_2011.csv (85 rows)\n",
            "\n",
            "Combining 11_13_2011 with 1 continuation(s)...\n",
            "  Removed: 12_13_2011.csv\n",
            "  Combined table saved as: 11_13_2011.csv (36 rows)\n",
            "\n",
            "Combining 6_14_2011 with 2 continuation(s)...\n",
            "  Removed: 7_14_2011.csv\n",
            "  Removed: 8_14_2011.csv\n",
            "  Combined table saved as: 6_14_2011.csv (247 rows)\n",
            "\n",
            "Combining 14_14_2011 with 1 continuation(s)...\n",
            "  Removed: 15_14_2011.csv\n",
            "  Combined table saved as: 14_14_2011.csv (40 rows)\n",
            "\n",
            "Combining 16_14_2011 with 1 continuation(s)...\n",
            "  Removed: 17_14_2011.csv\n",
            "  Combined table saved as: 16_14_2011.csv (30 rows)\n",
            "\n",
            "Combining 4_01_2012 with 1 continuation(s)...\n",
            "  Removed: 5_01_2012.csv\n",
            "  Combined table saved as: 4_01_2012.csv (32 rows)\n",
            "\n",
            "Combining 6_01_2012 with 2 continuation(s)...\n",
            "  Removed: 7_01_2012.csv\n",
            "  Removed: 8_01_2012.csv\n",
            "  Combined table saved as: 6_01_2012.csv (87 rows)\n",
            "\n",
            "Combining 10_01_2012 with 1 continuation(s)...\n",
            "  Removed: 11_01_2012.csv\n",
            "  Combined table saved as: 10_01_2012.csv (70 rows)\n",
            "\n",
            "Combining 7_02_2012 with 1 continuation(s)...\n",
            "  Removed: 8_02_2012.csv\n",
            "  Combined table saved as: 7_02_2012.csv (121 rows)\n",
            "\n",
            "Combining 4_03_2012 with 3 continuation(s)...\n",
            "  Removed: 5_03_2012.csv\n",
            "  Removed: 6_03_2012.csv\n",
            "  Removed: 7_03_2012.csv\n",
            "  Combined table saved as: 4_03_2012.csv (196 rows)\n",
            "\n",
            "Combining 11_03_2012 with 1 continuation(s)...\n",
            "  Removed: 12_03_2012.csv\n",
            "  Combined table saved as: 11_03_2012.csv (40 rows)\n",
            "\n",
            "Combining 1_04_2012 with 1 continuation(s)...\n",
            "  Removed: 2_04_2012.csv\n",
            "  Combined table saved as: 1_04_2012.csv (39 rows)\n",
            "\n",
            "Combining 1_05_2012 with 1 continuation(s)...\n",
            "  Removed: 2_05_2012.csv\n",
            "  Combined table saved as: 1_05_2012.csv (39 rows)\n",
            "\n",
            "Combining 5_05_2012 with 2 continuation(s)...\n",
            "  Removed: 6_05_2012.csv\n",
            "  Removed: 7_05_2012.csv\n",
            "  Combined table saved as: 5_05_2012.csv (149 rows)\n",
            "\n",
            "Combining 8_05_2012 with 1 continuation(s)...\n",
            "  Removed: 9_05_2012.csv\n",
            "  Combined table saved as: 8_05_2012.csv (43 rows)\n",
            "\n",
            "Combining 12_05_2012 with 1 continuation(s)...\n",
            "  Removed: 13_05_2012.csv\n",
            "  Combined table saved as: 12_05_2012.csv (88 rows)\n",
            "\n",
            "Combining 48_05_2012 with 1 continuation(s)...\n",
            "  Removed: 49_05_2012.csv\n",
            "  Combined table saved as: 48_05_2012.csv (50 rows)\n",
            "\n",
            "Combining 50_05_2012 with 4 continuation(s)...\n",
            "  Removed: 51_05_2012.csv\n",
            "  Removed: 52_05_2012.csv\n",
            "  Removed: 53_05_2012.csv\n",
            "  Removed: 54_05_2012.csv\n",
            "  Combined table saved as: 50_05_2012.csv (127 rows)\n",
            "\n",
            "Combining 1_07_2012 with 1 continuation(s)...\n",
            "  Removed: 2_07_2012.csv\n",
            "  Combined table saved as: 1_07_2012.csv (128 rows)\n",
            "\n",
            "Combining 4_07_2012 with 2 continuation(s)...\n",
            "  Removed: 5_07_2012.csv\n",
            "  Removed: 6_07_2012.csv\n",
            "  Combined table saved as: 4_07_2012.csv (198 rows)\n",
            "\n",
            "Combining 15_07_2012 with 2 continuation(s)...\n",
            "  Removed: 16_07_2012.csv\n",
            "  Removed: 17_07_2012.csv\n",
            "  Combined table saved as: 15_07_2012.csv (194 rows)\n",
            "\n",
            "Combining 29_07_2012 with 1 continuation(s)...\n",
            "  Removed: 30_07_2012.csv\n",
            "  Combined table saved as: 29_07_2012.csv (27 rows)\n",
            "\n",
            "Combining 31_07_2012 with 4 continuation(s)...\n",
            "  Removed: 32_07_2012.csv\n",
            "  Removed: 33_07_2012.csv\n",
            "  Removed: 34_07_2012.csv\n",
            "  Removed: 35_07_2012.csv\n",
            "  Combined table saved as: 31_07_2012.csv (143 rows)\n",
            "\n",
            "Combining 15_08_2012 with 1 continuation(s)...\n",
            "  Removed: 16_08_2012.csv\n",
            "  Combined table saved as: 15_08_2012.csv (34 rows)\n",
            "\n",
            "Combining 17_08_2012 with 1 continuation(s)...\n",
            "  Removed: 18_08_2012.csv\n",
            "  Combined table saved as: 17_08_2012.csv (34 rows)\n",
            "\n",
            "Combining 19_08_2012 with 3 continuation(s)...\n",
            "  Removed: 20_08_2012.csv\n",
            "  Removed: 21_08_2012.csv\n",
            "  Removed: 22_08_2012.csv\n",
            "  Combined table saved as: 19_08_2012.csv (196 rows)\n",
            "\n",
            "Combining 28_08_2012 with 1 continuation(s)...\n",
            "  Removed: 29_08_2012.csv\n",
            "  Combined table saved as: 28_08_2012.csv (38 rows)\n",
            "\n",
            "Combining 1_09_2012 with 1 continuation(s)...\n",
            "  Removed: 2_09_2012.csv\n",
            "  Combined table saved as: 1_09_2012.csv (43 rows)\n",
            "\n",
            "Combining 4_09_2012 with 4 continuation(s)...\n",
            "  Removed: 5_09_2012.csv\n",
            "  Removed: 6_09_2012.csv\n",
            "  Removed: 7_09_2012.csv\n",
            "  Removed: 8_09_2012.csv\n",
            "  Combined table saved as: 4_09_2012.csv (193 rows)\n",
            "\n",
            "Combining 9_09_2012 with 3 continuation(s)...\n",
            "  Removed: 10_09_2012.csv\n",
            "  Removed: 11_09_2012.csv\n",
            "  Removed: 12_09_2012.csv\n",
            "  Combined table saved as: 9_09_2012.csv (187 rows)\n",
            "\n",
            "Combining 18_09_2012 with 1 continuation(s)...\n",
            "  Removed: 19_09_2012.csv\n",
            "  Combined table saved as: 18_09_2012.csv (39 rows)\n",
            "\n",
            "Combining 26_09_2012 with 1 continuation(s)...\n",
            "  Removed: 27_09_2012.csv\n",
            "  Combined table saved as: 26_09_2012.csv (41 rows)\n",
            "\n",
            "Combining 1_10_2012 with 3 continuation(s)...\n",
            "  Removed: 2_10_2012.csv\n",
            "  Removed: 3_10_2012.csv\n",
            "  Removed: 4_10_2012.csv\n",
            "  Combined table saved as: 1_10_2012.csv (233 rows)\n",
            "\n",
            "Combining 10_10_2012 with 3 continuation(s)...\n",
            "  Removed: 11_10_2012.csv\n",
            "  Removed: 12_10_2012.csv\n",
            "  Removed: 13_10_2012.csv\n",
            "  Combined table saved as: 10_10_2012.csv (210 rows)\n",
            "\n",
            "Combining 2_11_2012 with 1 continuation(s)...\n",
            "  Removed: 3_11_2012.csv\n",
            "  Combined table saved as: 2_11_2012.csv (41 rows)\n",
            "\n",
            "Combining 4_12_2012 with 3 continuation(s)...\n",
            "  Removed: 5_12_2012.csv\n",
            "  Removed: 6_12_2012.csv\n",
            "  Removed: 7_12_2012.csv\n",
            "  Combined table saved as: 4_12_2012.csv (193 rows)\n",
            "\n",
            "Combining 10_12_2012 with 3 continuation(s)...\n",
            "  Removed: 11_12_2012.csv\n",
            "  Removed: 12_12_2012.csv\n",
            "  Removed: 13_12_2012.csv\n",
            "  Combined table saved as: 10_12_2012.csv (199 rows)\n",
            "\n",
            "Combining 14_12_2012 with 2 continuation(s)...\n",
            "  Removed: 15_12_2012.csv\n",
            "  Removed: 16_12_2012.csv\n",
            "  Combined table saved as: 14_12_2012.csv (78 rows)\n",
            "\n",
            "Combining 17_12_2012 with 3 continuation(s)...\n",
            "  Removed: 18_12_2012.csv\n",
            "  Removed: 19_12_2012.csv\n",
            "  Removed: 20_12_2012.csv\n",
            "  Combined table saved as: 17_12_2012.csv (141 rows)\n",
            "\n",
            "Combining 21_12_2012 with 1 continuation(s)...\n",
            "  Removed: 22_12_2012.csv\n",
            "  Combined table saved as: 21_12_2012.csv (106 rows)\n",
            "\n",
            "Combining 27_12_2012 with 1 continuation(s)...\n",
            "  Removed: 28_12_2012.csv\n",
            "  Combined table saved as: 27_12_2012.csv (39 rows)\n",
            "\n",
            "Combining 31_12_2012 with 1 continuation(s)...\n",
            "  Removed: 32_12_2012.csv\n",
            "  Combined table saved as: 31_12_2012.csv (56 rows)\n",
            "\n",
            "Combining 47_12_2012 with 1 continuation(s)...\n",
            "  Removed: 48_12_2012.csv\n",
            "  Combined table saved as: 47_12_2012.csv (38 rows)\n",
            "\n",
            "Combining 54_12_2012 with 1 continuation(s)...\n",
            "  Removed: 55_12_2012.csv\n",
            "  Combined table saved as: 54_12_2012.csv (22 rows)\n",
            "\n",
            "Combining 8_13_2012 with 2 continuation(s)...\n",
            "  Removed: 9_13_2012.csv\n",
            "  Removed: 10_13_2012.csv\n",
            "  Combined table saved as: 8_13_2012.csv (84 rows)\n",
            "\n",
            "Combining 12_13_2012 with 1 continuation(s)...\n",
            "  Removed: 13_13_2012.csv\n",
            "  Combined table saved as: 12_13_2012.csv (39 rows)\n",
            "\n",
            "Combining 18_13_2012 with 1 continuation(s)...\n",
            "  Removed: 19_13_2012.csv\n",
            "  Combined table saved as: 18_13_2012.csv (38 rows)\n",
            "\n",
            "Combining 22_13_2012 with 3 continuation(s)...\n",
            "  Removed: 23_13_2012.csv\n",
            "  Removed: 24_13_2012.csv\n",
            "  Removed: 25_13_2012.csv\n",
            "  Combined table saved as: 22_13_2012.csv (185 rows)\n",
            "\n",
            "Combining 29_13_2012 with 1 continuation(s)...\n",
            "  Removed: 30_13_2012.csv\n",
            "  Combined table saved as: 29_13_2012.csv (42 rows)\n",
            "\n",
            "Combining 5_14_2012 with 4 continuation(s)...\n",
            "  Removed: 6_14_2012.csv\n",
            "  Removed: 7_14_2012.csv\n",
            "  Removed: 8_14_2012.csv\n",
            "  Removed: 9_14_2012.csv\n",
            "  Combined table saved as: 5_14_2012.csv (193 rows)\n",
            "\n",
            "Combining 19_14_2012 with 1 continuation(s)...\n",
            "  Removed: 20_14_2012.csv\n",
            "  Combined table saved as: 19_14_2012.csv (32 rows)\n",
            "\n",
            "Combining 33_14_2012 with 1 continuation(s)...\n",
            "  Removed: 34_14_2012.csv\n",
            "  Combined table saved as: 33_14_2012.csv (39 rows)\n",
            "\n",
            "Combining 7_02_2013 with 1 continuation(s)...\n",
            "  Removed: 8_02_2013.csv\n",
            "  Combined table saved as: 7_02_2013.csv (122 rows)\n",
            "\n",
            "Combining 4_03_2013 with 1 continuation(s)...\n",
            "  Removed: 5_03_2013.csv\n",
            "  Combined table saved as: 4_03_2013.csv (198 rows)\n",
            "\n",
            "Combining 9_03_2013 with 1 continuation(s)...\n",
            "  Removed: 10_03_2013.csv\n",
            "  Combined table saved as: 9_03_2013.csv (42 rows)\n",
            "\n",
            "Combining 1_04_2013 with 1 continuation(s)...\n",
            "  Removed: 2_04_2013.csv\n",
            "  Combined table saved as: 1_04_2013.csv (39 rows)\n",
            "\n",
            "Combining 1_05_2013 with 1 continuation(s)...\n",
            "  Removed: 2_05_2013.csv\n",
            "  Combined table saved as: 1_05_2013.csv (39 rows)\n",
            "\n",
            "Combining 6_05_2013 with 1 continuation(s)...\n",
            "  Removed: 7_05_2013.csv\n",
            "  Combined table saved as: 6_05_2013.csv (143 rows)\n",
            "\n",
            "Combining 8_05_2013 with 1 continuation(s)...\n",
            "  Removed: 9_05_2013.csv\n",
            "  Combined table saved as: 8_05_2013.csv (42 rows)\n",
            "\n",
            "Combining 22_05_2013 with 3 continuation(s)...\n",
            "  Removed: 23_05_2013.csv\n",
            "  Removed: 24_05_2013.csv\n",
            "  Removed: 25_05_2013.csv\n",
            "  Combined table saved as: 22_05_2013.csv (144 rows)\n",
            "\n",
            "Combining 31_05_2013 with 4 continuation(s)...\n",
            "  Removed: 32_05_2013.csv\n",
            "  Removed: 33_05_2013.csv\n",
            "  Removed: 34_05_2013.csv\n",
            "  Removed: 35_05_2013.csv\n",
            "  Combined table saved as: 31_05_2013.csv (137 rows)\n",
            "\n",
            "Combining 36_05_2013 with 1 continuation(s)...\n",
            "  Removed: 37_05_2013.csv\n",
            "  Combined table saved as: 36_05_2013.csv (48 rows)\n",
            "\n",
            "Combining 38_05_2013 with 4 continuation(s)...\n",
            "  Removed: 39_05_2013.csv\n",
            "  Removed: 40_05_2013.csv\n",
            "  Removed: 41_05_2013.csv\n",
            "  Removed: 42_05_2013.csv\n",
            "  Combined table saved as: 38_05_2013.csv (126 rows)\n",
            "\n",
            "Combining 20_06_2013 with 1 continuation(s)...\n",
            "  Removed: 21_06_2013.csv\n",
            "  Combined table saved as: 20_06_2013.csv (49 rows)\n",
            "\n",
            "Combining 1_07_2013 with 1 continuation(s)...\n",
            "  Removed: 2_07_2013.csv\n",
            "  Combined table saved as: 1_07_2013.csv (83 rows)\n",
            "\n",
            "Combining 4_07_2013 with 3 continuation(s)...\n",
            "  Removed: 5_07_2013.csv\n",
            "  Removed: 6_07_2013.csv\n",
            "  Removed: 7_07_2013.csv\n",
            "  Combined table saved as: 4_07_2013.csv (195 rows)\n",
            "\n",
            "Combining 11_07_2013 with 2 continuation(s)...\n",
            "  Removed: 12_07_2013.csv\n",
            "  Removed: 13_07_2013.csv\n",
            "  Combined table saved as: 11_07_2013.csv (194 rows)\n",
            "\n",
            "Combining 22_07_2013 with 1 continuation(s)...\n",
            "  Removed: 23_07_2013.csv\n",
            "  Combined table saved as: 22_07_2013.csv (27 rows)\n",
            "\n",
            "Combining 19_08_2013 with 1 continuation(s)...\n",
            "  Removed: 20_08_2013.csv\n",
            "  Combined table saved as: 19_08_2013.csv (34 rows)\n",
            "\n",
            "Combining 21_08_2013 with 1 continuation(s)...\n",
            "  Removed: 22_08_2013.csv\n",
            "  Combined table saved as: 21_08_2013.csv (34 rows)\n",
            "\n",
            "Combining 23_08_2013 with 4 continuation(s)...\n",
            "  Removed: 24_08_2013.csv\n",
            "  Removed: 25_08_2013.csv\n",
            "  Removed: 26_08_2013.csv\n",
            "  Removed: 27_08_2013.csv\n",
            "  Combined table saved as: 23_08_2013.csv (198 rows)\n",
            "\n",
            "Combining 1_09_2013 with 1 continuation(s)...\n",
            "  Removed: 2_09_2013.csv\n",
            "  Combined table saved as: 1_09_2013.csv (43 rows)\n",
            "\n",
            "Combining 15_09_2013 with 1 continuation(s)...\n",
            "  Removed: 16_09_2013.csv\n",
            "  Combined table saved as: 15_09_2013.csv (46 rows)\n",
            "\n",
            "Combining 1_10_2013 with 6 continuation(s)...\n",
            "  Removed: 2_10_2013.csv\n",
            "  Removed: 3_10_2013.csv\n",
            "  Removed: 4_10_2013.csv\n",
            "  Removed: 5_10_2013.csv\n",
            "  Removed: 6_10_2013.csv\n",
            "  Removed: 7_10_2013.csv\n",
            "  Combined table saved as: 1_10_2013.csv (290 rows)\n",
            "\n",
            "Combining 13_10_2013 with 3 continuation(s)...\n",
            "  Removed: 14_10_2013.csv\n",
            "  Removed: 15_10_2013.csv\n",
            "  Removed: 16_10_2013.csv\n",
            "  Combined table saved as: 13_10_2013.csv (211 rows)\n",
            "\n",
            "Combining 2_11_2013 with 1 continuation(s)...\n",
            "  Removed: 3_11_2013.csv\n",
            "  Combined table saved as: 2_11_2013.csv (42 rows)\n",
            "\n",
            "Combining 4_12_2013 with 1 continuation(s)...\n",
            "  Removed: 5_12_2013.csv\n",
            "  Combined table saved as: 4_12_2013.csv (199 rows)\n",
            "\n",
            "Combining 9_12_2013 with 1 continuation(s)...\n",
            "  Removed: 10_12_2013.csv\n",
            "  Combined table saved as: 9_12_2013.csv (142 rows)\n",
            "\n",
            "Combining 11_12_2013 with 1 continuation(s)...\n",
            "  Removed: 12_12_2013.csv\n",
            "  Combined table saved as: 11_12_2013.csv (106 rows)\n",
            "\n",
            "Combining 16_12_2013 with 1 continuation(s)...\n",
            "  Removed: 17_12_2013.csv\n",
            "  Combined table saved as: 16_12_2013.csv (54 rows)\n",
            "\n",
            "Combining 30_12_2013 with 1 continuation(s)...\n",
            "  Removed: 31_12_2013.csv\n",
            "  Combined table saved as: 30_12_2013.csv (38 rows)\n",
            "\n",
            "Combining 32_12_2013 with 1 continuation(s)...\n",
            "  Removed: 33_12_2013.csv\n",
            "  Combined table saved as: 32_12_2013.csv (38 rows)\n",
            "\n",
            "Combining 38_12_2013 with 1 continuation(s)...\n",
            "  Removed: 39_12_2013.csv\n",
            "  Combined table saved as: 38_12_2013.csv (22 rows)\n",
            "\n",
            "Combining 8_13_2013 with 1 continuation(s)...\n",
            "  Removed: 9_13_2013.csv\n",
            "  Combined table saved as: 8_13_2013.csv (87 rows)\n",
            "\n",
            "Combining 11_13_2013 with 1 continuation(s)...\n",
            "  Removed: 12_13_2013.csv\n",
            "  Combined table saved as: 11_13_2013.csv (40 rows)\n",
            "\n",
            "Combining 19_13_2013 with 1 continuation(s)...\n",
            "  Removed: 20_13_2013.csv\n",
            "  Combined table saved as: 19_13_2013.csv (43 rows)\n",
            "\n",
            "Combining 22_13_2013 with 3 continuation(s)...\n",
            "  Removed: 23_13_2013.csv\n",
            "  Removed: 24_13_2013.csv\n",
            "  Removed: 25_13_2013.csv\n",
            "  Combined table saved as: 22_13_2013.csv (178 rows)\n",
            "\n",
            "Combining 4_14_2013 with 3 continuation(s)...\n",
            "  Removed: 5_14_2013.csv\n",
            "  Removed: 6_14_2013.csv\n",
            "  Removed: 7_14_2013.csv\n",
            "  Combined table saved as: 4_14_2013.csv (198 rows)\n",
            "\n",
            "Combining 15_14_2013 with 4 continuation(s)...\n",
            "  Removed: 16_14_2013.csv\n",
            "  Removed: 17_14_2013.csv\n",
            "  Removed: 18_14_2013.csv\n",
            "  Removed: 19_14_2013.csv\n",
            "  Combined table saved as: 15_14_2013.csv (245 rows)\n",
            "\n",
            "Combining 22_14_2013 with 1 continuation(s)...\n",
            "  Removed: 23_14_2013.csv\n",
            "  Combined table saved as: 22_14_2013.csv (42 rows)\n",
            "\n",
            "Combining 25_14_2013 with 1 continuation(s)...\n",
            "  Removed: 26_14_2013.csv\n",
            "  Combined table saved as: 25_14_2013.csv (33 rows)\n",
            "\n",
            "Combining 36_14_2013 with 1 continuation(s)...\n",
            "  Removed: 37_14_2013.csv\n",
            "  Combined table saved as: 36_14_2013.csv (37 rows)\n",
            "\n",
            "Combining 57_14_2013 with 1 continuation(s)...\n",
            "  Removed: 58_14_2013.csv\n",
            "  Combined table saved as: 57_14_2013.csv (34 rows)\n",
            "\n",
            "Combining 4_01_2014 with 1 continuation(s)...\n",
            "  Removed: 5_01_2014.csv\n",
            "  Combined table saved as: 4_01_2014.csv (32 rows)\n",
            "\n",
            "Combining 6_01_2014 with 3 continuation(s)...\n",
            "  Removed: 7_01_2014.csv\n",
            "  Removed: 8_01_2014.csv\n",
            "  Removed: 9_01_2014.csv\n",
            "  Combined table saved as: 6_01_2014.csv (197 rows)\n",
            "\n",
            "Combining 7_02_2014 with 2 continuation(s)...\n",
            "  Removed: 8_02_2014.csv\n",
            "  Removed: 9_02_2014.csv\n",
            "  Combined table saved as: 7_02_2014.csv (122 rows)\n",
            "\n",
            "Combining 4_03_2014 with 4 continuation(s)...\n",
            "  Removed: 5_03_2014.csv\n",
            "  Removed: 6_03_2014.csv\n",
            "  Removed: 7_03_2014.csv\n",
            "  Removed: 8_03_2014.csv\n",
            "  Combined table saved as: 4_03_2014.csv (196 rows)\n",
            "\n",
            "Combining 12_03_2014 with 1 continuation(s)...\n",
            "  Removed: 13_03_2014.csv\n",
            "  Combined table saved as: 12_03_2014.csv (42 rows)\n",
            "\n",
            "Combining 2_04_2014 with 1 continuation(s)...\n",
            "  Removed: 3_04_2014.csv\n",
            "  Combined table saved as: 2_04_2014.csv (40 rows)\n",
            "\n",
            "Combining 1_05_2014 with 1 continuation(s)...\n",
            "  Removed: 2_05_2014.csv\n",
            "  Combined table saved as: 1_05_2014.csv (39 rows)\n",
            "\n",
            "Combining 6_05_2014 with 3 continuation(s)...\n",
            "  Removed: 7_05_2014.csv\n",
            "  Removed: 8_05_2014.csv\n",
            "  Removed: 9_05_2014.csv\n",
            "  Combined table saved as: 6_05_2014.csv (141 rows)\n",
            "\n",
            "Combining 10_05_2014 with 1 continuation(s)...\n",
            "  Removed: 11_05_2014.csv\n",
            "  Combined table saved as: 10_05_2014.csv (46 rows)\n",
            "\n",
            "Combining 14_05_2014 with 3 continuation(s)...\n",
            "  Removed: 15_05_2014.csv\n",
            "  Removed: 16_05_2014.csv\n",
            "  Removed: 17_05_2014.csv\n",
            "  Combined table saved as: 14_05_2014.csv (97 rows)\n",
            "\n",
            "Combining 32_05_2014 with 4 continuation(s)...\n",
            "  Removed: 33_05_2014.csv\n",
            "  Removed: 34_05_2014.csv\n",
            "  Removed: 35_05_2014.csv\n",
            "  Removed: 36_05_2014.csv\n",
            "  Combined table saved as: 32_05_2014.csv (144 rows)\n",
            "\n",
            "Combining 39_05_2014 with 1 continuation(s)...\n",
            "  Removed: 40_05_2014.csv\n",
            "  Combined table saved as: 39_05_2014.csv (43 rows)\n",
            "\n",
            "Combining 44_05_2014 with 4 continuation(s)...\n",
            "  Removed: 45_05_2014.csv\n",
            "  Removed: 46_05_2014.csv\n",
            "  Removed: 47_05_2014.csv\n",
            "  Removed: 48_05_2014.csv\n",
            "  Combined table saved as: 44_05_2014.csv (138 rows)\n",
            "\n",
            "Combining 49_05_2014 with 1 continuation(s)...\n",
            "  Removed: 50_05_2014.csv\n",
            "  Combined table saved as: 49_05_2014.csv (51 rows)\n",
            "\n",
            "Combining 51_05_2014 with 4 continuation(s)...\n",
            "  Removed: 52_05_2014.csv\n",
            "  Removed: 53_05_2014.csv\n",
            "  Removed: 54_05_2014.csv\n",
            "  Removed: 55_05_2014.csv\n",
            "  Combined table saved as: 51_05_2014.csv (126 rows)\n",
            "\n",
            "Combining 19_06_2014 with 2 continuation(s)...\n",
            "  Removed: 20_06_2014.csv\n",
            "  Removed: 21_06_2014.csv\n",
            "  Combined table saved as: 19_06_2014.csv (71 rows)\n",
            "\n",
            "Combining 1_07_2014 with 1 continuation(s)...\n",
            "  Removed: 2_07_2014.csv\n",
            "  Combined table saved as: 1_07_2014.csv (86 rows)\n",
            "\n",
            "Combining 5_07_2014 with 4 continuation(s)...\n",
            "  Removed: 6_07_2014.csv\n",
            "  Removed: 7_07_2014.csv\n",
            "  Removed: 8_07_2014.csv\n",
            "  Removed: 9_07_2014.csv\n",
            "  Combined table saved as: 5_07_2014.csv (196 rows)\n",
            "\n",
            "Combining 10_07_2014 with 5 continuation(s)...\n",
            "  Removed: 11_07_2014.csv\n",
            "  Removed: 12_07_2014.csv\n",
            "  Removed: 13_07_2014.csv\n",
            "  Removed: 14_07_2014.csv\n",
            "  Removed: 15_07_2014.csv\n",
            "  Combined table saved as: 10_07_2014.csv (187 rows)\n",
            "\n",
            "Combining 20_07_2014 with 2 continuation(s)...\n",
            "  Removed: 21_07_2014.csv\n",
            "  Removed: 22_07_2014.csv\n",
            "  Combined table saved as: 20_07_2014.csv (195 rows)\n",
            "\n",
            "Combining 17_08_2014 with 1 continuation(s)...\n",
            "  Removed: 18_08_2014.csv\n",
            "  Combined table saved as: 17_08_2014.csv (34 rows)\n",
            "\n",
            "Combining 19_08_2014 with 1 continuation(s)...\n",
            "  Removed: 20_08_2014.csv\n",
            "  Combined table saved as: 19_08_2014.csv (34 rows)\n",
            "\n",
            "Combining 21_08_2014 with 4 continuation(s)...\n",
            "  Removed: 22_08_2014.csv\n",
            "  Removed: 23_08_2014.csv\n",
            "  Removed: 24_08_2014.csv\n",
            "  Removed: 25_08_2014.csv\n",
            "  Combined table saved as: 21_08_2014.csv (197 rows)\n",
            "\n",
            "Combining 33_08_2014 with 1 continuation(s)...\n",
            "  Removed: 34_08_2014.csv\n",
            "  Combined table saved as: 33_08_2014.csv (38 rows)\n",
            "\n",
            "Combining 1_09_2014 with 1 continuation(s)...\n",
            "  Removed: 2_09_2014.csv\n",
            "  Combined table saved as: 1_09_2014.csv (43 rows)\n",
            "\n",
            "Combining 4_09_2014 with 4 continuation(s)...\n",
            "  Removed: 5_09_2014.csv\n",
            "  Removed: 6_09_2014.csv\n",
            "  Removed: 7_09_2014.csv\n",
            "  Removed: 8_09_2014.csv\n",
            "  Combined table saved as: 4_09_2014.csv (201 rows)\n",
            "\n",
            "Combining 1_10_2014 with 7 continuation(s)...\n",
            "  Removed: 2_10_2014.csv\n",
            "  Removed: 3_10_2014.csv\n",
            "  Removed: 4_10_2014.csv\n",
            "  Removed: 5_10_2014.csv\n",
            "  Removed: 6_10_2014.csv\n",
            "  Removed: 7_10_2014.csv\n",
            "  Removed: 8_10_2014.csv\n",
            "  Combined table saved as: 1_10_2014.csv (288 rows)\n",
            "\n",
            "Combining 13_10_2014 with 4 continuation(s)...\n",
            "  Removed: 14_10_2014.csv\n",
            "  Removed: 15_10_2014.csv\n",
            "  Removed: 16_10_2014.csv\n",
            "  Removed: 17_10_2014.csv\n",
            "  Combined table saved as: 13_10_2014.csv (209 rows)\n",
            "\n",
            "Combining 2_11_2014 with 1 continuation(s)...\n",
            "  Removed: 3_11_2014.csv\n",
            "  Combined table saved as: 2_11_2014.csv (39 rows)\n",
            "\n",
            "Combining 4_12_2014 with 1 continuation(s)...\n",
            "  Removed: 5_12_2014.csv\n",
            "  Combined table saved as: 4_12_2014.csv (200 rows)\n",
            "\n",
            "Combining 8_12_2014 with 1 continuation(s)...\n",
            "  Removed: 9_12_2014.csv\n",
            "  Combined table saved as: 8_12_2014.csv (86 rows)\n",
            "\n",
            "Combining 10_12_2014 with 2 continuation(s)...\n",
            "  Removed: 11_12_2014.csv\n",
            "  Removed: 12_12_2014.csv\n",
            "  Combined table saved as: 10_12_2014.csv (140 rows)\n",
            "\n",
            "Combining 13_12_2014 with 2 continuation(s)...\n",
            "  Removed: 14_12_2014.csv\n",
            "  Removed: 15_12_2014.csv\n",
            "  Combined table saved as: 13_12_2014.csv (115 rows)\n",
            "\n",
            "Combining 18_12_2014 with 1 continuation(s)...\n",
            "  Removed: 19_12_2014.csv\n",
            "  Combined table saved as: 18_12_2014.csv (57 rows)\n",
            "\n",
            "Combining 32_12_2014 with 1 continuation(s)...\n",
            "  Removed: 33_12_2014.csv\n",
            "  Combined table saved as: 32_12_2014.csv (38 rows)\n",
            "\n",
            "Combining 34_12_2014 with 1 continuation(s)...\n",
            "  Removed: 35_12_2014.csv\n",
            "  Combined table saved as: 34_12_2014.csv (37 rows)\n",
            "\n",
            "Combining 8_13_2014 with 2 continuation(s)...\n",
            "  Removed: 9_13_2014.csv\n",
            "  Removed: 10_13_2014.csv\n",
            "  Combined table saved as: 8_13_2014.csv (86 rows)\n",
            "\n",
            "Combining 14_13_2014 with 1 continuation(s)...\n",
            "  Removed: 15_13_2014.csv\n",
            "  Combined table saved as: 14_13_2014.csv (42 rows)\n",
            "\n",
            "Combining 21_13_2014 with 1 continuation(s)...\n",
            "  Removed: 22_13_2014.csv\n",
            "  Combined table saved as: 21_13_2014.csv (43 rows)\n",
            "\n",
            "Combining 24_13_2014 with 3 continuation(s)...\n",
            "  Removed: 25_13_2014.csv\n",
            "  Removed: 26_13_2014.csv\n",
            "  Removed: 27_13_2014.csv\n",
            "  Combined table saved as: 24_13_2014.csv (185 rows)\n",
            "\n",
            "Combining 30_13_2014 with 1 continuation(s)...\n",
            "  Removed: 31_13_2014.csv\n",
            "  Combined table saved as: 30_13_2014.csv (39 rows)\n",
            "\n",
            "Combining 9_14_2014 with 1 continuation(s)...\n",
            "  Removed: 10_14_2014.csv\n",
            "  Combined table saved as: 9_14_2014.csv (41 rows)\n",
            "\n",
            "Combining 4_01_2015 with 1 continuation(s)...\n",
            "  Removed: 5_01_2015.csv\n",
            "  Combined table saved as: 4_01_2015.csv (32 rows)\n",
            "\n",
            "Combining 6_01_2015 with 2 continuation(s)...\n",
            "  Removed: 7_01_2015.csv\n",
            "  Removed: 8_01_2015.csv\n",
            "  Combined table saved as: 6_01_2015.csv (198 rows)\n",
            "\n",
            "Combining 7_02_2015 with 2 continuation(s)...\n",
            "  Removed: 8_02_2015.csv\n",
            "  Removed: 9_02_2015.csv\n",
            "  Combined table saved as: 7_02_2015.csv (131 rows)\n",
            "\n",
            "Combining 3_03_2015 with 6 continuation(s)...\n",
            "  Removed: 4_03_2015.csv\n",
            "  Removed: 5_03_2015.csv\n",
            "  Removed: 6_03_2015.csv\n",
            "  Removed: 7_03_2015.csv\n",
            "  Removed: 8_03_2015.csv\n",
            "  Removed: 9_03_2015.csv\n",
            "  Combined table saved as: 3_03_2015.csv (197 rows)\n",
            "\n",
            "Combining 13_03_2015 with 1 continuation(s)...\n",
            "  Removed: 14_03_2015.csv\n",
            "  Combined table saved as: 13_03_2015.csv (42 rows)\n",
            "\n",
            "Combining 2_04_2015 with 1 continuation(s)...\n",
            "  Removed: 3_04_2015.csv\n",
            "  Combined table saved as: 2_04_2015.csv (40 rows)\n",
            "\n",
            "Combining 1_05_2015 with 1 continuation(s)...\n",
            "  Removed: 2_05_2015.csv\n",
            "  Combined table saved as: 1_05_2015.csv (39 rows)\n",
            "\n",
            "Combining 11_05_2015 with 1 continuation(s)...\n",
            "  Removed: 12_05_2015.csv\n",
            "  Combined table saved as: 11_05_2015.csv (46 rows)\n",
            "\n",
            "Combining 20_05_2015 with 1 continuation(s)...\n",
            "  Removed: 21_05_2015.csv\n",
            "  Combined table saved as: 20_05_2015.csv (56 rows)\n",
            "\n",
            "Combining 33_05_2015 with 4 continuation(s)...\n",
            "  Removed: 34_05_2015.csv\n",
            "  Removed: 35_05_2015.csv\n",
            "  Removed: 36_05_2015.csv\n",
            "  Removed: 37_05_2015.csv\n",
            "  Combined table saved as: 33_05_2015.csv (143 rows)\n",
            "\n",
            "Combining 40_05_2015 with 1 continuation(s)...\n",
            "  Removed: 41_05_2015.csv\n",
            "  Combined table saved as: 40_05_2015.csv (43 rows)\n",
            "\n",
            "Combining 44_05_2015 with 4 continuation(s)...\n",
            "  Removed: 45_05_2015.csv\n",
            "  Removed: 46_05_2015.csv\n",
            "  Removed: 47_05_2015.csv\n",
            "  Removed: 48_05_2015.csv\n",
            "  Combined table saved as: 44_05_2015.csv (142 rows)\n",
            "\n",
            "Combining 49_05_2015 with 1 continuation(s)...\n",
            "  Removed: 50_05_2015.csv\n",
            "  Combined table saved as: 49_05_2015.csv (47 rows)\n",
            "\n",
            "Combining 51_05_2015 with 4 continuation(s)...\n",
            "  Removed: 52_05_2015.csv\n",
            "  Removed: 53_05_2015.csv\n",
            "  Removed: 54_05_2015.csv\n",
            "  Removed: 55_05_2015.csv\n",
            "  Combined table saved as: 51_05_2015.csv (130 rows)\n",
            "\n",
            "Combining 13_06_2015 with 2 continuation(s)...\n",
            "  Removed: 14_06_2015.csv\n",
            "  Removed: 15_06_2015.csv\n",
            "  Combined table saved as: 13_06_2015.csv (69 rows)\n",
            "\n",
            "Combining 1_07_2015 with 1 continuation(s)...\n",
            "  Removed: 2_07_2015.csv\n",
            "  Combined table saved as: 1_07_2015.csv (115 rows)\n",
            "\n",
            "Combining 5_07_2015 with 4 continuation(s)...\n",
            "  Removed: 6_07_2015.csv\n",
            "  Removed: 7_07_2015.csv\n",
            "  Removed: 8_07_2015.csv\n",
            "  Removed: 9_07_2015.csv\n",
            "  Combined table saved as: 5_07_2015.csv (195 rows)\n",
            "\n",
            "Combining 10_07_2015 with 4 continuation(s)...\n",
            "  Removed: 11_07_2015.csv\n",
            "  Removed: 12_07_2015.csv\n",
            "  Removed: 13_07_2015.csv\n",
            "  Removed: 14_07_2015.csv\n",
            "  Combined table saved as: 10_07_2015.csv (200 rows)\n",
            "\n",
            "Combining 19_07_2015 with 2 continuation(s)...\n",
            "  Removed: 20_07_2015.csv\n",
            "  Removed: 21_07_2015.csv\n",
            "  Combined table saved as: 19_07_2015.csv (195 rows)\n",
            "\n",
            "Combining 16_08_2015 with 1 continuation(s)...\n",
            "  Removed: 17_08_2015.csv\n",
            "  Combined table saved as: 16_08_2015.csv (35 rows)\n",
            "\n",
            "Combining 19_08_2015 with 2 continuation(s)...\n",
            "  Removed: 20_08_2015.csv\n",
            "  Removed: 21_08_2015.csv\n",
            "  Combined table saved as: 19_08_2015.csv (197 rows)\n",
            "\n",
            "Combining 30_08_2015 with 1 continuation(s)...\n",
            "  Removed: 31_08_2015.csv\n",
            "  Combined table saved as: 30_08_2015.csv (38 rows)\n",
            "\n",
            "Combining 1_09_2015 with 1 continuation(s)...\n",
            "  Removed: 2_09_2015.csv\n",
            "  Combined table saved as: 1_09_2015.csv (43 rows)\n",
            "\n",
            "Combining 3_09_2015 with 1 continuation(s)...\n",
            "  Removed: 4_09_2015.csv\n",
            "  Combined table saved as: 3_09_2015.csv (39 rows)\n",
            "\n",
            "Combining 5_09_2015 with 4 continuation(s)...\n",
            "  Removed: 6_09_2015.csv\n",
            "  Removed: 7_09_2015.csv\n",
            "  Removed: 8_09_2015.csv\n",
            "  Removed: 9_09_2015.csv\n",
            "  Combined table saved as: 5_09_2015.csv (199 rows)\n",
            "\n",
            "Combining 23_09_2015 with 1 continuation(s)...\n",
            "  Removed: 24_09_2015.csv\n",
            "  Combined table saved as: 23_09_2015.csv (47 rows)\n",
            "\n",
            "Combining 13_10_2015 with 3 continuation(s)...\n",
            "  Removed: 14_10_2015.csv\n",
            "  Removed: 15_10_2015.csv\n",
            "  Removed: 16_10_2015.csv\n",
            "  Combined table saved as: 13_10_2015.csv (125 rows)\n",
            "\n",
            "Combining 2_11_2015 with 1 continuation(s)...\n",
            "  Removed: 3_11_2015.csv\n",
            "  Combined table saved as: 2_11_2015.csv (39 rows)\n",
            "\n",
            "Combining 4_12_2015 with 2 continuation(s)...\n",
            "  Removed: 5_12_2015.csv\n",
            "  Removed: 6_12_2015.csv\n",
            "  Combined table saved as: 4_12_2015.csv (201 rows)\n",
            "\n",
            "Combining 9_12_2015 with 2 continuation(s)...\n",
            "  Removed: 10_12_2015.csv\n",
            "  Removed: 11_12_2015.csv\n",
            "  Combined table saved as: 9_12_2015.csv (96 rows)\n",
            "\n",
            "Combining 12_12_2015 with 2 continuation(s)...\n",
            "  Removed: 13_12_2015.csv\n",
            "  Removed: 14_12_2015.csv\n",
            "  Combined table saved as: 12_12_2015.csv (143 rows)\n",
            "\n",
            "Combining 15_12_2015 with 3 continuation(s)...\n",
            "  Removed: 16_12_2015.csv\n",
            "  Removed: 17_12_2015.csv\n",
            "  Removed: 18_12_2015.csv\n",
            "  Combined table saved as: 15_12_2015.csv (149 rows)\n",
            "\n",
            "Combining 21_12_2015 with 2 continuation(s)...\n",
            "  Removed: 22_12_2015.csv\n",
            "  Removed: 23_12_2015.csv\n",
            "  Combined table saved as: 21_12_2015.csv (81 rows)\n",
            "\n",
            "Combining 37_12_2015 with 1 continuation(s)...\n",
            "  Removed: 38_12_2015.csv\n",
            "  Combined table saved as: 37_12_2015.csv (38 rows)\n",
            "\n",
            "Combining 39_12_2015 with 1 continuation(s)...\n",
            "  Removed: 40_12_2015.csv\n",
            "  Combined table saved as: 39_12_2015.csv (37 rows)\n",
            "\n",
            "Combining 9_13_2015 with 2 continuation(s)...\n",
            "  Removed: 10_13_2015.csv\n",
            "  Removed: 11_13_2015.csv\n",
            "  Combined table saved as: 9_13_2015.csv (86 rows)\n",
            "\n",
            "Combining 15_13_2015 with 1 continuation(s)...\n",
            "  Removed: 16_13_2015.csv\n",
            "  Combined table saved as: 15_13_2015.csv (43 rows)\n",
            "\n",
            "Combining 25_13_2015 with 1 continuation(s)...\n",
            "  Removed: 26_13_2015.csv\n",
            "  Combined table saved as: 25_13_2015.csv (43 rows)\n",
            "\n",
            "Combining 28_13_2015 with 2 continuation(s)...\n",
            "  Removed: 29_13_2015.csv\n",
            "  Removed: 30_13_2015.csv\n",
            "  Combined table saved as: 28_13_2015.csv (189 rows)\n",
            "\n",
            "Combining 33_13_2015 with 1 continuation(s)...\n",
            "  Removed: 34_13_2015.csv\n",
            "  Combined table saved as: 33_13_2015.csv (49 rows)\n",
            "\n",
            "Combining 5_14_2015 with 1 continuation(s)...\n",
            "  Removed: 6_14_2015.csv\n",
            "  Combined table saved as: 5_14_2015.csv (239 rows)\n",
            "\n",
            "Combining 8_14_2015 with 1 continuation(s)...\n",
            "  Removed: 9_14_2015.csv\n",
            "  Combined table saved as: 8_14_2015.csv (43 rows)\n",
            "\n",
            "Combining 10_14_2015 with 1 continuation(s)...\n",
            "  Removed: 11_14_2015.csv\n",
            "  Combined table saved as: 10_14_2015.csv (35 rows)\n",
            "\n",
            "Combining 36_14_2015 with 1 continuation(s)...\n",
            "  Removed: 37_14_2015.csv\n",
            "  Combined table saved as: 36_14_2015.csv (34 rows)\n",
            "\n",
            "Combining 9_15_2015 with 1 continuation(s)...\n",
            "  Removed: 10_15_2015.csv\n",
            "  Combined table saved as: 9_15_2015.csv (44 rows)\n",
            "\n",
            "Combining 11_15_2015 with 1 continuation(s)...\n",
            "  Removed: 12_15_2015.csv\n",
            "  Combined table saved as: 11_15_2015.csv (42 rows)\n",
            "\n",
            "Combining 3_03_2016 with 6 continuation(s)...\n",
            "  Removed: 4_03_2016.csv\n",
            "  Removed: 5_03_2016.csv\n",
            "  Removed: 6_03_2016.csv\n",
            "  Removed: 7_03_2016.csv\n",
            "  Removed: 8_03_2016.csv\n",
            "  Removed: 9_03_2016.csv\n",
            "  Combined table saved as: 3_03_2016.csv (195 rows)\n",
            "\n",
            "Combining 13_03_2016 with 1 continuation(s)...\n",
            "  Removed: 14_03_2016.csv\n",
            "  Combined table saved as: 13_03_2016.csv (42 rows)\n",
            "\n",
            "Combining 1_05_2016 with 1 continuation(s)...\n",
            "  Removed: 2_05_2016.csv\n",
            "  Combined table saved as: 1_05_2016.csv (39 rows)\n",
            "\n",
            "Combining 7_05_2016 with 3 continuation(s)...\n",
            "  Removed: 8_05_2016.csv\n",
            "  Removed: 9_05_2016.csv\n",
            "  Removed: 10_05_2016.csv\n",
            "  Combined table saved as: 7_05_2016.csv (145 rows)\n",
            "\n",
            "Combining 11_05_2016 with 1 continuation(s)...\n",
            "  Removed: 12_05_2016.csv\n",
            "  Combined table saved as: 11_05_2016.csv (46 rows)\n",
            "\n",
            "Combining 23_05_2016 with 3 continuation(s)...\n",
            "  Removed: 24_05_2016.csv\n",
            "  Removed: 25_05_2016.csv\n",
            "  Removed: 26_05_2016.csv\n",
            "  Combined table saved as: 23_05_2016.csv (107 rows)\n",
            "\n",
            "Combining 42_05_2016 with 4 continuation(s)...\n",
            "  Removed: 43_05_2016.csv\n",
            "  Removed: 44_05_2016.csv\n",
            "  Removed: 45_05_2016.csv\n",
            "  Removed: 46_05_2016.csv\n",
            "  Combined table saved as: 42_05_2016.csv (146 rows)\n",
            "\n",
            "Combining 49_05_2016 with 1 continuation(s)...\n",
            "  Removed: 50_05_2016.csv\n",
            "  Combined table saved as: 49_05_2016.csv (43 rows)\n",
            "\n",
            "Combining 53_05_2016 with 4 continuation(s)...\n",
            "  Removed: 54_05_2016.csv\n",
            "  Removed: 55_05_2016.csv\n",
            "  Removed: 56_05_2016.csv\n",
            "  Removed: 57_05_2016.csv\n",
            "  Combined table saved as: 53_05_2016.csv (141 rows)\n",
            "\n",
            "Combining 58_05_2016 with 1 continuation(s)...\n",
            "  Removed: 59_05_2016.csv\n",
            "  Combined table saved as: 58_05_2016.csv (47 rows)\n",
            "\n",
            "Combining 60_05_2016 with 3 continuation(s)...\n",
            "  Removed: 61_05_2016.csv\n",
            "  Removed: 62_05_2016.csv\n",
            "  Removed: 63_05_2016.csv\n",
            "  Combined table saved as: 60_05_2016.csv (136 rows)\n",
            "\n",
            "Combining 12_06_2016 with 2 continuation(s)...\n",
            "  Removed: 13_06_2016.csv\n",
            "  Removed: 14_06_2016.csv\n",
            "  Combined table saved as: 12_06_2016.csv (73 rows)\n",
            "\n",
            "Combining 1_07_2016 with 2 continuation(s)...\n",
            "  Removed: 2_07_2016.csv\n",
            "  Removed: 3_07_2016.csv\n",
            "  Combined table saved as: 1_07_2016.csv (110 rows)\n",
            "\n",
            "Combining 6_07_2016 with 4 continuation(s)...\n",
            "  Removed: 7_07_2016.csv\n",
            "  Removed: 8_07_2016.csv\n",
            "  Removed: 9_07_2016.csv\n",
            "  Removed: 10_07_2016.csv\n",
            "  Combined table saved as: 6_07_2016.csv (195 rows)\n",
            "\n",
            "Combining 11_07_2016 with 4 continuation(s)...\n",
            "  Removed: 12_07_2016.csv\n",
            "  Removed: 13_07_2016.csv\n",
            "  Removed: 14_07_2016.csv\n",
            "  Removed: 15_07_2016.csv\n",
            "  Combined table saved as: 11_07_2016.csv (202 rows)\n",
            "\n",
            "Combining 22_08_2016 with 1 continuation(s)...\n",
            "  Removed: 23_08_2016.csv\n",
            "  Combined table saved as: 22_08_2016.csv (35 rows)\n",
            "\n",
            "Combining 28_08_2016 with 1 continuation(s)...\n",
            "  Removed: 29_08_2016.csv\n",
            "  Combined table saved as: 28_08_2016.csv (52 rows)\n",
            "\n",
            "Combining 36_08_2016 with 1 continuation(s)...\n",
            "  Removed: 37_08_2016.csv\n",
            "  Combined table saved as: 36_08_2016.csv (38 rows)\n",
            "\n",
            "Combining 1_09_2016 with 1 continuation(s)...\n",
            "  Removed: 2_09_2016.csv\n",
            "  Combined table saved as: 1_09_2016.csv (42 rows)\n",
            "\n",
            "Combining 4_09_2016 with 4 continuation(s)...\n",
            "  Removed: 5_09_2016.csv\n",
            "  Removed: 6_09_2016.csv\n",
            "  Removed: 7_09_2016.csv\n",
            "  Removed: 8_09_2016.csv\n",
            "  Combined table saved as: 4_09_2016.csv (200 rows)\n",
            "\n",
            "Combining 2_11_2016 with 1 continuation(s)...\n",
            "  Removed: 3_11_2016.csv\n",
            "  Combined table saved as: 2_11_2016.csv (41 rows)\n",
            "\n",
            "Combining 4_12_2016 with 5 continuation(s)...\n",
            "  Removed: 5_12_2016.csv\n",
            "  Removed: 6_12_2016.csv\n",
            "  Removed: 7_12_2016.csv\n",
            "  Removed: 8_12_2016.csv\n",
            "  Removed: 9_12_2016.csv\n",
            "  Combined table saved as: 4_12_2016.csv (198 rows)\n",
            "\n",
            "Combining 13_12_2016 with 2 continuation(s)...\n",
            "  Removed: 14_12_2016.csv\n",
            "  Removed: 15_12_2016.csv\n",
            "  Combined table saved as: 13_12_2016.csv (145 rows)\n",
            "\n",
            "Combining 16_12_2016 with 2 continuation(s)...\n",
            "  Removed: 17_12_2016.csv\n",
            "  Removed: 18_12_2016.csv\n",
            "  Combined table saved as: 16_12_2016.csv (139 rows)\n",
            "\n",
            "Combining 22_12_2016 with 1 continuation(s)...\n",
            "  Removed: 23_12_2016.csv\n",
            "  Combined table saved as: 22_12_2016.csv (90 rows)\n",
            "\n",
            "Combining 37_12_2016 with 1 continuation(s)...\n",
            "  Removed: 38_12_2016.csv\n",
            "  Combined table saved as: 37_12_2016.csv (38 rows)\n",
            "\n",
            "Combining 39_12_2016 with 1 continuation(s)...\n",
            "  Removed: 40_12_2016.csv\n",
            "  Combined table saved as: 39_12_2016.csv (37 rows)\n",
            "\n",
            "Combining 11_13_2016 with 2 continuation(s)...\n",
            "  Removed: 12_13_2016.csv\n",
            "  Removed: 13_13_2016.csv\n",
            "  Combined table saved as: 11_13_2016.csv (87 rows)\n",
            "\n",
            "Combining 15_13_2016 with 1 continuation(s)...\n",
            "  Removed: 16_13_2016.csv\n",
            "  Combined table saved as: 15_13_2016.csv (44 rows)\n",
            "\n",
            "Combining 26_13_2016 with 1 continuation(s)...\n",
            "  Removed: 27_13_2016.csv\n",
            "  Combined table saved as: 26_13_2016.csv (43 rows)\n",
            "\n",
            "Combining 29_13_2016 with 2 continuation(s)...\n",
            "  Removed: 30_13_2016.csv\n",
            "  Removed: 31_13_2016.csv\n",
            "  Combined table saved as: 29_13_2016.csv (194 rows)\n",
            "\n",
            "Combining 34_13_2016 with 1 continuation(s)...\n",
            "  Removed: 35_13_2016.csv\n",
            "  Combined table saved as: 34_13_2016.csv (45 rows)\n",
            "\n",
            "Combining 6_14_2016 with 1 continuation(s)...\n",
            "  Removed: 7_14_2016.csv\n",
            "  Combined table saved as: 6_14_2016.csv (44 rows)\n",
            "\n",
            "Combining 8_14_2016 with 1 continuation(s)...\n",
            "  Removed: 9_14_2016.csv\n",
            "  Combined table saved as: 8_14_2016.csv (33 rows)\n",
            "\n",
            "Combining 19_14_2016 with 1 continuation(s)...\n",
            "  Removed: 20_14_2016.csv\n",
            "  Combined table saved as: 19_14_2016.csv (53 rows)\n",
            "\n",
            "Combining 41_14_2016 with 1 continuation(s)...\n",
            "  Removed: 42_14_2016.csv\n",
            "  Combined table saved as: 41_14_2016.csv (34 rows)\n",
            "\n",
            "Combining 6_01_2019 with 1 continuation(s)...\n",
            "  Removed: 7_01_2019.csv\n",
            "  Combined table saved as: 6_01_2019.csv (136 rows)\n",
            "\n",
            "Combining 5_02_2019 with 3 continuation(s)...\n",
            "  Removed: 6_02_2019.csv\n",
            "  Removed: 7_02_2019.csv\n",
            "  Removed: 8_02_2019.csv\n",
            "  Combined table saved as: 5_02_2019.csv (134 rows)\n",
            "\n",
            "Combining 3_03_2019 with 1 continuation(s)...\n",
            "  Removed: 4_03_2019.csv\n",
            "  Combined table saved as: 3_03_2019.csv (196 rows)\n",
            "\n",
            "Combining 7_03_2019 with 1 continuation(s)...\n",
            "  Removed: 8_03_2019.csv\n",
            "  Combined table saved as: 7_03_2019.csv (52 rows)\n",
            "\n",
            "Combining 7_05_2019 with 1 continuation(s)...\n",
            "  Removed: 8_05_2019.csv\n",
            "  Combined table saved as: 7_05_2019.csv (44 rows)\n",
            "\n",
            "Combining 16_05_2019 with 1 continuation(s)...\n",
            "  Removed: 17_05_2019.csv\n",
            "  Combined table saved as: 16_05_2019.csv (74 rows)\n",
            "\n",
            "Combining 25_05_2019 with 1 continuation(s)...\n",
            "  Removed: 26_05_2019.csv\n",
            "  Combined table saved as: 25_05_2019.csv (43 rows)\n",
            "\n",
            "Combining 31_05_2019 with 4 continuation(s)...\n",
            "  Removed: 32_05_2019.csv\n",
            "  Removed: 33_05_2019.csv\n",
            "  Removed: 34_05_2019.csv\n",
            "  Removed: 35_05_2019.csv\n",
            "  Combined table saved as: 31_05_2019.csv (202 rows)\n",
            "\n",
            "Combining 36_05_2019 with 1 continuation(s)...\n",
            "  Removed: 37_05_2019.csv\n",
            "  Combined table saved as: 36_05_2019.csv (44 rows)\n",
            "\n",
            "Combining 1_07_2019 with 1 continuation(s)...\n",
            "  Removed: 2_07_2019.csv\n",
            "  Combined table saved as: 1_07_2019.csv (117 rows)\n",
            "\n",
            "Combining 6_07_2019 with 1 continuation(s)...\n",
            "  Removed: 7_07_2019.csv\n",
            "  Combined table saved as: 6_07_2019.csv (198 rows)\n",
            "\n",
            "Combining 18_07_2019 with 1 continuation(s)...\n",
            "  Removed: 19_07_2019.csv\n",
            "  Combined table saved as: 18_07_2019.csv (205 rows)\n",
            "\n",
            "Combining 5_08_2019 with 1 continuation(s)...\n",
            "  Removed: 6_08_2019.csv\n",
            "  Combined table saved as: 5_08_2019.csv (55 rows)\n",
            "\n",
            "Combining 20_08_2019 with 1 continuation(s)...\n",
            "  Removed: 21_08_2019.csv\n",
            "  Combined table saved as: 20_08_2019.csv (36 rows)\n",
            "\n",
            "Combining 23_08_2019 with 3 continuation(s)...\n",
            "  Removed: 24_08_2019.csv\n",
            "  Removed: 25_08_2019.csv\n",
            "  Removed: 26_08_2019.csv\n",
            "  Combined table saved as: 23_08_2019.csv (193 rows)\n",
            "\n",
            "Combining 34_08_2019 with 1 continuation(s)...\n",
            "  Removed: 35_08_2019.csv\n",
            "  Combined table saved as: 34_08_2019.csv (38 rows)\n",
            "\n",
            "Combining 40_08_2019 with 2 continuation(s)...\n",
            "  Removed: 41_08_2019.csv\n",
            "  Removed: 42_08_2019.csv\n",
            "  Combined table saved as: 40_08_2019.csv (192 rows)\n",
            "\n",
            "Combining 1_10_2019 with 2 continuation(s)...\n",
            "  Removed: 2_10_2019.csv\n",
            "  Removed: 3_10_2019.csv\n",
            "  Combined table saved as: 1_10_2019.csv (298 rows)\n",
            "\n",
            "Combining 7_10_2019 with 1 continuation(s)...\n",
            "  Removed: 8_10_2019.csv\n",
            "  Combined table saved as: 7_10_2019.csv (216 rows)\n",
            "\n",
            "Combining 4_12_2019 with 1 continuation(s)...\n",
            "  Removed: 5_12_2019.csv\n",
            "  Combined table saved as: 4_12_2019.csv (202 rows)\n",
            "\n",
            "Combining 8_12_2019 with 2 continuation(s)...\n",
            "  Removed: 9_12_2019.csv\n",
            "  Removed: 10_12_2019.csv\n",
            "  Combined table saved as: 8_12_2019.csv (104 rows)\n",
            "\n",
            "Combining 11_12_2019 with 1 continuation(s)...\n",
            "  Removed: 12_12_2019.csv\n",
            "  Combined table saved as: 11_12_2019.csv (136 rows)\n",
            "\n",
            "Combining 30_12_2019 with 1 continuation(s)...\n",
            "  Removed: 31_12_2019.csv\n",
            "  Combined table saved as: 30_12_2019.csv (31 rows)\n",
            "\n",
            "Combining 32_12_2019 with 1 continuation(s)...\n",
            "  Removed: 33_12_2019.csv\n",
            "  Combined table saved as: 32_12_2019.csv (39 rows)\n",
            "\n",
            "Combining 34_12_2019 with 1 continuation(s)...\n",
            "  Removed: 35_12_2019.csv\n",
            "  Combined table saved as: 34_12_2019.csv (39 rows)\n",
            "\n",
            "Combining 29_13_2019 with 1 continuation(s)...\n",
            "  Removed: 30_13_2019.csv\n",
            "  Combined table saved as: 29_13_2019.csv (54 rows)\n",
            "\n",
            "Combining 8_14_2019 with 1 continuation(s)...\n",
            "  Removed: 9_14_2019.csv\n",
            "  Combined table saved as: 8_14_2019.csv (45 rows)\n",
            "\n",
            "Combining 10_14_2019 with 1 continuation(s)...\n",
            "  Removed: 11_14_2019.csv\n",
            "  Combined table saved as: 10_14_2019.csv (32 rows)\n",
            "\n",
            "Combining 1_10_2021 with 2 continuation(s)...\n",
            "  Removed: 2_10_2021.csv\n",
            "  Removed: 3_10_2021.csv\n",
            "  Combined table saved as: 1_10_2021.csv (299 rows)\n",
            "\n",
            "Combining 6_10_2021 with 1 continuation(s)...\n",
            "  Removed: 7_10_2021.csv\n",
            "  Combined table saved as: 6_10_2021.csv (216 rows)\n",
            "\n",
            "Combining 4_12_2021 with 1 continuation(s)...\n",
            "  Removed: 5_12_2021.csv\n",
            "  Combined table saved as: 4_12_2021.csv (202 rows)\n",
            "\n",
            "Combining 8_12_2021 with 2 continuation(s)...\n",
            "  Removed: 9_12_2021.csv\n",
            "  Removed: 10_12_2021.csv\n",
            "  Combined table saved as: 8_12_2021.csv (106 rows)\n",
            "\n",
            "Combining 11_12_2021 with 1 continuation(s)...\n",
            "  Removed: 12_12_2021.csv\n",
            "  Combined table saved as: 11_12_2021.csv (136 rows)\n",
            "\n",
            "Combining 30_12_2021 with 1 continuation(s)...\n",
            "  Removed: 31_12_2021.csv\n",
            "  Combined table saved as: 30_12_2021.csv (31 rows)\n",
            "\n",
            "Combining 32_12_2021 with 1 continuation(s)...\n",
            "  Removed: 33_12_2021.csv\n",
            "  Combined table saved as: 32_12_2021.csv (38 rows)\n",
            "\n",
            "Combining 34_12_2021 with 1 continuation(s)...\n",
            "  Removed: 35_12_2021.csv\n",
            "  Combined table saved as: 34_12_2021.csv (38 rows)\n",
            "\n",
            "Combining 21_13_2021 with 1 continuation(s)...\n",
            "  Removed: 22_13_2021.csv\n",
            "  Combined table saved as: 21_13_2021.csv (64 rows)\n",
            "\n",
            "Combining 8_14_2021 with 1 continuation(s)...\n",
            "  Removed: 9_14_2021.csv\n",
            "  Combined table saved as: 8_14_2021.csv (33 rows)\n",
            "\n",
            "Combining 4_01_2022 with 4 continuation(s)...\n",
            "  Removed: 5_01_2022.csv\n",
            "  Removed: 6_01_2022.csv\n",
            "  Removed: 7_01_2022.csv\n",
            "  Removed: 8_01_2022.csv\n",
            "  Combined table saved as: 4_01_2022.csv (210 rows)\n",
            "\n",
            "Combining 3_02_2022 with 3 continuation(s)...\n",
            "  Removed: 4_02_2022.csv\n",
            "  Removed: 5_02_2022.csv\n",
            "  Removed: 6_02_2022.csv\n",
            "  Combined table saved as: 3_02_2022.csv (203 rows)\n",
            "\n",
            "Combining 3_03_2022 with 1 continuation(s)...\n",
            "  Removed: 4_03_2022.csv\n",
            "  Combined table saved as: 3_03_2022.csv (202 rows)\n",
            "\n",
            "Combining 7_03_2022 with 1 continuation(s)...\n",
            "  Removed: 8_03_2022.csv\n",
            "  Combined table saved as: 7_03_2022.csv (50 rows)\n",
            "\n",
            "Combining 6_05_2022 with 1 continuation(s)...\n",
            "  Removed: 7_05_2022.csv\n",
            "  Combined table saved as: 6_05_2022.csv (43 rows)\n",
            "\n",
            "Combining 17_05_2022 with 1 continuation(s)...\n",
            "  Removed: 18_05_2022.csv\n",
            "  Combined table saved as: 17_05_2022.csv (43 rows)\n",
            "\n",
            "Combining 23_05_2022 with 3 continuation(s)...\n",
            "  Removed: 24_05_2022.csv\n",
            "  Removed: 25_05_2022.csv\n",
            "  Removed: 26_05_2022.csv\n",
            "  Combined table saved as: 23_05_2022.csv (203 rows)\n",
            "\n",
            "Combining 27_05_2022 with 1 continuation(s)...\n",
            "  Removed: 28_05_2022.csv\n",
            "  Combined table saved as: 27_05_2022.csv (48 rows)\n",
            "\n",
            "Combining 15_08_2022 with 1 continuation(s)...\n",
            "  Removed: 16_08_2022.csv\n",
            "  Combined table saved as: 15_08_2022.csv (36 rows)\n",
            "\n",
            "Combining 32_08_2022 with 2 continuation(s)...\n",
            "  Removed: 33_08_2022.csv\n",
            "  Removed: 34_08_2022.csv\n",
            "  Combined table saved as: 32_08_2022.csv (192 rows)\n",
            "\n",
            "Combining 1_10_2022 with 2 continuation(s)...\n",
            "  Removed: 2_10_2022.csv\n",
            "  Removed: 3_10_2022.csv\n",
            "  Combined table saved as: 1_10_2022.csv (299 rows)\n",
            "\n",
            "Combining 6_10_2022 with 1 continuation(s)...\n",
            "  Removed: 7_10_2022.csv\n",
            "  Combined table saved as: 6_10_2022.csv (216 rows)\n",
            "\n",
            "Combining 4_12_2022 with 3 continuation(s)...\n",
            "  Removed: 5_12_2022.csv\n",
            "  Removed: 6_12_2022.csv\n",
            "  Removed: 7_12_2022.csv\n",
            "  Combined table saved as: 4_12_2022.csv (205 rows)\n",
            "\n",
            "Combining 10_12_2022 with 2 continuation(s)...\n",
            "  Removed: 11_12_2022.csv\n",
            "  Removed: 12_12_2022.csv\n",
            "  Combined table saved as: 10_12_2022.csv (105 rows)\n",
            "\n",
            "Combining 13_12_2022 with 1 continuation(s)...\n",
            "  Removed: 14_12_2022.csv\n",
            "  Combined table saved as: 13_12_2022.csv (137 rows)\n",
            "\n",
            "Combining 31_12_2022 with 1 continuation(s)...\n",
            "  Removed: 32_12_2022.csv\n",
            "  Combined table saved as: 31_12_2022.csv (31 rows)\n",
            "\n",
            "Combining 33_12_2022 with 1 continuation(s)...\n",
            "  Removed: 34_12_2022.csv\n",
            "  Combined table saved as: 33_12_2022.csv (38 rows)\n",
            "\n",
            "Combining 35_12_2022 with 1 continuation(s)...\n",
            "  Removed: 36_12_2022.csv\n",
            "  Combined table saved as: 35_12_2022.csv (33 rows)\n",
            "\n",
            "Combining 8_14_2022 with 1 continuation(s)...\n",
            "  Removed: 9_14_2022.csv\n",
            "  Combined table saved as: 8_14_2022.csv (31 rows)\n",
            "\n",
            "Combining 3_02_2023 with 2 continuation(s)...\n",
            "  Removed: 4_02_2023.csv\n",
            "  Removed: 5_02_2023.csv\n",
            "  Combined table saved as: 3_02_2023.csv (205 rows)\n",
            "\n",
            "Combining 1_10_2023 with 2 continuation(s)...\n",
            "  Removed: 2_10_2023.csv\n",
            "  Removed: 3_10_2023.csv\n",
            "  Combined table saved as: 1_10_2023.csv (299 rows)\n",
            "\n",
            "Combining 6_10_2023 with 1 continuation(s)...\n",
            "  Removed: 7_10_2023.csv\n",
            "  Combined table saved as: 6_10_2023.csv (217 rows)\n",
            "\n",
            "Combining 4_12_2023 with 3 continuation(s)...\n",
            "  Removed: 5_12_2023.csv\n",
            "  Removed: 6_12_2023.csv\n",
            "  Removed: 7_12_2023.csv\n",
            "  Combined table saved as: 4_12_2023.csv (205 rows)\n",
            "\n",
            "Combining 10_12_2023 with 2 continuation(s)...\n",
            "  Removed: 11_12_2023.csv\n",
            "  Removed: 12_12_2023.csv\n",
            "  Combined table saved as: 10_12_2023.csv (105 rows)\n",
            "\n",
            "Combining 13_12_2023 with 1 continuation(s)...\n",
            "  Removed: 14_12_2023.csv\n",
            "  Combined table saved as: 13_12_2023.csv (137 rows)\n",
            "\n",
            "Combining 18_12_2023 with 1 continuation(s)...\n",
            "  Removed: 19_12_2023.csv\n",
            "  Combined table saved as: 18_12_2023.csv (206 rows)\n",
            "\n",
            "Combining 32_12_2023 with 1 continuation(s)...\n",
            "  Removed: 33_12_2023.csv\n",
            "  Combined table saved as: 32_12_2023.csv (31 rows)\n",
            "\n",
            "Combining 34_12_2023 with 1 continuation(s)...\n",
            "  Removed: 35_12_2023.csv\n",
            "  Combined table saved as: 34_12_2023.csv (38 rows)\n",
            "\n",
            "Combining 3_14_2023 with 1 continuation(s)...\n",
            "  Removed: 4_14_2023.csv\n",
            "  Combined table saved as: 3_14_2023.csv (193 rows)\n",
            "\n",
            "Combining 9_14_2023 with 1 continuation(s)...\n",
            "  Removed: 10_14_2023.csv\n",
            "  Combined table saved as: 9_14_2023.csv (31 rows)\n",
            "\n",
            "Combining 3_03_2024 with 6 continuation(s)...\n",
            "  Removed: 4_03_2024.csv\n",
            "  Removed: 5_03_2024.csv\n",
            "  Removed: 6_03_2024.csv\n",
            "  Removed: 7_03_2024.csv\n",
            "  Removed: 8_03_2024.csv\n",
            "  Removed: 9_03_2024.csv\n",
            "  Combined table saved as: 3_03_2024.csv (201 rows)\n",
            "\n",
            "Combining 17_05_2024 with 1 continuation(s)...\n",
            "  Removed: 18_05_2024.csv\n",
            "  Combined table saved as: 17_05_2024.csv (43 rows)\n",
            "\n",
            "Combining 7_14_2024 with 1 continuation(s)...\n",
            "  Removed: 8_14_2024.csv\n",
            "  Combined table saved as: 7_14_2024.csv (67 rows)\n",
            "\n",
            "Renumbering tables sequentially...\n",
            "  Renamed: 7_11_2001.csv -> 5_11_2001.csv\n",
            "  Renamed: 8_11_2001.csv -> 6_11_2001.csv\n",
            "  Renamed: 9_11_2001.csv -> 7_11_2001.csv\n",
            "  Renamed: 7_08_2001.csv -> 6_08_2001.csv\n",
            "  Renamed: 8_08_2001.csv -> 7_08_2001.csv\n",
            "  Renamed: 9_08_2001.csv -> 8_08_2001.csv\n",
            "  Renamed: 10_08_2001.csv -> 9_08_2001.csv\n",
            "  Renamed: 11_08_2001.csv -> 10_08_2001.csv\n",
            "  Renamed: 12_08_2001.csv -> 11_08_2001.csv\n",
            "  Renamed: 13_08_2001.csv -> 12_08_2001.csv\n",
            "  Renamed: 15_08_2001.csv -> 13_08_2001.csv\n",
            "  Renamed: 18_08_2001.csv -> 14_08_2001.csv\n",
            "  Renamed: 19_08_2001.csv -> 15_08_2001.csv\n",
            "  Renamed: 21_08_2001.csv -> 16_08_2001.csv\n",
            "  Renamed: 22_08_2001.csv -> 17_08_2001.csv\n",
            "  Renamed: 23_08_2001.csv -> 18_08_2001.csv\n",
            "  Renamed: 24_08_2001.csv -> 19_08_2001.csv\n",
            "  Renamed: 25_08_2001.csv -> 20_08_2001.csv\n",
            "  Renamed: 26_08_2001.csv -> 21_08_2001.csv\n",
            "  Renamed: 27_08_2001.csv -> 22_08_2001.csv\n",
            "  Renamed: 28_08_2001.csv -> 23_08_2001.csv\n",
            "  Renamed: 29_08_2001.csv -> 24_08_2001.csv\n",
            "  Renamed: 5_01_2001.csv -> 4_01_2001.csv\n",
            "  Renamed: 6_01_2001.csv -> 5_01_2001.csv\n",
            "  Renamed: 7_01_2001.csv -> 6_01_2001.csv\n",
            "  Renamed: 12_01_2001.csv -> 7_01_2001.csv\n",
            "  Renamed: 13_01_2001.csv -> 8_01_2001.csv\n",
            "  Renamed: 14_01_2001.csv -> 9_01_2001.csv\n",
            "  Renamed: 15_01_2001.csv -> 10_01_2001.csv\n",
            "  Renamed: 20_01_2001.csv -> 11_01_2001.csv\n",
            "  Renamed: 21_01_2001.csv -> 12_01_2001.csv\n",
            "  Renamed: 22_01_2001.csv -> 13_01_2001.csv\n",
            "  Renamed: 8_03_2001.csv -> 5_03_2001.csv\n",
            "  Renamed: 9_03_2001.csv -> 6_03_2001.csv\n",
            "  Renamed: 10_03_2001.csv -> 7_03_2001.csv\n",
            "  Renamed: 11_03_2001.csv -> 8_03_2001.csv\n",
            "  Renamed: 17_03_2001.csv -> 9_03_2001.csv\n",
            "  Renamed: 18_03_2001.csv -> 10_03_2001.csv\n",
            "  Renamed: 19_03_2001.csv -> 11_03_2001.csv\n",
            "  Renamed: 20_03_2001.csv -> 12_03_2001.csv\n",
            "  Renamed: 21_03_2001.csv -> 13_03_2001.csv\n",
            "  Renamed: 22_03_2001.csv -> 14_03_2001.csv\n",
            "  Renamed: 3_10_2001.csv -> 2_10_2001.csv\n",
            "  Renamed: 4_10_2001.csv -> 3_10_2001.csv\n",
            "  Renamed: 5_10_2001.csv -> 4_10_2001.csv\n",
            "  Renamed: 8_10_2001.csv -> 5_10_2001.csv\n",
            "  Renamed: 9_10_2001.csv -> 6_10_2001.csv\n",
            "  Renamed: 10_10_2001.csv -> 7_10_2001.csv\n",
            "  Renamed: 13_13_2001.csv -> 9_13_2001.csv\n",
            "  Renamed: 14_13_2001.csv -> 10_13_2001.csv\n",
            "  Renamed: 15_13_2001.csv -> 11_13_2001.csv\n",
            "  Renamed: 16_13_2001.csv -> 12_13_2001.csv\n",
            "  Renamed: 17_13_2001.csv -> 13_13_2001.csv\n",
            "  Renamed: 18_13_2001.csv -> 14_13_2001.csv\n",
            "  Renamed: 19_13_2001.csv -> 15_13_2001.csv\n",
            "  Renamed: 20_13_2001.csv -> 16_13_2001.csv\n",
            "  Renamed: 8_09_2001.csv -> 7_09_2001.csv\n",
            "  Renamed: 9_09_2001.csv -> 8_09_2001.csv\n",
            "  Renamed: 10_09_2001.csv -> 9_09_2001.csv\n",
            "  Renamed: 11_09_2001.csv -> 10_09_2001.csv\n",
            "  Renamed: 12_09_2001.csv -> 11_09_2001.csv\n",
            "  Renamed: 13_09_2001.csv -> 12_09_2001.csv\n",
            "  Renamed: 14_09_2001.csv -> 13_09_2001.csv\n",
            "  Renamed: 15_09_2001.csv -> 14_09_2001.csv\n",
            "  Renamed: 16_09_2001.csv -> 15_09_2001.csv\n",
            "  Renamed: 17_09_2001.csv -> 16_09_2001.csv\n",
            "  Renamed: 8_14_2001.csv -> 3_14_2001.csv\n",
            "  Renamed: 15_14_2001.csv -> 4_14_2001.csv\n",
            "  Renamed: 16_14_2001.csv -> 5_14_2001.csv\n",
            "  Renamed: 17_14_2001.csv -> 6_14_2001.csv\n",
            "  Renamed: 18_14_2001.csv -> 7_14_2001.csv\n",
            "  Renamed: 19_14_2001.csv -> 8_14_2001.csv\n",
            "  Renamed: 20_14_2001.csv -> 9_14_2001.csv\n",
            "  Renamed: 21_14_2001.csv -> 10_14_2001.csv\n",
            "  Renamed: 22_14_2001.csv -> 11_14_2001.csv\n",
            "  Renamed: 23_14_2001.csv -> 12_14_2001.csv\n",
            "  Renamed: 24_14_2001.csv -> 13_14_2001.csv\n",
            "  Renamed: 25_14_2001.csv -> 14_14_2001.csv\n",
            "  Renamed: 26_14_2001.csv -> 15_14_2001.csv\n",
            "  Renamed: 27_14_2001.csv -> 16_14_2001.csv\n",
            "  Renamed: 28_14_2001.csv -> 17_14_2001.csv\n",
            "  Renamed: 29_14_2001.csv -> 18_14_2001.csv\n",
            "  Renamed: 30_14_2001.csv -> 19_14_2001.csv\n",
            "  Renamed: 31_14_2001.csv -> 20_14_2001.csv\n",
            "  Renamed: 32_14_2001.csv -> 21_14_2001.csv\n",
            "  Renamed: 33_14_2001.csv -> 22_14_2001.csv\n",
            "  Renamed: 8_07_2001.csv -> 5_07_2001.csv\n",
            "  Renamed: 9_07_2001.csv -> 6_07_2001.csv\n",
            "  Renamed: 10_07_2001.csv -> 7_07_2001.csv\n",
            "  Renamed: 11_07_2001.csv -> 8_07_2001.csv\n",
            "  Renamed: 12_07_2001.csv -> 9_07_2001.csv\n",
            "  Renamed: 17_07_2001.csv -> 10_07_2001.csv\n",
            "  Renamed: 18_07_2001.csv -> 11_07_2001.csv\n",
            "  Renamed: 19_07_2001.csv -> 12_07_2001.csv\n",
            "  Renamed: 20_07_2001.csv -> 13_07_2001.csv\n",
            "  Renamed: 21_07_2001.csv -> 14_07_2001.csv\n",
            "  Renamed: 22_07_2001.csv -> 15_07_2001.csv\n",
            "  Renamed: 23_07_2001.csv -> 16_07_2001.csv\n",
            "  Renamed: 24_07_2001.csv -> 17_07_2001.csv\n",
            "  Renamed: 25_07_2001.csv -> 18_07_2001.csv\n",
            "  Renamed: 26_07_2001.csv -> 19_07_2001.csv\n",
            "  Renamed: 27_07_2001.csv -> 20_07_2001.csv\n",
            "  Renamed: 28_07_2001.csv -> 21_07_2001.csv\n",
            "  Renamed: 6_12_2001.csv -> 4_12_2001.csv\n",
            "  Renamed: 7_12_2001.csv -> 5_12_2001.csv\n",
            "  Renamed: 8_12_2001.csv -> 6_12_2001.csv\n",
            "  Renamed: 9_12_2001.csv -> 7_12_2001.csv\n",
            "  Renamed: 10_12_2001.csv -> 8_12_2001.csv\n",
            "  Renamed: 11_12_2001.csv -> 9_12_2001.csv\n",
            "  Renamed: 12_12_2001.csv -> 10_12_2001.csv\n",
            "  Renamed: 13_12_2001.csv -> 11_12_2001.csv\n",
            "  Renamed: 14_12_2001.csv -> 12_12_2001.csv\n",
            "  Renamed: 15_12_2001.csv -> 13_12_2001.csv\n",
            "  Renamed: 16_12_2001.csv -> 14_12_2001.csv\n",
            "  Renamed: 21_12_2001.csv -> 15_12_2001.csv\n",
            "  Renamed: 22_12_2001.csv -> 16_12_2001.csv\n",
            "  Renamed: 23_12_2001.csv -> 17_12_2001.csv\n",
            "  Renamed: 24_12_2001.csv -> 18_12_2001.csv\n",
            "  Renamed: 25_12_2001.csv -> 19_12_2001.csv\n",
            "  Renamed: 8_05_2001.csv -> 6_05_2001.csv\n",
            "  Renamed: 10_05_2001.csv -> 7_05_2001.csv\n",
            "  Renamed: 13_05_2001.csv -> 8_05_2001.csv\n",
            "  Renamed: 14_05_2001.csv -> 9_05_2001.csv\n",
            "  Renamed: 15_05_2001.csv -> 10_05_2001.csv\n",
            "  Renamed: 16_05_2001.csv -> 11_05_2001.csv\n",
            "  Renamed: 21_05_2001.csv -> 12_05_2001.csv\n",
            "  Renamed: 22_05_2001.csv -> 13_05_2001.csv\n",
            "  Renamed: 23_05_2001.csv -> 14_05_2001.csv\n",
            "  Renamed: 11_02_2001.csv -> 10_02_2001.csv\n",
            "  Renamed: 7_11_2002.csv -> 5_11_2002.csv\n",
            "  Renamed: 8_11_2002.csv -> 6_11_2002.csv\n",
            "  Renamed: 9_11_2002.csv -> 7_11_2002.csv\n",
            "  Renamed: 7_08_2002.csv -> 6_08_2002.csv\n",
            "  Renamed: 8_08_2002.csv -> 7_08_2002.csv\n",
            "  Renamed: 9_08_2002.csv -> 8_08_2002.csv\n",
            "  Renamed: 10_08_2002.csv -> 9_08_2002.csv\n",
            "  Renamed: 11_08_2002.csv -> 10_08_2002.csv\n",
            "  Renamed: 12_08_2002.csv -> 11_08_2002.csv\n",
            "  Renamed: 14_08_2002.csv -> 12_08_2002.csv\n",
            "  Renamed: 17_08_2002.csv -> 13_08_2002.csv\n",
            "  Renamed: 18_08_2002.csv -> 14_08_2002.csv\n",
            "  Renamed: 20_08_2002.csv -> 15_08_2002.csv\n",
            "  Renamed: 21_08_2002.csv -> 16_08_2002.csv\n",
            "  Renamed: 22_08_2002.csv -> 17_08_2002.csv\n",
            "  Renamed: 23_08_2002.csv -> 18_08_2002.csv\n",
            "  Renamed: 24_08_2002.csv -> 19_08_2002.csv\n",
            "  Renamed: 25_08_2002.csv -> 20_08_2002.csv\n",
            "  Renamed: 28_08_2002.csv -> 21_08_2002.csv\n",
            "  Renamed: 29_08_2002.csv -> 22_08_2002.csv\n",
            "  Renamed: 7_01_2002.csv -> 5_01_2002.csv\n",
            "  Renamed: 8_01_2002.csv -> 6_01_2002.csv\n",
            "  Renamed: 13_01_2002.csv -> 7_01_2002.csv\n",
            "  Renamed: 14_01_2002.csv -> 8_01_2002.csv\n",
            "  Renamed: 15_01_2002.csv -> 9_01_2002.csv\n",
            "  Renamed: 16_01_2002.csv -> 10_01_2002.csv\n",
            "  Renamed: 17_01_2002.csv -> 11_01_2002.csv\n",
            "  Renamed: 14_03_2002.csv -> 9_03_2002.csv\n",
            "  Renamed: 15_03_2002.csv -> 10_03_2002.csv\n",
            "  Renamed: 16_03_2002.csv -> 11_03_2002.csv\n",
            "  Renamed: 17_03_2002.csv -> 12_03_2002.csv\n",
            "  Renamed: 18_03_2002.csv -> 13_03_2002.csv\n",
            "  Renamed: 19_03_2002.csv -> 14_03_2002.csv\n",
            "  Renamed: 20_03_2002.csv -> 15_03_2002.csv\n",
            "  Renamed: 8_10_2002.csv -> 2_10_2002.csv\n",
            "  Renamed: 9_10_2002.csv -> 3_10_2002.csv\n",
            "  Renamed: 10_10_2002.csv -> 4_10_2002.csv\n",
            "  Renamed: 11_10_2002.csv -> 5_10_2002.csv\n",
            "  Renamed: 13_10_2002.csv -> 6_10_2002.csv\n",
            "  Renamed: 14_10_2002.csv -> 7_10_2002.csv\n",
            "  Renamed: 15_10_2002.csv -> 8_10_2002.csv\n",
            "  Renamed: 16_10_2002.csv -> 9_10_2002.csv\n",
            "  Renamed: 17_10_2002.csv -> 10_10_2002.csv\n",
            "  Renamed: 18_10_2002.csv -> 11_10_2002.csv\n",
            "  Renamed: 19_10_2002.csv -> 12_10_2002.csv\n",
            "  Renamed: 20_10_2002.csv -> 13_10_2002.csv\n",
            "  Renamed: 21_10_2002.csv -> 14_10_2002.csv\n",
            "  Renamed: 13_13_2002.csv -> 9_13_2002.csv\n",
            "  Renamed: 14_13_2002.csv -> 10_13_2002.csv\n",
            "  Renamed: 15_13_2002.csv -> 11_13_2002.csv\n",
            "  Renamed: 16_13_2002.csv -> 12_13_2002.csv\n",
            "  Renamed: 17_13_2002.csv -> 13_13_2002.csv\n",
            "  Renamed: 18_13_2002.csv -> 14_13_2002.csv\n",
            "  Renamed: 19_13_2002.csv -> 15_13_2002.csv\n",
            "  Renamed: 20_13_2002.csv -> 16_13_2002.csv\n",
            "  Renamed: 21_13_2002.csv -> 17_13_2002.csv\n",
            "  Renamed: 11_09_2002.csv -> 10_09_2002.csv\n",
            "  Renamed: 12_09_2002.csv -> 11_09_2002.csv\n",
            "  Renamed: 13_09_2002.csv -> 12_09_2002.csv\n",
            "  Renamed: 14_09_2002.csv -> 13_09_2002.csv\n",
            "  Renamed: 15_09_2002.csv -> 14_09_2002.csv\n",
            "  Renamed: 16_09_2002.csv -> 15_09_2002.csv\n",
            "  Renamed: 17_09_2002.csv -> 16_09_2002.csv\n",
            "  Renamed: 9_14_2002.csv -> 4_14_2002.csv\n",
            "  Renamed: 17_14_2002.csv -> 5_14_2002.csv\n",
            "  Renamed: 18_14_2002.csv -> 6_14_2002.csv\n",
            "  Renamed: 19_14_2002.csv -> 7_14_2002.csv\n",
            "  Renamed: 20_14_2002.csv -> 8_14_2002.csv\n",
            "  Renamed: 21_14_2002.csv -> 9_14_2002.csv\n",
            "  Renamed: 22_14_2002.csv -> 10_14_2002.csv\n",
            "  Renamed: 23_14_2002.csv -> 11_14_2002.csv\n",
            "  Renamed: 24_14_2002.csv -> 12_14_2002.csv\n",
            "  Renamed: 25_14_2002.csv -> 13_14_2002.csv\n",
            "  Renamed: 26_14_2002.csv -> 14_14_2002.csv\n",
            "  Renamed: 27_14_2002.csv -> 15_14_2002.csv\n",
            "  Renamed: 28_14_2002.csv -> 16_14_2002.csv\n",
            "  Renamed: 29_14_2002.csv -> 17_14_2002.csv\n",
            "  Renamed: 30_14_2002.csv -> 18_14_2002.csv\n",
            "  Renamed: 31_14_2002.csv -> 19_14_2002.csv\n",
            "  Renamed: 32_14_2002.csv -> 20_14_2002.csv\n",
            "  Renamed: 33_14_2002.csv -> 21_14_2002.csv\n",
            "  Renamed: 6_07_2002.csv -> 3_07_2002.csv\n",
            "  Renamed: 7_07_2002.csv -> 4_07_2002.csv\n",
            "  Renamed: 8_07_2002.csv -> 5_07_2002.csv\n",
            "  Renamed: 13_07_2002.csv -> 6_07_2002.csv\n",
            "  Renamed: 14_07_2002.csv -> 7_07_2002.csv\n",
            "  Renamed: 15_07_2002.csv -> 8_07_2002.csv\n",
            "  Renamed: 16_07_2002.csv -> 9_07_2002.csv\n",
            "  Renamed: 17_07_2002.csv -> 10_07_2002.csv\n",
            "  Renamed: 18_07_2002.csv -> 11_07_2002.csv\n",
            "  Renamed: 19_07_2002.csv -> 12_07_2002.csv\n",
            "  Renamed: 20_07_2002.csv -> 13_07_2002.csv\n",
            "  Renamed: 21_07_2002.csv -> 14_07_2002.csv\n",
            "  Renamed: 22_07_2002.csv -> 15_07_2002.csv\n",
            "  Renamed: 6_12_2002.csv -> 4_12_2002.csv\n",
            "  Renamed: 7_12_2002.csv -> 5_12_2002.csv\n",
            "  Renamed: 8_12_2002.csv -> 6_12_2002.csv\n",
            "  Renamed: 9_12_2002.csv -> 7_12_2002.csv\n",
            "  Renamed: 10_12_2002.csv -> 8_12_2002.csv\n",
            "  Renamed: 11_12_2002.csv -> 9_12_2002.csv\n",
            "  Renamed: 12_12_2002.csv -> 10_12_2002.csv\n",
            "  Renamed: 13_12_2002.csv -> 11_12_2002.csv\n",
            "  Renamed: 14_12_2002.csv -> 12_12_2002.csv\n",
            "  Renamed: 15_12_2002.csv -> 13_12_2002.csv\n",
            "  Renamed: 16_12_2002.csv -> 14_12_2002.csv\n",
            "  Renamed: 21_12_2002.csv -> 15_12_2002.csv\n",
            "  Renamed: 22_12_2002.csv -> 16_12_2002.csv\n",
            "  Renamed: 23_12_2002.csv -> 17_12_2002.csv\n",
            "  Renamed: 24_12_2002.csv -> 18_12_2002.csv\n",
            "  Renamed: 25_12_2002.csv -> 19_12_2002.csv\n",
            "  Renamed: 26_12_2002.csv -> 20_12_2002.csv\n",
            "  Renamed: 3_05_2002.csv -> 2_05_2002.csv\n",
            "  Renamed: 4_05_2002.csv -> 3_05_2002.csv\n",
            "  Renamed: 5_05_2002.csv -> 4_05_2002.csv\n",
            "  Renamed: 9_05_2002.csv -> 5_05_2002.csv\n",
            "  Renamed: 10_05_2002.csv -> 6_05_2002.csv\n",
            "  Renamed: 13_05_2002.csv -> 7_05_2002.csv\n",
            "  Renamed: 14_05_2002.csv -> 8_05_2002.csv\n",
            "  Renamed: 15_05_2002.csv -> 9_05_2002.csv\n",
            "  Renamed: 16_05_2002.csv -> 10_05_2002.csv\n",
            "  Renamed: 18_05_2002.csv -> 11_05_2002.csv\n",
            "  Renamed: 20_05_2002.csv -> 12_05_2002.csv\n",
            "  Renamed: 24_05_2002.csv -> 13_05_2002.csv\n",
            "  Renamed: 29_05_2002.csv -> 14_05_2002.csv\n",
            "  Renamed: 30_05_2002.csv -> 15_05_2002.csv\n",
            "  Renamed: 31_05_2002.csv -> 16_05_2002.csv\n",
            "  Renamed: 32_05_2002.csv -> 17_05_2002.csv\n",
            "  Renamed: 33_05_2002.csv -> 18_05_2002.csv\n",
            "  Renamed: 36_05_2002.csv -> 19_05_2002.csv\n",
            "  Renamed: 37_05_2002.csv -> 20_05_2002.csv\n",
            "  Renamed: 38_05_2002.csv -> 21_05_2002.csv\n",
            "  Renamed: 8_02_2002.csv -> 6_02_2002.csv\n",
            "  Renamed: 9_02_2002.csv -> 7_02_2002.csv\n",
            "  Renamed: 10_02_2002.csv -> 8_02_2002.csv\n",
            "  Renamed: 11_02_2002.csv -> 9_02_2002.csv\n",
            "  Renamed: 12_02_2002.csv -> 10_02_2002.csv\n",
            "  Renamed: 13_02_2002.csv -> 11_02_2002.csv\n",
            "  Renamed: 14_02_2002.csv -> 12_02_2002.csv\n",
            "  Renamed: 15_02_2002.csv -> 13_02_2002.csv\n",
            "  Renamed: 8_11_2003.csv -> 5_11_2003.csv\n",
            "  Renamed: 9_11_2003.csv -> 6_11_2003.csv\n",
            "  Renamed: 10_11_2003.csv -> 7_11_2003.csv\n",
            "  Renamed: 9_08_2003.csv -> 8_08_2003.csv\n",
            "  Renamed: 10_08_2003.csv -> 9_08_2003.csv\n",
            "  Renamed: 11_08_2003.csv -> 10_08_2003.csv\n",
            "  Renamed: 12_08_2003.csv -> 11_08_2003.csv\n",
            "  Renamed: 13_08_2003.csv -> 12_08_2003.csv\n",
            "  Renamed: 15_08_2003.csv -> 13_08_2003.csv\n",
            "  Renamed: 19_08_2003.csv -> 14_08_2003.csv\n",
            "  Renamed: 20_08_2003.csv -> 15_08_2003.csv\n",
            "  Renamed: 22_08_2003.csv -> 16_08_2003.csv\n",
            "  Renamed: 23_08_2003.csv -> 17_08_2003.csv\n",
            "  Renamed: 24_08_2003.csv -> 18_08_2003.csv\n",
            "  Renamed: 25_08_2003.csv -> 19_08_2003.csv\n",
            "  Renamed: 26_08_2003.csv -> 20_08_2003.csv\n",
            "  Renamed: 27_08_2003.csv -> 21_08_2003.csv\n",
            "  Renamed: 30_08_2003.csv -> 22_08_2003.csv\n",
            "  Renamed: 31_08_2003.csv -> 23_08_2003.csv\n",
            "  Renamed: 11_01_2003.csv -> 7_01_2003.csv\n",
            "  Renamed: 12_01_2003.csv -> 8_01_2003.csv\n",
            "  Renamed: 14_03_2003.csv -> 9_03_2003.csv\n",
            "  Renamed: 15_03_2003.csv -> 10_03_2003.csv\n",
            "  Renamed: 16_03_2003.csv -> 11_03_2003.csv\n",
            "  Renamed: 17_03_2003.csv -> 12_03_2003.csv\n",
            "  Renamed: 18_03_2003.csv -> 13_03_2003.csv\n",
            "  Renamed: 19_03_2003.csv -> 14_03_2003.csv\n",
            "  Renamed: 20_03_2003.csv -> 15_03_2003.csv\n",
            "  Renamed: 8_10_2003.csv -> 2_10_2003.csv\n",
            "  Renamed: 10_10_2003.csv -> 3_10_2003.csv\n",
            "  Renamed: 11_10_2003.csv -> 4_10_2003.csv\n",
            "  Renamed: 12_10_2003.csv -> 5_10_2003.csv\n",
            "  Renamed: 13_10_2003.csv -> 6_10_2003.csv\n",
            "  Renamed: 15_10_2003.csv -> 7_10_2003.csv\n",
            "  Renamed: 19_10_2003.csv -> 8_10_2003.csv\n",
            "  Renamed: 20_10_2003.csv -> 9_10_2003.csv\n",
            "  Renamed: 21_10_2003.csv -> 10_10_2003.csv\n",
            "  Renamed: 22_10_2003.csv -> 11_10_2003.csv\n",
            "  Renamed: 23_10_2003.csv -> 12_10_2003.csv\n",
            "  Renamed: 24_10_2003.csv -> 13_10_2003.csv\n",
            "  Renamed: 13_13_2003.csv -> 10_13_2003.csv\n",
            "  Renamed: 14_13_2003.csv -> 11_13_2003.csv\n",
            "  Renamed: 15_13_2003.csv -> 12_13_2003.csv\n",
            "  Renamed: 16_13_2003.csv -> 13_13_2003.csv\n",
            "  Renamed: 17_13_2003.csv -> 14_13_2003.csv\n",
            "  Renamed: 18_13_2003.csv -> 15_13_2003.csv\n",
            "  Renamed: 19_13_2003.csv -> 16_13_2003.csv\n",
            "  Renamed: 9_09_2003.csv -> 8_09_2003.csv\n",
            "  Renamed: 10_09_2003.csv -> 9_09_2003.csv\n",
            "  Renamed: 12_09_2003.csv -> 10_09_2003.csv\n",
            "  Renamed: 13_09_2003.csv -> 11_09_2003.csv\n",
            "  Renamed: 14_09_2003.csv -> 12_09_2003.csv\n",
            "  Renamed: 15_09_2003.csv -> 13_09_2003.csv\n",
            "  Renamed: 16_09_2003.csv -> 14_09_2003.csv\n",
            "  Renamed: 7_14_2003.csv -> 4_14_2003.csv\n",
            "  Renamed: 16_14_2003.csv -> 5_14_2003.csv\n",
            "  Renamed: 17_14_2003.csv -> 6_14_2003.csv\n",
            "  Renamed: 18_14_2003.csv -> 7_14_2003.csv\n",
            "  Renamed: 19_14_2003.csv -> 8_14_2003.csv\n",
            "  Renamed: 20_14_2003.csv -> 9_14_2003.csv\n",
            "  Renamed: 21_14_2003.csv -> 10_14_2003.csv\n",
            "  Renamed: 22_14_2003.csv -> 11_14_2003.csv\n",
            "  Renamed: 23_14_2003.csv -> 12_14_2003.csv\n",
            "  Renamed: 24_14_2003.csv -> 13_14_2003.csv\n",
            "  Renamed: 25_14_2003.csv -> 14_14_2003.csv\n",
            "  Renamed: 26_14_2003.csv -> 15_14_2003.csv\n",
            "  Renamed: 27_14_2003.csv -> 16_14_2003.csv\n",
            "  Renamed: 28_14_2003.csv -> 17_14_2003.csv\n",
            "  Renamed: 29_14_2003.csv -> 18_14_2003.csv\n",
            "  Renamed: 30_14_2003.csv -> 19_14_2003.csv\n",
            "  Renamed: 31_14_2003.csv -> 20_14_2003.csv\n",
            "  Renamed: 32_14_2003.csv -> 21_14_2003.csv\n",
            "  Renamed: 33_14_2003.csv -> 22_14_2003.csv\n",
            "  Renamed: 34_14_2003.csv -> 23_14_2003.csv\n",
            "  Renamed: 7_07_2003.csv -> 4_07_2003.csv\n",
            "  Renamed: 8_07_2003.csv -> 5_07_2003.csv\n",
            "  Renamed: 13_07_2003.csv -> 6_07_2003.csv\n",
            "  Renamed: 14_07_2003.csv -> 7_07_2003.csv\n",
            "  Renamed: 15_07_2003.csv -> 8_07_2003.csv\n",
            "  Renamed: 16_07_2003.csv -> 9_07_2003.csv\n",
            "  Renamed: 17_07_2003.csv -> 10_07_2003.csv\n",
            "  Renamed: 18_07_2003.csv -> 11_07_2003.csv\n",
            "  Renamed: 19_07_2003.csv -> 12_07_2003.csv\n",
            "  Renamed: 20_07_2003.csv -> 13_07_2003.csv\n",
            "  Renamed: 21_07_2003.csv -> 14_07_2003.csv\n",
            "  Renamed: 22_07_2003.csv -> 15_07_2003.csv\n",
            "  Renamed: 7_12_2003.csv -> 5_12_2003.csv\n",
            "  Renamed: 8_12_2003.csv -> 6_12_2003.csv\n",
            "  Renamed: 9_12_2003.csv -> 7_12_2003.csv\n",
            "  Renamed: 10_12_2003.csv -> 8_12_2003.csv\n",
            "  Renamed: 11_12_2003.csv -> 9_12_2003.csv\n",
            "  Renamed: 12_12_2003.csv -> 10_12_2003.csv\n",
            "  Renamed: 13_12_2003.csv -> 11_12_2003.csv\n",
            "  Renamed: 14_12_2003.csv -> 12_12_2003.csv\n",
            "  Renamed: 15_12_2003.csv -> 13_12_2003.csv\n",
            "  Renamed: 16_12_2003.csv -> 14_12_2003.csv\n",
            "  Renamed: 17_12_2003.csv -> 15_12_2003.csv\n",
            "  Renamed: 22_12_2003.csv -> 16_12_2003.csv\n",
            "  Renamed: 23_12_2003.csv -> 17_12_2003.csv\n",
            "  Renamed: 24_12_2003.csv -> 18_12_2003.csv\n",
            "  Renamed: 25_12_2003.csv -> 19_12_2003.csv\n",
            "  Renamed: 26_12_2003.csv -> 20_12_2003.csv\n",
            "  Renamed: 27_12_2003.csv -> 21_12_2003.csv\n",
            "  Renamed: 3_05_2003.csv -> 2_05_2003.csv\n",
            "  Renamed: 4_05_2003.csv -> 3_05_2003.csv\n",
            "  Renamed: 5_05_2003.csv -> 4_05_2003.csv\n",
            "  Renamed: 9_05_2003.csv -> 5_05_2003.csv\n",
            "  Renamed: 11_05_2003.csv -> 6_05_2003.csv\n",
            "  Renamed: 12_05_2003.csv -> 7_05_2003.csv\n",
            "  Renamed: 13_05_2003.csv -> 8_05_2003.csv\n",
            "  Renamed: 17_05_2003.csv -> 9_05_2003.csv\n",
            "  Renamed: 18_05_2003.csv -> 10_05_2003.csv\n",
            "  Renamed: 19_05_2003.csv -> 11_05_2003.csv\n",
            "  Renamed: 20_05_2003.csv -> 12_05_2003.csv\n",
            "  Renamed: 22_05_2003.csv -> 13_05_2003.csv\n",
            "  Renamed: 23_05_2003.csv -> 14_05_2003.csv\n",
            "  Renamed: 25_05_2003.csv -> 15_05_2003.csv\n",
            "  Renamed: 30_05_2003.csv -> 16_05_2003.csv\n",
            "  Renamed: 31_05_2003.csv -> 17_05_2003.csv\n",
            "  Renamed: 32_05_2003.csv -> 18_05_2003.csv\n",
            "  Renamed: 37_05_2003.csv -> 19_05_2003.csv\n",
            "  Renamed: 38_05_2003.csv -> 20_05_2003.csv\n",
            "  Renamed: 39_05_2003.csv -> 21_05_2003.csv\n",
            "  Renamed: 40_05_2003.csv -> 22_05_2003.csv\n",
            "  Renamed: 41_05_2003.csv -> 23_05_2003.csv\n",
            "  Renamed: 42_05_2003.csv -> 24_05_2003.csv\n",
            "  Renamed: 43_05_2003.csv -> 25_05_2003.csv\n",
            "  Renamed: 44_05_2003.csv -> 26_05_2003.csv\n",
            "  Renamed: 45_05_2003.csv -> 27_05_2003.csv\n",
            "  Renamed: 46_05_2003.csv -> 28_05_2003.csv\n",
            "  Renamed: 47_05_2003.csv -> 29_05_2003.csv\n",
            "  Renamed: 48_05_2003.csv -> 30_05_2003.csv\n",
            "  Renamed: 49_05_2003.csv -> 31_05_2003.csv\n",
            "  Renamed: 11_02_2003.csv -> 9_02_2003.csv\n",
            "  Renamed: 12_02_2003.csv -> 10_02_2003.csv\n",
            "  Renamed: 13_02_2003.csv -> 11_02_2003.csv\n",
            "  Renamed: 14_02_2003.csv -> 12_02_2003.csv\n",
            "  Renamed: 15_02_2003.csv -> 13_02_2003.csv\n",
            "  Renamed: 9_08_2004.csv -> 8_08_2004.csv\n",
            "  Renamed: 10_08_2004.csv -> 9_08_2004.csv\n",
            "  Renamed: 11_08_2004.csv -> 10_08_2004.csv\n",
            "  Renamed: 12_08_2004.csv -> 11_08_2004.csv\n",
            "  Renamed: 13_08_2004.csv -> 12_08_2004.csv\n",
            "  Renamed: 14_08_2004.csv -> 13_08_2004.csv\n",
            "  Renamed: 15_08_2004.csv -> 14_08_2004.csv\n",
            "  Renamed: 16_08_2004.csv -> 15_08_2004.csv\n",
            "  Renamed: 17_08_2004.csv -> 16_08_2004.csv\n",
            "  Renamed: 18_08_2004.csv -> 17_08_2004.csv\n",
            "  Renamed: 19_08_2004.csv -> 18_08_2004.csv\n",
            "  Renamed: 20_08_2004.csv -> 19_08_2004.csv\n",
            "  Renamed: 21_08_2004.csv -> 20_08_2004.csv\n",
            "  Renamed: 23_08_2004.csv -> 21_08_2004.csv\n",
            "  Renamed: 27_08_2004.csv -> 22_08_2004.csv\n",
            "  Renamed: 28_08_2004.csv -> 23_08_2004.csv\n",
            "  Renamed: 30_08_2004.csv -> 24_08_2004.csv\n",
            "  Renamed: 31_08_2004.csv -> 25_08_2004.csv\n",
            "  Renamed: 32_08_2004.csv -> 26_08_2004.csv\n",
            "  Renamed: 33_08_2004.csv -> 27_08_2004.csv\n",
            "  Renamed: 34_08_2004.csv -> 28_08_2004.csv\n",
            "  Renamed: 35_08_2004.csv -> 29_08_2004.csv\n",
            "  Renamed: 36_08_2004.csv -> 30_08_2004.csv\n",
            "  Renamed: 39_08_2004.csv -> 31_08_2004.csv\n",
            "  Renamed: 40_08_2004.csv -> 32_08_2004.csv\n",
            "  Renamed: 11_01_2004.csv -> 7_01_2004.csv\n",
            "  Renamed: 12_01_2004.csv -> 8_01_2004.csv\n",
            "  Renamed: 13_01_2004.csv -> 9_01_2004.csv\n",
            "  Renamed: 14_03_2004.csv -> 9_03_2004.csv\n",
            "  Renamed: 15_03_2004.csv -> 10_03_2004.csv\n",
            "  Renamed: 16_03_2004.csv -> 11_03_2004.csv\n",
            "  Renamed: 17_03_2004.csv -> 12_03_2004.csv\n",
            "  Renamed: 18_03_2004.csv -> 13_03_2004.csv\n",
            "  Renamed: 19_03_2004.csv -> 14_03_2004.csv\n",
            "  Renamed: 20_03_2004.csv -> 15_03_2004.csv\n",
            "  Renamed: 21_03_2004.csv -> 16_03_2004.csv\n",
            "  Renamed: 7_10_2004.csv -> 2_10_2004.csv\n",
            "  Renamed: 9_10_2004.csv -> 3_10_2004.csv\n",
            "  Renamed: 10_10_2004.csv -> 4_10_2004.csv\n",
            "  Renamed: 11_10_2004.csv -> 5_10_2004.csv\n",
            "  Renamed: 12_10_2004.csv -> 6_10_2004.csv\n",
            "  Renamed: 13_10_2004.csv -> 7_10_2004.csv\n",
            "  Renamed: 14_10_2004.csv -> 8_10_2004.csv\n",
            "  Renamed: 15_10_2004.csv -> 9_10_2004.csv\n",
            "  Renamed: 16_10_2004.csv -> 10_10_2004.csv\n",
            "  Renamed: 17_10_2004.csv -> 11_10_2004.csv\n",
            "  Renamed: 18_10_2004.csv -> 12_10_2004.csv\n",
            "  Renamed: 19_10_2004.csv -> 13_10_2004.csv\n",
            "  Renamed: 20_10_2004.csv -> 14_10_2004.csv\n",
            "  Renamed: 21_10_2004.csv -> 15_10_2004.csv\n",
            "  Renamed: 12_13_2004.csv -> 10_13_2004.csv\n",
            "  Renamed: 13_13_2004.csv -> 11_13_2004.csv\n",
            "  Renamed: 14_13_2004.csv -> 12_13_2004.csv\n",
            "  Renamed: 15_13_2004.csv -> 13_13_2004.csv\n",
            "  Renamed: 16_13_2004.csv -> 14_13_2004.csv\n",
            "  Renamed: 17_13_2004.csv -> 15_13_2004.csv\n",
            "  Renamed: 18_13_2004.csv -> 16_13_2004.csv\n",
            "  Renamed: 19_13_2004.csv -> 17_13_2004.csv\n",
            "  Renamed: 20_13_2004.csv -> 18_13_2004.csv\n",
            "  Renamed: 6_14_2004.csv -> 4_14_2004.csv\n",
            "  Renamed: 16_14_2004.csv -> 5_14_2004.csv\n",
            "  Renamed: 17_14_2004.csv -> 6_14_2004.csv\n",
            "  Renamed: 18_14_2004.csv -> 7_14_2004.csv\n",
            "  Renamed: 19_14_2004.csv -> 8_14_2004.csv\n",
            "  Renamed: 20_14_2004.csv -> 9_14_2004.csv\n",
            "  Renamed: 21_14_2004.csv -> 10_14_2004.csv\n",
            "  Renamed: 22_14_2004.csv -> 11_14_2004.csv\n",
            "  Renamed: 23_14_2004.csv -> 12_14_2004.csv\n",
            "  Renamed: 24_14_2004.csv -> 13_14_2004.csv\n",
            "  Renamed: 25_14_2004.csv -> 14_14_2004.csv\n",
            "  Renamed: 26_14_2004.csv -> 15_14_2004.csv\n",
            "  Renamed: 27_14_2004.csv -> 16_14_2004.csv\n",
            "  Renamed: 28_14_2004.csv -> 17_14_2004.csv\n",
            "  Renamed: 29_14_2004.csv -> 18_14_2004.csv\n",
            "  Renamed: 30_14_2004.csv -> 19_14_2004.csv\n",
            "  Renamed: 31_14_2004.csv -> 20_14_2004.csv\n",
            "  Renamed: 32_14_2004.csv -> 21_14_2004.csv\n",
            "  Renamed: 33_14_2004.csv -> 22_14_2004.csv\n",
            "  Renamed: 34_14_2004.csv -> 23_14_2004.csv\n",
            "  Renamed: 35_14_2004.csv -> 24_14_2004.csv\n",
            "  Renamed: 5_07_2004.csv -> 3_07_2004.csv\n",
            "  Renamed: 6_07_2004.csv -> 4_07_2004.csv\n",
            "  Renamed: 10_07_2004.csv -> 5_07_2004.csv\n",
            "  Renamed: 11_07_2004.csv -> 6_07_2004.csv\n",
            "  Renamed: 12_07_2004.csv -> 7_07_2004.csv\n",
            "  Renamed: 13_07_2004.csv -> 8_07_2004.csv\n",
            "  Renamed: 14_07_2004.csv -> 9_07_2004.csv\n",
            "  Renamed: 15_07_2004.csv -> 10_07_2004.csv\n",
            "  Renamed: 16_07_2004.csv -> 11_07_2004.csv\n",
            "  Renamed: 17_07_2004.csv -> 12_07_2004.csv\n",
            "  Renamed: 18_07_2004.csv -> 13_07_2004.csv\n",
            "  Renamed: 19_07_2004.csv -> 14_07_2004.csv\n",
            "  Renamed: 20_07_2004.csv -> 15_07_2004.csv\n",
            "  Renamed: 7_12_2004.csv -> 5_12_2004.csv\n",
            "  Renamed: 8_12_2004.csv -> 6_12_2004.csv\n",
            "  Renamed: 9_12_2004.csv -> 7_12_2004.csv\n",
            "  Renamed: 10_12_2004.csv -> 8_12_2004.csv\n",
            "  Renamed: 11_12_2004.csv -> 9_12_2004.csv\n",
            "  Renamed: 12_12_2004.csv -> 10_12_2004.csv\n",
            "  Renamed: 13_12_2004.csv -> 11_12_2004.csv\n",
            "  Renamed: 14_12_2004.csv -> 12_12_2004.csv\n",
            "  Renamed: 15_12_2004.csv -> 13_12_2004.csv\n",
            "  Renamed: 16_12_2004.csv -> 14_12_2004.csv\n",
            "  Renamed: 17_12_2004.csv -> 15_12_2004.csv\n",
            "  Renamed: 18_12_2004.csv -> 16_12_2004.csv\n",
            "  Renamed: 23_12_2004.csv -> 17_12_2004.csv\n",
            "  Renamed: 24_12_2004.csv -> 18_12_2004.csv\n",
            "  Renamed: 25_12_2004.csv -> 19_12_2004.csv\n",
            "  Renamed: 26_12_2004.csv -> 20_12_2004.csv\n",
            "  Renamed: 27_12_2004.csv -> 21_12_2004.csv\n",
            "  Renamed: 28_12_2004.csv -> 22_12_2004.csv\n",
            "  Renamed: 30_12_2004.csv -> 23_12_2004.csv\n",
            "  Renamed: 31_12_2004.csv -> 24_12_2004.csv\n",
            "  Renamed: 3_05_2004.csv -> 2_05_2004.csv\n",
            "  Renamed: 4_05_2004.csv -> 3_05_2004.csv\n",
            "  Renamed: 5_05_2004.csv -> 4_05_2004.csv\n",
            "  Renamed: 9_05_2004.csv -> 5_05_2004.csv\n",
            "  Renamed: 11_05_2004.csv -> 6_05_2004.csv\n",
            "  Renamed: 12_05_2004.csv -> 7_05_2004.csv\n",
            "  Renamed: 13_05_2004.csv -> 8_05_2004.csv\n",
            "  Renamed: 14_05_2004.csv -> 9_05_2004.csv\n",
            "  Renamed: 15_05_2004.csv -> 10_05_2004.csv\n",
            "  Renamed: 17_05_2004.csv -> 11_05_2004.csv\n",
            "  Renamed: 19_05_2004.csv -> 12_05_2004.csv\n",
            "  Renamed: 22_05_2004.csv -> 13_05_2004.csv\n",
            "  Renamed: 23_05_2004.csv -> 14_05_2004.csv\n",
            "  Renamed: 24_05_2004.csv -> 15_05_2004.csv\n",
            "  Renamed: 25_05_2004.csv -> 16_05_2004.csv\n",
            "  Renamed: 27_05_2004.csv -> 17_05_2004.csv\n",
            "  Renamed: 32_05_2004.csv -> 18_05_2004.csv\n",
            "  Renamed: 33_05_2004.csv -> 19_05_2004.csv\n",
            "  Renamed: 34_05_2004.csv -> 20_05_2004.csv\n",
            "  Renamed: 35_05_2004.csv -> 21_05_2004.csv\n",
            "  Renamed: 36_05_2004.csv -> 22_05_2004.csv\n",
            "  Renamed: 37_05_2004.csv -> 23_05_2004.csv\n",
            "  Renamed: 38_05_2004.csv -> 24_05_2004.csv\n",
            "  Renamed: 39_05_2004.csv -> 25_05_2004.csv\n",
            "  Renamed: 40_05_2004.csv -> 26_05_2004.csv\n",
            "  Renamed: 41_05_2004.csv -> 27_05_2004.csv\n",
            "  Renamed: 42_05_2004.csv -> 28_05_2004.csv\n",
            "  Renamed: 43_05_2004.csv -> 29_05_2004.csv\n",
            "  Renamed: 7_08_2005.csv -> 6_08_2005.csv\n",
            "  Renamed: 8_08_2005.csv -> 7_08_2005.csv\n",
            "  Renamed: 9_08_2005.csv -> 8_08_2005.csv\n",
            "  Renamed: 10_08_2005.csv -> 9_08_2005.csv\n",
            "  Renamed: 11_08_2005.csv -> 10_08_2005.csv\n",
            "  Renamed: 12_08_2005.csv -> 11_08_2005.csv\n",
            "  Renamed: 13_08_2005.csv -> 12_08_2005.csv\n",
            "  Renamed: 14_08_2005.csv -> 13_08_2005.csv\n",
            "  Renamed: 15_08_2005.csv -> 14_08_2005.csv\n",
            "  Renamed: 16_08_2005.csv -> 15_08_2005.csv\n",
            "  Renamed: 17_08_2005.csv -> 16_08_2005.csv\n",
            "  Renamed: 18_08_2005.csv -> 17_08_2005.csv\n",
            "  Renamed: 19_08_2005.csv -> 18_08_2005.csv\n",
            "  Renamed: 20_08_2005.csv -> 19_08_2005.csv\n",
            "  Renamed: 21_08_2005.csv -> 20_08_2005.csv\n",
            "  Renamed: 22_08_2005.csv -> 21_08_2005.csv\n",
            "  Renamed: 25_08_2005.csv -> 22_08_2005.csv\n",
            "  Renamed: 26_08_2005.csv -> 23_08_2005.csv\n",
            "  Renamed: 28_08_2005.csv -> 24_08_2005.csv\n",
            "  Renamed: 29_08_2005.csv -> 25_08_2005.csv\n",
            "  Renamed: 30_08_2005.csv -> 26_08_2005.csv\n",
            "  Renamed: 31_08_2005.csv -> 27_08_2005.csv\n",
            "  Renamed: 32_08_2005.csv -> 28_08_2005.csv\n",
            "  Renamed: 33_08_2005.csv -> 29_08_2005.csv\n",
            "  Renamed: 34_08_2005.csv -> 30_08_2005.csv\n",
            "  Renamed: 35_08_2005.csv -> 31_08_2005.csv\n",
            "  Renamed: 36_08_2005.csv -> 32_08_2005.csv\n",
            "  Renamed: 6_10_2005.csv -> 2_10_2005.csv\n",
            "  Renamed: 7_10_2005.csv -> 3_10_2005.csv\n",
            "  Renamed: 8_10_2005.csv -> 4_10_2005.csv\n",
            "  Renamed: 9_10_2005.csv -> 5_10_2005.csv\n",
            "  Renamed: 10_10_2005.csv -> 6_10_2005.csv\n",
            "  Renamed: 11_10_2005.csv -> 7_10_2005.csv\n",
            "  Renamed: 12_10_2005.csv -> 8_10_2005.csv\n",
            "  Renamed: 13_10_2005.csv -> 9_10_2005.csv\n",
            "  Renamed: 14_10_2005.csv -> 10_10_2005.csv\n",
            "  Renamed: 15_10_2005.csv -> 11_10_2005.csv\n",
            "  Renamed: 16_10_2005.csv -> 12_10_2005.csv\n",
            "  Renamed: 17_10_2005.csv -> 13_10_2005.csv\n",
            "  Renamed: 18_10_2005.csv -> 14_10_2005.csv\n",
            "  Renamed: 12_13_2005.csv -> 10_13_2005.csv\n",
            "  Renamed: 13_13_2005.csv -> 11_13_2005.csv\n",
            "  Renamed: 14_13_2005.csv -> 12_13_2005.csv\n",
            "  Renamed: 15_13_2005.csv -> 13_13_2005.csv\n",
            "  Renamed: 16_13_2005.csv -> 14_13_2005.csv\n",
            "  Renamed: 17_13_2005.csv -> 15_13_2005.csv\n",
            "  Renamed: 18_13_2005.csv -> 16_13_2005.csv\n",
            "  Renamed: 19_13_2005.csv -> 17_13_2005.csv\n",
            "  Renamed: 20_13_2005.csv -> 18_13_2005.csv\n",
            "  Renamed: 13_09_2005.csv -> 12_09_2005.csv\n",
            "  Renamed: 14_09_2005.csv -> 13_09_2005.csv\n",
            "  Renamed: 16_09_2005.csv -> 14_09_2005.csv\n",
            "  Renamed: 17_09_2005.csv -> 15_09_2005.csv\n",
            "  Renamed: 18_09_2005.csv -> 16_09_2005.csv\n",
            "  Renamed: 6_14_2005.csv -> 5_14_2005.csv\n",
            "  Renamed: 7_14_2005.csv -> 6_14_2005.csv\n",
            "  Renamed: 8_14_2005.csv -> 7_14_2005.csv\n",
            "  Renamed: 9_14_2005.csv -> 8_14_2005.csv\n",
            "  Renamed: 10_14_2005.csv -> 9_14_2005.csv\n",
            "  Renamed: 11_14_2005.csv -> 10_14_2005.csv\n",
            "  Renamed: 12_14_2005.csv -> 11_14_2005.csv\n",
            "  Renamed: 13_14_2005.csv -> 12_14_2005.csv\n",
            "  Renamed: 14_14_2005.csv -> 13_14_2005.csv\n",
            "  Renamed: 15_14_2005.csv -> 14_14_2005.csv\n",
            "  Renamed: 16_14_2005.csv -> 15_14_2005.csv\n",
            "  Renamed: 17_14_2005.csv -> 16_14_2005.csv\n",
            "  Renamed: 18_14_2005.csv -> 17_14_2005.csv\n",
            "  Renamed: 19_14_2005.csv -> 18_14_2005.csv\n",
            "  Renamed: 20_14_2005.csv -> 19_14_2005.csv\n",
            "  Renamed: 21_14_2005.csv -> 20_14_2005.csv\n",
            "  Renamed: 22_14_2005.csv -> 21_14_2005.csv\n",
            "  Renamed: 23_14_2005.csv -> 22_14_2005.csv\n",
            "  Renamed: 24_14_2005.csv -> 23_14_2005.csv\n",
            "  Renamed: 25_14_2005.csv -> 24_14_2005.csv\n",
            "  Renamed: 26_14_2005.csv -> 25_14_2005.csv\n",
            "  Renamed: 5_07_2005.csv -> 3_07_2005.csv\n",
            "  Renamed: 6_07_2005.csv -> 4_07_2005.csv\n",
            "  Renamed: 7_07_2005.csv -> 5_07_2005.csv\n",
            "  Renamed: 11_07_2005.csv -> 6_07_2005.csv\n",
            "  Renamed: 12_07_2005.csv -> 7_07_2005.csv\n",
            "  Renamed: 13_07_2005.csv -> 8_07_2005.csv\n",
            "  Renamed: 14_07_2005.csv -> 9_07_2005.csv\n",
            "  Renamed: 15_07_2005.csv -> 10_07_2005.csv\n",
            "  Renamed: 16_07_2005.csv -> 11_07_2005.csv\n",
            "  Renamed: 17_07_2005.csv -> 12_07_2005.csv\n",
            "  Renamed: 18_07_2005.csv -> 13_07_2005.csv\n",
            "  Renamed: 19_07_2005.csv -> 14_07_2005.csv\n",
            "  Renamed: 20_07_2005.csv -> 15_07_2005.csv\n",
            "  Renamed: 21_07_2005.csv -> 16_07_2005.csv\n",
            "  Renamed: 6_12_2005.csv -> 5_12_2005.csv\n",
            "  Renamed: 7_12_2005.csv -> 6_12_2005.csv\n",
            "  Renamed: 8_12_2005.csv -> 7_12_2005.csv\n",
            "  Renamed: 9_12_2005.csv -> 8_12_2005.csv\n",
            "  Renamed: 10_12_2005.csv -> 9_12_2005.csv\n",
            "  Renamed: 11_12_2005.csv -> 10_12_2005.csv\n",
            "  Renamed: 12_12_2005.csv -> 11_12_2005.csv\n",
            "  Renamed: 13_12_2005.csv -> 12_12_2005.csv\n",
            "  Renamed: 14_12_2005.csv -> 13_12_2005.csv\n",
            "  Renamed: 16_12_2005.csv -> 14_12_2005.csv\n",
            "  Renamed: 17_12_2005.csv -> 15_12_2005.csv\n",
            "  Renamed: 19_12_2005.csv -> 16_12_2005.csv\n",
            "  Renamed: 20_12_2005.csv -> 17_12_2005.csv\n",
            "  Renamed: 21_12_2005.csv -> 18_12_2005.csv\n",
            "  Renamed: 22_12_2005.csv -> 19_12_2005.csv\n",
            "  Renamed: 23_12_2005.csv -> 20_12_2005.csv\n",
            "  Renamed: 4_11_2006.csv -> 3_11_2006.csv\n",
            "  Renamed: 5_11_2006.csv -> 4_11_2006.csv\n",
            "  Renamed: 7_08_2006.csv -> 6_08_2006.csv\n",
            "  Renamed: 8_08_2006.csv -> 7_08_2006.csv\n",
            "  Renamed: 9_08_2006.csv -> 8_08_2006.csv\n",
            "  Renamed: 10_08_2006.csv -> 9_08_2006.csv\n",
            "  Renamed: 11_08_2006.csv -> 10_08_2006.csv\n",
            "  Renamed: 12_08_2006.csv -> 11_08_2006.csv\n",
            "  Renamed: 13_08_2006.csv -> 12_08_2006.csv\n",
            "  Renamed: 14_08_2006.csv -> 13_08_2006.csv\n",
            "  Renamed: 15_08_2006.csv -> 14_08_2006.csv\n",
            "  Renamed: 16_08_2006.csv -> 15_08_2006.csv\n",
            "  Renamed: 17_08_2006.csv -> 16_08_2006.csv\n",
            "  Renamed: 18_08_2006.csv -> 17_08_2006.csv\n",
            "  Renamed: 19_08_2006.csv -> 18_08_2006.csv\n",
            "  Renamed: 20_08_2006.csv -> 19_08_2006.csv\n",
            "  Renamed: 22_08_2006.csv -> 20_08_2006.csv\n",
            "  Renamed: 25_08_2006.csv -> 21_08_2006.csv\n",
            "  Renamed: 26_08_2006.csv -> 22_08_2006.csv\n",
            "  Renamed: 27_08_2006.csv -> 23_08_2006.csv\n",
            "  Renamed: 28_08_2006.csv -> 24_08_2006.csv\n",
            "  Renamed: 29_08_2006.csv -> 25_08_2006.csv\n",
            "  Renamed: 30_08_2006.csv -> 26_08_2006.csv\n",
            "  Renamed: 31_08_2006.csv -> 27_08_2006.csv\n",
            "  Renamed: 32_08_2006.csv -> 28_08_2006.csv\n",
            "  Renamed: 33_08_2006.csv -> 29_08_2006.csv\n",
            "  Renamed: 34_08_2006.csv -> 30_08_2006.csv\n",
            "  Renamed: 35_08_2006.csv -> 31_08_2006.csv\n",
            "  Renamed: 36_08_2006.csv -> 32_08_2006.csv\n",
            "  Renamed: 8_01_2006.csv -> 7_01_2006.csv\n",
            "  Renamed: 9_01_2006.csv -> 8_01_2006.csv\n",
            "  Renamed: 10_01_2006.csv -> 9_01_2006.csv\n",
            "  Renamed: 14_01_2006.csv -> 10_01_2006.csv\n",
            "  Renamed: 6_03_2006.csv -> 5_03_2006.csv\n",
            "  Renamed: 7_03_2006.csv -> 6_03_2006.csv\n",
            "  Renamed: 8_03_2006.csv -> 7_03_2006.csv\n",
            "  Renamed: 9_03_2006.csv -> 8_03_2006.csv\n",
            "  Renamed: 13_03_2006.csv -> 9_03_2006.csv\n",
            "  Renamed: 14_03_2006.csv -> 10_03_2006.csv\n",
            "  Renamed: 15_03_2006.csv -> 11_03_2006.csv\n",
            "  Renamed: 16_03_2006.csv -> 12_03_2006.csv\n",
            "  Renamed: 17_03_2006.csv -> 13_03_2006.csv\n",
            "  Renamed: 18_03_2006.csv -> 14_03_2006.csv\n",
            "  Renamed: 19_03_2006.csv -> 15_03_2006.csv\n",
            "  Renamed: 20_03_2006.csv -> 16_03_2006.csv\n",
            "  Renamed: 4_10_2006.csv -> 2_10_2006.csv\n",
            "  Renamed: 5_10_2006.csv -> 3_10_2006.csv\n",
            "  Renamed: 6_10_2006.csv -> 4_10_2006.csv\n",
            "  Renamed: 7_10_2006.csv -> 5_10_2006.csv\n",
            "  Renamed: 12_10_2006.csv -> 6_10_2006.csv\n",
            "  Renamed: 13_10_2006.csv -> 7_10_2006.csv\n",
            "  Renamed: 14_10_2006.csv -> 8_10_2006.csv\n",
            "  Renamed: 15_10_2006.csv -> 9_10_2006.csv\n",
            "  Renamed: 16_10_2006.csv -> 10_10_2006.csv\n",
            "  Renamed: 17_10_2006.csv -> 11_10_2006.csv\n",
            "  Renamed: 19_10_2006.csv -> 12_10_2006.csv\n",
            "  Renamed: 20_10_2006.csv -> 13_10_2006.csv\n",
            "  Renamed: 21_10_2006.csv -> 14_10_2006.csv\n",
            "  Renamed: 22_10_2006.csv -> 15_10_2006.csv\n",
            "  Renamed: 23_10_2006.csv -> 16_10_2006.csv\n",
            "  Renamed: 13_13_2006.csv -> 12_13_2006.csv\n",
            "  Renamed: 14_13_2006.csv -> 13_13_2006.csv\n",
            "  Renamed: 15_13_2006.csv -> 14_13_2006.csv\n",
            "  Renamed: 16_13_2006.csv -> 15_13_2006.csv\n",
            "  Renamed: 17_13_2006.csv -> 16_13_2006.csv\n",
            "  Renamed: 18_13_2006.csv -> 17_13_2006.csv\n",
            "  Renamed: 19_13_2006.csv -> 18_13_2006.csv\n",
            "  Renamed: 21_13_2006.csv -> 19_13_2006.csv\n",
            "  Renamed: 22_13_2006.csv -> 20_13_2006.csv\n",
            "  Renamed: 14_09_2006.csv -> 13_09_2006.csv\n",
            "  Renamed: 15_09_2006.csv -> 14_09_2006.csv\n",
            "  Renamed: 17_09_2006.csv -> 15_09_2006.csv\n",
            "  Renamed: 18_09_2006.csv -> 16_09_2006.csv\n",
            "  Renamed: 19_09_2006.csv -> 17_09_2006.csv\n",
            "  Renamed: 20_09_2006.csv -> 18_09_2006.csv\n",
            "  Renamed: 7_14_2006.csv -> 4_14_2006.csv\n",
            "  Renamed: 8_14_2006.csv -> 5_14_2006.csv\n",
            "  Renamed: 9_14_2006.csv -> 6_14_2006.csv\n",
            "  Renamed: 10_14_2006.csv -> 7_14_2006.csv\n",
            "  Renamed: 15_14_2006.csv -> 8_14_2006.csv\n",
            "  Renamed: 16_14_2006.csv -> 9_14_2006.csv\n",
            "  Renamed: 17_14_2006.csv -> 10_14_2006.csv\n",
            "  Renamed: 18_14_2006.csv -> 11_14_2006.csv\n",
            "  Renamed: 19_14_2006.csv -> 12_14_2006.csv\n",
            "  Renamed: 20_14_2006.csv -> 13_14_2006.csv\n",
            "  Renamed: 21_14_2006.csv -> 14_14_2006.csv\n",
            "  Renamed: 22_14_2006.csv -> 15_14_2006.csv\n",
            "  Renamed: 23_14_2006.csv -> 16_14_2006.csv\n",
            "  Renamed: 24_14_2006.csv -> 17_14_2006.csv\n",
            "  Renamed: 25_14_2006.csv -> 18_14_2006.csv\n",
            "  Renamed: 26_14_2006.csv -> 19_14_2006.csv\n",
            "  Renamed: 27_14_2006.csv -> 20_14_2006.csv\n",
            "  Renamed: 28_14_2006.csv -> 21_14_2006.csv\n",
            "  Renamed: 29_14_2006.csv -> 22_14_2006.csv\n",
            "  Renamed: 30_14_2006.csv -> 23_14_2006.csv\n",
            "  Renamed: 31_14_2006.csv -> 24_14_2006.csv\n",
            "  Renamed: 32_14_2006.csv -> 25_14_2006.csv\n",
            "  Renamed: 33_14_2006.csv -> 26_14_2006.csv\n",
            "  Renamed: 34_14_2006.csv -> 27_14_2006.csv\n",
            "  Renamed: 35_14_2006.csv -> 28_14_2006.csv\n",
            "  Renamed: 36_14_2006.csv -> 29_14_2006.csv\n",
            "  Renamed: 37_14_2006.csv -> 30_14_2006.csv\n",
            "  Renamed: 5_07_2006.csv -> 3_07_2006.csv\n",
            "  Renamed: 6_07_2006.csv -> 4_07_2006.csv\n",
            "  Renamed: 7_07_2006.csv -> 5_07_2006.csv\n",
            "  Renamed: 10_07_2006.csv -> 6_07_2006.csv\n",
            "  Renamed: 11_07_2006.csv -> 7_07_2006.csv\n",
            "  Renamed: 12_07_2006.csv -> 8_07_2006.csv\n",
            "  Renamed: 13_07_2006.csv -> 9_07_2006.csv\n",
            "  Renamed: 14_07_2006.csv -> 10_07_2006.csv\n",
            "  Renamed: 15_07_2006.csv -> 11_07_2006.csv\n",
            "  Renamed: 16_07_2006.csv -> 12_07_2006.csv\n",
            "  Renamed: 17_07_2006.csv -> 13_07_2006.csv\n",
            "  Renamed: 18_07_2006.csv -> 14_07_2006.csv\n",
            "  Renamed: 19_07_2006.csv -> 15_07_2006.csv\n",
            "  Renamed: 20_07_2006.csv -> 16_07_2006.csv\n",
            "  Renamed: 9_12_2006.csv -> 4_12_2006.csv\n",
            "  Renamed: 10_12_2006.csv -> 5_12_2006.csv\n",
            "  Renamed: 12_12_2006.csv -> 6_12_2006.csv\n",
            "  Renamed: 13_12_2006.csv -> 7_12_2006.csv\n",
            "  Renamed: 14_12_2006.csv -> 8_12_2006.csv\n",
            "  Renamed: 16_12_2006.csv -> 9_12_2006.csv\n",
            "  Renamed: 17_12_2006.csv -> 10_12_2006.csv\n",
            "  Renamed: 18_12_2006.csv -> 11_12_2006.csv\n",
            "  Renamed: 19_12_2006.csv -> 12_12_2006.csv\n",
            "  Renamed: 20_12_2006.csv -> 13_12_2006.csv\n",
            "  Renamed: 21_12_2006.csv -> 14_12_2006.csv\n",
            "  Renamed: 23_12_2006.csv -> 15_12_2006.csv\n",
            "  Renamed: 24_12_2006.csv -> 16_12_2006.csv\n",
            "  Renamed: 26_12_2006.csv -> 17_12_2006.csv\n",
            "  Renamed: 27_12_2006.csv -> 18_12_2006.csv\n",
            "  Renamed: 28_12_2006.csv -> 19_12_2006.csv\n",
            "  Renamed: 29_12_2006.csv -> 20_12_2006.csv\n",
            "  Renamed: 30_12_2006.csv -> 21_12_2006.csv\n",
            "  Renamed: 31_12_2006.csv -> 22_12_2006.csv\n",
            "  Renamed: 32_12_2006.csv -> 23_12_2006.csv\n",
            "  Renamed: 33_12_2006.csv -> 24_12_2006.csv\n",
            "  Renamed: 13_05_2006.csv -> 12_05_2006.csv\n",
            "  Renamed: 15_05_2006.csv -> 13_05_2006.csv\n",
            "  Renamed: 17_05_2006.csv -> 14_05_2006.csv\n",
            "  Renamed: 18_05_2006.csv -> 15_05_2006.csv\n",
            "  Renamed: 19_05_2006.csv -> 16_05_2006.csv\n",
            "  Renamed: 20_05_2006.csv -> 17_05_2006.csv\n",
            "  Renamed: 21_05_2006.csv -> 18_05_2006.csv\n",
            "  Renamed: 22_05_2006.csv -> 19_05_2006.csv\n",
            "  Renamed: 23_05_2006.csv -> 20_05_2006.csv\n",
            "  Renamed: 24_05_2006.csv -> 21_05_2006.csv\n",
            "  Renamed: 25_05_2006.csv -> 22_05_2006.csv\n",
            "  Renamed: 26_05_2006.csv -> 23_05_2006.csv\n",
            "  Renamed: 27_05_2006.csv -> 24_05_2006.csv\n",
            "  Renamed: 28_05_2006.csv -> 25_05_2006.csv\n",
            "  Renamed: 29_05_2006.csv -> 26_05_2006.csv\n",
            "  Renamed: 30_05_2006.csv -> 27_05_2006.csv\n",
            "  Renamed: 5_11_2007.csv -> 4_11_2007.csv\n",
            "  Renamed: 6_11_2007.csv -> 5_11_2007.csv\n",
            "  Renamed: 7_08_2007.csv -> 6_08_2007.csv\n",
            "  Renamed: 8_08_2007.csv -> 7_08_2007.csv\n",
            "  Renamed: 9_08_2007.csv -> 8_08_2007.csv\n",
            "  Renamed: 10_08_2007.csv -> 9_08_2007.csv\n",
            "  Renamed: 11_08_2007.csv -> 10_08_2007.csv\n",
            "  Renamed: 12_08_2007.csv -> 11_08_2007.csv\n",
            "  Renamed: 13_08_2007.csv -> 12_08_2007.csv\n",
            "  Renamed: 14_08_2007.csv -> 13_08_2007.csv\n",
            "  Renamed: 15_08_2007.csv -> 14_08_2007.csv\n",
            "  Renamed: 16_08_2007.csv -> 15_08_2007.csv\n",
            "  Renamed: 17_08_2007.csv -> 16_08_2007.csv\n",
            "  Renamed: 19_08_2007.csv -> 17_08_2007.csv\n",
            "  Renamed: 23_08_2007.csv -> 18_08_2007.csv\n",
            "  Renamed: 24_08_2007.csv -> 19_08_2007.csv\n",
            "  Renamed: 25_08_2007.csv -> 20_08_2007.csv\n",
            "  Renamed: 26_08_2007.csv -> 21_08_2007.csv\n",
            "  Renamed: 27_08_2007.csv -> 22_08_2007.csv\n",
            "  Renamed: 28_08_2007.csv -> 23_08_2007.csv\n",
            "  Renamed: 29_08_2007.csv -> 24_08_2007.csv\n",
            "  Renamed: 30_08_2007.csv -> 25_08_2007.csv\n",
            "  Renamed: 31_08_2007.csv -> 26_08_2007.csv\n",
            "  Renamed: 32_08_2007.csv -> 27_08_2007.csv\n",
            "  Renamed: 33_08_2007.csv -> 28_08_2007.csv\n",
            "  Renamed: 8_01_2007.csv -> 7_01_2007.csv\n",
            "  Renamed: 9_01_2007.csv -> 8_01_2007.csv\n",
            "  Renamed: 10_01_2007.csv -> 9_01_2007.csv\n",
            "  Renamed: 13_01_2007.csv -> 10_01_2007.csv\n",
            "  Renamed: 9_03_2007.csv -> 6_03_2007.csv\n",
            "  Renamed: 10_03_2007.csv -> 7_03_2007.csv\n",
            "  Renamed: 11_03_2007.csv -> 8_03_2007.csv\n",
            "  Renamed: 12_03_2007.csv -> 9_03_2007.csv\n",
            "  Renamed: 17_03_2007.csv -> 10_03_2007.csv\n",
            "  Renamed: 18_03_2007.csv -> 11_03_2007.csv\n",
            "  Renamed: 19_03_2007.csv -> 12_03_2007.csv\n",
            "  Renamed: 20_03_2007.csv -> 13_03_2007.csv\n",
            "  Renamed: 21_03_2007.csv -> 14_03_2007.csv\n",
            "  Renamed: 22_03_2007.csv -> 15_03_2007.csv\n",
            "  Renamed: 23_03_2007.csv -> 16_03_2007.csv\n",
            "  Renamed: 24_03_2007.csv -> 17_03_2007.csv\n",
            "  Renamed: 3_10_2007.csv -> 2_10_2007.csv\n",
            "  Renamed: 4_10_2007.csv -> 3_10_2007.csv\n",
            "  Renamed: 5_10_2007.csv -> 4_10_2007.csv\n",
            "  Renamed: 6_10_2007.csv -> 5_10_2007.csv\n",
            "  Renamed: 8_10_2007.csv -> 6_10_2007.csv\n",
            "  Renamed: 9_10_2007.csv -> 7_10_2007.csv\n",
            "  Renamed: 10_10_2007.csv -> 8_10_2007.csv\n",
            "  Renamed: 11_10_2007.csv -> 9_10_2007.csv\n",
            "  Renamed: 12_10_2007.csv -> 10_10_2007.csv\n",
            "  Renamed: 13_10_2007.csv -> 11_10_2007.csv\n",
            "  Renamed: 14_10_2007.csv -> 12_10_2007.csv\n",
            "  Renamed: 15_10_2007.csv -> 13_10_2007.csv\n",
            "  Renamed: 16_10_2007.csv -> 14_10_2007.csv\n",
            "  Renamed: 17_10_2007.csv -> 15_10_2007.csv\n",
            "  Renamed: 18_10_2007.csv -> 16_10_2007.csv\n",
            "  Renamed: 19_10_2007.csv -> 17_10_2007.csv\n",
            "  Renamed: 20_10_2007.csv -> 18_10_2007.csv\n",
            "  Renamed: 14_13_2007.csv -> 13_13_2007.csv\n",
            "  Renamed: 15_13_2007.csv -> 14_13_2007.csv\n",
            "  Renamed: 16_13_2007.csv -> 15_13_2007.csv\n",
            "  Renamed: 17_13_2007.csv -> 16_13_2007.csv\n",
            "  Renamed: 18_13_2007.csv -> 17_13_2007.csv\n",
            "  Renamed: 19_13_2007.csv -> 18_13_2007.csv\n",
            "  Renamed: 20_13_2007.csv -> 19_13_2007.csv\n",
            "  Renamed: 22_13_2007.csv -> 20_13_2007.csv\n",
            "  Renamed: 23_13_2007.csv -> 21_13_2007.csv\n",
            "  Renamed: 14_09_2007.csv -> 13_09_2007.csv\n",
            "  Renamed: 15_09_2007.csv -> 14_09_2007.csv\n",
            "  Renamed: 17_09_2007.csv -> 15_09_2007.csv\n",
            "  Renamed: 18_09_2007.csv -> 16_09_2007.csv\n",
            "  Renamed: 19_09_2007.csv -> 17_09_2007.csv\n",
            "  Renamed: 20_09_2007.csv -> 18_09_2007.csv\n",
            "  Renamed: 21_09_2007.csv -> 19_09_2007.csv\n",
            "  Renamed: 8_14_2007.csv -> 4_14_2007.csv\n",
            "  Renamed: 9_14_2007.csv -> 5_14_2007.csv\n",
            "  Renamed: 15_14_2007.csv -> 6_14_2007.csv\n",
            "  Renamed: 16_14_2007.csv -> 7_14_2007.csv\n",
            "  Renamed: 17_14_2007.csv -> 8_14_2007.csv\n",
            "  Renamed: 18_14_2007.csv -> 9_14_2007.csv\n",
            "  Renamed: 19_14_2007.csv -> 10_14_2007.csv\n",
            "  Renamed: 20_14_2007.csv -> 11_14_2007.csv\n",
            "  Renamed: 21_14_2007.csv -> 12_14_2007.csv\n",
            "  Renamed: 22_14_2007.csv -> 13_14_2007.csv\n",
            "  Renamed: 23_14_2007.csv -> 14_14_2007.csv\n",
            "  Renamed: 24_14_2007.csv -> 15_14_2007.csv\n",
            "  Renamed: 25_14_2007.csv -> 16_14_2007.csv\n",
            "  Renamed: 26_14_2007.csv -> 17_14_2007.csv\n",
            "  Renamed: 27_14_2007.csv -> 18_14_2007.csv\n",
            "  Renamed: 28_14_2007.csv -> 19_14_2007.csv\n",
            "  Renamed: 29_14_2007.csv -> 20_14_2007.csv\n",
            "  Renamed: 30_14_2007.csv -> 21_14_2007.csv\n",
            "  Renamed: 31_14_2007.csv -> 22_14_2007.csv\n",
            "  Renamed: 32_14_2007.csv -> 23_14_2007.csv\n",
            "  Renamed: 34_14_2007.csv -> 24_14_2007.csv\n",
            "  Renamed: 35_14_2007.csv -> 25_14_2007.csv\n",
            "  Renamed: 5_07_2007.csv -> 3_07_2007.csv\n",
            "  Renamed: 6_07_2007.csv -> 4_07_2007.csv\n",
            "  Renamed: 7_07_2007.csv -> 5_07_2007.csv\n",
            "  Renamed: 8_07_2007.csv -> 6_07_2007.csv\n",
            "  Renamed: 9_07_2007.csv -> 7_07_2007.csv\n",
            "  Renamed: 12_07_2007.csv -> 8_07_2007.csv\n",
            "  Renamed: 13_07_2007.csv -> 9_07_2007.csv\n",
            "  Renamed: 14_07_2007.csv -> 10_07_2007.csv\n",
            "  Renamed: 15_07_2007.csv -> 11_07_2007.csv\n",
            "  Renamed: 16_07_2007.csv -> 12_07_2007.csv\n",
            "  Renamed: 17_07_2007.csv -> 13_07_2007.csv\n",
            "  Renamed: 18_07_2007.csv -> 14_07_2007.csv\n",
            "  Renamed: 19_07_2007.csv -> 15_07_2007.csv\n",
            "  Renamed: 20_07_2007.csv -> 16_07_2007.csv\n",
            "  Renamed: 21_07_2007.csv -> 17_07_2007.csv\n",
            "  Renamed: 22_07_2007.csv -> 18_07_2007.csv\n",
            "  Renamed: 23_07_2007.csv -> 19_07_2007.csv\n",
            "  Renamed: 7_12_2007.csv -> 5_12_2007.csv\n",
            "  Renamed: 8_12_2007.csv -> 6_12_2007.csv\n",
            "  Renamed: 10_12_2007.csv -> 7_12_2007.csv\n",
            "  Renamed: 11_12_2007.csv -> 8_12_2007.csv\n",
            "  Renamed: 12_12_2007.csv -> 9_12_2007.csv\n",
            "  Renamed: 13_12_2007.csv -> 10_12_2007.csv\n",
            "  Renamed: 14_12_2007.csv -> 11_12_2007.csv\n",
            "  Renamed: 15_12_2007.csv -> 12_12_2007.csv\n",
            "  Renamed: 16_12_2007.csv -> 13_12_2007.csv\n",
            "  Renamed: 17_12_2007.csv -> 14_12_2007.csv\n",
            "  Renamed: 18_12_2007.csv -> 15_12_2007.csv\n",
            "  Renamed: 19_12_2007.csv -> 16_12_2007.csv\n",
            "  Renamed: 20_12_2007.csv -> 17_12_2007.csv\n",
            "  Renamed: 21_12_2007.csv -> 18_12_2007.csv\n",
            "  Renamed: 22_12_2007.csv -> 19_12_2007.csv\n",
            "  Renamed: 24_12_2007.csv -> 20_12_2007.csv\n",
            "  Renamed: 25_12_2007.csv -> 21_12_2007.csv\n",
            "  Renamed: 26_12_2007.csv -> 22_12_2007.csv\n",
            "  Renamed: 27_12_2007.csv -> 23_12_2007.csv\n",
            "  Renamed: 28_12_2007.csv -> 24_12_2007.csv\n",
            "  Renamed: 29_12_2007.csv -> 25_12_2007.csv\n",
            "  Renamed: 30_12_2007.csv -> 26_12_2007.csv\n",
            "  Renamed: 31_12_2007.csv -> 27_12_2007.csv\n",
            "  Renamed: 32_12_2007.csv -> 28_12_2007.csv\n",
            "  Renamed: 33_12_2007.csv -> 29_12_2007.csv\n",
            "  Renamed: 34_12_2007.csv -> 30_12_2007.csv\n",
            "  Renamed: 7_05_2007.csv -> 6_05_2007.csv\n",
            "  Renamed: 8_05_2007.csv -> 7_05_2007.csv\n",
            "  Renamed: 9_05_2007.csv -> 8_05_2007.csv\n",
            "  Renamed: 10_05_2007.csv -> 9_05_2007.csv\n",
            "  Renamed: 11_05_2007.csv -> 10_05_2007.csv\n",
            "  Renamed: 12_05_2007.csv -> 11_05_2007.csv\n",
            "  Renamed: 13_05_2007.csv -> 12_05_2007.csv\n",
            "  Renamed: 14_05_2007.csv -> 13_05_2007.csv\n",
            "  Renamed: 17_05_2007.csv -> 14_05_2007.csv\n",
            "  Renamed: 19_05_2007.csv -> 15_05_2007.csv\n",
            "  Renamed: 20_05_2007.csv -> 16_05_2007.csv\n",
            "  Renamed: 21_05_2007.csv -> 17_05_2007.csv\n",
            "  Renamed: 22_05_2007.csv -> 18_05_2007.csv\n",
            "  Renamed: 24_05_2007.csv -> 19_05_2007.csv\n",
            "  Renamed: 25_05_2007.csv -> 20_05_2007.csv\n",
            "  Renamed: 26_05_2007.csv -> 21_05_2007.csv\n",
            "  Renamed: 27_05_2007.csv -> 22_05_2007.csv\n",
            "  Renamed: 28_05_2007.csv -> 23_05_2007.csv\n",
            "  Renamed: 29_05_2007.csv -> 24_05_2007.csv\n",
            "  Renamed: 30_05_2007.csv -> 25_05_2007.csv\n",
            "  Renamed: 31_05_2007.csv -> 26_05_2007.csv\n",
            "  Renamed: 9_02_2007.csv -> 8_02_2007.csv\n",
            "  Renamed: 10_02_2007.csv -> 9_02_2007.csv\n",
            "  Renamed: 11_02_2007.csv -> 10_02_2007.csv\n",
            "  Renamed: 12_02_2007.csv -> 11_02_2007.csv\n",
            "  Renamed: 13_02_2007.csv -> 12_02_2007.csv\n",
            "  Renamed: 5_11_2008.csv -> 4_11_2008.csv\n",
            "  Renamed: 6_11_2008.csv -> 5_11_2008.csv\n",
            "  Renamed: 7_11_2008.csv -> 6_11_2008.csv\n",
            "  Renamed: 7_08_2008.csv -> 6_08_2008.csv\n",
            "  Renamed: 8_08_2008.csv -> 7_08_2008.csv\n",
            "  Renamed: 9_08_2008.csv -> 8_08_2008.csv\n",
            "  Renamed: 10_08_2008.csv -> 9_08_2008.csv\n",
            "  Renamed: 11_08_2008.csv -> 10_08_2008.csv\n",
            "  Renamed: 12_08_2008.csv -> 11_08_2008.csv\n",
            "  Renamed: 13_08_2008.csv -> 12_08_2008.csv\n",
            "  Renamed: 14_08_2008.csv -> 13_08_2008.csv\n",
            "  Renamed: 15_08_2008.csv -> 14_08_2008.csv\n",
            "  Renamed: 16_08_2008.csv -> 15_08_2008.csv\n",
            "  Renamed: 17_08_2008.csv -> 16_08_2008.csv\n",
            "  Renamed: 18_08_2008.csv -> 17_08_2008.csv\n",
            "  Renamed: 19_08_2008.csv -> 18_08_2008.csv\n",
            "  Renamed: 20_08_2008.csv -> 19_08_2008.csv\n",
            "  Renamed: 21_08_2008.csv -> 20_08_2008.csv\n",
            "  Renamed: 23_08_2008.csv -> 21_08_2008.csv\n",
            "  Renamed: 25_08_2008.csv -> 22_08_2008.csv\n",
            "  Renamed: 27_08_2008.csv -> 23_08_2008.csv\n",
            "  Renamed: 28_08_2008.csv -> 24_08_2008.csv\n",
            "  Renamed: 29_08_2008.csv -> 25_08_2008.csv\n",
            "  Renamed: 30_08_2008.csv -> 26_08_2008.csv\n",
            "  Renamed: 31_08_2008.csv -> 27_08_2008.csv\n",
            "  Renamed: 32_08_2008.csv -> 28_08_2008.csv\n",
            "  Renamed: 33_08_2008.csv -> 29_08_2008.csv\n",
            "  Renamed: 34_08_2008.csv -> 30_08_2008.csv\n",
            "  Renamed: 35_08_2008.csv -> 31_08_2008.csv\n",
            "  Renamed: 36_08_2008.csv -> 32_08_2008.csv\n",
            "  Renamed: 38_08_2008.csv -> 33_08_2008.csv\n",
            "  Renamed: 39_08_2008.csv -> 34_08_2008.csv\n",
            "  Renamed: 40_08_2008.csv -> 35_08_2008.csv\n",
            "  Renamed: 41_08_2008.csv -> 36_08_2008.csv\n",
            "  Renamed: 12_01_2008.csv -> 7_01_2008.csv\n",
            "  Renamed: 13_01_2008.csv -> 8_01_2008.csv\n",
            "  Renamed: 14_01_2008.csv -> 9_01_2008.csv\n",
            "  Renamed: 18_01_2008.csv -> 10_01_2008.csv\n",
            "  Renamed: 8_03_2008.csv -> 5_03_2008.csv\n",
            "  Renamed: 9_03_2008.csv -> 6_03_2008.csv\n",
            "  Renamed: 10_03_2008.csv -> 7_03_2008.csv\n",
            "  Renamed: 11_03_2008.csv -> 8_03_2008.csv\n",
            "  Renamed: 12_03_2008.csv -> 9_03_2008.csv\n",
            "  Renamed: 16_03_2008.csv -> 10_03_2008.csv\n",
            "  Renamed: 17_03_2008.csv -> 11_03_2008.csv\n",
            "  Renamed: 18_03_2008.csv -> 12_03_2008.csv\n",
            "  Renamed: 19_03_2008.csv -> 13_03_2008.csv\n",
            "  Renamed: 20_03_2008.csv -> 14_03_2008.csv\n",
            "  Renamed: 21_03_2008.csv -> 15_03_2008.csv\n",
            "  Renamed: 22_03_2008.csv -> 16_03_2008.csv\n",
            "  Renamed: 23_03_2008.csv -> 17_03_2008.csv\n",
            "  Renamed: 24_03_2008.csv -> 18_03_2008.csv\n",
            "  Renamed: 25_03_2008.csv -> 19_03_2008.csv\n",
            "  Renamed: 4_10_2008.csv -> 2_10_2008.csv\n",
            "  Renamed: 5_10_2008.csv -> 3_10_2008.csv\n",
            "  Renamed: 6_10_2008.csv -> 4_10_2008.csv\n",
            "  Renamed: 7_10_2008.csv -> 5_10_2008.csv\n",
            "  Renamed: 9_10_2008.csv -> 6_10_2008.csv\n",
            "  Renamed: 10_10_2008.csv -> 7_10_2008.csv\n",
            "  Renamed: 11_10_2008.csv -> 8_10_2008.csv\n",
            "  Renamed: 12_10_2008.csv -> 9_10_2008.csv\n",
            "  Renamed: 13_10_2008.csv -> 10_10_2008.csv\n",
            "  Renamed: 14_10_2008.csv -> 11_10_2008.csv\n",
            "  Renamed: 15_10_2008.csv -> 12_10_2008.csv\n",
            "  Renamed: 16_10_2008.csv -> 13_10_2008.csv\n",
            "  Renamed: 17_10_2008.csv -> 14_10_2008.csv\n",
            "  Renamed: 18_10_2008.csv -> 15_10_2008.csv\n",
            "  Renamed: 13_13_2008.csv -> 12_13_2008.csv\n",
            "  Renamed: 14_13_2008.csv -> 13_13_2008.csv\n",
            "  Renamed: 15_13_2008.csv -> 14_13_2008.csv\n",
            "  Renamed: 16_13_2008.csv -> 15_13_2008.csv\n",
            "  Renamed: 18_13_2008.csv -> 16_13_2008.csv\n",
            "  Renamed: 19_13_2008.csv -> 17_13_2008.csv\n",
            "  Renamed: 20_13_2008.csv -> 18_13_2008.csv\n",
            "  Renamed: 21_13_2008.csv -> 19_13_2008.csv\n",
            "  Renamed: 22_13_2008.csv -> 20_13_2008.csv\n",
            "  Renamed: 23_13_2008.csv -> 21_13_2008.csv\n",
            "  Renamed: 9_09_2008.csv -> 8_09_2008.csv\n",
            "  Renamed: 10_09_2008.csv -> 9_09_2008.csv\n",
            "  Renamed: 12_09_2008.csv -> 10_09_2008.csv\n",
            "  Renamed: 13_09_2008.csv -> 11_09_2008.csv\n",
            "  Renamed: 17_09_2008.csv -> 12_09_2008.csv\n",
            "  Renamed: 18_09_2008.csv -> 13_09_2008.csv\n",
            "  Renamed: 19_09_2008.csv -> 14_09_2008.csv\n",
            "  Renamed: 20_09_2008.csv -> 15_09_2008.csv\n",
            "  Renamed: 21_09_2008.csv -> 16_09_2008.csv\n",
            "  Renamed: 4_06_2008.csv -> 3_06_2008.csv\n",
            "  Renamed: 5_06_2008.csv -> 4_06_2008.csv\n",
            "  Renamed: 6_06_2008.csv -> 5_06_2008.csv\n",
            "  Renamed: 7_06_2008.csv -> 6_06_2008.csv\n",
            "  Renamed: 6_14_2008.csv -> 4_14_2008.csv\n",
            "  Renamed: 7_14_2008.csv -> 5_14_2008.csv\n",
            "  Renamed: 14_14_2008.csv -> 6_14_2008.csv\n",
            "  Renamed: 15_14_2008.csv -> 7_14_2008.csv\n",
            "  Renamed: 17_14_2008.csv -> 8_14_2008.csv\n",
            "  Renamed: 18_14_2008.csv -> 9_14_2008.csv\n",
            "  Renamed: 19_14_2008.csv -> 10_14_2008.csv\n",
            "  Renamed: 20_14_2008.csv -> 11_14_2008.csv\n",
            "  Renamed: 21_14_2008.csv -> 12_14_2008.csv\n",
            "  Renamed: 22_14_2008.csv -> 13_14_2008.csv\n",
            "  Renamed: 23_14_2008.csv -> 14_14_2008.csv\n",
            "  Renamed: 24_14_2008.csv -> 15_14_2008.csv\n",
            "  Renamed: 25_14_2008.csv -> 16_14_2008.csv\n",
            "  Renamed: 26_14_2008.csv -> 17_14_2008.csv\n",
            "  Renamed: 27_14_2008.csv -> 18_14_2008.csv\n",
            "  Renamed: 28_14_2008.csv -> 19_14_2008.csv\n",
            "  Renamed: 29_14_2008.csv -> 20_14_2008.csv\n",
            "  Renamed: 30_14_2008.csv -> 21_14_2008.csv\n",
            "  Renamed: 31_14_2008.csv -> 22_14_2008.csv\n",
            "  Renamed: 32_14_2008.csv -> 23_14_2008.csv\n",
            "  Renamed: 33_14_2008.csv -> 24_14_2008.csv\n",
            "  Renamed: 34_14_2008.csv -> 25_14_2008.csv\n",
            "  Renamed: 35_14_2008.csv -> 26_14_2008.csv\n",
            "  Renamed: 36_14_2008.csv -> 27_14_2008.csv\n",
            "  Renamed: 37_14_2008.csv -> 28_14_2008.csv\n",
            "  Renamed: 38_14_2008.csv -> 29_14_2008.csv\n",
            "  Renamed: 39_14_2008.csv -> 30_14_2008.csv\n",
            "  Renamed: 6_07_2008.csv -> 4_07_2008.csv\n",
            "  Renamed: 7_07_2008.csv -> 5_07_2008.csv\n",
            "  Renamed: 8_07_2008.csv -> 6_07_2008.csv\n",
            "  Renamed: 9_07_2008.csv -> 7_07_2008.csv\n",
            "  Renamed: 10_07_2008.csv -> 8_07_2008.csv\n",
            "  Renamed: 11_07_2008.csv -> 9_07_2008.csv\n",
            "  Renamed: 12_07_2008.csv -> 10_07_2008.csv\n",
            "  Renamed: 17_07_2008.csv -> 11_07_2008.csv\n",
            "  Renamed: 18_07_2008.csv -> 12_07_2008.csv\n",
            "  Renamed: 19_07_2008.csv -> 13_07_2008.csv\n",
            "  Renamed: 20_07_2008.csv -> 14_07_2008.csv\n",
            "  Renamed: 21_07_2008.csv -> 15_07_2008.csv\n",
            "  Renamed: 22_07_2008.csv -> 16_07_2008.csv\n",
            "  Renamed: 23_07_2008.csv -> 17_07_2008.csv\n",
            "  Renamed: 24_07_2008.csv -> 18_07_2008.csv\n",
            "  Renamed: 25_07_2008.csv -> 19_07_2008.csv\n",
            "  Renamed: 26_07_2008.csv -> 20_07_2008.csv\n",
            "  Renamed: 27_07_2008.csv -> 21_07_2008.csv\n",
            "  Renamed: 28_07_2008.csv -> 22_07_2008.csv\n",
            "  Renamed: 29_07_2008.csv -> 23_07_2008.csv\n",
            "  Renamed: 30_07_2008.csv -> 24_07_2008.csv\n",
            "  Renamed: 7_12_2008.csv -> 5_12_2008.csv\n",
            "  Renamed: 8_12_2008.csv -> 6_12_2008.csv\n",
            "  Renamed: 10_12_2008.csv -> 7_12_2008.csv\n",
            "  Renamed: 11_12_2008.csv -> 8_12_2008.csv\n",
            "  Renamed: 12_12_2008.csv -> 9_12_2008.csv\n",
            "  Renamed: 13_12_2008.csv -> 10_12_2008.csv\n",
            "  Renamed: 14_12_2008.csv -> 11_12_2008.csv\n",
            "  Renamed: 15_12_2008.csv -> 12_12_2008.csv\n",
            "  Renamed: 16_12_2008.csv -> 13_12_2008.csv\n",
            "  Renamed: 17_12_2008.csv -> 14_12_2008.csv\n",
            "  Renamed: 18_12_2008.csv -> 15_12_2008.csv\n",
            "  Renamed: 19_12_2008.csv -> 16_12_2008.csv\n",
            "  Renamed: 20_12_2008.csv -> 17_12_2008.csv\n",
            "  Renamed: 21_12_2008.csv -> 18_12_2008.csv\n",
            "  Renamed: 22_12_2008.csv -> 19_12_2008.csv\n",
            "  Renamed: 24_12_2008.csv -> 20_12_2008.csv\n",
            "  Renamed: 25_12_2008.csv -> 21_12_2008.csv\n",
            "  Renamed: 26_12_2008.csv -> 22_12_2008.csv\n",
            "  Renamed: 27_12_2008.csv -> 23_12_2008.csv\n",
            "  Renamed: 28_12_2008.csv -> 24_12_2008.csv\n",
            "  Renamed: 29_12_2008.csv -> 25_12_2008.csv\n",
            "  Renamed: 32_12_2008.csv -> 26_12_2008.csv\n",
            "  Renamed: 33_12_2008.csv -> 27_12_2008.csv\n",
            "  Renamed: 35_12_2008.csv -> 28_12_2008.csv\n",
            "  Renamed: 36_12_2008.csv -> 29_12_2008.csv\n",
            "  Renamed: 38_12_2008.csv -> 30_12_2008.csv\n",
            "  Renamed: 39_12_2008.csv -> 31_12_2008.csv\n",
            "  Renamed: 41_12_2008.csv -> 32_12_2008.csv\n",
            "  Renamed: 11_05_2008.csv -> 8_05_2008.csv\n",
            "  Renamed: 12_05_2008.csv -> 9_05_2008.csv\n",
            "  Renamed: 13_05_2008.csv -> 10_05_2008.csv\n",
            "  Renamed: 14_05_2008.csv -> 11_05_2008.csv\n",
            "  Renamed: 15_05_2008.csv -> 12_05_2008.csv\n",
            "  Renamed: 16_05_2008.csv -> 13_05_2008.csv\n",
            "  Renamed: 17_05_2008.csv -> 14_05_2008.csv\n",
            "  Renamed: 20_05_2008.csv -> 15_05_2008.csv\n",
            "  Renamed: 23_05_2008.csv -> 16_05_2008.csv\n",
            "  Renamed: 24_05_2008.csv -> 17_05_2008.csv\n",
            "  Renamed: 26_05_2008.csv -> 18_05_2008.csv\n",
            "  Renamed: 28_05_2008.csv -> 19_05_2008.csv\n",
            "  Renamed: 29_05_2008.csv -> 20_05_2008.csv\n",
            "  Renamed: 30_05_2008.csv -> 21_05_2008.csv\n",
            "  Renamed: 31_05_2008.csv -> 22_05_2008.csv\n",
            "  Renamed: 32_05_2008.csv -> 23_05_2008.csv\n",
            "  Renamed: 33_05_2008.csv -> 24_05_2008.csv\n",
            "  Renamed: 4_02_2008.csv -> 3_02_2008.csv\n",
            "  Renamed: 5_02_2008.csv -> 4_02_2008.csv\n",
            "  Renamed: 6_02_2008.csv -> 5_02_2008.csv\n",
            "  Renamed: 7_02_2008.csv -> 6_02_2008.csv\n",
            "  Renamed: 8_02_2008.csv -> 7_02_2008.csv\n",
            "  Renamed: 9_02_2008.csv -> 8_02_2008.csv\n",
            "  Renamed: 10_02_2008.csv -> 9_02_2008.csv\n",
            "  Renamed: 13_02_2008.csv -> 10_02_2008.csv\n",
            "  Renamed: 14_02_2008.csv -> 11_02_2008.csv\n",
            "  Renamed: 15_02_2008.csv -> 12_02_2008.csv\n",
            "  Renamed: 4_11_2009.csv -> 3_11_2009.csv\n",
            "  Renamed: 5_11_2009.csv -> 4_11_2009.csv\n",
            "  Renamed: 6_11_2009.csv -> 5_11_2009.csv\n",
            "  Renamed: 26_08_2009.csv -> 24_08_2009.csv\n",
            "  Renamed: 27_08_2009.csv -> 25_08_2009.csv\n",
            "  Renamed: 28_08_2009.csv -> 26_08_2009.csv\n",
            "  Renamed: 29_08_2009.csv -> 27_08_2009.csv\n",
            "  Renamed: 30_08_2009.csv -> 28_08_2009.csv\n",
            "  Renamed: 31_08_2009.csv -> 29_08_2009.csv\n",
            "  Renamed: 33_08_2009.csv -> 30_08_2009.csv\n",
            "  Renamed: 34_08_2009.csv -> 31_08_2009.csv\n",
            "  Renamed: 35_08_2009.csv -> 32_08_2009.csv\n",
            "  Renamed: 36_08_2009.csv -> 33_08_2009.csv\n",
            "  Renamed: 37_08_2009.csv -> 34_08_2009.csv\n",
            "  Renamed: 38_08_2009.csv -> 35_08_2009.csv\n",
            "  Renamed: 39_08_2009.csv -> 36_08_2009.csv\n",
            "  Renamed: 10_01_2009.csv -> 7_01_2009.csv\n",
            "  Renamed: 11_01_2009.csv -> 8_01_2009.csv\n",
            "  Renamed: 12_01_2009.csv -> 9_01_2009.csv\n",
            "  Renamed: 13_01_2009.csv -> 10_01_2009.csv\n",
            "  Renamed: 7_03_2009.csv -> 5_03_2009.csv\n",
            "  Renamed: 8_03_2009.csv -> 6_03_2009.csv\n",
            "  Renamed: 10_03_2009.csv -> 7_03_2009.csv\n",
            "  Renamed: 11_03_2009.csv -> 8_03_2009.csv\n",
            "  Renamed: 12_03_2009.csv -> 9_03_2009.csv\n",
            "  Renamed: 13_03_2009.csv -> 10_03_2009.csv\n",
            "  Renamed: 14_03_2009.csv -> 11_03_2009.csv\n",
            "  Renamed: 15_03_2009.csv -> 12_03_2009.csv\n",
            "  Renamed: 16_03_2009.csv -> 13_03_2009.csv\n",
            "  Renamed: 17_03_2009.csv -> 14_03_2009.csv\n",
            "  Renamed: 18_03_2009.csv -> 15_03_2009.csv\n",
            "  Renamed: 19_03_2009.csv -> 16_03_2009.csv\n",
            "  Renamed: 20_03_2009.csv -> 17_03_2009.csv\n",
            "  Renamed: 3_10_2009.csv -> 2_10_2009.csv\n",
            "  Renamed: 4_10_2009.csv -> 3_10_2009.csv\n",
            "  Renamed: 5_10_2009.csv -> 4_10_2009.csv\n",
            "  Renamed: 6_10_2009.csv -> 5_10_2009.csv\n",
            "  Renamed: 9_10_2009.csv -> 6_10_2009.csv\n",
            "  Renamed: 10_10_2009.csv -> 7_10_2009.csv\n",
            "  Renamed: 11_10_2009.csv -> 8_10_2009.csv\n",
            "  Renamed: 12_10_2009.csv -> 9_10_2009.csv\n",
            "  Renamed: 13_10_2009.csv -> 10_10_2009.csv\n",
            "  Renamed: 14_10_2009.csv -> 11_10_2009.csv\n",
            "  Renamed: 15_10_2009.csv -> 12_10_2009.csv\n",
            "  Renamed: 16_10_2009.csv -> 13_10_2009.csv\n",
            "  Renamed: 17_10_2009.csv -> 14_10_2009.csv\n",
            "  Renamed: 18_10_2009.csv -> 15_10_2009.csv\n",
            "  Renamed: 19_10_2009.csv -> 16_10_2009.csv\n",
            "  Renamed: 20_10_2009.csv -> 17_10_2009.csv\n",
            "  Renamed: 21_10_2009.csv -> 18_10_2009.csv\n",
            "  Renamed: 3_09_2009.csv -> 2_09_2009.csv\n",
            "  Renamed: 5_09_2009.csv -> 3_09_2009.csv\n",
            "  Renamed: 6_09_2009.csv -> 4_09_2009.csv\n",
            "  Renamed: 7_09_2009.csv -> 5_09_2009.csv\n",
            "  Renamed: 8_09_2009.csv -> 6_09_2009.csv\n",
            "  Renamed: 9_09_2009.csv -> 7_09_2009.csv\n",
            "  Renamed: 10_09_2009.csv -> 8_09_2009.csv\n",
            "  Renamed: 12_09_2009.csv -> 9_09_2009.csv\n",
            "  Renamed: 13_09_2009.csv -> 10_09_2009.csv\n",
            "  Renamed: 14_09_2009.csv -> 11_09_2009.csv\n",
            "  Renamed: 15_09_2009.csv -> 12_09_2009.csv\n",
            "  Renamed: 16_09_2009.csv -> 13_09_2009.csv\n",
            "  Renamed: 17_09_2009.csv -> 14_09_2009.csv\n",
            "  Renamed: 18_09_2009.csv -> 15_09_2009.csv\n",
            "  Renamed: 20_09_2009.csv -> 16_09_2009.csv\n",
            "  Renamed: 6_14_2009.csv -> 3_14_2009.csv\n",
            "  Renamed: 7_14_2009.csv -> 4_14_2009.csv\n",
            "  Renamed: 13_14_2009.csv -> 5_14_2009.csv\n",
            "  Renamed: 14_14_2009.csv -> 6_14_2009.csv\n",
            "  Renamed: 15_14_2009.csv -> 7_14_2009.csv\n",
            "  Renamed: 16_14_2009.csv -> 8_14_2009.csv\n",
            "  Renamed: 17_14_2009.csv -> 9_14_2009.csv\n",
            "  Renamed: 18_14_2009.csv -> 10_14_2009.csv\n",
            "  Renamed: 19_14_2009.csv -> 11_14_2009.csv\n",
            "  Renamed: 20_14_2009.csv -> 12_14_2009.csv\n",
            "  Renamed: 21_14_2009.csv -> 13_14_2009.csv\n",
            "  Renamed: 22_14_2009.csv -> 14_14_2009.csv\n",
            "  Renamed: 23_14_2009.csv -> 15_14_2009.csv\n",
            "  Renamed: 24_14_2009.csv -> 16_14_2009.csv\n",
            "  Renamed: 25_14_2009.csv -> 17_14_2009.csv\n",
            "  Renamed: 26_14_2009.csv -> 18_14_2009.csv\n",
            "  Renamed: 27_14_2009.csv -> 19_14_2009.csv\n",
            "  Renamed: 28_14_2009.csv -> 20_14_2009.csv\n",
            "  Renamed: 29_14_2009.csv -> 21_14_2009.csv\n",
            "  Renamed: 30_14_2009.csv -> 22_14_2009.csv\n",
            "  Renamed: 31_14_2009.csv -> 23_14_2009.csv\n",
            "  Renamed: 32_14_2009.csv -> 24_14_2009.csv\n",
            "  Renamed: 33_14_2009.csv -> 25_14_2009.csv\n",
            "  Renamed: 34_14_2009.csv -> 26_14_2009.csv\n",
            "  Renamed: 35_14_2009.csv -> 27_14_2009.csv\n",
            "  Renamed: 36_14_2009.csv -> 28_14_2009.csv\n",
            "  Renamed: 37_14_2009.csv -> 29_14_2009.csv\n",
            "  Renamed: 38_14_2009.csv -> 30_14_2009.csv\n",
            "  Renamed: 39_14_2009.csv -> 31_14_2009.csv\n",
            "  Renamed: 40_14_2009.csv -> 32_14_2009.csv\n",
            "  Renamed: 41_14_2009.csv -> 33_14_2009.csv\n",
            "  Renamed: 42_14_2009.csv -> 34_14_2009.csv\n",
            "  Renamed: 5_07_2009.csv -> 4_07_2009.csv\n",
            "  Renamed: 7_07_2009.csv -> 5_07_2009.csv\n",
            "  Renamed: 9_07_2009.csv -> 6_07_2009.csv\n",
            "  Renamed: 10_07_2009.csv -> 7_07_2009.csv\n",
            "  Renamed: 11_07_2009.csv -> 8_07_2009.csv\n",
            "  Renamed: 12_07_2009.csv -> 9_07_2009.csv\n",
            "  Renamed: 13_07_2009.csv -> 10_07_2009.csv\n",
            "  Renamed: 14_07_2009.csv -> 11_07_2009.csv\n",
            "  Renamed: 15_07_2009.csv -> 12_07_2009.csv\n",
            "  Renamed: 16_07_2009.csv -> 13_07_2009.csv\n",
            "  Renamed: 17_07_2009.csv -> 14_07_2009.csv\n",
            "  Renamed: 18_07_2009.csv -> 15_07_2009.csv\n",
            "  Renamed: 19_07_2009.csv -> 16_07_2009.csv\n",
            "  Renamed: 20_07_2009.csv -> 17_07_2009.csv\n",
            "  Renamed: 21_07_2009.csv -> 18_07_2009.csv\n",
            "  Renamed: 22_07_2009.csv -> 19_07_2009.csv\n",
            "  Renamed: 23_07_2009.csv -> 20_07_2009.csv\n",
            "  Renamed: 24_07_2009.csv -> 21_07_2009.csv\n",
            "  Renamed: 25_07_2009.csv -> 22_07_2009.csv\n",
            "  Renamed: 26_07_2009.csv -> 23_07_2009.csv\n",
            "  Renamed: 27_07_2009.csv -> 24_07_2009.csv\n",
            "  Renamed: 28_07_2009.csv -> 25_07_2009.csv\n",
            "  Renamed: 6_12_2009.csv -> 5_12_2009.csv\n",
            "  Renamed: 7_12_2009.csv -> 6_12_2009.csv\n",
            "  Renamed: 8_12_2009.csv -> 7_12_2009.csv\n",
            "  Renamed: 9_12_2009.csv -> 8_12_2009.csv\n",
            "  Renamed: 10_12_2009.csv -> 9_12_2009.csv\n",
            "  Renamed: 11_12_2009.csv -> 10_12_2009.csv\n",
            "  Renamed: 12_12_2009.csv -> 11_12_2009.csv\n",
            "  Renamed: 13_12_2009.csv -> 12_12_2009.csv\n",
            "  Renamed: 14_12_2009.csv -> 13_12_2009.csv\n",
            "  Renamed: 16_12_2009.csv -> 14_12_2009.csv\n",
            "  Renamed: 17_12_2009.csv -> 15_12_2009.csv\n",
            "  Renamed: 18_12_2009.csv -> 16_12_2009.csv\n",
            "  Renamed: 19_12_2009.csv -> 17_12_2009.csv\n",
            "  Renamed: 20_12_2009.csv -> 18_12_2009.csv\n",
            "  Renamed: 21_12_2009.csv -> 19_12_2009.csv\n",
            "  Renamed: 22_12_2009.csv -> 20_12_2009.csv\n",
            "  Renamed: 24_12_2009.csv -> 21_12_2009.csv\n",
            "  Renamed: 25_12_2009.csv -> 22_12_2009.csv\n",
            "  Renamed: 26_12_2009.csv -> 23_12_2009.csv\n",
            "  Renamed: 27_12_2009.csv -> 24_12_2009.csv\n",
            "  Renamed: 28_12_2009.csv -> 25_12_2009.csv\n",
            "  Renamed: 29_12_2009.csv -> 26_12_2009.csv\n",
            "  Renamed: 30_12_2009.csv -> 27_12_2009.csv\n",
            "  Renamed: 31_12_2009.csv -> 28_12_2009.csv\n",
            "  Renamed: 32_12_2009.csv -> 29_12_2009.csv\n",
            "  Renamed: 33_12_2009.csv -> 30_12_2009.csv\n",
            "  Renamed: 34_12_2009.csv -> 31_12_2009.csv\n",
            "  Renamed: 35_12_2009.csv -> 32_12_2009.csv\n",
            "  Renamed: 36_12_2009.csv -> 33_12_2009.csv\n",
            "  Renamed: 37_12_2009.csv -> 34_12_2009.csv\n",
            "  Renamed: 38_12_2009.csv -> 35_12_2009.csv\n",
            "  Renamed: 40_12_2009.csv -> 36_12_2009.csv\n",
            "  Renamed: 2_05_2009.csv -> 1_05_2009.csv\n",
            "  Renamed: 3_05_2009.csv -> 2_05_2009.csv\n",
            "  Renamed: 4_05_2009.csv -> 3_05_2009.csv\n",
            "  Renamed: 5_05_2009.csv -> 4_05_2009.csv\n",
            "  Renamed: 6_05_2009.csv -> 5_05_2009.csv\n",
            "  Renamed: 7_05_2009.csv -> 6_05_2009.csv\n",
            "  Renamed: 8_05_2009.csv -> 7_05_2009.csv\n",
            "  Renamed: 10_05_2009.csv -> 8_05_2009.csv\n",
            "  Renamed: 11_05_2009.csv -> 9_05_2009.csv\n",
            "  Renamed: 12_05_2009.csv -> 10_05_2009.csv\n",
            "  Renamed: 13_05_2009.csv -> 11_05_2009.csv\n",
            "  Renamed: 14_05_2009.csv -> 12_05_2009.csv\n",
            "  Renamed: 15_05_2009.csv -> 13_05_2009.csv\n",
            "  Renamed: 16_05_2009.csv -> 14_05_2009.csv\n",
            "  Renamed: 17_05_2009.csv -> 15_05_2009.csv\n",
            "  Renamed: 18_05_2009.csv -> 16_05_2009.csv\n",
            "  Renamed: 20_05_2009.csv -> 17_05_2009.csv\n",
            "  Renamed: 21_05_2009.csv -> 18_05_2009.csv\n",
            "  Renamed: 25_05_2009.csv -> 19_05_2009.csv\n",
            "  Renamed: 27_05_2009.csv -> 20_05_2009.csv\n",
            "  Renamed: 29_05_2009.csv -> 21_05_2009.csv\n",
            "  Renamed: 31_05_2009.csv -> 22_05_2009.csv\n",
            "  Renamed: 32_05_2009.csv -> 23_05_2009.csv\n",
            "  Renamed: 33_05_2009.csv -> 24_05_2009.csv\n",
            "  Renamed: 34_05_2009.csv -> 25_05_2009.csv\n",
            "  Renamed: 35_05_2009.csv -> 26_05_2009.csv\n",
            "  Renamed: 36_05_2009.csv -> 27_05_2009.csv\n",
            "  Renamed: 37_05_2009.csv -> 28_05_2009.csv\n",
            "  Renamed: 38_05_2009.csv -> 29_05_2009.csv\n",
            "  Renamed: 39_05_2009.csv -> 30_05_2009.csv\n",
            "  Renamed: 3_04_2009.csv -> 2_04_2009.csv\n",
            "  Renamed: 4_04_2009.csv -> 3_04_2009.csv\n",
            "  Renamed: 5_04_2009.csv -> 4_04_2009.csv\n",
            "  Renamed: 6_04_2009.csv -> 5_04_2009.csv\n",
            "  Renamed: 7_04_2009.csv -> 6_04_2009.csv\n",
            "  Renamed: 8_04_2009.csv -> 7_04_2009.csv\n",
            "  Renamed: 9_04_2009.csv -> 8_04_2009.csv\n",
            "  Renamed: 10_04_2009.csv -> 9_04_2009.csv\n",
            "  Renamed: 11_04_2009.csv -> 10_04_2009.csv\n",
            "  Renamed: 12_04_2009.csv -> 11_04_2009.csv\n",
            "  Renamed: 13_04_2009.csv -> 12_04_2009.csv\n",
            "  Renamed: 14_04_2009.csv -> 13_04_2009.csv\n",
            "  Renamed: 15_04_2009.csv -> 14_04_2009.csv\n",
            "  Renamed: 16_04_2009.csv -> 15_04_2009.csv\n",
            "  Renamed: 4_02_2009.csv -> 3_02_2009.csv\n",
            "  Renamed: 5_02_2009.csv -> 4_02_2009.csv\n",
            "  Renamed: 6_02_2009.csv -> 5_02_2009.csv\n",
            "  Renamed: 7_02_2009.csv -> 6_02_2009.csv\n",
            "  Renamed: 8_02_2009.csv -> 7_02_2009.csv\n",
            "  Renamed: 9_02_2009.csv -> 8_02_2009.csv\n",
            "  Renamed: 10_02_2009.csv -> 9_02_2009.csv\n",
            "  Renamed: 11_02_2009.csv -> 10_02_2009.csv\n",
            "  Renamed: 12_02_2009.csv -> 11_02_2009.csv\n",
            "  Renamed: 13_02_2009.csv -> 12_02_2009.csv\n",
            "  Renamed: 14_02_2009.csv -> 13_02_2009.csv\n",
            "  Renamed: 15_02_2009.csv -> 14_02_2009.csv\n",
            "  Renamed: 4_11_2010.csv -> 3_11_2010.csv\n",
            "  Renamed: 5_11_2010.csv -> 4_11_2010.csv\n",
            "  Renamed: 6_11_2010.csv -> 5_11_2010.csv\n",
            "  Renamed: 22_08_2010.csv -> 21_08_2010.csv\n",
            "  Renamed: 24_08_2010.csv -> 22_08_2010.csv\n",
            "  Renamed: 25_08_2010.csv -> 23_08_2010.csv\n",
            "  Renamed: 28_08_2010.csv -> 24_08_2010.csv\n",
            "  Renamed: 29_08_2010.csv -> 25_08_2010.csv\n",
            "  Renamed: 30_08_2010.csv -> 26_08_2010.csv\n",
            "  Renamed: 31_08_2010.csv -> 27_08_2010.csv\n",
            "  Renamed: 32_08_2010.csv -> 28_08_2010.csv\n",
            "  Renamed: 33_08_2010.csv -> 29_08_2010.csv\n",
            "  Renamed: 35_08_2010.csv -> 30_08_2010.csv\n",
            "  Renamed: 36_08_2010.csv -> 31_08_2010.csv\n",
            "  Renamed: 37_08_2010.csv -> 32_08_2010.csv\n",
            "  Renamed: 38_08_2010.csv -> 33_08_2010.csv\n",
            "  Renamed: 39_08_2010.csv -> 34_08_2010.csv\n",
            "  Renamed: 42_08_2010.csv -> 35_08_2010.csv\n",
            "  Renamed: 43_08_2010.csv -> 36_08_2010.csv\n",
            "  Renamed: 6_01_2010.csv -> 5_01_2010.csv\n",
            "  Renamed: 9_01_2010.csv -> 6_01_2010.csv\n",
            "  Renamed: 10_01_2010.csv -> 7_01_2010.csv\n",
            "  Renamed: 11_01_2010.csv -> 8_01_2010.csv\n",
            "  Renamed: 12_01_2010.csv -> 9_01_2010.csv\n",
            "  Renamed: 8_03_2010.csv -> 5_03_2010.csv\n",
            "  Renamed: 9_03_2010.csv -> 6_03_2010.csv\n",
            "  Renamed: 12_03_2010.csv -> 7_03_2010.csv\n",
            "  Renamed: 13_03_2010.csv -> 8_03_2010.csv\n",
            "  Renamed: 14_03_2010.csv -> 9_03_2010.csv\n",
            "  Renamed: 15_03_2010.csv -> 10_03_2010.csv\n",
            "  Renamed: 16_03_2010.csv -> 11_03_2010.csv\n",
            "  Renamed: 17_03_2010.csv -> 12_03_2010.csv\n",
            "  Renamed: 18_03_2010.csv -> 13_03_2010.csv\n",
            "  Renamed: 19_03_2010.csv -> 14_03_2010.csv\n",
            "  Renamed: 20_03_2010.csv -> 15_03_2010.csv\n",
            "  Renamed: 21_03_2010.csv -> 16_03_2010.csv\n",
            "  Renamed: 22_03_2010.csv -> 17_03_2010.csv\n",
            "  Renamed: 5_10_2010.csv -> 2_10_2010.csv\n",
            "  Renamed: 6_10_2010.csv -> 3_10_2010.csv\n",
            "  Renamed: 7_10_2010.csv -> 4_10_2010.csv\n",
            "  Renamed: 8_10_2010.csv -> 5_10_2010.csv\n",
            "  Renamed: 13_10_2010.csv -> 6_10_2010.csv\n",
            "  Renamed: 14_10_2010.csv -> 7_10_2010.csv\n",
            "  Renamed: 15_10_2010.csv -> 8_10_2010.csv\n",
            "  Renamed: 16_10_2010.csv -> 9_10_2010.csv\n",
            "  Renamed: 17_10_2010.csv -> 10_10_2010.csv\n",
            "  Renamed: 18_10_2010.csv -> 11_10_2010.csv\n",
            "  Renamed: 19_10_2010.csv -> 12_10_2010.csv\n",
            "  Renamed: 20_10_2010.csv -> 13_10_2010.csv\n",
            "  Renamed: 21_10_2010.csv -> 14_10_2010.csv\n",
            "  Renamed: 22_10_2010.csv -> 15_10_2010.csv\n",
            "  Renamed: 23_10_2010.csv -> 16_10_2010.csv\n",
            "  Renamed: 24_10_2010.csv -> 17_10_2010.csv\n",
            "  Renamed: 25_10_2010.csv -> 18_10_2010.csv\n",
            "  Renamed: 13_13_2010.csv -> 8_13_2010.csv\n",
            "  Renamed: 15_13_2010.csv -> 9_13_2010.csv\n",
            "  Renamed: 16_13_2010.csv -> 10_13_2010.csv\n",
            "  Renamed: 17_13_2010.csv -> 11_13_2010.csv\n",
            "  Renamed: 18_13_2010.csv -> 12_13_2010.csv\n",
            "  Renamed: 19_13_2010.csv -> 13_13_2010.csv\n",
            "  Renamed: 20_13_2010.csv -> 14_13_2010.csv\n",
            "  Renamed: 21_13_2010.csv -> 15_13_2010.csv\n",
            "  Renamed: 22_13_2010.csv -> 16_13_2010.csv\n",
            "  Renamed: 25_13_2010.csv -> 17_13_2010.csv\n",
            "  Renamed: 26_13_2010.csv -> 18_13_2010.csv\n",
            "  Renamed: 27_13_2010.csv -> 19_13_2010.csv\n",
            "  Renamed: 28_13_2010.csv -> 20_13_2010.csv\n",
            "  Renamed: 30_13_2010.csv -> 21_13_2010.csv\n",
            "  Renamed: 31_13_2010.csv -> 22_13_2010.csv\n",
            "  Renamed: 32_13_2010.csv -> 23_13_2010.csv\n",
            "  Renamed: 33_13_2010.csv -> 24_13_2010.csv\n",
            "  Renamed: 34_13_2010.csv -> 25_13_2010.csv\n",
            "  Renamed: 3_09_2010.csv -> 2_09_2010.csv\n",
            "  Renamed: 6_09_2010.csv -> 3_09_2010.csv\n",
            "  Renamed: 7_09_2010.csv -> 4_09_2010.csv\n",
            "  Renamed: 8_09_2010.csv -> 5_09_2010.csv\n",
            "  Renamed: 9_09_2010.csv -> 6_09_2010.csv\n",
            "  Renamed: 10_09_2010.csv -> 7_09_2010.csv\n",
            "  Renamed: 11_09_2010.csv -> 8_09_2010.csv\n",
            "  Renamed: 13_09_2010.csv -> 9_09_2010.csv\n",
            "  Renamed: 14_09_2010.csv -> 10_09_2010.csv\n",
            "  Renamed: 16_09_2010.csv -> 11_09_2010.csv\n",
            "  Renamed: 17_09_2010.csv -> 12_09_2010.csv\n",
            "  Renamed: 18_09_2010.csv -> 13_09_2010.csv\n",
            "  Renamed: 19_09_2010.csv -> 14_09_2010.csv\n",
            "  Renamed: 20_09_2010.csv -> 15_09_2010.csv\n",
            "  Renamed: 22_09_2010.csv -> 16_09_2010.csv\n",
            "  Renamed: 23_09_2010.csv -> 17_09_2010.csv\n",
            "  Renamed: 3_06_2010.csv -> 2_06_2010.csv\n",
            "  Renamed: 4_06_2010.csv -> 3_06_2010.csv\n",
            "  Renamed: 5_06_2010.csv -> 4_06_2010.csv\n",
            "  Renamed: 6_06_2010.csv -> 5_06_2010.csv\n",
            "  Renamed: 7_06_2010.csv -> 6_06_2010.csv\n",
            "  Renamed: 8_06_2010.csv -> 7_06_2010.csv\n",
            "  Renamed: 9_06_2010.csv -> 8_06_2010.csv\n",
            "  Renamed: 10_06_2010.csv -> 9_06_2010.csv\n",
            "  Renamed: 11_06_2010.csv -> 10_06_2010.csv\n",
            "  Renamed: 12_06_2010.csv -> 11_06_2010.csv\n",
            "  Renamed: 13_06_2010.csv -> 12_06_2010.csv\n",
            "  Renamed: 14_06_2010.csv -> 13_06_2010.csv\n",
            "  Renamed: 15_06_2010.csv -> 14_06_2010.csv\n",
            "  Renamed: 16_06_2010.csv -> 15_06_2010.csv\n",
            "  Renamed: 8_14_2010.csv -> 7_14_2010.csv\n",
            "  Renamed: 9_14_2010.csv -> 8_14_2010.csv\n",
            "  Renamed: 10_14_2010.csv -> 9_14_2010.csv\n",
            "  Renamed: 11_14_2010.csv -> 10_14_2010.csv\n",
            "  Renamed: 12_14_2010.csv -> 11_14_2010.csv\n",
            "  Renamed: 13_14_2010.csv -> 12_14_2010.csv\n",
            "  Renamed: 14_14_2010.csv -> 13_14_2010.csv\n",
            "  Renamed: 15_14_2010.csv -> 14_14_2010.csv\n",
            "  Renamed: 16_14_2010.csv -> 15_14_2010.csv\n",
            "  Renamed: 17_14_2010.csv -> 16_14_2010.csv\n",
            "  Renamed: 18_14_2010.csv -> 17_14_2010.csv\n",
            "  Renamed: 19_14_2010.csv -> 18_14_2010.csv\n",
            "  Renamed: 20_14_2010.csv -> 19_14_2010.csv\n",
            "  Renamed: 21_14_2010.csv -> 20_14_2010.csv\n",
            "  Renamed: 22_14_2010.csv -> 21_14_2010.csv\n",
            "  Renamed: 23_14_2010.csv -> 22_14_2010.csv\n",
            "  Renamed: 24_14_2010.csv -> 23_14_2010.csv\n",
            "  Renamed: 25_14_2010.csv -> 24_14_2010.csv\n",
            "  Renamed: 27_14_2010.csv -> 25_14_2010.csv\n",
            "  Renamed: 28_14_2010.csv -> 26_14_2010.csv\n",
            "  Renamed: 29_14_2010.csv -> 27_14_2010.csv\n",
            "  Renamed: 30_14_2010.csv -> 28_14_2010.csv\n",
            "  Renamed: 31_14_2010.csv -> 29_14_2010.csv\n",
            "  Renamed: 32_14_2010.csv -> 30_14_2010.csv\n",
            "  Renamed: 33_14_2010.csv -> 31_14_2010.csv\n",
            "  Renamed: 34_14_2010.csv -> 32_14_2010.csv\n",
            "  Renamed: 35_14_2010.csv -> 33_14_2010.csv\n",
            "  Renamed: 36_14_2010.csv -> 34_14_2010.csv\n",
            "  Renamed: 37_14_2010.csv -> 35_14_2010.csv\n",
            "  Renamed: 14_07_2010.csv -> 10_07_2010.csv\n",
            "  Renamed: 15_07_2010.csv -> 11_07_2010.csv\n",
            "  Renamed: 16_07_2010.csv -> 12_07_2010.csv\n",
            "  Renamed: 17_07_2010.csv -> 13_07_2010.csv\n",
            "  Renamed: 18_07_2010.csv -> 14_07_2010.csv\n",
            "  Renamed: 19_07_2010.csv -> 15_07_2010.csv\n",
            "  Renamed: 20_07_2010.csv -> 16_07_2010.csv\n",
            "  Renamed: 21_07_2010.csv -> 17_07_2010.csv\n",
            "  Renamed: 22_07_2010.csv -> 18_07_2010.csv\n",
            "  Renamed: 23_07_2010.csv -> 19_07_2010.csv\n",
            "  Renamed: 24_07_2010.csv -> 20_07_2010.csv\n",
            "  Renamed: 26_07_2010.csv -> 21_07_2010.csv\n",
            "  Renamed: 27_07_2010.csv -> 22_07_2010.csv\n",
            "  Renamed: 28_07_2010.csv -> 23_07_2010.csv\n",
            "  Renamed: 29_07_2010.csv -> 24_07_2010.csv\n",
            "  Renamed: 31_07_2010.csv -> 25_07_2010.csv\n",
            "  Renamed: 6_12_2010.csv -> 5_12_2010.csv\n",
            "  Renamed: 9_12_2010.csv -> 6_12_2010.csv\n",
            "  Renamed: 10_12_2010.csv -> 7_12_2010.csv\n",
            "  Renamed: 11_12_2010.csv -> 8_12_2010.csv\n",
            "  Renamed: 12_12_2010.csv -> 9_12_2010.csv\n",
            "  Renamed: 13_12_2010.csv -> 10_12_2010.csv\n",
            "  Renamed: 14_12_2010.csv -> 11_12_2010.csv\n",
            "  Renamed: 15_12_2010.csv -> 12_12_2010.csv\n",
            "  Renamed: 16_12_2010.csv -> 13_12_2010.csv\n",
            "  Renamed: 18_12_2010.csv -> 14_12_2010.csv\n",
            "  Renamed: 19_12_2010.csv -> 15_12_2010.csv\n",
            "  Renamed: 20_12_2010.csv -> 16_12_2010.csv\n",
            "  Renamed: 21_12_2010.csv -> 17_12_2010.csv\n",
            "  Renamed: 22_12_2010.csv -> 18_12_2010.csv\n",
            "  Renamed: 23_12_2010.csv -> 19_12_2010.csv\n",
            "  Renamed: 24_12_2010.csv -> 20_12_2010.csv\n",
            "  Renamed: 25_12_2010.csv -> 21_12_2010.csv\n",
            "  Renamed: 26_12_2010.csv -> 22_12_2010.csv\n",
            "  Renamed: 27_12_2010.csv -> 23_12_2010.csv\n",
            "  Renamed: 28_12_2010.csv -> 24_12_2010.csv\n",
            "  Renamed: 29_12_2010.csv -> 25_12_2010.csv\n",
            "  Renamed: 30_12_2010.csv -> 26_12_2010.csv\n",
            "  Renamed: 31_12_2010.csv -> 27_12_2010.csv\n",
            "  Renamed: 32_12_2010.csv -> 28_12_2010.csv\n",
            "  Renamed: 33_12_2010.csv -> 29_12_2010.csv\n",
            "  Renamed: 34_12_2010.csv -> 30_12_2010.csv\n",
            "  Renamed: 35_12_2010.csv -> 31_12_2010.csv\n",
            "  Renamed: 36_12_2010.csv -> 32_12_2010.csv\n",
            "  Renamed: 37_12_2010.csv -> 33_12_2010.csv\n",
            "  Renamed: 38_12_2010.csv -> 34_12_2010.csv\n",
            "  Renamed: 39_12_2010.csv -> 35_12_2010.csv\n",
            "  Renamed: 41_12_2010.csv -> 36_12_2010.csv\n",
            "  Renamed: 42_12_2010.csv -> 37_12_2010.csv\n",
            "  Renamed: 9_05_2010.csv -> 8_05_2010.csv\n",
            "  Renamed: 11_05_2010.csv -> 9_05_2010.csv\n",
            "  Renamed: 12_05_2010.csv -> 10_05_2010.csv\n",
            "  Renamed: 13_05_2010.csv -> 11_05_2010.csv\n",
            "  Renamed: 14_05_2010.csv -> 12_05_2010.csv\n",
            "  Renamed: 15_05_2010.csv -> 13_05_2010.csv\n",
            "  Renamed: 17_05_2010.csv -> 14_05_2010.csv\n",
            "  Renamed: 18_05_2010.csv -> 15_05_2010.csv\n",
            "  Renamed: 19_05_2010.csv -> 16_05_2010.csv\n",
            "  Renamed: 20_05_2010.csv -> 17_05_2010.csv\n",
            "  Renamed: 22_05_2010.csv -> 18_05_2010.csv\n",
            "  Renamed: 23_05_2010.csv -> 19_05_2010.csv\n",
            "  Renamed: 24_05_2010.csv -> 20_05_2010.csv\n",
            "  Renamed: 25_05_2010.csv -> 21_05_2010.csv\n",
            "  Renamed: 26_05_2010.csv -> 22_05_2010.csv\n",
            "  Renamed: 29_05_2010.csv -> 23_05_2010.csv\n",
            "  Renamed: 31_05_2010.csv -> 24_05_2010.csv\n",
            "  Renamed: 32_05_2010.csv -> 25_05_2010.csv\n",
            "  Renamed: 33_05_2010.csv -> 26_05_2010.csv\n",
            "  Renamed: 34_05_2010.csv -> 27_05_2010.csv\n",
            "  Renamed: 35_05_2010.csv -> 28_05_2010.csv\n",
            "  Renamed: 36_05_2010.csv -> 29_05_2010.csv\n",
            "  Renamed: 37_05_2010.csv -> 30_05_2010.csv\n",
            "  Renamed: 38_05_2010.csv -> 31_05_2010.csv\n",
            "  Renamed: 5_02_2010.csv -> 3_02_2010.csv\n",
            "  Renamed: 6_02_2010.csv -> 4_02_2010.csv\n",
            "  Renamed: 7_02_2010.csv -> 5_02_2010.csv\n",
            "  Renamed: 8_02_2010.csv -> 6_02_2010.csv\n",
            "  Renamed: 9_02_2010.csv -> 7_02_2010.csv\n",
            "  Renamed: 10_02_2010.csv -> 8_02_2010.csv\n",
            "  Renamed: 11_02_2010.csv -> 9_02_2010.csv\n",
            "  Renamed: 12_02_2010.csv -> 10_02_2010.csv\n",
            "  Renamed: 13_02_2010.csv -> 11_02_2010.csv\n",
            "  Renamed: 7_08_2011.csv -> 6_08_2011.csv\n",
            "  Renamed: 8_08_2011.csv -> 7_08_2011.csv\n",
            "  Renamed: 9_08_2011.csv -> 8_08_2011.csv\n",
            "  Renamed: 10_08_2011.csv -> 9_08_2011.csv\n",
            "  Renamed: 11_08_2011.csv -> 10_08_2011.csv\n",
            "  Renamed: 12_08_2011.csv -> 11_08_2011.csv\n",
            "  Renamed: 13_08_2011.csv -> 12_08_2011.csv\n",
            "  Renamed: 14_08_2011.csv -> 13_08_2011.csv\n",
            "  Renamed: 15_08_2011.csv -> 14_08_2011.csv\n",
            "  Renamed: 16_08_2011.csv -> 15_08_2011.csv\n",
            "  Renamed: 19_08_2011.csv -> 16_08_2011.csv\n",
            "  Renamed: 20_08_2011.csv -> 17_08_2011.csv\n",
            "  Renamed: 21_08_2011.csv -> 18_08_2011.csv\n",
            "  Renamed: 22_08_2011.csv -> 19_08_2011.csv\n",
            "  Renamed: 23_08_2011.csv -> 20_08_2011.csv\n",
            "  Renamed: 24_08_2011.csv -> 21_08_2011.csv\n",
            "  Renamed: 25_08_2011.csv -> 22_08_2011.csv\n",
            "  Renamed: 27_08_2011.csv -> 23_08_2011.csv\n",
            "  Renamed: 28_08_2011.csv -> 24_08_2011.csv\n",
            "  Renamed: 29_08_2011.csv -> 25_08_2011.csv\n",
            "  Renamed: 30_08_2011.csv -> 26_08_2011.csv\n",
            "  Renamed: 31_08_2011.csv -> 27_08_2011.csv\n",
            "  Renamed: 33_08_2011.csv -> 28_08_2011.csv\n",
            "  Renamed: 34_08_2011.csv -> 29_08_2011.csv\n",
            "  Renamed: 6_01_2011.csv -> 5_01_2011.csv\n",
            "  Renamed: 9_01_2011.csv -> 6_01_2011.csv\n",
            "  Renamed: 10_01_2011.csv -> 7_01_2011.csv\n",
            "  Renamed: 12_01_2011.csv -> 8_01_2011.csv\n",
            "  Renamed: 8_03_2011.csv -> 5_03_2011.csv\n",
            "  Renamed: 9_03_2011.csv -> 6_03_2011.csv\n",
            "  Renamed: 10_03_2011.csv -> 7_03_2011.csv\n",
            "  Renamed: 11_03_2011.csv -> 8_03_2011.csv\n",
            "  Renamed: 13_03_2011.csv -> 9_03_2011.csv\n",
            "  Renamed: 14_03_2011.csv -> 10_03_2011.csv\n",
            "  Renamed: 15_03_2011.csv -> 11_03_2011.csv\n",
            "  Renamed: 16_03_2011.csv -> 12_03_2011.csv\n",
            "  Renamed: 17_03_2011.csv -> 13_03_2011.csv\n",
            "  Renamed: 18_03_2011.csv -> 14_03_2011.csv\n",
            "  Renamed: 19_03_2011.csv -> 15_03_2011.csv\n",
            "  Renamed: 20_03_2011.csv -> 16_03_2011.csv\n",
            "  Renamed: 5_10_2011.csv -> 2_10_2011.csv\n",
            "  Renamed: 6_10_2011.csv -> 3_10_2011.csv\n",
            "  Renamed: 7_10_2011.csv -> 4_10_2011.csv\n",
            "  Renamed: 8_10_2011.csv -> 5_10_2011.csv\n",
            "  Renamed: 9_10_2011.csv -> 6_10_2011.csv\n",
            "  Renamed: 10_10_2011.csv -> 7_10_2011.csv\n",
            "  Renamed: 11_10_2011.csv -> 8_10_2011.csv\n",
            "  Renamed: 12_10_2011.csv -> 9_10_2011.csv\n",
            "  Renamed: 16_10_2011.csv -> 10_10_2011.csv\n",
            "  Renamed: 17_10_2011.csv -> 11_10_2011.csv\n",
            "  Renamed: 18_10_2011.csv -> 12_10_2011.csv\n",
            "  Renamed: 19_10_2011.csv -> 13_10_2011.csv\n",
            "  Renamed: 20_10_2011.csv -> 14_10_2011.csv\n",
            "  Renamed: 21_10_2011.csv -> 15_10_2011.csv\n",
            "  Renamed: 22_10_2011.csv -> 16_10_2011.csv\n",
            "  Renamed: 24_10_2011.csv -> 17_10_2011.csv\n",
            "  Renamed: 25_10_2011.csv -> 18_10_2011.csv\n",
            "  Renamed: 26_10_2011.csv -> 19_10_2011.csv\n",
            "  Renamed: 27_10_2011.csv -> 20_10_2011.csv\n",
            "  Renamed: 28_10_2011.csv -> 21_10_2011.csv\n",
            "  Renamed: 10_13_2011.csv -> 9_13_2011.csv\n",
            "  Renamed: 11_13_2011.csv -> 10_13_2011.csv\n",
            "  Renamed: 13_13_2011.csv -> 11_13_2011.csv\n",
            "  Renamed: 14_13_2011.csv -> 12_13_2011.csv\n",
            "  Renamed: 15_13_2011.csv -> 13_13_2011.csv\n",
            "  Renamed: 16_13_2011.csv -> 14_13_2011.csv\n",
            "  Renamed: 17_13_2011.csv -> 15_13_2011.csv\n",
            "  Renamed: 18_13_2011.csv -> 16_13_2011.csv\n",
            "  Renamed: 19_13_2011.csv -> 17_13_2011.csv\n",
            "  Renamed: 20_13_2011.csv -> 18_13_2011.csv\n",
            "  Renamed: 21_13_2011.csv -> 19_13_2011.csv\n",
            "  Renamed: 22_13_2011.csv -> 20_13_2011.csv\n",
            "  Renamed: 23_13_2011.csv -> 21_13_2011.csv\n",
            "  Renamed: 24_13_2011.csv -> 22_13_2011.csv\n",
            "  Renamed: 25_13_2011.csv -> 23_13_2011.csv\n",
            "  Renamed: 26_13_2011.csv -> 24_13_2011.csv\n",
            "  Renamed: 27_13_2011.csv -> 25_13_2011.csv\n",
            "  Renamed: 28_13_2011.csv -> 26_13_2011.csv\n",
            "  Renamed: 3_09_2011.csv -> 2_09_2011.csv\n",
            "  Renamed: 4_09_2011.csv -> 3_09_2011.csv\n",
            "  Renamed: 5_09_2011.csv -> 4_09_2011.csv\n",
            "  Renamed: 6_09_2011.csv -> 5_09_2011.csv\n",
            "  Renamed: 7_09_2011.csv -> 6_09_2011.csv\n",
            "  Renamed: 8_09_2011.csv -> 7_09_2011.csv\n",
            "  Renamed: 9_09_2011.csv -> 8_09_2011.csv\n",
            "  Renamed: 11_09_2011.csv -> 9_09_2011.csv\n",
            "  Renamed: 12_09_2011.csv -> 10_09_2011.csv\n",
            "  Renamed: 13_09_2011.csv -> 11_09_2011.csv\n",
            "  Renamed: 14_09_2011.csv -> 12_09_2011.csv\n",
            "  Renamed: 15_09_2011.csv -> 13_09_2011.csv\n",
            "  Renamed: 16_09_2011.csv -> 14_09_2011.csv\n",
            "  Renamed: 17_09_2011.csv -> 15_09_2011.csv\n",
            "  Renamed: 19_09_2011.csv -> 16_09_2011.csv\n",
            "  Renamed: 20_09_2011.csv -> 17_09_2011.csv\n",
            "  Renamed: 21_09_2011.csv -> 18_09_2011.csv\n",
            "  Renamed: 3_06_2011.csv -> 2_06_2011.csv\n",
            "  Renamed: 5_06_2011.csv -> 3_06_2011.csv\n",
            "  Renamed: 6_06_2011.csv -> 4_06_2011.csv\n",
            "  Renamed: 7_06_2011.csv -> 5_06_2011.csv\n",
            "  Renamed: 8_06_2011.csv -> 6_06_2011.csv\n",
            "  Renamed: 9_06_2011.csv -> 7_06_2011.csv\n",
            "  Renamed: 10_06_2011.csv -> 8_06_2011.csv\n",
            "  Renamed: 11_06_2011.csv -> 9_06_2011.csv\n",
            "  Renamed: 12_06_2011.csv -> 10_06_2011.csv\n",
            "  Renamed: 13_06_2011.csv -> 11_06_2011.csv\n",
            "  Renamed: 14_06_2011.csv -> 12_06_2011.csv\n",
            "  Renamed: 15_06_2011.csv -> 13_06_2011.csv\n",
            "  Renamed: 16_06_2011.csv -> 14_06_2011.csv\n",
            "  Renamed: 17_06_2011.csv -> 15_06_2011.csv\n",
            "  Renamed: 18_06_2011.csv -> 16_06_2011.csv\n",
            "  Renamed: 19_06_2011.csv -> 17_06_2011.csv\n",
            "  Renamed: 20_06_2011.csv -> 18_06_2011.csv\n",
            "  Renamed: 9_14_2011.csv -> 7_14_2011.csv\n",
            "  Renamed: 10_14_2011.csv -> 8_14_2011.csv\n",
            "  Renamed: 11_14_2011.csv -> 9_14_2011.csv\n",
            "  Renamed: 12_14_2011.csv -> 10_14_2011.csv\n",
            "  Renamed: 13_14_2011.csv -> 11_14_2011.csv\n",
            "  Renamed: 14_14_2011.csv -> 12_14_2011.csv\n",
            "  Renamed: 16_14_2011.csv -> 13_14_2011.csv\n",
            "  Renamed: 18_14_2011.csv -> 14_14_2011.csv\n",
            "  Renamed: 19_14_2011.csv -> 15_14_2011.csv\n",
            "  Renamed: 20_14_2011.csv -> 16_14_2011.csv\n",
            "  Renamed: 21_14_2011.csv -> 17_14_2011.csv\n",
            "  Renamed: 22_14_2011.csv -> 18_14_2011.csv\n",
            "  Renamed: 23_14_2011.csv -> 19_14_2011.csv\n",
            "  Renamed: 24_14_2011.csv -> 20_14_2011.csv\n",
            "  Renamed: 25_14_2011.csv -> 21_14_2011.csv\n",
            "  Renamed: 26_14_2011.csv -> 22_14_2011.csv\n",
            "  Renamed: 27_14_2011.csv -> 23_14_2011.csv\n",
            "  Renamed: 28_14_2011.csv -> 24_14_2011.csv\n",
            "  Renamed: 29_14_2011.csv -> 25_14_2011.csv\n",
            "  Renamed: 30_14_2011.csv -> 26_14_2011.csv\n",
            "  Renamed: 31_14_2011.csv -> 27_14_2011.csv\n",
            "  Renamed: 32_14_2011.csv -> 28_14_2011.csv\n",
            "  Renamed: 33_14_2011.csv -> 29_14_2011.csv\n",
            "  Renamed: 34_14_2011.csv -> 30_14_2011.csv\n",
            "  Renamed: 35_14_2011.csv -> 31_14_2011.csv\n",
            "  Renamed: 36_14_2011.csv -> 32_14_2011.csv\n",
            "  Renamed: 37_14_2011.csv -> 33_14_2011.csv\n",
            "  Renamed: 38_14_2011.csv -> 34_14_2011.csv\n",
            "  Renamed: 39_14_2011.csv -> 35_14_2011.csv\n",
            "  Renamed: 40_14_2011.csv -> 36_14_2011.csv\n",
            "  Renamed: 41_14_2011.csv -> 37_14_2011.csv\n",
            "  Renamed: 42_14_2011.csv -> 38_14_2011.csv\n",
            "  Renamed: 3_07_2011.csv -> 2_07_2011.csv\n",
            "  Renamed: 4_07_2011.csv -> 3_07_2011.csv\n",
            "  Renamed: 5_07_2011.csv -> 4_07_2011.csv\n",
            "  Renamed: 6_07_2011.csv -> 5_07_2011.csv\n",
            "  Renamed: 7_07_2011.csv -> 6_07_2011.csv\n",
            "  Renamed: 8_07_2011.csv -> 7_07_2011.csv\n",
            "  Renamed: 9_07_2011.csv -> 8_07_2011.csv\n",
            "  Renamed: 11_07_2011.csv -> 9_07_2011.csv\n",
            "  Renamed: 12_07_2011.csv -> 10_07_2011.csv\n",
            "  Renamed: 13_07_2011.csv -> 11_07_2011.csv\n",
            "  Renamed: 14_07_2011.csv -> 12_07_2011.csv\n",
            "  Renamed: 15_07_2011.csv -> 13_07_2011.csv\n",
            "  Renamed: 16_07_2011.csv -> 14_07_2011.csv\n",
            "  Renamed: 17_07_2011.csv -> 15_07_2011.csv\n",
            "  Renamed: 18_07_2011.csv -> 16_07_2011.csv\n",
            "  Renamed: 19_07_2011.csv -> 17_07_2011.csv\n",
            "  Renamed: 20_07_2011.csv -> 18_07_2011.csv\n",
            "  Renamed: 21_07_2011.csv -> 19_07_2011.csv\n",
            "  Renamed: 22_07_2011.csv -> 20_07_2011.csv\n",
            "  Renamed: 23_07_2011.csv -> 21_07_2011.csv\n",
            "  Renamed: 24_07_2011.csv -> 22_07_2011.csv\n",
            "  Renamed: 6_12_2011.csv -> 5_12_2011.csv\n",
            "  Renamed: 8_12_2011.csv -> 6_12_2011.csv\n",
            "  Renamed: 11_12_2011.csv -> 7_12_2011.csv\n",
            "  Renamed: 14_12_2011.csv -> 8_12_2011.csv\n",
            "  Renamed: 15_12_2011.csv -> 9_12_2011.csv\n",
            "  Renamed: 16_12_2011.csv -> 10_12_2011.csv\n",
            "  Renamed: 17_12_2011.csv -> 11_12_2011.csv\n",
            "  Renamed: 18_12_2011.csv -> 12_12_2011.csv\n",
            "  Renamed: 19_12_2011.csv -> 13_12_2011.csv\n",
            "  Renamed: 20_12_2011.csv -> 14_12_2011.csv\n",
            "  Renamed: 21_12_2011.csv -> 15_12_2011.csv\n",
            "  Renamed: 22_12_2011.csv -> 16_12_2011.csv\n",
            "  Renamed: 23_12_2011.csv -> 17_12_2011.csv\n",
            "  Renamed: 24_12_2011.csv -> 18_12_2011.csv\n",
            "  Renamed: 25_12_2011.csv -> 19_12_2011.csv\n",
            "  Renamed: 26_12_2011.csv -> 20_12_2011.csv\n",
            "  Renamed: 27_12_2011.csv -> 21_12_2011.csv\n",
            "  Renamed: 28_12_2011.csv -> 22_12_2011.csv\n",
            "  Renamed: 29_12_2011.csv -> 23_12_2011.csv\n",
            "  Renamed: 30_12_2011.csv -> 24_12_2011.csv\n",
            "  Renamed: 31_12_2011.csv -> 25_12_2011.csv\n",
            "  Renamed: 32_12_2011.csv -> 26_12_2011.csv\n",
            "  Renamed: 33_12_2011.csv -> 27_12_2011.csv\n",
            "  Renamed: 34_12_2011.csv -> 28_12_2011.csv\n",
            "  Renamed: 35_12_2011.csv -> 29_12_2011.csv\n",
            "  Renamed: 36_12_2011.csv -> 30_12_2011.csv\n",
            "  Renamed: 37_12_2011.csv -> 31_12_2011.csv\n",
            "  Renamed: 38_12_2011.csv -> 32_12_2011.csv\n",
            "  Renamed: 39_12_2011.csv -> 33_12_2011.csv\n",
            "  Renamed: 40_12_2011.csv -> 34_12_2011.csv\n",
            "  Renamed: 41_12_2011.csv -> 35_12_2011.csv\n",
            "  Renamed: 42_12_2011.csv -> 36_12_2011.csv\n",
            "  Renamed: 43_12_2011.csv -> 37_12_2011.csv\n",
            "  Renamed: 44_12_2011.csv -> 38_12_2011.csv\n",
            "  Renamed: 45_12_2011.csv -> 39_12_2011.csv\n",
            "  Renamed: 46_12_2011.csv -> 40_12_2011.csv\n",
            "  Renamed: 48_12_2011.csv -> 41_12_2011.csv\n",
            "  Renamed: 49_12_2011.csv -> 42_12_2011.csv\n",
            "  Renamed: 3_05_2011.csv -> 2_05_2011.csv\n",
            "  Renamed: 4_05_2011.csv -> 3_05_2011.csv\n",
            "  Renamed: 5_05_2011.csv -> 4_05_2011.csv\n",
            "  Renamed: 6_05_2011.csv -> 5_05_2011.csv\n",
            "  Renamed: 7_05_2011.csv -> 6_05_2011.csv\n",
            "  Renamed: 8_05_2011.csv -> 7_05_2011.csv\n",
            "  Renamed: 12_05_2011.csv -> 8_05_2011.csv\n",
            "  Renamed: 13_05_2011.csv -> 9_05_2011.csv\n",
            "  Renamed: 14_05_2011.csv -> 10_05_2011.csv\n",
            "  Renamed: 15_05_2011.csv -> 11_05_2011.csv\n",
            "  Renamed: 16_05_2011.csv -> 12_05_2011.csv\n",
            "  Renamed: 17_05_2011.csv -> 13_05_2011.csv\n",
            "  Renamed: 18_05_2011.csv -> 14_05_2011.csv\n",
            "  Renamed: 19_05_2011.csv -> 15_05_2011.csv\n",
            "  Renamed: 20_05_2011.csv -> 16_05_2011.csv\n",
            "  Renamed: 21_05_2011.csv -> 17_05_2011.csv\n",
            "  Renamed: 22_05_2011.csv -> 18_05_2011.csv\n",
            "  Renamed: 23_05_2011.csv -> 19_05_2011.csv\n",
            "  Renamed: 24_05_2011.csv -> 20_05_2011.csv\n",
            "  Renamed: 25_05_2011.csv -> 21_05_2011.csv\n",
            "  Renamed: 26_05_2011.csv -> 22_05_2011.csv\n",
            "  Renamed: 27_05_2011.csv -> 23_05_2011.csv\n",
            "  Renamed: 28_05_2011.csv -> 24_05_2011.csv\n",
            "  Renamed: 29_05_2011.csv -> 25_05_2011.csv\n",
            "  Renamed: 30_05_2011.csv -> 26_05_2011.csv\n",
            "  Renamed: 31_05_2011.csv -> 27_05_2011.csv\n",
            "  Renamed: 32_05_2011.csv -> 28_05_2011.csv\n",
            "  Renamed: 33_05_2011.csv -> 29_05_2011.csv\n",
            "  Renamed: 34_05_2011.csv -> 30_05_2011.csv\n",
            "  Renamed: 35_05_2011.csv -> 31_05_2011.csv\n",
            "  Renamed: 36_05_2011.csv -> 32_05_2011.csv\n",
            "  Renamed: 40_05_2011.csv -> 33_05_2011.csv\n",
            "  Renamed: 42_05_2011.csv -> 34_05_2011.csv\n",
            "  Renamed: 44_05_2011.csv -> 35_05_2011.csv\n",
            "  Renamed: 45_05_2011.csv -> 36_05_2011.csv\n",
            "  Renamed: 4_02_2011.csv -> 3_02_2011.csv\n",
            "  Renamed: 5_02_2011.csv -> 4_02_2011.csv\n",
            "  Renamed: 6_02_2011.csv -> 5_02_2011.csv\n",
            "  Renamed: 7_02_2011.csv -> 6_02_2011.csv\n",
            "  Renamed: 8_02_2011.csv -> 7_02_2011.csv\n",
            "  Renamed: 9_02_2011.csv -> 8_02_2011.csv\n",
            "  Renamed: 11_02_2011.csv -> 9_02_2011.csv\n",
            "  Renamed: 12_02_2011.csv -> 10_02_2011.csv\n",
            "  Renamed: 13_02_2011.csv -> 11_02_2011.csv\n",
            "  Renamed: 14_02_2011.csv -> 12_02_2011.csv\n",
            "  Renamed: 15_02_2011.csv -> 13_02_2011.csv\n",
            "  Renamed: 16_02_2011.csv -> 14_02_2011.csv\n",
            "  Renamed: 4_11_2012.csv -> 3_11_2012.csv\n",
            "  Renamed: 5_11_2012.csv -> 4_11_2012.csv\n",
            "  Renamed: 17_08_2012.csv -> 16_08_2012.csv\n",
            "  Renamed: 19_08_2012.csv -> 17_08_2012.csv\n",
            "  Renamed: 23_08_2012.csv -> 18_08_2012.csv\n",
            "  Renamed: 24_08_2012.csv -> 19_08_2012.csv\n",
            "  Renamed: 25_08_2012.csv -> 20_08_2012.csv\n",
            "  Renamed: 26_08_2012.csv -> 21_08_2012.csv\n",
            "  Renamed: 27_08_2012.csv -> 22_08_2012.csv\n",
            "  Renamed: 28_08_2012.csv -> 23_08_2012.csv\n",
            "  Renamed: 30_08_2012.csv -> 24_08_2012.csv\n",
            "  Renamed: 31_08_2012.csv -> 25_08_2012.csv\n",
            "  Renamed: 32_08_2012.csv -> 26_08_2012.csv\n",
            "  Renamed: 33_08_2012.csv -> 27_08_2012.csv\n",
            "  Renamed: 34_08_2012.csv -> 28_08_2012.csv\n",
            "  Renamed: 35_08_2012.csv -> 29_08_2012.csv\n",
            "  Renamed: 6_01_2012.csv -> 5_01_2012.csv\n",
            "  Renamed: 9_01_2012.csv -> 6_01_2012.csv\n",
            "  Renamed: 10_01_2012.csv -> 7_01_2012.csv\n",
            "  Renamed: 12_01_2012.csv -> 8_01_2012.csv\n",
            "  Renamed: 8_03_2012.csv -> 5_03_2012.csv\n",
            "  Renamed: 9_03_2012.csv -> 6_03_2012.csv\n",
            "  Renamed: 10_03_2012.csv -> 7_03_2012.csv\n",
            "  Renamed: 11_03_2012.csv -> 8_03_2012.csv\n",
            "  Renamed: 13_03_2012.csv -> 9_03_2012.csv\n",
            "  Renamed: 14_03_2012.csv -> 10_03_2012.csv\n",
            "  Renamed: 15_03_2012.csv -> 11_03_2012.csv\n",
            "  Renamed: 16_03_2012.csv -> 12_03_2012.csv\n",
            "  Renamed: 17_03_2012.csv -> 13_03_2012.csv\n",
            "  Renamed: 18_03_2012.csv -> 14_03_2012.csv\n",
            "  Renamed: 19_03_2012.csv -> 15_03_2012.csv\n",
            "  Renamed: 20_03_2012.csv -> 16_03_2012.csv\n",
            "  Renamed: 21_03_2012.csv -> 17_03_2012.csv\n",
            "  Renamed: 5_10_2012.csv -> 2_10_2012.csv\n",
            "  Renamed: 6_10_2012.csv -> 3_10_2012.csv\n",
            "  Renamed: 7_10_2012.csv -> 4_10_2012.csv\n",
            "  Renamed: 8_10_2012.csv -> 5_10_2012.csv\n",
            "  Renamed: 9_10_2012.csv -> 6_10_2012.csv\n",
            "  Renamed: 10_10_2012.csv -> 7_10_2012.csv\n",
            "  Renamed: 14_10_2012.csv -> 8_10_2012.csv\n",
            "  Renamed: 15_10_2012.csv -> 9_10_2012.csv\n",
            "  Renamed: 16_10_2012.csv -> 10_10_2012.csv\n",
            "  Renamed: 17_10_2012.csv -> 11_10_2012.csv\n",
            "  Renamed: 18_10_2012.csv -> 12_10_2012.csv\n",
            "  Renamed: 19_10_2012.csv -> 13_10_2012.csv\n",
            "  Renamed: 20_10_2012.csv -> 14_10_2012.csv\n",
            "  Renamed: 21_10_2012.csv -> 15_10_2012.csv\n",
            "  Renamed: 22_10_2012.csv -> 16_10_2012.csv\n",
            "  Renamed: 23_10_2012.csv -> 17_10_2012.csv\n",
            "  Renamed: 24_10_2012.csv -> 18_10_2012.csv\n",
            "  Renamed: 25_10_2012.csv -> 19_10_2012.csv\n",
            "  Renamed: 11_13_2012.csv -> 9_13_2012.csv\n",
            "  Renamed: 12_13_2012.csv -> 10_13_2012.csv\n",
            "  Renamed: 14_13_2012.csv -> 11_13_2012.csv\n",
            "  Renamed: 15_13_2012.csv -> 12_13_2012.csv\n",
            "  Renamed: 16_13_2012.csv -> 13_13_2012.csv\n",
            "  Renamed: 17_13_2012.csv -> 14_13_2012.csv\n",
            "  Renamed: 18_13_2012.csv -> 15_13_2012.csv\n",
            "  Renamed: 20_13_2012.csv -> 16_13_2012.csv\n",
            "  Renamed: 21_13_2012.csv -> 17_13_2012.csv\n",
            "  Renamed: 22_13_2012.csv -> 18_13_2012.csv\n",
            "  Renamed: 26_13_2012.csv -> 19_13_2012.csv\n",
            "  Renamed: 27_13_2012.csv -> 20_13_2012.csv\n",
            "  Renamed: 28_13_2012.csv -> 21_13_2012.csv\n",
            "  Renamed: 29_13_2012.csv -> 22_13_2012.csv\n",
            "  Renamed: 31_13_2012.csv -> 23_13_2012.csv\n",
            "  Renamed: 32_13_2012.csv -> 24_13_2012.csv\n",
            "  Renamed: 33_13_2012.csv -> 25_13_2012.csv\n",
            "  Renamed: 34_13_2012.csv -> 26_13_2012.csv\n",
            "  Renamed: 35_13_2012.csv -> 27_13_2012.csv\n",
            "  Renamed: 36_13_2012.csv -> 28_13_2012.csv\n",
            "  Renamed: 3_09_2012.csv -> 2_09_2012.csv\n",
            "  Renamed: 4_09_2012.csv -> 3_09_2012.csv\n",
            "  Renamed: 9_09_2012.csv -> 4_09_2012.csv\n",
            "  Renamed: 13_09_2012.csv -> 5_09_2012.csv\n",
            "  Renamed: 14_09_2012.csv -> 6_09_2012.csv\n",
            "  Renamed: 15_09_2012.csv -> 7_09_2012.csv\n",
            "  Renamed: 16_09_2012.csv -> 8_09_2012.csv\n",
            "  Renamed: 17_09_2012.csv -> 9_09_2012.csv\n",
            "  Renamed: 18_09_2012.csv -> 10_09_2012.csv\n",
            "  Renamed: 20_09_2012.csv -> 11_09_2012.csv\n",
            "  Renamed: 21_09_2012.csv -> 12_09_2012.csv\n",
            "  Renamed: 22_09_2012.csv -> 13_09_2012.csv\n",
            "  Renamed: 23_09_2012.csv -> 14_09_2012.csv\n",
            "  Renamed: 24_09_2012.csv -> 15_09_2012.csv\n",
            "  Renamed: 25_09_2012.csv -> 16_09_2012.csv\n",
            "  Renamed: 26_09_2012.csv -> 17_09_2012.csv\n",
            "  Renamed: 28_09_2012.csv -> 18_09_2012.csv\n",
            "  Renamed: 29_09_2012.csv -> 19_09_2012.csv\n",
            "  Renamed: 30_09_2012.csv -> 20_09_2012.csv\n",
            "  Renamed: 31_09_2012.csv -> 21_09_2012.csv\n",
            "  Renamed: 10_14_2012.csv -> 6_14_2012.csv\n",
            "  Renamed: 11_14_2012.csv -> 7_14_2012.csv\n",
            "  Renamed: 12_14_2012.csv -> 8_14_2012.csv\n",
            "  Renamed: 13_14_2012.csv -> 9_14_2012.csv\n",
            "  Renamed: 14_14_2012.csv -> 10_14_2012.csv\n",
            "  Renamed: 15_14_2012.csv -> 11_14_2012.csv\n",
            "  Renamed: 16_14_2012.csv -> 12_14_2012.csv\n",
            "  Renamed: 17_14_2012.csv -> 13_14_2012.csv\n",
            "  Renamed: 18_14_2012.csv -> 14_14_2012.csv\n",
            "  Renamed: 19_14_2012.csv -> 15_14_2012.csv\n",
            "  Renamed: 21_14_2012.csv -> 16_14_2012.csv\n",
            "  Renamed: 22_14_2012.csv -> 17_14_2012.csv\n",
            "  Renamed: 23_14_2012.csv -> 18_14_2012.csv\n",
            "  Renamed: 24_14_2012.csv -> 19_14_2012.csv\n",
            "  Renamed: 25_14_2012.csv -> 20_14_2012.csv\n",
            "  Renamed: 26_14_2012.csv -> 21_14_2012.csv\n",
            "  Renamed: 27_14_2012.csv -> 22_14_2012.csv\n",
            "  Renamed: 28_14_2012.csv -> 23_14_2012.csv\n",
            "  Renamed: 29_14_2012.csv -> 24_14_2012.csv\n",
            "  Renamed: 30_14_2012.csv -> 25_14_2012.csv\n",
            "  Renamed: 31_14_2012.csv -> 26_14_2012.csv\n",
            "  Renamed: 32_14_2012.csv -> 27_14_2012.csv\n",
            "  Renamed: 33_14_2012.csv -> 28_14_2012.csv\n",
            "  Renamed: 35_14_2012.csv -> 29_14_2012.csv\n",
            "  Renamed: 36_14_2012.csv -> 30_14_2012.csv\n",
            "  Renamed: 37_14_2012.csv -> 31_14_2012.csv\n",
            "  Renamed: 38_14_2012.csv -> 32_14_2012.csv\n",
            "  Renamed: 39_14_2012.csv -> 33_14_2012.csv\n",
            "  Renamed: 40_14_2012.csv -> 34_14_2012.csv\n",
            "  Renamed: 41_14_2012.csv -> 35_14_2012.csv\n",
            "  Renamed: 42_14_2012.csv -> 36_14_2012.csv\n",
            "  Renamed: 43_14_2012.csv -> 37_14_2012.csv\n",
            "  Renamed: 44_14_2012.csv -> 38_14_2012.csv\n",
            "  Renamed: 45_14_2012.csv -> 39_14_2012.csv\n",
            "  Renamed: 46_14_2012.csv -> 40_14_2012.csv\n",
            "  Renamed: 47_14_2012.csv -> 41_14_2012.csv\n",
            "  Renamed: 48_14_2012.csv -> 42_14_2012.csv\n",
            "  Renamed: 49_14_2012.csv -> 43_14_2012.csv\n",
            "  Renamed: 50_14_2012.csv -> 44_14_2012.csv\n",
            "  Renamed: 51_14_2012.csv -> 45_14_2012.csv\n",
            "  Renamed: 52_14_2012.csv -> 46_14_2012.csv\n",
            "  Renamed: 53_14_2012.csv -> 47_14_2012.csv\n",
            "  Renamed: 3_07_2012.csv -> 2_07_2012.csv\n",
            "  Renamed: 4_07_2012.csv -> 3_07_2012.csv\n",
            "  Renamed: 7_07_2012.csv -> 4_07_2012.csv\n",
            "  Renamed: 8_07_2012.csv -> 5_07_2012.csv\n",
            "  Renamed: 9_07_2012.csv -> 6_07_2012.csv\n",
            "  Renamed: 10_07_2012.csv -> 7_07_2012.csv\n",
            "  Renamed: 11_07_2012.csv -> 8_07_2012.csv\n",
            "  Renamed: 12_07_2012.csv -> 9_07_2012.csv\n",
            "  Renamed: 13_07_2012.csv -> 10_07_2012.csv\n",
            "  Renamed: 14_07_2012.csv -> 11_07_2012.csv\n",
            "  Renamed: 15_07_2012.csv -> 12_07_2012.csv\n",
            "  Renamed: 18_07_2012.csv -> 13_07_2012.csv\n",
            "  Renamed: 19_07_2012.csv -> 14_07_2012.csv\n",
            "  Renamed: 20_07_2012.csv -> 15_07_2012.csv\n",
            "  Renamed: 21_07_2012.csv -> 16_07_2012.csv\n",
            "  Renamed: 22_07_2012.csv -> 17_07_2012.csv\n",
            "  Renamed: 23_07_2012.csv -> 18_07_2012.csv\n",
            "  Renamed: 24_07_2012.csv -> 19_07_2012.csv\n",
            "  Renamed: 25_07_2012.csv -> 20_07_2012.csv\n",
            "  Renamed: 26_07_2012.csv -> 21_07_2012.csv\n",
            "  Renamed: 27_07_2012.csv -> 22_07_2012.csv\n",
            "  Renamed: 28_07_2012.csv -> 23_07_2012.csv\n",
            "  Renamed: 29_07_2012.csv -> 24_07_2012.csv\n",
            "  Renamed: 31_07_2012.csv -> 25_07_2012.csv\n",
            "  Renamed: 8_12_2012.csv -> 5_12_2012.csv\n",
            "  Renamed: 9_12_2012.csv -> 6_12_2012.csv\n",
            "  Renamed: 10_12_2012.csv -> 7_12_2012.csv\n",
            "  Renamed: 14_12_2012.csv -> 8_12_2012.csv\n",
            "  Renamed: 17_12_2012.csv -> 9_12_2012.csv\n",
            "  Renamed: 21_12_2012.csv -> 10_12_2012.csv\n",
            "  Renamed: 23_12_2012.csv -> 11_12_2012.csv\n",
            "  Renamed: 24_12_2012.csv -> 12_12_2012.csv\n",
            "  Renamed: 25_12_2012.csv -> 13_12_2012.csv\n",
            "  Renamed: 26_12_2012.csv -> 14_12_2012.csv\n",
            "  Renamed: 27_12_2012.csv -> 15_12_2012.csv\n",
            "  Renamed: 29_12_2012.csv -> 16_12_2012.csv\n",
            "  Renamed: 30_12_2012.csv -> 17_12_2012.csv\n",
            "  Renamed: 31_12_2012.csv -> 18_12_2012.csv\n",
            "  Renamed: 33_12_2012.csv -> 19_12_2012.csv\n",
            "  Renamed: 34_12_2012.csv -> 20_12_2012.csv\n",
            "  Renamed: 35_12_2012.csv -> 21_12_2012.csv\n",
            "  Renamed: 36_12_2012.csv -> 22_12_2012.csv\n",
            "  Renamed: 37_12_2012.csv -> 23_12_2012.csv\n",
            "  Renamed: 38_12_2012.csv -> 24_12_2012.csv\n",
            "  Renamed: 39_12_2012.csv -> 25_12_2012.csv\n",
            "  Renamed: 40_12_2012.csv -> 26_12_2012.csv\n",
            "  Renamed: 41_12_2012.csv -> 27_12_2012.csv\n",
            "  Renamed: 42_12_2012.csv -> 28_12_2012.csv\n",
            "  Renamed: 43_12_2012.csv -> 29_12_2012.csv\n",
            "  Renamed: 44_12_2012.csv -> 30_12_2012.csv\n",
            "  Renamed: 45_12_2012.csv -> 31_12_2012.csv\n",
            "  Renamed: 46_12_2012.csv -> 32_12_2012.csv\n",
            "  Renamed: 47_12_2012.csv -> 33_12_2012.csv\n",
            "  Renamed: 49_12_2012.csv -> 34_12_2012.csv\n",
            "  Renamed: 50_12_2012.csv -> 35_12_2012.csv\n",
            "  Renamed: 51_12_2012.csv -> 36_12_2012.csv\n",
            "  Renamed: 52_12_2012.csv -> 37_12_2012.csv\n",
            "  Renamed: 53_12_2012.csv -> 38_12_2012.csv\n",
            "  Renamed: 54_12_2012.csv -> 39_12_2012.csv\n",
            "  Renamed: 56_12_2012.csv -> 40_12_2012.csv\n",
            "  Renamed: 57_12_2012.csv -> 41_12_2012.csv\n",
            "  Renamed: 3_05_2012.csv -> 2_05_2012.csv\n",
            "  Renamed: 4_05_2012.csv -> 3_05_2012.csv\n",
            "  Renamed: 5_05_2012.csv -> 4_05_2012.csv\n",
            "  Renamed: 8_05_2012.csv -> 5_05_2012.csv\n",
            "  Renamed: 10_05_2012.csv -> 6_05_2012.csv\n",
            "  Renamed: 11_05_2012.csv -> 7_05_2012.csv\n",
            "  Renamed: 12_05_2012.csv -> 8_05_2012.csv\n",
            "  Renamed: 14_05_2012.csv -> 9_05_2012.csv\n",
            "  Renamed: 15_05_2012.csv -> 10_05_2012.csv\n",
            "  Renamed: 16_05_2012.csv -> 11_05_2012.csv\n",
            "  Renamed: 17_05_2012.csv -> 12_05_2012.csv\n",
            "  Renamed: 18_05_2012.csv -> 13_05_2012.csv\n",
            "  Renamed: 19_05_2012.csv -> 14_05_2012.csv\n",
            "  Renamed: 20_05_2012.csv -> 15_05_2012.csv\n",
            "  Renamed: 21_05_2012.csv -> 16_05_2012.csv\n",
            "  Renamed: 22_05_2012.csv -> 17_05_2012.csv\n",
            "  Renamed: 23_05_2012.csv -> 18_05_2012.csv\n",
            "  Renamed: 24_05_2012.csv -> 19_05_2012.csv\n",
            "  Renamed: 25_05_2012.csv -> 20_05_2012.csv\n",
            "  Renamed: 26_05_2012.csv -> 21_05_2012.csv\n",
            "  Renamed: 27_05_2012.csv -> 22_05_2012.csv\n",
            "  Renamed: 28_05_2012.csv -> 23_05_2012.csv\n",
            "  Renamed: 29_05_2012.csv -> 24_05_2012.csv\n",
            "  Renamed: 30_05_2012.csv -> 25_05_2012.csv\n",
            "  Renamed: 31_05_2012.csv -> 26_05_2012.csv\n",
            "  Renamed: 32_05_2012.csv -> 27_05_2012.csv\n",
            "  Renamed: 33_05_2012.csv -> 28_05_2012.csv\n",
            "  Renamed: 34_05_2012.csv -> 29_05_2012.csv\n",
            "  Renamed: 35_05_2012.csv -> 30_05_2012.csv\n",
            "  Renamed: 36_05_2012.csv -> 31_05_2012.csv\n",
            "  Renamed: 37_05_2012.csv -> 32_05_2012.csv\n",
            "  Renamed: 38_05_2012.csv -> 33_05_2012.csv\n",
            "  Renamed: 39_05_2012.csv -> 34_05_2012.csv\n",
            "  Renamed: 40_05_2012.csv -> 35_05_2012.csv\n",
            "  Renamed: 41_05_2012.csv -> 36_05_2012.csv\n",
            "  Renamed: 42_05_2012.csv -> 37_05_2012.csv\n",
            "  Renamed: 43_05_2012.csv -> 38_05_2012.csv\n",
            "  Renamed: 44_05_2012.csv -> 39_05_2012.csv\n",
            "  Renamed: 45_05_2012.csv -> 40_05_2012.csv\n",
            "  Renamed: 46_05_2012.csv -> 41_05_2012.csv\n",
            "  Renamed: 47_05_2012.csv -> 42_05_2012.csv\n",
            "  Renamed: 48_05_2012.csv -> 43_05_2012.csv\n",
            "  Renamed: 50_05_2012.csv -> 44_05_2012.csv\n",
            "  Renamed: 55_05_2012.csv -> 45_05_2012.csv\n",
            "  Renamed: 56_05_2012.csv -> 46_05_2012.csv\n",
            "  Renamed: 3_04_2012.csv -> 2_04_2012.csv\n",
            "  Renamed: 4_04_2012.csv -> 3_04_2012.csv\n",
            "  Renamed: 5_04_2012.csv -> 4_04_2012.csv\n",
            "  Renamed: 6_04_2012.csv -> 5_04_2012.csv\n",
            "  Renamed: 7_04_2012.csv -> 6_04_2012.csv\n",
            "  Renamed: 8_04_2012.csv -> 7_04_2012.csv\n",
            "  Renamed: 9_04_2012.csv -> 8_04_2012.csv\n",
            "  Renamed: 10_04_2012.csv -> 9_04_2012.csv\n",
            "  Renamed: 11_04_2012.csv -> 10_04_2012.csv\n",
            "  Renamed: 12_04_2012.csv -> 11_04_2012.csv\n",
            "  Renamed: 9_02_2012.csv -> 8_02_2012.csv\n",
            "  Renamed: 10_02_2012.csv -> 9_02_2012.csv\n",
            "  Renamed: 11_02_2012.csv -> 10_02_2012.csv\n",
            "  Renamed: 12_02_2012.csv -> 11_02_2012.csv\n",
            "  Renamed: 13_02_2012.csv -> 12_02_2012.csv\n",
            "  Renamed: 14_02_2012.csv -> 13_02_2012.csv\n",
            "  Renamed: 15_02_2012.csv -> 14_02_2012.csv\n",
            "  Renamed: 4_11_2013.csv -> 3_11_2013.csv\n",
            "  Renamed: 5_11_2013.csv -> 4_11_2013.csv\n",
            "  Renamed: 21_08_2013.csv -> 20_08_2013.csv\n",
            "  Renamed: 23_08_2013.csv -> 21_08_2013.csv\n",
            "  Renamed: 28_08_2013.csv -> 22_08_2013.csv\n",
            "  Renamed: 29_08_2013.csv -> 23_08_2013.csv\n",
            "  Renamed: 30_08_2013.csv -> 24_08_2013.csv\n",
            "  Renamed: 31_08_2013.csv -> 25_08_2013.csv\n",
            "  Renamed: 32_08_2013.csv -> 26_08_2013.csv\n",
            "  Renamed: 33_08_2013.csv -> 27_08_2013.csv\n",
            "  Renamed: 34_08_2013.csv -> 28_08_2013.csv\n",
            "  Renamed: 35_08_2013.csv -> 29_08_2013.csv\n",
            "  Renamed: 36_08_2013.csv -> 30_08_2013.csv\n",
            "  Renamed: 37_08_2013.csv -> 31_08_2013.csv\n",
            "  Renamed: 6_03_2013.csv -> 5_03_2013.csv\n",
            "  Renamed: 7_03_2013.csv -> 6_03_2013.csv\n",
            "  Renamed: 8_03_2013.csv -> 7_03_2013.csv\n",
            "  Renamed: 9_03_2013.csv -> 8_03_2013.csv\n",
            "  Renamed: 11_03_2013.csv -> 9_03_2013.csv\n",
            "  Renamed: 12_03_2013.csv -> 10_03_2013.csv\n",
            "  Renamed: 13_03_2013.csv -> 11_03_2013.csv\n",
            "  Renamed: 14_03_2013.csv -> 12_03_2013.csv\n",
            "  Renamed: 15_03_2013.csv -> 13_03_2013.csv\n",
            "  Renamed: 16_03_2013.csv -> 14_03_2013.csv\n",
            "  Renamed: 8_10_2013.csv -> 2_10_2013.csv\n",
            "  Renamed: 9_10_2013.csv -> 3_10_2013.csv\n",
            "  Renamed: 10_10_2013.csv -> 4_10_2013.csv\n",
            "  Renamed: 11_10_2013.csv -> 5_10_2013.csv\n",
            "  Renamed: 12_10_2013.csv -> 6_10_2013.csv\n",
            "  Renamed: 13_10_2013.csv -> 7_10_2013.csv\n",
            "  Renamed: 17_10_2013.csv -> 8_10_2013.csv\n",
            "  Renamed: 18_10_2013.csv -> 9_10_2013.csv\n",
            "  Renamed: 19_10_2013.csv -> 10_10_2013.csv\n",
            "  Renamed: 20_10_2013.csv -> 11_10_2013.csv\n",
            "  Renamed: 21_10_2013.csv -> 12_10_2013.csv\n",
            "  Renamed: 22_10_2013.csv -> 13_10_2013.csv\n",
            "  Renamed: 23_10_2013.csv -> 14_10_2013.csv\n",
            "  Renamed: 24_10_2013.csv -> 15_10_2013.csv\n",
            "  Renamed: 10_13_2013.csv -> 9_13_2013.csv\n",
            "  Renamed: 11_13_2013.csv -> 10_13_2013.csv\n",
            "  Renamed: 13_13_2013.csv -> 11_13_2013.csv\n",
            "  Renamed: 14_13_2013.csv -> 12_13_2013.csv\n",
            "  Renamed: 15_13_2013.csv -> 13_13_2013.csv\n",
            "  Renamed: 16_13_2013.csv -> 14_13_2013.csv\n",
            "  Renamed: 17_13_2013.csv -> 15_13_2013.csv\n",
            "  Renamed: 18_13_2013.csv -> 16_13_2013.csv\n",
            "  Renamed: 19_13_2013.csv -> 17_13_2013.csv\n",
            "  Renamed: 21_13_2013.csv -> 18_13_2013.csv\n",
            "  Renamed: 22_13_2013.csv -> 19_13_2013.csv\n",
            "  Renamed: 26_13_2013.csv -> 20_13_2013.csv\n",
            "  Renamed: 27_13_2013.csv -> 21_13_2013.csv\n",
            "  Renamed: 28_13_2013.csv -> 22_13_2013.csv\n",
            "  Renamed: 29_13_2013.csv -> 23_13_2013.csv\n",
            "  Renamed: 30_13_2013.csv -> 24_13_2013.csv\n",
            "  Renamed: 31_13_2013.csv -> 25_13_2013.csv\n",
            "  Renamed: 32_13_2013.csv -> 26_13_2013.csv\n",
            "  Renamed: 33_13_2013.csv -> 27_13_2013.csv\n",
            "  Renamed: 3_09_2013.csv -> 2_09_2013.csv\n",
            "  Renamed: 4_09_2013.csv -> 3_09_2013.csv\n",
            "  Renamed: 5_09_2013.csv -> 4_09_2013.csv\n",
            "  Renamed: 6_09_2013.csv -> 5_09_2013.csv\n",
            "  Renamed: 7_09_2013.csv -> 6_09_2013.csv\n",
            "  Renamed: 8_09_2013.csv -> 7_09_2013.csv\n",
            "  Renamed: 9_09_2013.csv -> 8_09_2013.csv\n",
            "  Renamed: 10_09_2013.csv -> 9_09_2013.csv\n",
            "  Renamed: 11_09_2013.csv -> 10_09_2013.csv\n",
            "  Renamed: 12_09_2013.csv -> 11_09_2013.csv\n",
            "  Renamed: 13_09_2013.csv -> 12_09_2013.csv\n",
            "  Renamed: 14_09_2013.csv -> 13_09_2013.csv\n",
            "  Renamed: 15_09_2013.csv -> 14_09_2013.csv\n",
            "  Renamed: 17_09_2013.csv -> 15_09_2013.csv\n",
            "  Renamed: 18_09_2013.csv -> 16_09_2013.csv\n",
            "  Renamed: 22_06_2013.csv -> 21_06_2013.csv\n",
            "  Renamed: 23_06_2013.csv -> 22_06_2013.csv\n",
            "  Renamed: 24_06_2013.csv -> 23_06_2013.csv\n",
            "  Renamed: 25_06_2013.csv -> 24_06_2013.csv\n",
            "  Renamed: 8_14_2013.csv -> 5_14_2013.csv\n",
            "  Renamed: 9_14_2013.csv -> 6_14_2013.csv\n",
            "  Renamed: 10_14_2013.csv -> 7_14_2013.csv\n",
            "  Renamed: 11_14_2013.csv -> 8_14_2013.csv\n",
            "  Renamed: 12_14_2013.csv -> 9_14_2013.csv\n",
            "  Renamed: 13_14_2013.csv -> 10_14_2013.csv\n",
            "  Renamed: 14_14_2013.csv -> 11_14_2013.csv\n",
            "  Renamed: 15_14_2013.csv -> 12_14_2013.csv\n",
            "  Renamed: 20_14_2013.csv -> 13_14_2013.csv\n",
            "  Renamed: 21_14_2013.csv -> 14_14_2013.csv\n",
            "  Renamed: 22_14_2013.csv -> 15_14_2013.csv\n",
            "  Renamed: 24_14_2013.csv -> 16_14_2013.csv\n",
            "  Renamed: 25_14_2013.csv -> 17_14_2013.csv\n",
            "  Renamed: 27_14_2013.csv -> 18_14_2013.csv\n",
            "  Renamed: 28_14_2013.csv -> 19_14_2013.csv\n",
            "  Renamed: 29_14_2013.csv -> 20_14_2013.csv\n",
            "  Renamed: 30_14_2013.csv -> 21_14_2013.csv\n",
            "  Renamed: 31_14_2013.csv -> 22_14_2013.csv\n",
            "  Renamed: 32_14_2013.csv -> 23_14_2013.csv\n",
            "  Renamed: 33_14_2013.csv -> 24_14_2013.csv\n",
            "  Renamed: 34_14_2013.csv -> 25_14_2013.csv\n",
            "  Renamed: 35_14_2013.csv -> 26_14_2013.csv\n",
            "  Renamed: 36_14_2013.csv -> 27_14_2013.csv\n",
            "  Renamed: 38_14_2013.csv -> 28_14_2013.csv\n",
            "  Renamed: 39_14_2013.csv -> 29_14_2013.csv\n",
            "  Renamed: 40_14_2013.csv -> 30_14_2013.csv\n",
            "  Renamed: 41_14_2013.csv -> 31_14_2013.csv\n",
            "  Renamed: 42_14_2013.csv -> 32_14_2013.csv\n",
            "  Renamed: 43_14_2013.csv -> 33_14_2013.csv\n",
            "  Renamed: 44_14_2013.csv -> 34_14_2013.csv\n",
            "  Renamed: 45_14_2013.csv -> 35_14_2013.csv\n",
            "  Renamed: 46_14_2013.csv -> 36_14_2013.csv\n",
            "  Renamed: 47_14_2013.csv -> 37_14_2013.csv\n",
            "  Renamed: 48_14_2013.csv -> 38_14_2013.csv\n",
            "  Renamed: 49_14_2013.csv -> 39_14_2013.csv\n",
            "  Renamed: 50_14_2013.csv -> 40_14_2013.csv\n",
            "  Renamed: 51_14_2013.csv -> 41_14_2013.csv\n",
            "  Renamed: 52_14_2013.csv -> 42_14_2013.csv\n",
            "  Renamed: 53_14_2013.csv -> 43_14_2013.csv\n",
            "  Renamed: 54_14_2013.csv -> 44_14_2013.csv\n",
            "  Renamed: 55_14_2013.csv -> 45_14_2013.csv\n",
            "  Renamed: 56_14_2013.csv -> 46_14_2013.csv\n",
            "  Renamed: 57_14_2013.csv -> 47_14_2013.csv\n",
            "  Renamed: 3_07_2013.csv -> 2_07_2013.csv\n",
            "  Renamed: 4_07_2013.csv -> 3_07_2013.csv\n",
            "  Renamed: 8_07_2013.csv -> 4_07_2013.csv\n",
            "  Renamed: 9_07_2013.csv -> 5_07_2013.csv\n",
            "  Renamed: 10_07_2013.csv -> 6_07_2013.csv\n",
            "  Renamed: 11_07_2013.csv -> 7_07_2013.csv\n",
            "  Renamed: 14_07_2013.csv -> 8_07_2013.csv\n",
            "  Renamed: 15_07_2013.csv -> 9_07_2013.csv\n",
            "  Renamed: 16_07_2013.csv -> 10_07_2013.csv\n",
            "  Renamed: 17_07_2013.csv -> 11_07_2013.csv\n",
            "  Renamed: 18_07_2013.csv -> 12_07_2013.csv\n",
            "  Renamed: 19_07_2013.csv -> 13_07_2013.csv\n",
            "  Renamed: 20_07_2013.csv -> 14_07_2013.csv\n",
            "  Renamed: 21_07_2013.csv -> 15_07_2013.csv\n",
            "  Renamed: 22_07_2013.csv -> 16_07_2013.csv\n",
            "  Renamed: 6_12_2013.csv -> 5_12_2013.csv\n",
            "  Renamed: 7_12_2013.csv -> 6_12_2013.csv\n",
            "  Renamed: 8_12_2013.csv -> 7_12_2013.csv\n",
            "  Renamed: 9_12_2013.csv -> 8_12_2013.csv\n",
            "  Renamed: 11_12_2013.csv -> 9_12_2013.csv\n",
            "  Renamed: 13_12_2013.csv -> 10_12_2013.csv\n",
            "  Renamed: 14_12_2013.csv -> 11_12_2013.csv\n",
            "  Renamed: 15_12_2013.csv -> 12_12_2013.csv\n",
            "  Renamed: 16_12_2013.csv -> 13_12_2013.csv\n",
            "  Renamed: 18_12_2013.csv -> 14_12_2013.csv\n",
            "  Renamed: 19_12_2013.csv -> 15_12_2013.csv\n",
            "  Renamed: 20_12_2013.csv -> 16_12_2013.csv\n",
            "  Renamed: 21_12_2013.csv -> 17_12_2013.csv\n",
            "  Renamed: 22_12_2013.csv -> 18_12_2013.csv\n",
            "  Renamed: 23_12_2013.csv -> 19_12_2013.csv\n",
            "  Renamed: 24_12_2013.csv -> 20_12_2013.csv\n",
            "  Renamed: 25_12_2013.csv -> 21_12_2013.csv\n",
            "  Renamed: 26_12_2013.csv -> 22_12_2013.csv\n",
            "  Renamed: 27_12_2013.csv -> 23_12_2013.csv\n",
            "  Renamed: 28_12_2013.csv -> 24_12_2013.csv\n",
            "  Renamed: 29_12_2013.csv -> 25_12_2013.csv\n",
            "  Renamed: 30_12_2013.csv -> 26_12_2013.csv\n",
            "  Renamed: 32_12_2013.csv -> 27_12_2013.csv\n",
            "  Renamed: 34_12_2013.csv -> 28_12_2013.csv\n",
            "  Renamed: 35_12_2013.csv -> 29_12_2013.csv\n",
            "  Renamed: 36_12_2013.csv -> 30_12_2013.csv\n",
            "  Renamed: 37_12_2013.csv -> 31_12_2013.csv\n",
            "  Renamed: 38_12_2013.csv -> 32_12_2013.csv\n",
            "  Renamed: 40_12_2013.csv -> 33_12_2013.csv\n",
            "  Renamed: 41_12_2013.csv -> 34_12_2013.csv\n",
            "  Renamed: 3_05_2013.csv -> 2_05_2013.csv\n",
            "  Renamed: 4_05_2013.csv -> 3_05_2013.csv\n",
            "  Renamed: 5_05_2013.csv -> 4_05_2013.csv\n",
            "  Renamed: 6_05_2013.csv -> 5_05_2013.csv\n",
            "  Renamed: 8_05_2013.csv -> 6_05_2013.csv\n",
            "  Renamed: 10_05_2013.csv -> 7_05_2013.csv\n",
            "  Renamed: 11_05_2013.csv -> 8_05_2013.csv\n",
            "  Renamed: 12_05_2013.csv -> 9_05_2013.csv\n",
            "  Renamed: 13_05_2013.csv -> 10_05_2013.csv\n",
            "  Renamed: 14_05_2013.csv -> 11_05_2013.csv\n",
            "  Renamed: 15_05_2013.csv -> 12_05_2013.csv\n",
            "  Renamed: 16_05_2013.csv -> 13_05_2013.csv\n",
            "  Renamed: 17_05_2013.csv -> 14_05_2013.csv\n",
            "  Renamed: 18_05_2013.csv -> 15_05_2013.csv\n",
            "  Renamed: 19_05_2013.csv -> 16_05_2013.csv\n",
            "  Renamed: 20_05_2013.csv -> 17_05_2013.csv\n",
            "  Renamed: 21_05_2013.csv -> 18_05_2013.csv\n",
            "  Renamed: 22_05_2013.csv -> 19_05_2013.csv\n",
            "  Renamed: 26_05_2013.csv -> 20_05_2013.csv\n",
            "  Renamed: 27_05_2013.csv -> 21_05_2013.csv\n",
            "  Renamed: 28_05_2013.csv -> 22_05_2013.csv\n",
            "  Renamed: 29_05_2013.csv -> 23_05_2013.csv\n",
            "  Renamed: 30_05_2013.csv -> 24_05_2013.csv\n",
            "  Renamed: 31_05_2013.csv -> 25_05_2013.csv\n",
            "  Renamed: 36_05_2013.csv -> 26_05_2013.csv\n",
            "  Renamed: 38_05_2013.csv -> 27_05_2013.csv\n",
            "  Renamed: 43_05_2013.csv -> 28_05_2013.csv\n",
            "  Renamed: 44_05_2013.csv -> 29_05_2013.csv\n",
            "  Renamed: 45_05_2013.csv -> 30_05_2013.csv\n",
            "  Renamed: 46_05_2013.csv -> 31_05_2013.csv\n",
            "  Renamed: 3_04_2013.csv -> 2_04_2013.csv\n",
            "  Renamed: 4_04_2013.csv -> 3_04_2013.csv\n",
            "  Renamed: 5_04_2013.csv -> 4_04_2013.csv\n",
            "  Renamed: 6_04_2013.csv -> 5_04_2013.csv\n",
            "  Renamed: 7_04_2013.csv -> 6_04_2013.csv\n",
            "  Renamed: 8_04_2013.csv -> 7_04_2013.csv\n",
            "  Renamed: 9_04_2013.csv -> 8_04_2013.csv\n",
            "  Renamed: 10_04_2013.csv -> 9_04_2013.csv\n",
            "  Renamed: 9_02_2013.csv -> 8_02_2013.csv\n",
            "  Renamed: 10_02_2013.csv -> 9_02_2013.csv\n",
            "  Renamed: 11_02_2013.csv -> 10_02_2013.csv\n",
            "  Renamed: 12_02_2013.csv -> 11_02_2013.csv\n",
            "  Renamed: 13_02_2013.csv -> 12_02_2013.csv\n",
            "  Renamed: 14_02_2013.csv -> 13_02_2013.csv\n",
            "  Renamed: 15_02_2013.csv -> 14_02_2013.csv\n",
            "  Renamed: 4_11_2014.csv -> 3_11_2014.csv\n",
            "  Renamed: 5_11_2014.csv -> 4_11_2014.csv\n",
            "  Renamed: 19_08_2014.csv -> 18_08_2014.csv\n",
            "  Renamed: 21_08_2014.csv -> 19_08_2014.csv\n",
            "  Renamed: 26_08_2014.csv -> 20_08_2014.csv\n",
            "  Renamed: 27_08_2014.csv -> 21_08_2014.csv\n",
            "  Renamed: 28_08_2014.csv -> 22_08_2014.csv\n",
            "  Renamed: 29_08_2014.csv -> 23_08_2014.csv\n",
            "  Renamed: 30_08_2014.csv -> 24_08_2014.csv\n",
            "  Renamed: 31_08_2014.csv -> 25_08_2014.csv\n",
            "  Renamed: 32_08_2014.csv -> 26_08_2014.csv\n",
            "  Renamed: 33_08_2014.csv -> 27_08_2014.csv\n",
            "  Renamed: 35_08_2014.csv -> 28_08_2014.csv\n",
            "  Renamed: 36_08_2014.csv -> 29_08_2014.csv\n",
            "  Renamed: 37_08_2014.csv -> 30_08_2014.csv\n",
            "  Renamed: 38_08_2014.csv -> 31_08_2014.csv\n",
            "  Renamed: 39_08_2014.csv -> 32_08_2014.csv\n",
            "  Renamed: 40_08_2014.csv -> 33_08_2014.csv\n",
            "  Renamed: 6_01_2014.csv -> 5_01_2014.csv\n",
            "  Renamed: 10_01_2014.csv -> 6_01_2014.csv\n",
            "  Renamed: 11_01_2014.csv -> 7_01_2014.csv\n",
            "  Renamed: 12_01_2014.csv -> 8_01_2014.csv\n",
            "  Renamed: 9_03_2014.csv -> 5_03_2014.csv\n",
            "  Renamed: 10_03_2014.csv -> 6_03_2014.csv\n",
            "  Renamed: 11_03_2014.csv -> 7_03_2014.csv\n",
            "  Renamed: 12_03_2014.csv -> 8_03_2014.csv\n",
            "  Renamed: 14_03_2014.csv -> 9_03_2014.csv\n",
            "  Renamed: 15_03_2014.csv -> 10_03_2014.csv\n",
            "  Renamed: 16_03_2014.csv -> 11_03_2014.csv\n",
            "  Renamed: 17_03_2014.csv -> 12_03_2014.csv\n",
            "  Renamed: 18_03_2014.csv -> 13_03_2014.csv\n",
            "  Renamed: 19_03_2014.csv -> 14_03_2014.csv\n",
            "  Renamed: 9_10_2014.csv -> 2_10_2014.csv\n",
            "  Renamed: 10_10_2014.csv -> 3_10_2014.csv\n",
            "  Renamed: 11_10_2014.csv -> 4_10_2014.csv\n",
            "  Renamed: 12_10_2014.csv -> 5_10_2014.csv\n",
            "  Renamed: 13_10_2014.csv -> 6_10_2014.csv\n",
            "  Renamed: 18_10_2014.csv -> 7_10_2014.csv\n",
            "  Renamed: 19_10_2014.csv -> 8_10_2014.csv\n",
            "  Renamed: 20_10_2014.csv -> 9_10_2014.csv\n",
            "  Renamed: 21_10_2014.csv -> 10_10_2014.csv\n",
            "  Renamed: 22_10_2014.csv -> 11_10_2014.csv\n",
            "  Renamed: 23_10_2014.csv -> 12_10_2014.csv\n",
            "  Renamed: 24_10_2014.csv -> 13_10_2014.csv\n",
            "  Renamed: 25_10_2014.csv -> 14_10_2014.csv\n",
            "  Renamed: 26_10_2014.csv -> 15_10_2014.csv\n",
            "  Renamed: 11_13_2014.csv -> 9_13_2014.csv\n",
            "  Renamed: 12_13_2014.csv -> 10_13_2014.csv\n",
            "  Renamed: 13_13_2014.csv -> 11_13_2014.csv\n",
            "  Renamed: 14_13_2014.csv -> 12_13_2014.csv\n",
            "  Renamed: 16_13_2014.csv -> 13_13_2014.csv\n",
            "  Renamed: 17_13_2014.csv -> 14_13_2014.csv\n",
            "  Renamed: 18_13_2014.csv -> 15_13_2014.csv\n",
            "  Renamed: 19_13_2014.csv -> 16_13_2014.csv\n",
            "  Renamed: 20_13_2014.csv -> 17_13_2014.csv\n",
            "  Renamed: 21_13_2014.csv -> 18_13_2014.csv\n",
            "  Renamed: 23_13_2014.csv -> 19_13_2014.csv\n",
            "  Renamed: 24_13_2014.csv -> 20_13_2014.csv\n",
            "  Renamed: 28_13_2014.csv -> 21_13_2014.csv\n",
            "  Renamed: 29_13_2014.csv -> 22_13_2014.csv\n",
            "  Renamed: 30_13_2014.csv -> 23_13_2014.csv\n",
            "  Renamed: 32_13_2014.csv -> 24_13_2014.csv\n",
            "  Renamed: 33_13_2014.csv -> 25_13_2014.csv\n",
            "  Renamed: 34_13_2014.csv -> 26_13_2014.csv\n",
            "  Renamed: 35_13_2014.csv -> 27_13_2014.csv\n",
            "  Renamed: 36_13_2014.csv -> 28_13_2014.csv\n",
            "  Renamed: 3_09_2014.csv -> 2_09_2014.csv\n",
            "  Renamed: 4_09_2014.csv -> 3_09_2014.csv\n",
            "  Renamed: 9_09_2014.csv -> 4_09_2014.csv\n",
            "  Renamed: 10_09_2014.csv -> 5_09_2014.csv\n",
            "  Renamed: 11_09_2014.csv -> 6_09_2014.csv\n",
            "  Renamed: 12_09_2014.csv -> 7_09_2014.csv\n",
            "  Renamed: 13_09_2014.csv -> 8_09_2014.csv\n",
            "  Renamed: 14_09_2014.csv -> 9_09_2014.csv\n",
            "  Renamed: 15_09_2014.csv -> 10_09_2014.csv\n",
            "  Renamed: 16_09_2014.csv -> 11_09_2014.csv\n",
            "  Renamed: 17_09_2014.csv -> 12_09_2014.csv\n",
            "  Renamed: 18_09_2014.csv -> 13_09_2014.csv\n",
            "  Renamed: 19_09_2014.csv -> 14_09_2014.csv\n",
            "  Renamed: 20_09_2014.csv -> 15_09_2014.csv\n",
            "  Renamed: 21_09_2014.csv -> 16_09_2014.csv\n",
            "  Renamed: 22_09_2014.csv -> 17_09_2014.csv\n",
            "  Renamed: 23_09_2014.csv -> 18_09_2014.csv\n",
            "  Renamed: 24_09_2014.csv -> 19_09_2014.csv\n",
            "  Renamed: 25_09_2014.csv -> 20_09_2014.csv\n",
            "  Renamed: 22_06_2014.csv -> 20_06_2014.csv\n",
            "  Renamed: 23_06_2014.csv -> 21_06_2014.csv\n",
            "  Renamed: 24_06_2014.csv -> 22_06_2014.csv\n",
            "  Renamed: 25_06_2014.csv -> 23_06_2014.csv\n",
            "  Renamed: 3_07_2014.csv -> 2_07_2014.csv\n",
            "  Renamed: 4_07_2014.csv -> 3_07_2014.csv\n",
            "  Renamed: 5_07_2014.csv -> 4_07_2014.csv\n",
            "  Renamed: 10_07_2014.csv -> 5_07_2014.csv\n",
            "  Renamed: 16_07_2014.csv -> 6_07_2014.csv\n",
            "  Renamed: 17_07_2014.csv -> 7_07_2014.csv\n",
            "  Renamed: 18_07_2014.csv -> 8_07_2014.csv\n",
            "  Renamed: 19_07_2014.csv -> 9_07_2014.csv\n",
            "  Renamed: 20_07_2014.csv -> 10_07_2014.csv\n",
            "  Renamed: 23_07_2014.csv -> 11_07_2014.csv\n",
            "  Renamed: 24_07_2014.csv -> 12_07_2014.csv\n",
            "  Renamed: 25_07_2014.csv -> 13_07_2014.csv\n",
            "  Renamed: 26_07_2014.csv -> 14_07_2014.csv\n",
            "  Renamed: 27_07_2014.csv -> 15_07_2014.csv\n",
            "  Renamed: 28_07_2014.csv -> 16_07_2014.csv\n",
            "  Renamed: 29_07_2014.csv -> 17_07_2014.csv\n",
            "  Renamed: 30_07_2014.csv -> 18_07_2014.csv\n",
            "  Renamed: 6_12_2014.csv -> 5_12_2014.csv\n",
            "  Renamed: 7_12_2014.csv -> 6_12_2014.csv\n",
            "  Renamed: 8_12_2014.csv -> 7_12_2014.csv\n",
            "  Renamed: 10_12_2014.csv -> 8_12_2014.csv\n",
            "  Renamed: 13_12_2014.csv -> 9_12_2014.csv\n",
            "  Renamed: 16_12_2014.csv -> 10_12_2014.csv\n",
            "  Renamed: 17_12_2014.csv -> 11_12_2014.csv\n",
            "  Renamed: 18_12_2014.csv -> 12_12_2014.csv\n",
            "  Renamed: 20_12_2014.csv -> 13_12_2014.csv\n",
            "  Renamed: 21_12_2014.csv -> 14_12_2014.csv\n",
            "  Renamed: 22_12_2014.csv -> 15_12_2014.csv\n",
            "  Renamed: 23_12_2014.csv -> 16_12_2014.csv\n",
            "  Renamed: 24_12_2014.csv -> 17_12_2014.csv\n",
            "  Renamed: 25_12_2014.csv -> 18_12_2014.csv\n",
            "  Renamed: 26_12_2014.csv -> 19_12_2014.csv\n",
            "  Renamed: 27_12_2014.csv -> 20_12_2014.csv\n",
            "  Renamed: 28_12_2014.csv -> 21_12_2014.csv\n",
            "  Renamed: 29_12_2014.csv -> 22_12_2014.csv\n",
            "  Renamed: 30_12_2014.csv -> 23_12_2014.csv\n",
            "  Renamed: 31_12_2014.csv -> 24_12_2014.csv\n",
            "  Renamed: 32_12_2014.csv -> 25_12_2014.csv\n",
            "  Renamed: 34_12_2014.csv -> 26_12_2014.csv\n",
            "  Renamed: 36_12_2014.csv -> 27_12_2014.csv\n",
            "  Renamed: 37_12_2014.csv -> 28_12_2014.csv\n",
            "  Renamed: 38_12_2014.csv -> 29_12_2014.csv\n",
            "  Renamed: 39_12_2014.csv -> 30_12_2014.csv\n",
            "  Renamed: 40_12_2014.csv -> 31_12_2014.csv\n",
            "  Renamed: 41_12_2014.csv -> 32_12_2014.csv\n",
            "  Renamed: 42_12_2014.csv -> 33_12_2014.csv\n",
            "  Renamed: 3_05_2014.csv -> 2_05_2014.csv\n",
            "  Renamed: 4_05_2014.csv -> 3_05_2014.csv\n",
            "  Renamed: 5_05_2014.csv -> 4_05_2014.csv\n",
            "  Renamed: 6_05_2014.csv -> 5_05_2014.csv\n",
            "  Renamed: 10_05_2014.csv -> 6_05_2014.csv\n",
            "  Renamed: 12_05_2014.csv -> 7_05_2014.csv\n",
            "  Renamed: 13_05_2014.csv -> 8_05_2014.csv\n",
            "  Renamed: 14_05_2014.csv -> 9_05_2014.csv\n",
            "  Renamed: 18_05_2014.csv -> 10_05_2014.csv\n",
            "  Renamed: 19_05_2014.csv -> 11_05_2014.csv\n",
            "  Renamed: 20_05_2014.csv -> 12_05_2014.csv\n",
            "  Renamed: 21_05_2014.csv -> 13_05_2014.csv\n",
            "  Renamed: 22_05_2014.csv -> 14_05_2014.csv\n",
            "  Renamed: 23_05_2014.csv -> 15_05_2014.csv\n",
            "  Renamed: 24_05_2014.csv -> 16_05_2014.csv\n",
            "  Renamed: 25_05_2014.csv -> 17_05_2014.csv\n",
            "  Renamed: 26_05_2014.csv -> 18_05_2014.csv\n",
            "  Renamed: 27_05_2014.csv -> 19_05_2014.csv\n",
            "  Renamed: 28_05_2014.csv -> 20_05_2014.csv\n",
            "  Renamed: 29_05_2014.csv -> 21_05_2014.csv\n",
            "  Renamed: 30_05_2014.csv -> 22_05_2014.csv\n",
            "  Renamed: 31_05_2014.csv -> 23_05_2014.csv\n",
            "  Renamed: 32_05_2014.csv -> 24_05_2014.csv\n",
            "  Renamed: 37_05_2014.csv -> 25_05_2014.csv\n",
            "  Renamed: 38_05_2014.csv -> 26_05_2014.csv\n",
            "  Renamed: 39_05_2014.csv -> 27_05_2014.csv\n",
            "  Renamed: 41_05_2014.csv -> 28_05_2014.csv\n",
            "  Renamed: 42_05_2014.csv -> 29_05_2014.csv\n",
            "  Renamed: 43_05_2014.csv -> 30_05_2014.csv\n",
            "  Renamed: 44_05_2014.csv -> 31_05_2014.csv\n",
            "  Renamed: 49_05_2014.csv -> 32_05_2014.csv\n",
            "  Renamed: 51_05_2014.csv -> 33_05_2014.csv\n",
            "  Renamed: 56_05_2014.csv -> 34_05_2014.csv\n",
            "  Renamed: 57_05_2014.csv -> 35_05_2014.csv\n",
            "  Renamed: 4_04_2014.csv -> 3_04_2014.csv\n",
            "  Renamed: 5_04_2014.csv -> 4_04_2014.csv\n",
            "  Renamed: 6_04_2014.csv -> 5_04_2014.csv\n",
            "  Renamed: 7_04_2014.csv -> 6_04_2014.csv\n",
            "  Renamed: 8_04_2014.csv -> 7_04_2014.csv\n",
            "  Renamed: 9_04_2014.csv -> 8_04_2014.csv\n",
            "  Renamed: 10_04_2014.csv -> 9_04_2014.csv\n",
            "  Renamed: 10_02_2014.csv -> 8_02_2014.csv\n",
            "  Renamed: 11_02_2014.csv -> 9_02_2014.csv\n",
            "  Renamed: 12_02_2014.csv -> 10_02_2014.csv\n",
            "  Renamed: 13_02_2014.csv -> 11_02_2014.csv\n",
            "  Renamed: 14_02_2014.csv -> 12_02_2014.csv\n",
            "  Renamed: 15_02_2014.csv -> 13_02_2014.csv\n",
            "  Renamed: 16_02_2014.csv -> 14_02_2014.csv\n",
            "  Renamed: 17_02_2014.csv -> 15_02_2014.csv\n",
            "  Renamed: 4_11_2015.csv -> 3_11_2015.csv\n",
            "  Renamed: 5_11_2015.csv -> 4_11_2015.csv\n",
            "  Renamed: 18_08_2015.csv -> 17_08_2015.csv\n",
            "  Renamed: 19_08_2015.csv -> 18_08_2015.csv\n",
            "  Renamed: 22_08_2015.csv -> 19_08_2015.csv\n",
            "  Renamed: 23_08_2015.csv -> 20_08_2015.csv\n",
            "  Renamed: 24_08_2015.csv -> 21_08_2015.csv\n",
            "  Renamed: 25_08_2015.csv -> 22_08_2015.csv\n",
            "  Renamed: 26_08_2015.csv -> 23_08_2015.csv\n",
            "  Renamed: 27_08_2015.csv -> 24_08_2015.csv\n",
            "  Renamed: 28_08_2015.csv -> 25_08_2015.csv\n",
            "  Renamed: 29_08_2015.csv -> 26_08_2015.csv\n",
            "  Renamed: 30_08_2015.csv -> 27_08_2015.csv\n",
            "  Renamed: 32_08_2015.csv -> 28_08_2015.csv\n",
            "  Renamed: 33_08_2015.csv -> 29_08_2015.csv\n",
            "  Renamed: 34_08_2015.csv -> 30_08_2015.csv\n",
            "  Renamed: 35_08_2015.csv -> 31_08_2015.csv\n",
            "  Renamed: 36_08_2015.csv -> 32_08_2015.csv\n",
            "  Renamed: 37_08_2015.csv -> 33_08_2015.csv\n",
            "  Renamed: 6_01_2015.csv -> 5_01_2015.csv\n",
            "  Renamed: 9_01_2015.csv -> 6_01_2015.csv\n",
            "  Renamed: 10_01_2015.csv -> 7_01_2015.csv\n",
            "  Renamed: 11_01_2015.csv -> 8_01_2015.csv\n",
            "  Renamed: 10_03_2015.csv -> 4_03_2015.csv\n",
            "  Renamed: 11_03_2015.csv -> 5_03_2015.csv\n",
            "  Renamed: 12_03_2015.csv -> 6_03_2015.csv\n",
            "  Renamed: 13_03_2015.csv -> 7_03_2015.csv\n",
            "  Renamed: 15_03_2015.csv -> 8_03_2015.csv\n",
            "  Renamed: 16_03_2015.csv -> 9_03_2015.csv\n",
            "  Renamed: 17_03_2015.csv -> 10_03_2015.csv\n",
            "  Renamed: 18_03_2015.csv -> 11_03_2015.csv\n",
            "  Renamed: 19_03_2015.csv -> 12_03_2015.csv\n",
            "  Renamed: 20_03_2015.csv -> 13_03_2015.csv\n",
            "  Renamed: 17_10_2015.csv -> 14_10_2015.csv\n",
            "  Renamed: 18_10_2015.csv -> 15_10_2015.csv\n",
            "  Renamed: 19_10_2015.csv -> 16_10_2015.csv\n",
            "  Renamed: 20_10_2015.csv -> 17_10_2015.csv\n",
            "  Renamed: 21_10_2015.csv -> 18_10_2015.csv\n",
            "  Renamed: 22_10_2015.csv -> 19_10_2015.csv\n",
            "  Renamed: 23_10_2015.csv -> 20_10_2015.csv\n",
            "  Renamed: 24_10_2015.csv -> 21_10_2015.csv\n",
            "  Renamed: 25_10_2015.csv -> 22_10_2015.csv\n",
            "  Renamed: 26_10_2015.csv -> 23_10_2015.csv\n",
            "  Renamed: 27_10_2015.csv -> 24_10_2015.csv\n",
            "  Renamed: 28_10_2015.csv -> 25_10_2015.csv\n",
            "  Renamed: 29_10_2015.csv -> 26_10_2015.csv\n",
            "  Renamed: 12_13_2015.csv -> 10_13_2015.csv\n",
            "  Renamed: 13_13_2015.csv -> 11_13_2015.csv\n",
            "  Renamed: 14_13_2015.csv -> 12_13_2015.csv\n",
            "  Renamed: 15_13_2015.csv -> 13_13_2015.csv\n",
            "  Renamed: 17_13_2015.csv -> 14_13_2015.csv\n",
            "  Renamed: 18_13_2015.csv -> 15_13_2015.csv\n",
            "  Renamed: 19_13_2015.csv -> 16_13_2015.csv\n",
            "  Renamed: 20_13_2015.csv -> 17_13_2015.csv\n",
            "  Renamed: 21_13_2015.csv -> 18_13_2015.csv\n",
            "  Renamed: 22_13_2015.csv -> 19_13_2015.csv\n",
            "  Renamed: 23_13_2015.csv -> 20_13_2015.csv\n",
            "  Renamed: 24_13_2015.csv -> 21_13_2015.csv\n",
            "  Renamed: 25_13_2015.csv -> 22_13_2015.csv\n",
            "  Renamed: 27_13_2015.csv -> 23_13_2015.csv\n",
            "  Renamed: 28_13_2015.csv -> 24_13_2015.csv\n",
            "  Renamed: 31_13_2015.csv -> 25_13_2015.csv\n",
            "  Renamed: 32_13_2015.csv -> 26_13_2015.csv\n",
            "  Renamed: 33_13_2015.csv -> 27_13_2015.csv\n",
            "  Renamed: 35_13_2015.csv -> 28_13_2015.csv\n",
            "  Renamed: 36_13_2015.csv -> 29_13_2015.csv\n",
            "  Renamed: 37_13_2015.csv -> 30_13_2015.csv\n",
            "  Renamed: 38_13_2015.csv -> 31_13_2015.csv\n",
            "  Renamed: 39_13_2015.csv -> 32_13_2015.csv\n",
            "  Renamed: 11_15_2015.csv -> 10_15_2015.csv\n",
            "  Renamed: 3_09_2015.csv -> 2_09_2015.csv\n",
            "  Renamed: 5_09_2015.csv -> 3_09_2015.csv\n",
            "  Renamed: 10_09_2015.csv -> 4_09_2015.csv\n",
            "  Renamed: 11_09_2015.csv -> 5_09_2015.csv\n",
            "  Renamed: 12_09_2015.csv -> 6_09_2015.csv\n",
            "  Renamed: 13_09_2015.csv -> 7_09_2015.csv\n",
            "  Renamed: 14_09_2015.csv -> 8_09_2015.csv\n",
            "  Renamed: 15_09_2015.csv -> 9_09_2015.csv\n",
            "  Renamed: 16_09_2015.csv -> 10_09_2015.csv\n",
            "  Renamed: 17_09_2015.csv -> 11_09_2015.csv\n",
            "  Renamed: 18_09_2015.csv -> 12_09_2015.csv\n",
            "  Renamed: 19_09_2015.csv -> 13_09_2015.csv\n",
            "  Renamed: 20_09_2015.csv -> 14_09_2015.csv\n",
            "  Renamed: 21_09_2015.csv -> 15_09_2015.csv\n",
            "  Renamed: 22_09_2015.csv -> 16_09_2015.csv\n",
            "  Renamed: 23_09_2015.csv -> 17_09_2015.csv\n",
            "  Renamed: 25_09_2015.csv -> 18_09_2015.csv\n",
            "  Renamed: 26_09_2015.csv -> 19_09_2015.csv\n",
            "  Renamed: 16_06_2015.csv -> 14_06_2015.csv\n",
            "  Renamed: 17_06_2015.csv -> 15_06_2015.csv\n",
            "  Renamed: 18_06_2015.csv -> 16_06_2015.csv\n",
            "  Renamed: 19_06_2015.csv -> 17_06_2015.csv\n",
            "  Renamed: 7_14_2015.csv -> 6_14_2015.csv\n",
            "  Renamed: 8_14_2015.csv -> 7_14_2015.csv\n",
            "  Renamed: 10_14_2015.csv -> 8_14_2015.csv\n",
            "  Renamed: 12_14_2015.csv -> 9_14_2015.csv\n",
            "  Renamed: 13_14_2015.csv -> 10_14_2015.csv\n",
            "  Renamed: 14_14_2015.csv -> 11_14_2015.csv\n",
            "  Renamed: 15_14_2015.csv -> 12_14_2015.csv\n",
            "  Renamed: 16_14_2015.csv -> 13_14_2015.csv\n",
            "  Renamed: 17_14_2015.csv -> 14_14_2015.csv\n",
            "  Renamed: 18_14_2015.csv -> 15_14_2015.csv\n",
            "  Renamed: 19_14_2015.csv -> 16_14_2015.csv\n",
            "  Renamed: 20_14_2015.csv -> 17_14_2015.csv\n",
            "  Renamed: 21_14_2015.csv -> 18_14_2015.csv\n",
            "  Renamed: 22_14_2015.csv -> 19_14_2015.csv\n",
            "  Renamed: 23_14_2015.csv -> 20_14_2015.csv\n",
            "  Renamed: 24_14_2015.csv -> 21_14_2015.csv\n",
            "  Renamed: 25_14_2015.csv -> 22_14_2015.csv\n",
            "  Renamed: 26_14_2015.csv -> 23_14_2015.csv\n",
            "  Renamed: 27_14_2015.csv -> 24_14_2015.csv\n",
            "  Renamed: 28_14_2015.csv -> 25_14_2015.csv\n",
            "  Renamed: 29_14_2015.csv -> 26_14_2015.csv\n",
            "  Renamed: 30_14_2015.csv -> 27_14_2015.csv\n",
            "  Renamed: 31_14_2015.csv -> 28_14_2015.csv\n",
            "  Renamed: 32_14_2015.csv -> 29_14_2015.csv\n",
            "  Renamed: 33_14_2015.csv -> 30_14_2015.csv\n",
            "  Renamed: 34_14_2015.csv -> 31_14_2015.csv\n",
            "  Renamed: 35_14_2015.csv -> 32_14_2015.csv\n",
            "  Renamed: 36_14_2015.csv -> 33_14_2015.csv\n",
            "  Renamed: 3_07_2015.csv -> 2_07_2015.csv\n",
            "  Renamed: 4_07_2015.csv -> 3_07_2015.csv\n",
            "  Renamed: 5_07_2015.csv -> 4_07_2015.csv\n",
            "  Renamed: 10_07_2015.csv -> 5_07_2015.csv\n",
            "  Renamed: 15_07_2015.csv -> 6_07_2015.csv\n",
            "  Renamed: 16_07_2015.csv -> 7_07_2015.csv\n",
            "  Renamed: 17_07_2015.csv -> 8_07_2015.csv\n",
            "  Renamed: 18_07_2015.csv -> 9_07_2015.csv\n",
            "  Renamed: 19_07_2015.csv -> 10_07_2015.csv\n",
            "  Renamed: 22_07_2015.csv -> 11_07_2015.csv\n",
            "  Renamed: 23_07_2015.csv -> 12_07_2015.csv\n",
            "  Renamed: 24_07_2015.csv -> 13_07_2015.csv\n",
            "  Renamed: 25_07_2015.csv -> 14_07_2015.csv\n",
            "  Renamed: 26_07_2015.csv -> 15_07_2015.csv\n",
            "  Renamed: 27_07_2015.csv -> 16_07_2015.csv\n",
            "  Renamed: 28_07_2015.csv -> 17_07_2015.csv\n",
            "  Renamed: 29_07_2015.csv -> 18_07_2015.csv\n",
            "  Renamed: 7_12_2015.csv -> 5_12_2015.csv\n",
            "  Renamed: 8_12_2015.csv -> 6_12_2015.csv\n",
            "  Renamed: 9_12_2015.csv -> 7_12_2015.csv\n",
            "  Renamed: 12_12_2015.csv -> 8_12_2015.csv\n",
            "  Renamed: 15_12_2015.csv -> 9_12_2015.csv\n",
            "  Renamed: 19_12_2015.csv -> 10_12_2015.csv\n",
            "  Renamed: 20_12_2015.csv -> 11_12_2015.csv\n",
            "  Renamed: 21_12_2015.csv -> 12_12_2015.csv\n",
            "  Renamed: 24_12_2015.csv -> 13_12_2015.csv\n",
            "  Renamed: 25_12_2015.csv -> 14_12_2015.csv\n",
            "  Renamed: 26_12_2015.csv -> 15_12_2015.csv\n",
            "  Renamed: 27_12_2015.csv -> 16_12_2015.csv\n",
            "  Renamed: 28_12_2015.csv -> 17_12_2015.csv\n",
            "  Renamed: 29_12_2015.csv -> 18_12_2015.csv\n",
            "  Renamed: 30_12_2015.csv -> 19_12_2015.csv\n",
            "  Renamed: 31_12_2015.csv -> 20_12_2015.csv\n",
            "  Renamed: 32_12_2015.csv -> 21_12_2015.csv\n",
            "  Renamed: 33_12_2015.csv -> 22_12_2015.csv\n",
            "  Renamed: 34_12_2015.csv -> 23_12_2015.csv\n",
            "  Renamed: 35_12_2015.csv -> 24_12_2015.csv\n",
            "  Renamed: 36_12_2015.csv -> 25_12_2015.csv\n",
            "  Renamed: 37_12_2015.csv -> 26_12_2015.csv\n",
            "  Renamed: 39_12_2015.csv -> 27_12_2015.csv\n",
            "  Renamed: 41_12_2015.csv -> 28_12_2015.csv\n",
            "  Renamed: 42_12_2015.csv -> 29_12_2015.csv\n",
            "  Renamed: 43_12_2015.csv -> 30_12_2015.csv\n",
            "  Renamed: 44_12_2015.csv -> 31_12_2015.csv\n",
            "  Renamed: 45_12_2015.csv -> 32_12_2015.csv\n",
            "  Renamed: 46_12_2015.csv -> 33_12_2015.csv\n",
            "  Renamed: 47_12_2015.csv -> 34_12_2015.csv\n",
            "  Renamed: 48_12_2015.csv -> 35_12_2015.csv\n",
            "  Renamed: 49_12_2015.csv -> 36_12_2015.csv\n",
            "  Renamed: 3_05_2015.csv -> 2_05_2015.csv\n",
            "  Renamed: 4_05_2015.csv -> 3_05_2015.csv\n",
            "  Renamed: 5_05_2015.csv -> 4_05_2015.csv\n",
            "  Renamed: 6_05_2015.csv -> 5_05_2015.csv\n",
            "  Renamed: 7_05_2015.csv -> 6_05_2015.csv\n",
            "  Renamed: 8_05_2015.csv -> 7_05_2015.csv\n",
            "  Renamed: 9_05_2015.csv -> 8_05_2015.csv\n",
            "  Renamed: 10_05_2015.csv -> 9_05_2015.csv\n",
            "  Renamed: 11_05_2015.csv -> 10_05_2015.csv\n",
            "  Renamed: 13_05_2015.csv -> 11_05_2015.csv\n",
            "  Renamed: 14_05_2015.csv -> 12_05_2015.csv\n",
            "  Renamed: 15_05_2015.csv -> 13_05_2015.csv\n",
            "  Renamed: 16_05_2015.csv -> 14_05_2015.csv\n",
            "  Renamed: 17_05_2015.csv -> 15_05_2015.csv\n",
            "  Renamed: 18_05_2015.csv -> 16_05_2015.csv\n",
            "  Renamed: 19_05_2015.csv -> 17_05_2015.csv\n",
            "  Renamed: 20_05_2015.csv -> 18_05_2015.csv\n",
            "  Renamed: 22_05_2015.csv -> 19_05_2015.csv\n",
            "  Renamed: 23_05_2015.csv -> 20_05_2015.csv\n",
            "  Renamed: 24_05_2015.csv -> 21_05_2015.csv\n",
            "  Renamed: 25_05_2015.csv -> 22_05_2015.csv\n",
            "  Renamed: 26_05_2015.csv -> 23_05_2015.csv\n",
            "  Renamed: 27_05_2015.csv -> 24_05_2015.csv\n",
            "  Renamed: 28_05_2015.csv -> 25_05_2015.csv\n",
            "  Renamed: 29_05_2015.csv -> 26_05_2015.csv\n",
            "  Renamed: 30_05_2015.csv -> 27_05_2015.csv\n",
            "  Renamed: 31_05_2015.csv -> 28_05_2015.csv\n",
            "  Renamed: 32_05_2015.csv -> 29_05_2015.csv\n",
            "  Renamed: 33_05_2015.csv -> 30_05_2015.csv\n",
            "  Renamed: 38_05_2015.csv -> 31_05_2015.csv\n",
            "  Renamed: 39_05_2015.csv -> 32_05_2015.csv\n",
            "  Renamed: 40_05_2015.csv -> 33_05_2015.csv\n",
            "  Renamed: 42_05_2015.csv -> 34_05_2015.csv\n",
            "  Renamed: 43_05_2015.csv -> 35_05_2015.csv\n",
            "  Renamed: 44_05_2015.csv -> 36_05_2015.csv\n",
            "  Renamed: 49_05_2015.csv -> 37_05_2015.csv\n",
            "  Renamed: 51_05_2015.csv -> 38_05_2015.csv\n",
            "  Renamed: 56_05_2015.csv -> 39_05_2015.csv\n",
            "  Renamed: 57_05_2015.csv -> 40_05_2015.csv\n",
            "  Renamed: 58_05_2015.csv -> 41_05_2015.csv\n",
            "  Renamed: 4_04_2015.csv -> 3_04_2015.csv\n",
            "  Renamed: 5_04_2015.csv -> 4_04_2015.csv\n",
            "  Renamed: 6_04_2015.csv -> 5_04_2015.csv\n",
            "  Renamed: 7_04_2015.csv -> 6_04_2015.csv\n",
            "  Renamed: 8_04_2015.csv -> 7_04_2015.csv\n",
            "  Renamed: 9_04_2015.csv -> 8_04_2015.csv\n",
            "  Renamed: 10_04_2015.csv -> 9_04_2015.csv\n",
            "  Renamed: 11_04_2015.csv -> 10_04_2015.csv\n",
            "  Renamed: 12_04_2015.csv -> 11_04_2015.csv\n",
            "  Renamed: 10_02_2015.csv -> 8_02_2015.csv\n",
            "  Renamed: 11_02_2015.csv -> 9_02_2015.csv\n",
            "  Renamed: 12_02_2015.csv -> 10_02_2015.csv\n",
            "  Renamed: 13_02_2015.csv -> 11_02_2015.csv\n",
            "  Renamed: 14_02_2015.csv -> 12_02_2015.csv\n",
            "  Renamed: 15_02_2015.csv -> 13_02_2015.csv\n",
            "  Renamed: 16_02_2015.csv -> 14_02_2015.csv\n",
            "  Renamed: 4_11_2016.csv -> 3_11_2016.csv\n",
            "  Renamed: 5_11_2016.csv -> 4_11_2016.csv\n",
            "  Renamed: 24_08_2016.csv -> 23_08_2016.csv\n",
            "  Renamed: 25_08_2016.csv -> 24_08_2016.csv\n",
            "  Renamed: 26_08_2016.csv -> 25_08_2016.csv\n",
            "  Renamed: 27_08_2016.csv -> 26_08_2016.csv\n",
            "  Renamed: 28_08_2016.csv -> 27_08_2016.csv\n",
            "  Renamed: 30_08_2016.csv -> 28_08_2016.csv\n",
            "  Renamed: 31_08_2016.csv -> 29_08_2016.csv\n",
            "  Renamed: 32_08_2016.csv -> 30_08_2016.csv\n",
            "  Renamed: 33_08_2016.csv -> 31_08_2016.csv\n",
            "  Renamed: 34_08_2016.csv -> 32_08_2016.csv\n",
            "  Renamed: 35_08_2016.csv -> 33_08_2016.csv\n",
            "  Renamed: 36_08_2016.csv -> 34_08_2016.csv\n",
            "  Renamed: 38_08_2016.csv -> 35_08_2016.csv\n",
            "  Renamed: 39_08_2016.csv -> 36_08_2016.csv\n",
            "  Renamed: 40_08_2016.csv -> 37_08_2016.csv\n",
            "  Renamed: 41_08_2016.csv -> 38_08_2016.csv\n",
            "  Renamed: 42_08_2016.csv -> 39_08_2016.csv\n",
            "  Renamed: 43_08_2016.csv -> 40_08_2016.csv\n",
            "  Renamed: 10_03_2016.csv -> 4_03_2016.csv\n",
            "  Renamed: 11_03_2016.csv -> 5_03_2016.csv\n",
            "  Renamed: 12_03_2016.csv -> 6_03_2016.csv\n",
            "  Renamed: 13_03_2016.csv -> 7_03_2016.csv\n",
            "  Renamed: 15_03_2016.csv -> 8_03_2016.csv\n",
            "  Renamed: 16_03_2016.csv -> 9_03_2016.csv\n",
            "  Renamed: 17_03_2016.csv -> 10_03_2016.csv\n",
            "  Renamed: 18_03_2016.csv -> 11_03_2016.csv\n",
            "  Renamed: 19_03_2016.csv -> 12_03_2016.csv\n",
            "  Renamed: 20_03_2016.csv -> 13_03_2016.csv\n",
            "  Renamed: 14_13_2016.csv -> 12_13_2016.csv\n",
            "  Renamed: 15_13_2016.csv -> 13_13_2016.csv\n",
            "  Renamed: 17_13_2016.csv -> 14_13_2016.csv\n",
            "  Renamed: 18_13_2016.csv -> 15_13_2016.csv\n",
            "  Renamed: 19_13_2016.csv -> 16_13_2016.csv\n",
            "  Renamed: 20_13_2016.csv -> 17_13_2016.csv\n",
            "  Renamed: 21_13_2016.csv -> 18_13_2016.csv\n",
            "  Renamed: 22_13_2016.csv -> 19_13_2016.csv\n",
            "  Renamed: 23_13_2016.csv -> 20_13_2016.csv\n",
            "  Renamed: 24_13_2016.csv -> 21_13_2016.csv\n",
            "  Renamed: 25_13_2016.csv -> 22_13_2016.csv\n",
            "  Renamed: 26_13_2016.csv -> 23_13_2016.csv\n",
            "  Renamed: 28_13_2016.csv -> 24_13_2016.csv\n",
            "  Renamed: 29_13_2016.csv -> 25_13_2016.csv\n",
            "  Renamed: 32_13_2016.csv -> 26_13_2016.csv\n",
            "  Renamed: 33_13_2016.csv -> 27_13_2016.csv\n",
            "  Renamed: 34_13_2016.csv -> 28_13_2016.csv\n",
            "  Renamed: 36_13_2016.csv -> 29_13_2016.csv\n",
            "  Renamed: 37_13_2016.csv -> 30_13_2016.csv\n",
            "  Renamed: 38_13_2016.csv -> 31_13_2016.csv\n",
            "  Renamed: 39_13_2016.csv -> 32_13_2016.csv\n",
            "  Renamed: 40_13_2016.csv -> 33_13_2016.csv\n",
            "  Renamed: 3_09_2016.csv -> 2_09_2016.csv\n",
            "  Renamed: 4_09_2016.csv -> 3_09_2016.csv\n",
            "  Renamed: 9_09_2016.csv -> 4_09_2016.csv\n",
            "  Renamed: 10_09_2016.csv -> 5_09_2016.csv\n",
            "  Renamed: 11_09_2016.csv -> 6_09_2016.csv\n",
            "  Renamed: 12_09_2016.csv -> 7_09_2016.csv\n",
            "  Renamed: 13_09_2016.csv -> 8_09_2016.csv\n",
            "  Renamed: 14_09_2016.csv -> 9_09_2016.csv\n",
            "  Renamed: 15_09_2016.csv -> 10_09_2016.csv\n",
            "  Renamed: 16_09_2016.csv -> 11_09_2016.csv\n",
            "  Renamed: 17_09_2016.csv -> 12_09_2016.csv\n",
            "  Renamed: 18_09_2016.csv -> 13_09_2016.csv\n",
            "  Renamed: 19_09_2016.csv -> 14_09_2016.csv\n",
            "  Renamed: 20_09_2016.csv -> 15_09_2016.csv\n",
            "  Renamed: 21_09_2016.csv -> 16_09_2016.csv\n",
            "  Renamed: 22_09_2016.csv -> 17_09_2016.csv\n",
            "  Renamed: 15_06_2016.csv -> 13_06_2016.csv\n",
            "  Renamed: 16_06_2016.csv -> 14_06_2016.csv\n",
            "  Renamed: 17_06_2016.csv -> 15_06_2016.csv\n",
            "  Renamed: 18_06_2016.csv -> 16_06_2016.csv\n",
            "  Renamed: 8_14_2016.csv -> 7_14_2016.csv\n",
            "  Renamed: 10_14_2016.csv -> 8_14_2016.csv\n",
            "  Renamed: 11_14_2016.csv -> 9_14_2016.csv\n",
            "  Renamed: 12_14_2016.csv -> 10_14_2016.csv\n",
            "  Renamed: 13_14_2016.csv -> 11_14_2016.csv\n",
            "  Renamed: 14_14_2016.csv -> 12_14_2016.csv\n",
            "  Renamed: 15_14_2016.csv -> 13_14_2016.csv\n",
            "  Renamed: 16_14_2016.csv -> 14_14_2016.csv\n",
            "  Renamed: 17_14_2016.csv -> 15_14_2016.csv\n",
            "  Renamed: 18_14_2016.csv -> 16_14_2016.csv\n",
            "  Renamed: 19_14_2016.csv -> 17_14_2016.csv\n",
            "  Renamed: 21_14_2016.csv -> 18_14_2016.csv\n",
            "  Renamed: 22_14_2016.csv -> 19_14_2016.csv\n",
            "  Renamed: 23_14_2016.csv -> 20_14_2016.csv\n",
            "  Renamed: 24_14_2016.csv -> 21_14_2016.csv\n",
            "  Renamed: 25_14_2016.csv -> 22_14_2016.csv\n",
            "  Renamed: 26_14_2016.csv -> 23_14_2016.csv\n",
            "  Renamed: 27_14_2016.csv -> 24_14_2016.csv\n",
            "  Renamed: 28_14_2016.csv -> 25_14_2016.csv\n",
            "  Renamed: 29_14_2016.csv -> 26_14_2016.csv\n",
            "  Renamed: 30_14_2016.csv -> 27_14_2016.csv\n",
            "  Renamed: 31_14_2016.csv -> 28_14_2016.csv\n",
            "  Renamed: 32_14_2016.csv -> 29_14_2016.csv\n",
            "  Renamed: 33_14_2016.csv -> 30_14_2016.csv\n",
            "  Renamed: 34_14_2016.csv -> 31_14_2016.csv\n",
            "  Renamed: 35_14_2016.csv -> 32_14_2016.csv\n",
            "  Renamed: 36_14_2016.csv -> 33_14_2016.csv\n",
            "  Renamed: 37_14_2016.csv -> 34_14_2016.csv\n",
            "  Renamed: 38_14_2016.csv -> 35_14_2016.csv\n",
            "  Renamed: 39_14_2016.csv -> 36_14_2016.csv\n",
            "  Renamed: 40_14_2016.csv -> 37_14_2016.csv\n",
            "  Renamed: 41_14_2016.csv -> 38_14_2016.csv\n",
            "  Renamed: 4_07_2016.csv -> 2_07_2016.csv\n",
            "  Renamed: 5_07_2016.csv -> 3_07_2016.csv\n",
            "  Renamed: 6_07_2016.csv -> 4_07_2016.csv\n",
            "  Renamed: 11_07_2016.csv -> 5_07_2016.csv\n",
            "  Renamed: 16_07_2016.csv -> 6_07_2016.csv\n",
            "  Renamed: 17_07_2016.csv -> 7_07_2016.csv\n",
            "  Renamed: 18_07_2016.csv -> 8_07_2016.csv\n",
            "  Renamed: 19_07_2016.csv -> 9_07_2016.csv\n",
            "  Renamed: 20_07_2016.csv -> 10_07_2016.csv\n",
            "  Renamed: 21_07_2016.csv -> 11_07_2016.csv\n",
            "  Renamed: 22_07_2016.csv -> 12_07_2016.csv\n",
            "  Renamed: 23_07_2016.csv -> 13_07_2016.csv\n",
            "  Renamed: 24_07_2016.csv -> 14_07_2016.csv\n",
            "  Renamed: 25_07_2016.csv -> 15_07_2016.csv\n",
            "  Renamed: 26_07_2016.csv -> 16_07_2016.csv\n",
            "  Renamed: 27_07_2016.csv -> 17_07_2016.csv\n",
            "  Renamed: 28_07_2016.csv -> 18_07_2016.csv\n",
            "  Renamed: 29_07_2016.csv -> 19_07_2016.csv\n",
            "  Renamed: 10_12_2016.csv -> 5_12_2016.csv\n",
            "  Renamed: 11_12_2016.csv -> 6_12_2016.csv\n",
            "  Renamed: 12_12_2016.csv -> 7_12_2016.csv\n",
            "  Renamed: 13_12_2016.csv -> 8_12_2016.csv\n",
            "  Renamed: 16_12_2016.csv -> 9_12_2016.csv\n",
            "  Renamed: 19_12_2016.csv -> 10_12_2016.csv\n",
            "  Renamed: 20_12_2016.csv -> 11_12_2016.csv\n",
            "  Renamed: 21_12_2016.csv -> 12_12_2016.csv\n",
            "  Renamed: 22_12_2016.csv -> 13_12_2016.csv\n",
            "  Renamed: 24_12_2016.csv -> 14_12_2016.csv\n",
            "  Renamed: 25_12_2016.csv -> 15_12_2016.csv\n",
            "  Renamed: 26_12_2016.csv -> 16_12_2016.csv\n",
            "  Renamed: 27_12_2016.csv -> 17_12_2016.csv\n",
            "  Renamed: 28_12_2016.csv -> 18_12_2016.csv\n",
            "  Renamed: 29_12_2016.csv -> 19_12_2016.csv\n",
            "  Renamed: 30_12_2016.csv -> 20_12_2016.csv\n",
            "  Renamed: 31_12_2016.csv -> 21_12_2016.csv\n",
            "  Renamed: 32_12_2016.csv -> 22_12_2016.csv\n",
            "  Renamed: 33_12_2016.csv -> 23_12_2016.csv\n",
            "  Renamed: 34_12_2016.csv -> 24_12_2016.csv\n",
            "  Renamed: 35_12_2016.csv -> 25_12_2016.csv\n",
            "  Renamed: 36_12_2016.csv -> 26_12_2016.csv\n",
            "  Renamed: 37_12_2016.csv -> 27_12_2016.csv\n",
            "  Renamed: 39_12_2016.csv -> 28_12_2016.csv\n",
            "  Renamed: 41_12_2016.csv -> 29_12_2016.csv\n",
            "  Renamed: 42_12_2016.csv -> 30_12_2016.csv\n",
            "  Renamed: 43_12_2016.csv -> 31_12_2016.csv\n",
            "  Renamed: 44_12_2016.csv -> 32_12_2016.csv\n",
            "  Renamed: 45_12_2016.csv -> 33_12_2016.csv\n",
            "  Renamed: 46_12_2016.csv -> 34_12_2016.csv\n",
            "  Renamed: 47_12_2016.csv -> 35_12_2016.csv\n",
            "  Renamed: 48_12_2016.csv -> 36_12_2016.csv\n",
            "  Renamed: 49_12_2016.csv -> 37_12_2016.csv\n",
            "  Renamed: 3_05_2016.csv -> 2_05_2016.csv\n",
            "  Renamed: 4_05_2016.csv -> 3_05_2016.csv\n",
            "  Renamed: 5_05_2016.csv -> 4_05_2016.csv\n",
            "  Renamed: 6_05_2016.csv -> 5_05_2016.csv\n",
            "  Renamed: 7_05_2016.csv -> 6_05_2016.csv\n",
            "  Renamed: 11_05_2016.csv -> 7_05_2016.csv\n",
            "  Renamed: 13_05_2016.csv -> 8_05_2016.csv\n",
            "  Renamed: 14_05_2016.csv -> 9_05_2016.csv\n",
            "  Renamed: 15_05_2016.csv -> 10_05_2016.csv\n",
            "  Renamed: 16_05_2016.csv -> 11_05_2016.csv\n",
            "  Renamed: 17_05_2016.csv -> 12_05_2016.csv\n",
            "  Renamed: 18_05_2016.csv -> 13_05_2016.csv\n",
            "  Renamed: 19_05_2016.csv -> 14_05_2016.csv\n",
            "  Renamed: 20_05_2016.csv -> 15_05_2016.csv\n",
            "  Renamed: 21_05_2016.csv -> 16_05_2016.csv\n",
            "  Renamed: 22_05_2016.csv -> 17_05_2016.csv\n",
            "  Renamed: 23_05_2016.csv -> 18_05_2016.csv\n",
            "  Renamed: 27_05_2016.csv -> 19_05_2016.csv\n",
            "  Renamed: 28_05_2016.csv -> 20_05_2016.csv\n",
            "  Renamed: 29_05_2016.csv -> 21_05_2016.csv\n",
            "  Renamed: 30_05_2016.csv -> 22_05_2016.csv\n",
            "  Renamed: 31_05_2016.csv -> 23_05_2016.csv\n",
            "  Renamed: 32_05_2016.csv -> 24_05_2016.csv\n",
            "  Renamed: 33_05_2016.csv -> 25_05_2016.csv\n",
            "  Renamed: 34_05_2016.csv -> 26_05_2016.csv\n",
            "  Renamed: 35_05_2016.csv -> 27_05_2016.csv\n",
            "  Renamed: 36_05_2016.csv -> 28_05_2016.csv\n",
            "  Renamed: 37_05_2016.csv -> 29_05_2016.csv\n",
            "  Renamed: 38_05_2016.csv -> 30_05_2016.csv\n",
            "  Renamed: 39_05_2016.csv -> 31_05_2016.csv\n",
            "  Renamed: 40_05_2016.csv -> 32_05_2016.csv\n",
            "  Renamed: 41_05_2016.csv -> 33_05_2016.csv\n",
            "  Renamed: 42_05_2016.csv -> 34_05_2016.csv\n",
            "  Renamed: 47_05_2016.csv -> 35_05_2016.csv\n",
            "  Renamed: 48_05_2016.csv -> 36_05_2016.csv\n",
            "  Renamed: 49_05_2016.csv -> 37_05_2016.csv\n",
            "  Renamed: 51_05_2016.csv -> 38_05_2016.csv\n",
            "  Renamed: 52_05_2016.csv -> 39_05_2016.csv\n",
            "  Renamed: 53_05_2016.csv -> 40_05_2016.csv\n",
            "  Renamed: 58_05_2016.csv -> 41_05_2016.csv\n",
            "  Renamed: 60_05_2016.csv -> 42_05_2016.csv\n",
            "  Renamed: 64_05_2016.csv -> 43_05_2016.csv\n",
            "  Renamed: 65_05_2016.csv -> 44_05_2016.csv\n",
            "  Renamed: 66_05_2016.csv -> 45_05_2016.csv\n",
            "  Renamed: 7_08_2019.csv -> 6_08_2019.csv\n",
            "  Renamed: 8_08_2019.csv -> 7_08_2019.csv\n",
            "  Renamed: 9_08_2019.csv -> 8_08_2019.csv\n",
            "  Renamed: 10_08_2019.csv -> 9_08_2019.csv\n",
            "  Renamed: 11_08_2019.csv -> 10_08_2019.csv\n",
            "  Renamed: 12_08_2019.csv -> 11_08_2019.csv\n",
            "  Renamed: 13_08_2019.csv -> 12_08_2019.csv\n",
            "  Renamed: 14_08_2019.csv -> 13_08_2019.csv\n",
            "  Renamed: 15_08_2019.csv -> 14_08_2019.csv\n",
            "  Renamed: 16_08_2019.csv -> 15_08_2019.csv\n",
            "  Renamed: 17_08_2019.csv -> 16_08_2019.csv\n",
            "  Renamed: 18_08_2019.csv -> 17_08_2019.csv\n",
            "  Renamed: 19_08_2019.csv -> 18_08_2019.csv\n",
            "  Renamed: 20_08_2019.csv -> 19_08_2019.csv\n",
            "  Renamed: 22_08_2019.csv -> 20_08_2019.csv\n",
            "  Renamed: 23_08_2019.csv -> 21_08_2019.csv\n",
            "  Renamed: 27_08_2019.csv -> 22_08_2019.csv\n",
            "  Renamed: 28_08_2019.csv -> 23_08_2019.csv\n",
            "  Renamed: 29_08_2019.csv -> 24_08_2019.csv\n",
            "  Renamed: 30_08_2019.csv -> 25_08_2019.csv\n",
            "  Renamed: 31_08_2019.csv -> 26_08_2019.csv\n",
            "  Renamed: 32_08_2019.csv -> 27_08_2019.csv\n",
            "  Renamed: 33_08_2019.csv -> 28_08_2019.csv\n",
            "  Renamed: 34_08_2019.csv -> 29_08_2019.csv\n",
            "  Renamed: 36_08_2019.csv -> 30_08_2019.csv\n",
            "  Renamed: 37_08_2019.csv -> 31_08_2019.csv\n",
            "  Renamed: 38_08_2019.csv -> 32_08_2019.csv\n",
            "  Renamed: 39_08_2019.csv -> 33_08_2019.csv\n",
            "  Renamed: 40_08_2019.csv -> 34_08_2019.csv\n",
            "  Renamed: 43_08_2019.csv -> 35_08_2019.csv\n",
            "  Renamed: 8_01_2019.csv -> 7_01_2019.csv\n",
            "  Renamed: 9_01_2019.csv -> 8_01_2019.csv\n",
            "  Renamed: 10_01_2019.csv -> 9_01_2019.csv\n",
            "  Renamed: 11_01_2019.csv -> 10_01_2019.csv\n",
            "  Renamed: 5_03_2019.csv -> 4_03_2019.csv\n",
            "  Renamed: 6_03_2019.csv -> 5_03_2019.csv\n",
            "  Renamed: 7_03_2019.csv -> 6_03_2019.csv\n",
            "  Renamed: 9_03_2019.csv -> 7_03_2019.csv\n",
            "  Renamed: 10_03_2019.csv -> 8_03_2019.csv\n",
            "  Renamed: 11_03_2019.csv -> 9_03_2019.csv\n",
            "  Renamed: 12_03_2019.csv -> 10_03_2019.csv\n",
            "  Renamed: 13_03_2019.csv -> 11_03_2019.csv\n",
            "  Renamed: 4_10_2019.csv -> 2_10_2019.csv\n",
            "  Renamed: 5_10_2019.csv -> 3_10_2019.csv\n",
            "  Renamed: 6_10_2019.csv -> 4_10_2019.csv\n",
            "  Renamed: 7_10_2019.csv -> 5_10_2019.csv\n",
            "  Renamed: 9_10_2019.csv -> 6_10_2019.csv\n",
            "  Renamed: 10_10_2019.csv -> 7_10_2019.csv\n",
            "  Renamed: 11_10_2019.csv -> 8_10_2019.csv\n",
            "  Renamed: 12_10_2019.csv -> 9_10_2019.csv\n",
            "  Renamed: 13_10_2019.csv -> 10_10_2019.csv\n",
            "  Renamed: 14_10_2019.csv -> 11_10_2019.csv\n",
            "  Renamed: 15_10_2019.csv -> 12_10_2019.csv\n",
            "  Renamed: 16_10_2019.csv -> 13_10_2019.csv\n",
            "  Renamed: 17_10_2019.csv -> 14_10_2019.csv\n",
            "  Renamed: 18_10_2019.csv -> 15_10_2019.csv\n",
            "  Renamed: 19_10_2019.csv -> 16_10_2019.csv\n",
            "  Renamed: 20_10_2019.csv -> 17_10_2019.csv\n",
            "  Renamed: 21_10_2019.csv -> 18_10_2019.csv\n",
            "  Renamed: 22_10_2019.csv -> 19_10_2019.csv\n",
            "  Renamed: 31_13_2019.csv -> 30_13_2019.csv\n",
            "  Renamed: 32_13_2019.csv -> 31_13_2019.csv\n",
            "  Renamed: 33_13_2019.csv -> 32_13_2019.csv\n",
            "  Renamed: 34_13_2019.csv -> 33_13_2019.csv\n",
            "  Renamed: 35_13_2019.csv -> 34_13_2019.csv\n",
            "  Renamed: 36_13_2019.csv -> 35_13_2019.csv\n",
            "  Renamed: 37_13_2019.csv -> 36_13_2019.csv\n",
            "  Renamed: 38_13_2019.csv -> 37_13_2019.csv\n",
            "  Renamed: 10_14_2019.csv -> 9_14_2019.csv\n",
            "  Renamed: 12_14_2019.csv -> 10_14_2019.csv\n",
            "  Renamed: 13_14_2019.csv -> 11_14_2019.csv\n",
            "  Renamed: 14_14_2019.csv -> 12_14_2019.csv\n",
            "  Renamed: 15_14_2019.csv -> 13_14_2019.csv\n",
            "  Renamed: 16_14_2019.csv -> 14_14_2019.csv\n",
            "  Renamed: 17_14_2019.csv -> 15_14_2019.csv\n",
            "  Renamed: 18_14_2019.csv -> 16_14_2019.csv\n",
            "  Renamed: 19_14_2019.csv -> 17_14_2019.csv\n",
            "  Renamed: 20_14_2019.csv -> 18_14_2019.csv\n",
            "  Renamed: 21_14_2019.csv -> 19_14_2019.csv\n",
            "  Renamed: 22_14_2019.csv -> 20_14_2019.csv\n",
            "  Renamed: 23_14_2019.csv -> 21_14_2019.csv\n",
            "  Renamed: 24_14_2019.csv -> 22_14_2019.csv\n",
            "  Renamed: 25_14_2019.csv -> 23_14_2019.csv\n",
            "  Renamed: 26_14_2019.csv -> 24_14_2019.csv\n",
            "  Renamed: 27_14_2019.csv -> 25_14_2019.csv\n",
            "  Renamed: 28_14_2019.csv -> 26_14_2019.csv\n",
            "  Renamed: 29_14_2019.csv -> 27_14_2019.csv\n",
            "  Renamed: 30_14_2019.csv -> 28_14_2019.csv\n",
            "  Renamed: 31_14_2019.csv -> 29_14_2019.csv\n",
            "  Renamed: 32_14_2019.csv -> 30_14_2019.csv\n",
            "  Renamed: 33_14_2019.csv -> 31_14_2019.csv\n",
            "  Renamed: 34_14_2019.csv -> 32_14_2019.csv\n",
            "  Renamed: 3_07_2019.csv -> 2_07_2019.csv\n",
            "  Renamed: 4_07_2019.csv -> 3_07_2019.csv\n",
            "  Renamed: 5_07_2019.csv -> 4_07_2019.csv\n",
            "  Renamed: 6_07_2019.csv -> 5_07_2019.csv\n",
            "  Renamed: 8_07_2019.csv -> 6_07_2019.csv\n",
            "  Renamed: 9_07_2019.csv -> 7_07_2019.csv\n",
            "  Renamed: 10_07_2019.csv -> 8_07_2019.csv\n",
            "  Renamed: 11_07_2019.csv -> 9_07_2019.csv\n",
            "  Renamed: 12_07_2019.csv -> 10_07_2019.csv\n",
            "  Renamed: 13_07_2019.csv -> 11_07_2019.csv\n",
            "  Renamed: 14_07_2019.csv -> 12_07_2019.csv\n",
            "  Renamed: 15_07_2019.csv -> 13_07_2019.csv\n",
            "  Renamed: 16_07_2019.csv -> 14_07_2019.csv\n",
            "  Renamed: 17_07_2019.csv -> 15_07_2019.csv\n",
            "  Renamed: 18_07_2019.csv -> 16_07_2019.csv\n",
            "  Renamed: 20_07_2019.csv -> 17_07_2019.csv\n",
            "  Renamed: 21_07_2019.csv -> 18_07_2019.csv\n",
            "  Renamed: 22_07_2019.csv -> 19_07_2019.csv\n",
            "  Renamed: 23_07_2019.csv -> 20_07_2019.csv\n",
            "  Renamed: 24_07_2019.csv -> 21_07_2019.csv\n",
            "  Renamed: 25_07_2019.csv -> 22_07_2019.csv\n",
            "  Renamed: 26_07_2019.csv -> 23_07_2019.csv\n",
            "  Renamed: 27_07_2019.csv -> 24_07_2019.csv\n",
            "  Renamed: 28_07_2019.csv -> 25_07_2019.csv\n",
            "  Renamed: 29_07_2019.csv -> 26_07_2019.csv\n",
            "  Renamed: 30_07_2019.csv -> 27_07_2019.csv\n",
            "  Renamed: 6_12_2019.csv -> 5_12_2019.csv\n",
            "  Renamed: 7_12_2019.csv -> 6_12_2019.csv\n",
            "  Renamed: 8_12_2019.csv -> 7_12_2019.csv\n",
            "  Renamed: 11_12_2019.csv -> 8_12_2019.csv\n",
            "  Renamed: 13_12_2019.csv -> 9_12_2019.csv\n",
            "  Renamed: 14_12_2019.csv -> 10_12_2019.csv\n",
            "  Renamed: 15_12_2019.csv -> 11_12_2019.csv\n",
            "  Renamed: 16_12_2019.csv -> 12_12_2019.csv\n",
            "  Renamed: 17_12_2019.csv -> 13_12_2019.csv\n",
            "  Renamed: 18_12_2019.csv -> 14_12_2019.csv\n",
            "  Renamed: 19_12_2019.csv -> 15_12_2019.csv\n",
            "  Renamed: 20_12_2019.csv -> 16_12_2019.csv\n",
            "  Renamed: 21_12_2019.csv -> 17_12_2019.csv\n",
            "  Renamed: 22_12_2019.csv -> 18_12_2019.csv\n",
            "  Renamed: 23_12_2019.csv -> 19_12_2019.csv\n",
            "  Renamed: 24_12_2019.csv -> 20_12_2019.csv\n",
            "  Renamed: 25_12_2019.csv -> 21_12_2019.csv\n",
            "  Renamed: 26_12_2019.csv -> 22_12_2019.csv\n",
            "  Renamed: 27_12_2019.csv -> 23_12_2019.csv\n",
            "  Renamed: 28_12_2019.csv -> 24_12_2019.csv\n",
            "  Renamed: 29_12_2019.csv -> 25_12_2019.csv\n",
            "  Renamed: 30_12_2019.csv -> 26_12_2019.csv\n",
            "  Renamed: 32_12_2019.csv -> 27_12_2019.csv\n",
            "  Renamed: 34_12_2019.csv -> 28_12_2019.csv\n",
            "  Renamed: 36_12_2019.csv -> 29_12_2019.csv\n",
            "  Renamed: 37_12_2019.csv -> 30_12_2019.csv\n",
            "  Renamed: 38_12_2019.csv -> 31_12_2019.csv\n",
            "  Renamed: 39_12_2019.csv -> 32_12_2019.csv\n",
            "  Renamed: 40_12_2019.csv -> 33_12_2019.csv\n",
            "  Renamed: 41_12_2019.csv -> 34_12_2019.csv\n",
            "  Renamed: 42_12_2019.csv -> 35_12_2019.csv\n",
            "  Renamed: 43_12_2019.csv -> 36_12_2019.csv\n",
            "  Renamed: 9_05_2019.csv -> 8_05_2019.csv\n",
            "  Renamed: 10_05_2019.csv -> 9_05_2019.csv\n",
            "  Renamed: 11_05_2019.csv -> 10_05_2019.csv\n",
            "  Renamed: 12_05_2019.csv -> 11_05_2019.csv\n",
            "  Renamed: 13_05_2019.csv -> 12_05_2019.csv\n",
            "  Renamed: 14_05_2019.csv -> 13_05_2019.csv\n",
            "  Renamed: 15_05_2019.csv -> 14_05_2019.csv\n",
            "  Renamed: 16_05_2019.csv -> 15_05_2019.csv\n",
            "  Renamed: 18_05_2019.csv -> 16_05_2019.csv\n",
            "  Renamed: 19_05_2019.csv -> 17_05_2019.csv\n",
            "  Renamed: 20_05_2019.csv -> 18_05_2019.csv\n",
            "  Renamed: 21_05_2019.csv -> 19_05_2019.csv\n",
            "  Renamed: 22_05_2019.csv -> 20_05_2019.csv\n",
            "  Renamed: 23_05_2019.csv -> 21_05_2019.csv\n",
            "  Renamed: 24_05_2019.csv -> 22_05_2019.csv\n",
            "  Renamed: 25_05_2019.csv -> 23_05_2019.csv\n",
            "  Renamed: 27_05_2019.csv -> 24_05_2019.csv\n",
            "  Renamed: 28_05_2019.csv -> 25_05_2019.csv\n",
            "  Renamed: 29_05_2019.csv -> 26_05_2019.csv\n",
            "  Renamed: 30_05_2019.csv -> 27_05_2019.csv\n",
            "  Renamed: 31_05_2019.csv -> 28_05_2019.csv\n",
            "  Renamed: 36_05_2019.csv -> 29_05_2019.csv\n",
            "  Renamed: 38_05_2019.csv -> 30_05_2019.csv\n",
            "  Renamed: 39_05_2019.csv -> 31_05_2019.csv\n",
            "  Renamed: 40_05_2019.csv -> 32_05_2019.csv\n",
            "  Renamed: 41_05_2019.csv -> 33_05_2019.csv\n",
            "  Renamed: 42_05_2019.csv -> 34_05_2019.csv\n",
            "  Renamed: 43_05_2019.csv -> 35_05_2019.csv\n",
            "  Renamed: 44_05_2019.csv -> 36_05_2019.csv\n",
            "  Renamed: 45_05_2019.csv -> 37_05_2019.csv\n",
            "  Renamed: 9_02_2019.csv -> 6_02_2019.csv\n",
            "  Renamed: 10_02_2019.csv -> 7_02_2019.csv\n",
            "  Renamed: 11_02_2019.csv -> 8_02_2019.csv\n",
            "  Renamed: 12_02_2019.csv -> 9_02_2019.csv\n",
            "  Renamed: 13_02_2019.csv -> 10_02_2019.csv\n",
            "  Renamed: 4_10_2021.csv -> 2_10_2021.csv\n",
            "  Renamed: 5_10_2021.csv -> 3_10_2021.csv\n",
            "  Renamed: 6_10_2021.csv -> 4_10_2021.csv\n",
            "  Renamed: 8_10_2021.csv -> 5_10_2021.csv\n",
            "  Renamed: 9_10_2021.csv -> 6_10_2021.csv\n",
            "  Renamed: 10_10_2021.csv -> 7_10_2021.csv\n",
            "  Renamed: 11_10_2021.csv -> 8_10_2021.csv\n",
            "  Renamed: 12_10_2021.csv -> 9_10_2021.csv\n",
            "  Renamed: 13_10_2021.csv -> 10_10_2021.csv\n",
            "  Renamed: 14_10_2021.csv -> 11_10_2021.csv\n",
            "  Renamed: 15_10_2021.csv -> 12_10_2021.csv\n",
            "  Renamed: 16_10_2021.csv -> 13_10_2021.csv\n",
            "  Renamed: 17_10_2021.csv -> 14_10_2021.csv\n",
            "  Renamed: 18_10_2021.csv -> 15_10_2021.csv\n",
            "  Renamed: 19_10_2021.csv -> 16_10_2021.csv\n",
            "  Renamed: 20_10_2021.csv -> 17_10_2021.csv\n",
            "  Renamed: 23_13_2021.csv -> 22_13_2021.csv\n",
            "  Renamed: 24_13_2021.csv -> 23_13_2021.csv\n",
            "  Renamed: 25_13_2021.csv -> 24_13_2021.csv\n",
            "  Renamed: 26_13_2021.csv -> 25_13_2021.csv\n",
            "  Renamed: 27_13_2021.csv -> 26_13_2021.csv\n",
            "  Renamed: 28_13_2021.csv -> 27_13_2021.csv\n",
            "  Renamed: 10_14_2021.csv -> 9_14_2021.csv\n",
            "  Renamed: 11_14_2021.csv -> 10_14_2021.csv\n",
            "  Renamed: 12_14_2021.csv -> 11_14_2021.csv\n",
            "  Renamed: 13_14_2021.csv -> 12_14_2021.csv\n",
            "  Renamed: 14_14_2021.csv -> 13_14_2021.csv\n",
            "  Renamed: 15_14_2021.csv -> 14_14_2021.csv\n",
            "  Renamed: 16_14_2021.csv -> 15_14_2021.csv\n",
            "  Renamed: 17_14_2021.csv -> 16_14_2021.csv\n",
            "  Renamed: 18_14_2021.csv -> 17_14_2021.csv\n",
            "  Renamed: 19_14_2021.csv -> 18_14_2021.csv\n",
            "  Renamed: 20_14_2021.csv -> 19_14_2021.csv\n",
            "  Renamed: 21_14_2021.csv -> 20_14_2021.csv\n",
            "  Renamed: 22_14_2021.csv -> 21_14_2021.csv\n",
            "  Renamed: 23_14_2021.csv -> 22_14_2021.csv\n",
            "  Renamed: 24_14_2021.csv -> 23_14_2021.csv\n",
            "  Renamed: 25_14_2021.csv -> 24_14_2021.csv\n",
            "  Renamed: 6_12_2021.csv -> 5_12_2021.csv\n",
            "  Renamed: 7_12_2021.csv -> 6_12_2021.csv\n",
            "  Renamed: 8_12_2021.csv -> 7_12_2021.csv\n",
            "  Renamed: 11_12_2021.csv -> 8_12_2021.csv\n",
            "  Renamed: 13_12_2021.csv -> 9_12_2021.csv\n",
            "  Renamed: 14_12_2021.csv -> 10_12_2021.csv\n",
            "  Renamed: 15_12_2021.csv -> 11_12_2021.csv\n",
            "  Renamed: 16_12_2021.csv -> 12_12_2021.csv\n",
            "  Renamed: 17_12_2021.csv -> 13_12_2021.csv\n",
            "  Renamed: 18_12_2021.csv -> 14_12_2021.csv\n",
            "  Renamed: 19_12_2021.csv -> 15_12_2021.csv\n",
            "  Renamed: 20_12_2021.csv -> 16_12_2021.csv\n",
            "  Renamed: 21_12_2021.csv -> 17_12_2021.csv\n",
            "  Renamed: 22_12_2021.csv -> 18_12_2021.csv\n",
            "  Renamed: 23_12_2021.csv -> 19_12_2021.csv\n",
            "  Renamed: 24_12_2021.csv -> 20_12_2021.csv\n",
            "  Renamed: 25_12_2021.csv -> 21_12_2021.csv\n",
            "  Renamed: 26_12_2021.csv -> 22_12_2021.csv\n",
            "  Renamed: 27_12_2021.csv -> 23_12_2021.csv\n",
            "  Renamed: 28_12_2021.csv -> 24_12_2021.csv\n",
            "  Renamed: 29_12_2021.csv -> 25_12_2021.csv\n",
            "  Renamed: 30_12_2021.csv -> 26_12_2021.csv\n",
            "  Renamed: 32_12_2021.csv -> 27_12_2021.csv\n",
            "  Renamed: 34_12_2021.csv -> 28_12_2021.csv\n",
            "  Renamed: 36_12_2021.csv -> 29_12_2021.csv\n",
            "  Renamed: 37_12_2021.csv -> 30_12_2021.csv\n",
            "  Renamed: 17_08_2022.csv -> 16_08_2022.csv\n",
            "  Renamed: 18_08_2022.csv -> 17_08_2022.csv\n",
            "  Renamed: 19_08_2022.csv -> 18_08_2022.csv\n",
            "  Renamed: 20_08_2022.csv -> 19_08_2022.csv\n",
            "  Renamed: 21_08_2022.csv -> 20_08_2022.csv\n",
            "  Renamed: 22_08_2022.csv -> 21_08_2022.csv\n",
            "  Renamed: 23_08_2022.csv -> 22_08_2022.csv\n",
            "  Renamed: 24_08_2022.csv -> 23_08_2022.csv\n",
            "  Renamed: 25_08_2022.csv -> 24_08_2022.csv\n",
            "  Renamed: 26_08_2022.csv -> 25_08_2022.csv\n",
            "  Renamed: 27_08_2022.csv -> 26_08_2022.csv\n",
            "  Renamed: 28_08_2022.csv -> 27_08_2022.csv\n",
            "  Renamed: 29_08_2022.csv -> 28_08_2022.csv\n",
            "  Renamed: 30_08_2022.csv -> 29_08_2022.csv\n",
            "  Renamed: 31_08_2022.csv -> 30_08_2022.csv\n",
            "  Renamed: 32_08_2022.csv -> 31_08_2022.csv\n",
            "  Renamed: 35_08_2022.csv -> 32_08_2022.csv\n",
            "  Renamed: 9_01_2022.csv -> 5_01_2022.csv\n",
            "  Renamed: 10_01_2022.csv -> 6_01_2022.csv\n",
            "  Renamed: 11_01_2022.csv -> 7_01_2022.csv\n",
            "  Renamed: 12_01_2022.csv -> 8_01_2022.csv\n",
            "  Renamed: 13_01_2022.csv -> 9_01_2022.csv\n",
            "  Renamed: 5_03_2022.csv -> 4_03_2022.csv\n",
            "  Renamed: 6_03_2022.csv -> 5_03_2022.csv\n",
            "  Renamed: 7_03_2022.csv -> 6_03_2022.csv\n",
            "  Renamed: 9_03_2022.csv -> 7_03_2022.csv\n",
            "  Renamed: 10_03_2022.csv -> 8_03_2022.csv\n",
            "  Renamed: 11_03_2022.csv -> 9_03_2022.csv\n",
            "  Renamed: 12_03_2022.csv -> 10_03_2022.csv\n",
            "  Renamed: 13_03_2022.csv -> 11_03_2022.csv\n",
            "  Renamed: 4_10_2022.csv -> 2_10_2022.csv\n",
            "  Renamed: 5_10_2022.csv -> 3_10_2022.csv\n",
            "  Renamed: 6_10_2022.csv -> 4_10_2022.csv\n",
            "  Renamed: 8_10_2022.csv -> 5_10_2022.csv\n",
            "  Renamed: 9_10_2022.csv -> 6_10_2022.csv\n",
            "  Renamed: 10_10_2022.csv -> 7_10_2022.csv\n",
            "  Renamed: 11_10_2022.csv -> 8_10_2022.csv\n",
            "  Renamed: 12_10_2022.csv -> 9_10_2022.csv\n",
            "  Renamed: 13_10_2022.csv -> 10_10_2022.csv\n",
            "  Renamed: 14_10_2022.csv -> 11_10_2022.csv\n",
            "  Renamed: 15_10_2022.csv -> 12_10_2022.csv\n",
            "  Renamed: 16_10_2022.csv -> 13_10_2022.csv\n",
            "  Renamed: 17_10_2022.csv -> 14_10_2022.csv\n",
            "  Renamed: 18_10_2022.csv -> 15_10_2022.csv\n",
            "  Renamed: 10_14_2022.csv -> 9_14_2022.csv\n",
            "  Renamed: 11_14_2022.csv -> 10_14_2022.csv\n",
            "  Renamed: 12_14_2022.csv -> 11_14_2022.csv\n",
            "  Renamed: 13_14_2022.csv -> 12_14_2022.csv\n",
            "  Renamed: 14_14_2022.csv -> 13_14_2022.csv\n",
            "  Renamed: 15_14_2022.csv -> 14_14_2022.csv\n",
            "  Renamed: 16_14_2022.csv -> 15_14_2022.csv\n",
            "  Renamed: 17_14_2022.csv -> 16_14_2022.csv\n",
            "  Renamed: 18_14_2022.csv -> 17_14_2022.csv\n",
            "  Renamed: 19_14_2022.csv -> 18_14_2022.csv\n",
            "  Renamed: 20_14_2022.csv -> 19_14_2022.csv\n",
            "  Renamed: 21_14_2022.csv -> 20_14_2022.csv\n",
            "  Renamed: 22_14_2022.csv -> 21_14_2022.csv\n",
            "  Renamed: 23_14_2022.csv -> 22_14_2022.csv\n",
            "  Renamed: 24_14_2022.csv -> 23_14_2022.csv\n",
            "  Renamed: 25_14_2022.csv -> 24_14_2022.csv\n",
            "  Renamed: 8_12_2022.csv -> 5_12_2022.csv\n",
            "  Renamed: 9_12_2022.csv -> 6_12_2022.csv\n",
            "  Renamed: 10_12_2022.csv -> 7_12_2022.csv\n",
            "  Renamed: 13_12_2022.csv -> 8_12_2022.csv\n",
            "  Renamed: 15_12_2022.csv -> 9_12_2022.csv\n",
            "  Renamed: 16_12_2022.csv -> 10_12_2022.csv\n",
            "  Renamed: 17_12_2022.csv -> 11_12_2022.csv\n",
            "  Renamed: 18_12_2022.csv -> 12_12_2022.csv\n",
            "  Renamed: 19_12_2022.csv -> 13_12_2022.csv\n",
            "  Renamed: 20_12_2022.csv -> 14_12_2022.csv\n",
            "  Renamed: 21_12_2022.csv -> 15_12_2022.csv\n",
            "  Renamed: 22_12_2022.csv -> 16_12_2022.csv\n",
            "  Renamed: 23_12_2022.csv -> 17_12_2022.csv\n",
            "  Renamed: 24_12_2022.csv -> 18_12_2022.csv\n",
            "  Renamed: 25_12_2022.csv -> 19_12_2022.csv\n",
            "  Renamed: 26_12_2022.csv -> 20_12_2022.csv\n",
            "  Renamed: 27_12_2022.csv -> 21_12_2022.csv\n",
            "  Renamed: 28_12_2022.csv -> 22_12_2022.csv\n",
            "  Renamed: 29_12_2022.csv -> 23_12_2022.csv\n",
            "  Renamed: 30_12_2022.csv -> 24_12_2022.csv\n",
            "  Renamed: 31_12_2022.csv -> 25_12_2022.csv\n",
            "  Renamed: 33_12_2022.csv -> 26_12_2022.csv\n",
            "  Renamed: 35_12_2022.csv -> 27_12_2022.csv\n",
            "  Renamed: 37_12_2022.csv -> 28_12_2022.csv\n",
            "  Renamed: 38_12_2022.csv -> 29_12_2022.csv\n",
            "  Renamed: 8_05_2022.csv -> 7_05_2022.csv\n",
            "  Renamed: 9_05_2022.csv -> 8_05_2022.csv\n",
            "  Renamed: 10_05_2022.csv -> 9_05_2022.csv\n",
            "  Renamed: 11_05_2022.csv -> 10_05_2022.csv\n",
            "  Renamed: 12_05_2022.csv -> 11_05_2022.csv\n",
            "  Renamed: 13_05_2022.csv -> 12_05_2022.csv\n",
            "  Renamed: 14_05_2022.csv -> 13_05_2022.csv\n",
            "  Renamed: 15_05_2022.csv -> 14_05_2022.csv\n",
            "  Renamed: 16_05_2022.csv -> 15_05_2022.csv\n",
            "  Renamed: 17_05_2022.csv -> 16_05_2022.csv\n",
            "  Renamed: 19_05_2022.csv -> 17_05_2022.csv\n",
            "  Renamed: 20_05_2022.csv -> 18_05_2022.csv\n",
            "  Renamed: 21_05_2022.csv -> 19_05_2022.csv\n",
            "  Renamed: 22_05_2022.csv -> 20_05_2022.csv\n",
            "  Renamed: 23_05_2022.csv -> 21_05_2022.csv\n",
            "  Renamed: 27_05_2022.csv -> 22_05_2022.csv\n",
            "  Renamed: 29_05_2022.csv -> 23_05_2022.csv\n",
            "  Renamed: 30_05_2022.csv -> 24_05_2022.csv\n",
            "  Renamed: 31_05_2022.csv -> 25_05_2022.csv\n",
            "  Renamed: 32_05_2022.csv -> 26_05_2022.csv\n",
            "  Renamed: 33_05_2022.csv -> 27_05_2022.csv\n",
            "  Renamed: 7_02_2022.csv -> 4_02_2022.csv\n",
            "  Renamed: 8_02_2022.csv -> 5_02_2022.csv\n",
            "  Renamed: 4_10_2023.csv -> 2_10_2023.csv\n",
            "  Renamed: 5_10_2023.csv -> 3_10_2023.csv\n",
            "  Renamed: 6_10_2023.csv -> 4_10_2023.csv\n",
            "  Renamed: 8_10_2023.csv -> 5_10_2023.csv\n",
            "  Renamed: 9_10_2023.csv -> 6_10_2023.csv\n",
            "  Renamed: 10_10_2023.csv -> 7_10_2023.csv\n",
            "  Renamed: 11_10_2023.csv -> 8_10_2023.csv\n",
            "  Renamed: 12_10_2023.csv -> 9_10_2023.csv\n",
            "  Renamed: 13_10_2023.csv -> 10_10_2023.csv\n",
            "  Renamed: 14_10_2023.csv -> 11_10_2023.csv\n",
            "  Renamed: 15_10_2023.csv -> 12_10_2023.csv\n",
            "  Renamed: 16_10_2023.csv -> 13_10_2023.csv\n",
            "  Renamed: 17_10_2023.csv -> 14_10_2023.csv\n",
            "  Renamed: 18_10_2023.csv -> 15_10_2023.csv\n",
            "  Renamed: 5_14_2023.csv -> 4_14_2023.csv\n",
            "  Renamed: 6_14_2023.csv -> 5_14_2023.csv\n",
            "  Renamed: 7_14_2023.csv -> 6_14_2023.csv\n",
            "  Renamed: 8_14_2023.csv -> 7_14_2023.csv\n",
            "  Renamed: 9_14_2023.csv -> 8_14_2023.csv\n",
            "  Renamed: 11_14_2023.csv -> 9_14_2023.csv\n",
            "  Renamed: 12_14_2023.csv -> 10_14_2023.csv\n",
            "  Renamed: 13_14_2023.csv -> 11_14_2023.csv\n",
            "  Renamed: 14_14_2023.csv -> 12_14_2023.csv\n",
            "  Renamed: 15_14_2023.csv -> 13_14_2023.csv\n",
            "  Renamed: 16_14_2023.csv -> 14_14_2023.csv\n",
            "  Renamed: 17_14_2023.csv -> 15_14_2023.csv\n",
            "  Renamed: 18_14_2023.csv -> 16_14_2023.csv\n",
            "  Renamed: 19_14_2023.csv -> 17_14_2023.csv\n",
            "  Renamed: 20_14_2023.csv -> 18_14_2023.csv\n",
            "  Renamed: 21_14_2023.csv -> 19_14_2023.csv\n",
            "  Renamed: 22_14_2023.csv -> 20_14_2023.csv\n",
            "  Renamed: 23_14_2023.csv -> 21_14_2023.csv\n",
            "  Renamed: 24_14_2023.csv -> 22_14_2023.csv\n",
            "  Renamed: 25_14_2023.csv -> 23_14_2023.csv\n",
            "  Renamed: 26_14_2023.csv -> 24_14_2023.csv\n",
            "  Renamed: 8_12_2023.csv -> 5_12_2023.csv\n",
            "  Renamed: 9_12_2023.csv -> 6_12_2023.csv\n",
            "  Renamed: 10_12_2023.csv -> 7_12_2023.csv\n",
            "  Renamed: 13_12_2023.csv -> 8_12_2023.csv\n",
            "  Renamed: 15_12_2023.csv -> 9_12_2023.csv\n",
            "  Renamed: 16_12_2023.csv -> 10_12_2023.csv\n",
            "  Renamed: 17_12_2023.csv -> 11_12_2023.csv\n",
            "  Renamed: 18_12_2023.csv -> 12_12_2023.csv\n",
            "  Renamed: 20_12_2023.csv -> 13_12_2023.csv\n",
            "  Renamed: 21_12_2023.csv -> 14_12_2023.csv\n",
            "  Renamed: 22_12_2023.csv -> 15_12_2023.csv\n",
            "  Renamed: 23_12_2023.csv -> 16_12_2023.csv\n",
            "  Renamed: 24_12_2023.csv -> 17_12_2023.csv\n",
            "  Renamed: 25_12_2023.csv -> 18_12_2023.csv\n",
            "  Renamed: 26_12_2023.csv -> 19_12_2023.csv\n",
            "  Renamed: 27_12_2023.csv -> 20_12_2023.csv\n",
            "  Renamed: 28_12_2023.csv -> 21_12_2023.csv\n",
            "  Renamed: 29_12_2023.csv -> 22_12_2023.csv\n",
            "  Renamed: 30_12_2023.csv -> 23_12_2023.csv\n",
            "  Renamed: 31_12_2023.csv -> 24_12_2023.csv\n",
            "  Renamed: 32_12_2023.csv -> 25_12_2023.csv\n",
            "  Renamed: 34_12_2023.csv -> 26_12_2023.csv\n",
            "  Renamed: 36_12_2023.csv -> 27_12_2023.csv\n",
            "  Renamed: 37_12_2023.csv -> 28_12_2023.csv\n",
            "  Renamed: 6_02_2023.csv -> 4_02_2023.csv\n",
            "  Renamed: 7_02_2023.csv -> 5_02_2023.csv\n",
            "  Renamed: 10_03_2024.csv -> 4_03_2024.csv\n",
            "  Renamed: 11_03_2024.csv -> 5_03_2024.csv\n",
            "  Renamed: 12_03_2024.csv -> 6_03_2024.csv\n",
            "  Renamed: 13_03_2024.csv -> 7_03_2024.csv\n",
            "  Renamed: 14_03_2024.csv -> 8_03_2024.csv\n",
            "  Renamed: 15_03_2024.csv -> 9_03_2024.csv\n",
            "  Renamed: 16_03_2024.csv -> 10_03_2024.csv\n",
            "  Renamed: 17_03_2024.csv -> 11_03_2024.csv\n",
            "  Renamed: 9_14_2024.csv -> 8_14_2024.csv\n",
            "  Renamed: 10_14_2024.csv -> 9_14_2024.csv\n",
            "  Renamed: 11_14_2024.csv -> 10_14_2024.csv\n",
            "  Renamed: 12_14_2024.csv -> 11_14_2024.csv\n",
            "  Renamed: 13_14_2024.csv -> 12_14_2024.csv\n",
            "  Renamed: 14_14_2024.csv -> 13_14_2024.csv\n",
            "  Renamed: 15_14_2024.csv -> 14_14_2024.csv\n",
            "  Renamed: 16_14_2024.csv -> 15_14_2024.csv\n",
            "  Renamed: 17_14_2024.csv -> 16_14_2024.csv\n",
            "  Renamed: 18_14_2024.csv -> 17_14_2024.csv\n",
            "  Renamed: 19_14_2024.csv -> 18_14_2024.csv\n",
            "  Renamed: 20_14_2024.csv -> 19_14_2024.csv\n",
            "  Renamed: 21_14_2024.csv -> 20_14_2024.csv\n",
            "  Renamed: 22_14_2024.csv -> 21_14_2024.csv\n",
            "  Renamed: 23_14_2024.csv -> 22_14_2024.csv\n",
            "  Renamed: 24_14_2024.csv -> 23_14_2024.csv\n",
            "  Renamed: 25_14_2024.csv -> 24_14_2024.csv\n",
            "  Renamed: 19_05_2024.csv -> 18_05_2024.csv\n",
            "  Renamed: 20_05_2024.csv -> 19_05_2024.csv\n",
            "  Renamed: 21_05_2024.csv -> 20_05_2024.csv\n",
            "  Renamed: 22_05_2024.csv -> 21_05_2024.csv\n",
            "  Renamed: 23_05_2024.csv -> 22_05_2024.csv\n",
            "  Renamed: 24_05_2024.csv -> 23_05_2024.csv\n",
            "  Renamed: 25_05_2024.csv -> 24_05_2024.csv\n",
            "  Renamed: 26_05_2024.csv -> 25_05_2024.csv\n",
            "  Renamed: 27_05_2024.csv -> 26_05_2024.csv\n",
            "  Renamed: 28_05_2024.csv -> 27_05_2024.csv\n",
            "\n",
            "✓ Combination complete! Combined 619 table(s)\n",
            "  Tables renumbered sequentially per chapter-year\n",
            "  Combination details saved to: combined_tables_info.json\n"
          ]
        }
      ]
    },
    {
      "cell_type": "code",
      "source": [
        "# Print summary\n",
        "extractor.print_summary()"
      ],
      "metadata": {
        "colab": {
          "base_uri": "https://localhost:8080/"
        },
        "id": "GePB3e9-v4UW",
        "outputId": "e719cd98-8664-4d69-8e99-2934eee67071"
      },
      "execution_count": 21,
      "outputs": [
        {
          "output_type": "stream",
          "name": "stdout",
          "text": [
            "\n",
            "==================================================\n",
            "EXTRACTION SUMMARY\n",
            "==================================================\n",
            "Total tables extracted: 5207\n",
            "\n",
            "Tables per chapter per year:\n",
            "\n",
            "Chapter 01:\n",
            "  2001: 13\n",
            "  2002: 11\n",
            "  2003: 8\n",
            "  2004: 9\n",
            "  2005: 9\n",
            "  2006: 10\n",
            "  2007: 10\n",
            "  2008: 10\n",
            "  2009: 10\n",
            "  2010: 9\n",
            "  2011: 8\n",
            "  2012: 8\n",
            "  2014: 8\n",
            "  2015: 8\n",
            "  2017: 2\n",
            "  2018: 2\n",
            "  2019: 10\n",
            "  2020: 1\n",
            "  2021: 1\n",
            "  2022: 9\n",
            "  2023: 1\n",
            "  2024: 9\n",
            "\n",
            "Chapter 02:\n",
            "  2001: 10\n",
            "  2002: 13\n",
            "  2003: 13\n",
            "  2004: 13\n",
            "  2005: 13\n",
            "  2006: 12\n",
            "  2007: 12\n",
            "  2008: 12\n",
            "  2009: 14\n",
            "  2010: 11\n",
            "  2011: 14\n",
            "  2012: 14\n",
            "  2013: 14\n",
            "  2014: 15\n",
            "  2015: 14\n",
            "  2016: 14\n",
            "  2017: 1\n",
            "  2018: 1\n",
            "  2019: 10\n",
            "  2022: 5\n",
            "  2023: 5\n",
            "  2024: 6\n",
            "\n",
            "Chapter 03:\n",
            "  2001: 14\n",
            "  2002: 15\n",
            "  2003: 15\n",
            "  2004: 16\n",
            "  2005: 15\n",
            "  2006: 16\n",
            "  2007: 17\n",
            "  2008: 19\n",
            "  2009: 17\n",
            "  2010: 17\n",
            "  2011: 16\n",
            "  2012: 17\n",
            "  2013: 14\n",
            "  2014: 14\n",
            "  2015: 13\n",
            "  2016: 13\n",
            "  2017: 1\n",
            "  2018: 1\n",
            "  2019: 11\n",
            "  2022: 11\n",
            "  2024: 11\n",
            "\n",
            "Chapter 04:\n",
            "  2001: 4\n",
            "  2002: 5\n",
            "  2003: 7\n",
            "  2004: 11\n",
            "  2005: 11\n",
            "  2006: 14\n",
            "  2007: 13\n",
            "  2008: 12\n",
            "  2009: 15\n",
            "  2010: 13\n",
            "  2011: 11\n",
            "  2012: 11\n",
            "  2013: 9\n",
            "  2014: 9\n",
            "  2015: 11\n",
            "  2016: 10\n",
            "  2019: 6\n",
            "  2022: 5\n",
            "  2024: 5\n",
            "\n",
            "Chapter 05:\n",
            "  2001: 14\n",
            "  2002: 21\n",
            "  2003: 31\n",
            "  2004: 29\n",
            "  2006: 27\n",
            "  2007: 26\n",
            "  2008: 24\n",
            "  2009: 30\n",
            "  2010: 31\n",
            "  2011: 36\n",
            "  2012: 46\n",
            "  2013: 31\n",
            "  2014: 35\n",
            "  2015: 41\n",
            "  2016: 45\n",
            "  2017: 1\n",
            "  2019: 37\n",
            "  2020: 1\n",
            "  2021: 1\n",
            "  2022: 27\n",
            "  2024: 27\n",
            "\n",
            "Chapter 06:\n",
            "  2001: 6\n",
            "  2002: 8\n",
            "  2003: 7\n",
            "  2004: 7\n",
            "  2005: 13\n",
            "  2006: 15\n",
            "  2007: 14\n",
            "  2008: 6\n",
            "  2010: 15\n",
            "  2011: 18\n",
            "  2012: 19\n",
            "  2013: 24\n",
            "  2014: 23\n",
            "  2015: 17\n",
            "  2016: 16\n",
            "  2017: 1\n",
            "  2018: 1\n",
            "  2019: 7\n",
            "  2022: 4\n",
            "  2024: 5\n",
            "\n",
            "Chapter 07:\n",
            "  2001: 21\n",
            "  2002: 15\n",
            "  2003: 15\n",
            "  2004: 15\n",
            "  2005: 16\n",
            "  2006: 16\n",
            "  2007: 19\n",
            "  2008: 24\n",
            "  2009: 25\n",
            "  2010: 25\n",
            "  2011: 22\n",
            "  2012: 25\n",
            "  2013: 16\n",
            "  2014: 18\n",
            "  2015: 18\n",
            "  2016: 19\n",
            "  2019: 27\n",
            "  2022: 9\n",
            "  2024: 12\n",
            "\n",
            "Chapter 08:\n",
            "  2001: 24\n",
            "  2002: 22\n",
            "  2003: 23\n",
            "  2004: 32\n",
            "  2005: 32\n",
            "  2006: 32\n",
            "  2007: 28\n",
            "  2008: 36\n",
            "  2009: 36\n",
            "  2010: 36\n",
            "  2011: 29\n",
            "  2012: 29\n",
            "  2013: 31\n",
            "  2014: 33\n",
            "  2015: 33\n",
            "  2016: 40\n",
            "  2019: 35\n",
            "  2022: 32\n",
            "  2024: 30\n",
            "\n",
            "Chapter 09:\n",
            "  2001: 16\n",
            "  2002: 16\n",
            "  2003: 14\n",
            "  2005: 16\n",
            "  2006: 18\n",
            "  2007: 19\n",
            "  2008: 16\n",
            "  2009: 16\n",
            "  2010: 17\n",
            "  2011: 18\n",
            "  2012: 21\n",
            "  2013: 16\n",
            "  2014: 20\n",
            "  2015: 19\n",
            "  2016: 17\n",
            "  2019: 20\n",
            "  2022: 17\n",
            "  2024: 18\n",
            "\n",
            "Chapter 10:\n",
            "  2001: 7\n",
            "  2002: 14\n",
            "  2003: 13\n",
            "  2004: 15\n",
            "  2005: 14\n",
            "  2006: 16\n",
            "  2007: 18\n",
            "  2008: 15\n",
            "  2009: 18\n",
            "  2010: 18\n",
            "  2011: 21\n",
            "  2012: 19\n",
            "  2013: 15\n",
            "  2014: 15\n",
            "  2015: 26\n",
            "  2019: 19\n",
            "  2021: 17\n",
            "  2022: 15\n",
            "  2023: 15\n",
            "  2024: 15\n",
            "\n",
            "Chapter 11:\n",
            "  2001: 7\n",
            "  2002: 7\n",
            "  2003: 7\n",
            "  2005: 4\n",
            "  2006: 4\n",
            "  2007: 5\n",
            "  2008: 6\n",
            "  2009: 5\n",
            "  2010: 5\n",
            "  2011: 4\n",
            "  2012: 4\n",
            "  2013: 4\n",
            "  2014: 4\n",
            "  2015: 4\n",
            "  2016: 4\n",
            "  2019: 4\n",
            "  2021: 4\n",
            "  2022: 4\n",
            "  2023: 4\n",
            "  2024: 4\n",
            "\n",
            "Chapter 12:\n",
            "  2001: 19\n",
            "  2002: 20\n",
            "  2003: 21\n",
            "  2004: 24\n",
            "  2005: 20\n",
            "  2006: 24\n",
            "  2007: 30\n",
            "  2008: 32\n",
            "  2009: 36\n",
            "  2010: 37\n",
            "  2011: 42\n",
            "  2012: 41\n",
            "  2013: 34\n",
            "  2014: 33\n",
            "  2015: 36\n",
            "  2016: 37\n",
            "  2017: 1\n",
            "  2018: 1\n",
            "  2019: 36\n",
            "  2020: 1\n",
            "  2021: 30\n",
            "  2022: 29\n",
            "  2023: 28\n",
            "  2024: 30\n",
            "\n",
            "Chapter 13:\n",
            "  2001: 16\n",
            "  2002: 17\n",
            "  2003: 16\n",
            "  2004: 18\n",
            "  2005: 18\n",
            "  2006: 20\n",
            "  2007: 21\n",
            "  2008: 21\n",
            "  2009: 23\n",
            "  2010: 25\n",
            "  2011: 26\n",
            "  2012: 28\n",
            "  2013: 27\n",
            "  2014: 28\n",
            "  2015: 32\n",
            "  2016: 33\n",
            "  2017: 1\n",
            "  2018: 1\n",
            "  2019: 37\n",
            "  2021: 27\n",
            "  2022: 27\n",
            "  2023: 27\n",
            "  2024: 1\n",
            "\n",
            "Chapter 14:\n",
            "  2001: 22\n",
            "  2002: 21\n",
            "  2003: 23\n",
            "  2004: 24\n",
            "  2005: 25\n",
            "  2006: 30\n",
            "  2007: 25\n",
            "  2008: 30\n",
            "  2009: 34\n",
            "  2010: 35\n",
            "  2011: 38\n",
            "  2012: 47\n",
            "  2013: 47\n",
            "  2014: 9\n",
            "  2015: 33\n",
            "  2016: 38\n",
            "  2017: 1\n",
            "  2018: 2\n",
            "  2019: 32\n",
            "  2020: 2\n",
            "  2021: 24\n",
            "  2022: 24\n",
            "  2023: 24\n",
            "  2024: 24\n",
            "\n",
            "Chapter 15:\n",
            "  2001: 8\n",
            "  2002: 8\n",
            "  2003: 5\n",
            "  2004: 5\n",
            "  2005: 5\n",
            "  2006: 4\n",
            "  2007: 8\n",
            "  2008: 10\n",
            "  2009: 11\n",
            "  2010: 9\n",
            "  2011: 12\n",
            "  2012: 15\n",
            "  2013: 14\n",
            "  2015: 10\n",
            "==================================================\n"
          ]
        }
      ]
    },
    {
      "cell_type": "code",
      "source": [],
      "metadata": {
        "id": "iLZt8BtV0jrz"
      },
      "execution_count": 21,
      "outputs": []
    }
  ]
}