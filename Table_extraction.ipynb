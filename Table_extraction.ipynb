{
  "nbformat": 4,
  "nbformat_minor": 0,
  "metadata": {
    "colab": {
      "provenance": [],
      "name": "Table_extraction.ipynb"
    },
    "kernelspec": {
      "name": "python3",
      "display_name": "Python 3"
    },
    "language_info": {
      "name": "python"
    }
  },
  "cells": [
    {
      "cell_type": "code",
      "source": [
        "!apt-get install pandoc\n",
        "!pip install pypandoc\n",
        "!pip install python-docx\n",
        "!pip install docx2txt"
      ],
      "metadata": {
        "colab": {
          "base_uri": "https://localhost:8080/"
        },
        "id": "wMvSuUElnUQ7",
        "outputId": "80086902-6a90-489a-f55f-3dbfc47b8cac"
      },
      "execution_count": null,
      "outputs": [
        {
          "output_type": "stream",
          "name": "stdout",
          "text": [
            "Reading package lists... Done\n",
            "Building dependency tree... Done\n",
            "Reading state information... Done\n",
            "pandoc is already the newest version (2.9.2.1-3ubuntu2).\n",
            "0 upgraded, 0 newly installed, 0 to remove and 35 not upgraded.\n",
            "Requirement already satisfied: pypandoc in /usr/local/lib/python3.12/dist-packages (1.15)\n",
            "Requirement already satisfied: python-docx in /usr/local/lib/python3.12/dist-packages (1.2.0)\n",
            "Requirement already satisfied: lxml>=3.1.0 in /usr/local/lib/python3.12/dist-packages (from python-docx) (5.4.0)\n",
            "Requirement already satisfied: typing_extensions>=4.9.0 in /usr/local/lib/python3.12/dist-packages (from python-docx) (4.15.0)\n",
            "Requirement already satisfied: docx2txt in /usr/local/lib/python3.12/dist-packages (0.9)\n"
          ]
        }
      ]
    },
    {
      "cell_type": "code",
      "source": [
        "#extracting folders id from shared memory\n",
        "\n",
        "from google.colab import auth\n",
        "from googleapiclient.discovery import build\n",
        "import pandas as pd\n",
        "\n",
        "# Authenticate\n",
        "auth.authenticate_user()\n",
        "drive_service = build('drive', 'v3')\n",
        "\n",
        "folder_id = \"1e0eA-AIsz_BSwVHOppJMXECX42hBfG4J\"\n",
        "\n",
        "def list_all_files_in_folder_recursive(parent_id, parent_path=\"\"):\n",
        "    \"\"\"Recursively list all files in a folder and subfolders\"\"\"\n",
        "    all_files = []\n",
        "\n",
        "    query = f\"'{parent_id}' in parents and trashed=false\"\n",
        "    page_token = None\n",
        "\n",
        "    while True:\n",
        "        response = drive_service.files().list(\n",
        "            q=query,\n",
        "            spaces='drive',\n",
        "            fields='nextPageToken, files(id, name, mimeType)',\n",
        "            pageToken=page_token\n",
        "        ).execute()\n",
        "\n",
        "        for item in response.get('files', []):\n",
        "            item_path = f\"{parent_path}/{item['name']}\" if parent_path else item['name']\n",
        "\n",
        "            if item['mimeType'] == 'application/vnd.google-apps.folder':\n",
        "                # Recurse into subfolder\n",
        "                all_files.extend(list_all_files_in_folder_recursive(item['id'], item_path))\n",
        "            else:\n",
        "                all_files.append({\n",
        "                    \"file_name\": item['name'],\n",
        "                    \"file_path\": item_path,\n",
        "                    \"file_id\": item['id'],\n",
        "                    \"file_url\": f\"https://drive.google.com/file/d/{item['id']}/view?usp=sharing\"\n",
        "                })\n",
        "\n",
        "        page_token = response.get('nextPageToken', None)\n",
        "        if page_token is None:\n",
        "            break\n",
        "\n",
        "    return all_files\n",
        "\n",
        "# Run the recursive function\n",
        "files_list = list_all_files_in_folder_recursive(folder_id)\n",
        "\n",
        "# Convert to DataFrame\n",
        "df_files = pd.DataFrame(files_list)\n",
        "##df_files.head()\n",
        "\n",
        "##getting local id of the file\n",
        "import os\n",
        "from googleapiclient.http import MediaIoBaseDownload\n",
        "import io\n",
        "\n",
        "def get_chapter_file(chapter_num: int, year: str, download_dir=\"/content\") -> str:\n",
        "    \"\"\"\n",
        "    Download a chapter file for a given year from Google Drive and return its local path.\n",
        "\n",
        "    Args:\n",
        "        chapter_num (int): The chapter number (e.g., 1, 2, ..., 14).\n",
        "        year (str): The year folder name.\n",
        "        download_dir (str): Local folder to save the file. Defaults to /content in Colab.\n",
        "\n",
        "    Returns:\n",
        "        str: Local path to the downloaded file, or None if not found.\n",
        "    \"\"\"\n",
        "    # Normalize chapter filename (01, 02, ...)\n",
        "    chapter_str = f\"{chapter_num:02}\"\n",
        "\n",
        "    # Find matching file in df_files\n",
        "    match = df_files[\n",
        "        (df_files[\"file_name\"].str.contains(chapter_str)) &\n",
        "        (df_files[\"file_path\"].str.contains(f\"{year}/\"))\n",
        "    ]\n",
        "\n",
        "    if match.empty:\n",
        "        print(f\"❌ No file found for chapter {chapter_str} in year {year}\")\n",
        "        return None\n",
        "\n",
        "    file_id = match.iloc[0][\"file_id\"]\n",
        "    file_name = match.iloc[0][\"file_name\"]\n",
        "    local_path = os.path.join(download_dir, year, file_name)\n",
        "\n",
        "    # Ensure year directory exists locally\n",
        "    os.makedirs(os.path.dirname(local_path), exist_ok=True)\n",
        "\n",
        "    # Download the file from Google Drive\n",
        "    request = drive_service.files().get_media(fileId=file_id)\n",
        "    fh = io.FileIO(local_path, \"wb\")\n",
        "    downloader = MediaIoBaseDownload(fh, request)\n",
        "\n",
        "    done = False\n",
        "    while not done:\n",
        "        status, done = downloader.next_chunk()\n",
        "        if status:\n",
        "            print(f\"⬇️ Download {int(status.progress() * 100)}%.\")\n",
        "\n",
        "    print(f\"✅ Saved to {local_path}\")\n",
        "    return local_path\n",
        "\n",
        "from docx import Document\n",
        "\n",
        "# After downloading the file\n",
        "# sanity check\n",
        "path = get_chapter_file(14, \"2015\")\n",
        "print(\"Local file:\", path)\n",
        "\n",
        "if path and path.endswith(\".docx\"):\n",
        "    doc = Document(path)\n",
        "    full_text = \"\\n\".join([p.text for p in doc.paragraphs if p.text.strip() != \"\"])\n",
        "\n",
        "    # Split into sentences (naive split by period/full stop)\n",
        "    sentences = full_text.replace(\"\\n\", \" \").split(\".\")\n",
        "\n",
        "    # Print first few sentences\n",
        "    preview_count = 3\n",
        "    preview_sentences = [s.strip() for s in sentences if s.strip()][:preview_count]\n",
        "    print(\"\\nPreview of content:\")\n",
        "    for i, s in enumerate(preview_sentences, 1):\n",
        "        print(f\"{i}. {s}.\")\n",
        "\n",
        "\n",
        "#a code that downloads the files to a directory called content/reports\n",
        "import os\n",
        "import io\n",
        "from googleapiclient.http import MediaIoBaseDownload\n",
        "\n",
        "def download_all_chapters(download_dir=\"/content/reports\", years=range(2001, 2025), chapters=range(1, 16)):\n",
        "    \"\"\"\n",
        "    Downloads all chapters for all years to local environment.\n",
        "\n",
        "    Returns:\n",
        "        dict: {year: {chapter_number: local_path}}\n",
        "    \"\"\"\n",
        "    all_paths = {}\n",
        "\n",
        "    for year in years:\n",
        "        year_str = str(year)\n",
        "        all_paths[year_str] = {}\n",
        "\n",
        "        for chapter in chapters:\n",
        "            chapter_str = f\"{chapter:02}\"\n",
        "\n",
        "            # Find matching file in df_files\n",
        "            match = df_files[\n",
        "                (df_files[\"file_name\"].str.contains(chapter_str)) &\n",
        "                (df_files[\"file_path\"].str.contains(f\"{year_str}/\"))\n",
        "            ]\n",
        "\n",
        "            if match.empty:\n",
        "                print(f\"⚠️ Chapter {chapter_str} not found for year {year_str}\")\n",
        "                continue\n",
        "\n",
        "            file_id = match.iloc[0][\"file_id\"]\n",
        "            file_name = match.iloc[0][\"file_name\"]\n",
        "            local_path = os.path.join(download_dir, year_str, f\"{chapter_str}_{file_name}\")\n",
        "\n",
        "            # Ensure folder exists\n",
        "            os.makedirs(os.path.dirname(local_path), exist_ok=True)\n",
        "\n",
        "            # Download file\n",
        "            request = drive_service.files().get_media(fileId=file_id)\n",
        "            fh = io.FileIO(local_path, \"wb\")\n",
        "            downloader = MediaIoBaseDownload(fh, request)\n",
        "\n",
        "            done = False\n",
        "            while not done:\n",
        "                status, done = downloader.next_chunk()\n",
        "                if status:\n",
        "                    print(f\"⬇️ Download {int(status.progress() * 100)}% for {file_name}\")\n",
        "\n",
        "            print(f\"✅ Saved {file_name} to {local_path}\")\n",
        "            all_paths[year_str][chapter] = local_path\n",
        "\n",
        "    return all_paths\n",
        "download_all_chapters()"
      ],
      "metadata": {
        "colab": {
          "base_uri": "https://localhost:8080/"
        },
        "id": "fYsrLuyKpTWb",
        "outputId": "fa41cc11-5c30-4291-9353-613f958a3f6e"
      },
      "execution_count": null,
      "outputs": [
        {
          "output_type": "stream",
          "name": "stdout",
          "text": [
            "Requirement already satisfied: python-docx in /usr/local/lib/python3.12/dist-packages (1.2.0)\n",
            "Requirement already satisfied: lxml>=3.1.0 in /usr/local/lib/python3.12/dist-packages (from python-docx) (5.4.0)\n",
            "Requirement already satisfied: typing_extensions>=4.9.0 in /usr/local/lib/python3.12/dist-packages (from python-docx) (4.15.0)\n",
            "⬇️ Download 100%.\n",
            "✅ Saved to /content/2015/14.docx\n",
            "Local file: /content/2015/14.docx\n",
            "\n",
            "Preview of content:\n",
            "1. 14 ילדים במצבי סיכון ומצוקה מבוא פרק זה, המוקדש לילדים במצבי סיכון ומצוקה, הוא אחד הפרקים המורכבים בשנתון.\n",
            "2. ההגדרה מיהו ילד בסיכון או במצוקה תלויה בסביבה, בחברה, בתקופה ובמגדיר.\n",
            "3. לא רק זאת, קשה לאמוד את היקף התופעות הקשורות לילדים במצבי סיכון ומצוקה, שכן לפי טבען לא תמיד הן חשופות או מדווחות, והמקרים הידועים אינם אלא קצה הקרחון.\n",
            "⬇️ Download 100% for 01.docx\n",
            "✅ Saved 01.docx to /content/reports/2001/01_01.docx\n",
            "⬇️ Download 100% for 02.docx\n",
            "✅ Saved 02.docx to /content/reports/2001/02_02.docx\n",
            "⬇️ Download 100% for 03.docx\n",
            "✅ Saved 03.docx to /content/reports/2001/03_03.docx\n",
            "⬇️ Download 100% for 04.docx\n",
            "✅ Saved 04.docx to /content/reports/2001/04_04.docx\n",
            "⬇️ Download 100% for 05.docx\n",
            "✅ Saved 05.docx to /content/reports/2001/05_05.docx\n",
            "⬇️ Download 100% for 06.docx\n",
            "✅ Saved 06.docx to /content/reports/2001/06_06.docx\n",
            "⬇️ Download 100% for 07.docx\n",
            "✅ Saved 07.docx to /content/reports/2001/07_07.docx\n",
            "⬇️ Download 100% for 08.docx\n",
            "✅ Saved 08.docx to /content/reports/2001/08_08.docx\n",
            "⬇️ Download 100% for 09.docx\n",
            "✅ Saved 09.docx to /content/reports/2001/09_09.docx\n",
            "⬇️ Download 100% for 10.docx\n",
            "✅ Saved 10.docx to /content/reports/2001/10_10.docx\n",
            "⬇️ Download 100% for 11.docx\n",
            "✅ Saved 11.docx to /content/reports/2001/11_11.docx\n",
            "⬇️ Download 100% for 12.docx\n",
            "✅ Saved 12.docx to /content/reports/2001/12_12.docx\n",
            "⬇️ Download 100% for 13.docx\n",
            "✅ Saved 13.docx to /content/reports/2001/13_13.docx\n",
            "⬇️ Download 100% for 14.docx\n",
            "✅ Saved 14.docx to /content/reports/2001/14_14.docx\n",
            "⬇️ Download 100% for 15.docx\n",
            "✅ Saved 15.docx to /content/reports/2001/15_15.docx\n",
            "⬇️ Download 100% for 01.docx\n",
            "✅ Saved 01.docx to /content/reports/2002/01_01.docx\n",
            "⬇️ Download 100% for 02.docx\n",
            "✅ Saved 02.docx to /content/reports/2002/02_02.docx\n",
            "⬇️ Download 100% for 03.docx\n",
            "✅ Saved 03.docx to /content/reports/2002/03_03.docx\n",
            "⬇️ Download 100% for 04.docx\n",
            "✅ Saved 04.docx to /content/reports/2002/04_04.docx\n",
            "⬇️ Download 100% for 05.docx\n",
            "✅ Saved 05.docx to /content/reports/2002/05_05.docx\n",
            "⬇️ Download 100% for 06.docx\n",
            "✅ Saved 06.docx to /content/reports/2002/06_06.docx\n",
            "⬇️ Download 100% for 07.docx\n",
            "✅ Saved 07.docx to /content/reports/2002/07_07.docx\n",
            "⬇️ Download 100% for 08.docx\n",
            "✅ Saved 08.docx to /content/reports/2002/08_08.docx\n",
            "⬇️ Download 100% for 09.docx\n",
            "✅ Saved 09.docx to /content/reports/2002/09_09.docx\n",
            "⬇️ Download 100% for 10.docx\n",
            "✅ Saved 10.docx to /content/reports/2002/10_10.docx\n",
            "⬇️ Download 100% for 11.docx\n",
            "✅ Saved 11.docx to /content/reports/2002/11_11.docx\n",
            "⬇️ Download 100% for 12.docx\n",
            "✅ Saved 12.docx to /content/reports/2002/12_12.docx\n",
            "⬇️ Download 100% for 13.docx\n",
            "✅ Saved 13.docx to /content/reports/2002/13_13.docx\n",
            "⬇️ Download 100% for 14.docx\n",
            "✅ Saved 14.docx to /content/reports/2002/14_14.docx\n",
            "⬇️ Download 100% for 15.docx\n",
            "✅ Saved 15.docx to /content/reports/2002/15_15.docx\n",
            "⬇️ Download 100% for 01.docx\n",
            "✅ Saved 01.docx to /content/reports/2003/01_01.docx\n",
            "⬇️ Download 100% for 02.docx\n",
            "✅ Saved 02.docx to /content/reports/2003/02_02.docx\n",
            "⬇️ Download 100% for 03.docx\n",
            "✅ Saved 03.docx to /content/reports/2003/03_03.docx\n",
            "⬇️ Download 100% for 04.docx\n",
            "✅ Saved 04.docx to /content/reports/2003/04_04.docx\n",
            "⬇️ Download 100% for 05.docx\n",
            "✅ Saved 05.docx to /content/reports/2003/05_05.docx\n",
            "⬇️ Download 100% for 06.docx\n",
            "✅ Saved 06.docx to /content/reports/2003/06_06.docx\n",
            "⬇️ Download 100% for 07.docx\n",
            "✅ Saved 07.docx to /content/reports/2003/07_07.docx\n",
            "⬇️ Download 100% for 08.docx\n",
            "✅ Saved 08.docx to /content/reports/2003/08_08.docx\n",
            "⬇️ Download 100% for 09.docx\n",
            "✅ Saved 09.docx to /content/reports/2003/09_09.docx\n",
            "⬇️ Download 100% for 10.docx\n",
            "✅ Saved 10.docx to /content/reports/2003/10_10.docx\n",
            "⬇️ Download 100% for 11.docx\n",
            "✅ Saved 11.docx to /content/reports/2003/11_11.docx\n",
            "⬇️ Download 100% for 12.docx\n",
            "✅ Saved 12.docx to /content/reports/2003/12_12.docx\n",
            "⬇️ Download 100% for 13.docx\n",
            "✅ Saved 13.docx to /content/reports/2003/13_13.docx\n",
            "⬇️ Download 100% for 14.docx\n",
            "✅ Saved 14.docx to /content/reports/2003/14_14.docx\n",
            "⬇️ Download 100% for 15.docx\n",
            "✅ Saved 15.docx to /content/reports/2003/15_15.docx\n",
            "⬇️ Download 100% for 01.docx\n",
            "✅ Saved 01.docx to /content/reports/2004/01_01.docx\n",
            "⬇️ Download 100% for 02.docx\n",
            "✅ Saved 02.docx to /content/reports/2004/02_02.docx\n",
            "⬇️ Download 100% for 03.docx\n",
            "✅ Saved 03.docx to /content/reports/2004/03_03.docx\n",
            "⬇️ Download 100% for 04.docx\n",
            "✅ Saved 04.docx to /content/reports/2004/04_04.docx\n",
            "⬇️ Download 100% for 05.docx\n",
            "✅ Saved 05.docx to /content/reports/2004/05_05.docx\n",
            "⬇️ Download 100% for 06.docx\n",
            "✅ Saved 06.docx to /content/reports/2004/06_06.docx\n",
            "⬇️ Download 100% for 07.docx\n",
            "✅ Saved 07.docx to /content/reports/2004/07_07.docx\n",
            "⬇️ Download 100% for 08.docx\n",
            "✅ Saved 08.docx to /content/reports/2004/08_08.docx\n",
            "⚠️ Chapter 09 not found for year 2004\n",
            "⬇️ Download 100% for 10.docx\n",
            "✅ Saved 10.docx to /content/reports/2004/10_10.docx\n",
            "⚠️ Chapter 11 not found for year 2004\n",
            "⬇️ Download 100% for 12.docx\n",
            "✅ Saved 12.docx to /content/reports/2004/12_12.docx\n",
            "⬇️ Download 100% for 13.docx\n",
            "✅ Saved 13.docx to /content/reports/2004/13_13.docx\n",
            "⬇️ Download 100% for 14.docx\n",
            "✅ Saved 14.docx to /content/reports/2004/14_14.docx\n",
            "⬇️ Download 100% for 15.docx\n",
            "✅ Saved 15.docx to /content/reports/2004/15_15.docx\n",
            "⬇️ Download 100% for 01.docx\n",
            "✅ Saved 01.docx to /content/reports/2005/01_01.docx\n",
            "⬇️ Download 100% for 02.docx\n",
            "✅ Saved 02.docx to /content/reports/2005/02_02.docx\n",
            "⬇️ Download 100% for 03.docx\n",
            "✅ Saved 03.docx to /content/reports/2005/03_03.docx\n",
            "⬇️ Download 100% for 04.docx\n",
            "✅ Saved 04.docx to /content/reports/2005/04_04.docx\n",
            "⬇️ Download 100% for 05_content2005.docx\n",
            "✅ Saved 05_content2005.docx to /content/reports/2005/05_05_content2005.docx\n",
            "⬇️ Download 100% for 06.docx\n",
            "✅ Saved 06.docx to /content/reports/2005/06_06.docx\n",
            "⬇️ Download 100% for 07.docx\n",
            "✅ Saved 07.docx to /content/reports/2005/07_07.docx\n",
            "⬇️ Download 100% for 08.docx\n",
            "✅ Saved 08.docx to /content/reports/2005/08_08.docx\n",
            "⬇️ Download 100% for 09.docx\n",
            "✅ Saved 09.docx to /content/reports/2005/09_09.docx\n",
            "⬇️ Download 100% for 10.docx\n",
            "✅ Saved 10.docx to /content/reports/2005/10_10.docx\n",
            "⬇️ Download 100% for 11.docx\n",
            "✅ Saved 11.docx to /content/reports/2005/11_11.docx\n",
            "⬇️ Download 100% for 12.docx\n",
            "✅ Saved 12.docx to /content/reports/2005/12_12.docx\n",
            "⬇️ Download 100% for 13.docx\n",
            "✅ Saved 13.docx to /content/reports/2005/13_13.docx\n",
            "⬇️ Download 100% for 14.docx\n",
            "✅ Saved 14.docx to /content/reports/2005/14_14.docx\n",
            "⬇️ Download 100% for 15.docx\n",
            "✅ Saved 15.docx to /content/reports/2005/15_15.docx\n",
            "⬇️ Download 100% for 01.docx\n",
            "✅ Saved 01.docx to /content/reports/2006/01_01.docx\n",
            "⬇️ Download 100% for 02.docx\n",
            "✅ Saved 02.docx to /content/reports/2006/02_02.docx\n",
            "⬇️ Download 100% for 03.docx\n",
            "✅ Saved 03.docx to /content/reports/2006/03_03.docx\n",
            "⬇️ Download 100% for 04.docx\n",
            "✅ Saved 04.docx to /content/reports/2006/04_04.docx\n",
            "⬇️ Download 100% for 05.docx\n",
            "✅ Saved 05.docx to /content/reports/2006/05_05.docx\n",
            "⬇️ Download 100% for 06.docx\n",
            "✅ Saved 06.docx to /content/reports/2006/06_06.docx\n",
            "⬇️ Download 100% for 07.docx\n",
            "✅ Saved 07.docx to /content/reports/2006/07_07.docx\n",
            "⬇️ Download 100% for 08.docx\n",
            "✅ Saved 08.docx to /content/reports/2006/08_08.docx\n",
            "⬇️ Download 100% for 09.docx\n",
            "✅ Saved 09.docx to /content/reports/2006/09_09.docx\n",
            "⬇️ Download 100% for 10.docx\n",
            "✅ Saved 10.docx to /content/reports/2006/10_10.docx\n",
            "⬇️ Download 100% for 11.docx\n",
            "✅ Saved 11.docx to /content/reports/2006/11_11.docx\n",
            "⬇️ Download 100% for 12.docx\n",
            "✅ Saved 12.docx to /content/reports/2006/12_12.docx\n",
            "⬇️ Download 100% for 13.docx\n",
            "✅ Saved 13.docx to /content/reports/2006/13_13.docx\n",
            "⬇️ Download 100% for 14.docx\n",
            "✅ Saved 14.docx to /content/reports/2006/14_14.docx\n",
            "⬇️ Download 100% for 15.docx\n",
            "✅ Saved 15.docx to /content/reports/2006/15_15.docx\n",
            "⬇️ Download 100% for 01.docx\n",
            "✅ Saved 01.docx to /content/reports/2007/01_01.docx\n",
            "⬇️ Download 100% for 02.docx\n",
            "✅ Saved 02.docx to /content/reports/2007/02_02.docx\n",
            "⬇️ Download 100% for 03.docx\n",
            "✅ Saved 03.docx to /content/reports/2007/03_03.docx\n",
            "⬇️ Download 100% for 04.docx\n",
            "✅ Saved 04.docx to /content/reports/2007/04_04.docx\n",
            "⬇️ Download 100% for 05.docx\n",
            "✅ Saved 05.docx to /content/reports/2007/05_05.docx\n",
            "⬇️ Download 100% for 06.docx\n",
            "✅ Saved 06.docx to /content/reports/2007/06_06.docx\n",
            "⬇️ Download 100% for 07.docx\n",
            "✅ Saved 07.docx to /content/reports/2007/07_07.docx\n",
            "⬇️ Download 100% for 08.docx\n",
            "✅ Saved 08.docx to /content/reports/2007/08_08.docx\n",
            "⬇️ Download 100% for 09.docx\n",
            "✅ Saved 09.docx to /content/reports/2007/09_09.docx\n",
            "⬇️ Download 100% for 10.docx\n",
            "✅ Saved 10.docx to /content/reports/2007/10_10.docx\n",
            "⬇️ Download 100% for 11.docx\n",
            "✅ Saved 11.docx to /content/reports/2007/11_11.docx\n",
            "⬇️ Download 100% for 12.docx\n",
            "✅ Saved 12.docx to /content/reports/2007/12_12.docx\n",
            "⬇️ Download 100% for 13.docx\n",
            "✅ Saved 13.docx to /content/reports/2007/13_13.docx\n",
            "⬇️ Download 100% for 14.docx\n",
            "✅ Saved 14.docx to /content/reports/2007/14_14.docx\n",
            "⬇️ Download 100% for 15.docx\n",
            "✅ Saved 15.docx to /content/reports/2007/15_15.docx\n",
            "⬇️ Download 100% for 01.docx\n",
            "✅ Saved 01.docx to /content/reports/2008/01_01.docx\n",
            "⬇️ Download 100% for 02.docx\n",
            "✅ Saved 02.docx to /content/reports/2008/02_02.docx\n",
            "⬇️ Download 100% for 03.docx\n",
            "✅ Saved 03.docx to /content/reports/2008/03_03.docx\n",
            "⬇️ Download 100% for 04.docx\n",
            "✅ Saved 04.docx to /content/reports/2008/04_04.docx\n",
            "⬇️ Download 100% for 05.docx\n",
            "✅ Saved 05.docx to /content/reports/2008/05_05.docx\n",
            "⬇️ Download 100% for 06.docx\n",
            "✅ Saved 06.docx to /content/reports/2008/06_06.docx\n",
            "⬇️ Download 100% for 07.docx\n",
            "✅ Saved 07.docx to /content/reports/2008/07_07.docx\n",
            "⬇️ Download 100% for 08.docx\n",
            "✅ Saved 08.docx to /content/reports/2008/08_08.docx\n",
            "⬇️ Download 100% for 09.docx\n",
            "✅ Saved 09.docx to /content/reports/2008/09_09.docx\n",
            "⬇️ Download 100% for 10.docx\n",
            "✅ Saved 10.docx to /content/reports/2008/10_10.docx\n",
            "⬇️ Download 100% for 11.docx\n",
            "✅ Saved 11.docx to /content/reports/2008/11_11.docx\n",
            "⬇️ Download 100% for 12.docx\n",
            "✅ Saved 12.docx to /content/reports/2008/12_12.docx\n",
            "⬇️ Download 100% for 13.docx\n",
            "✅ Saved 13.docx to /content/reports/2008/13_13.docx\n",
            "⬇️ Download 100% for 14.docx\n",
            "✅ Saved 14.docx to /content/reports/2008/14_14.docx\n",
            "⬇️ Download 100% for 15.docx\n",
            "✅ Saved 15.docx to /content/reports/2008/15_15.docx\n",
            "⬇️ Download 100% for 01.docx\n",
            "✅ Saved 01.docx to /content/reports/2009/01_01.docx\n",
            "⬇️ Download 100% for 02.docx\n",
            "✅ Saved 02.docx to /content/reports/2009/02_02.docx\n",
            "⬇️ Download 100% for 03.docx\n",
            "✅ Saved 03.docx to /content/reports/2009/03_03.docx\n",
            "⬇️ Download 100% for 04.docx\n",
            "✅ Saved 04.docx to /content/reports/2009/04_04.docx\n",
            "⬇️ Download 100% for 05.docx\n",
            "✅ Saved 05.docx to /content/reports/2009/05_05.docx\n",
            "⬇️ Download 100% for 06.pdf\n",
            "✅ Saved 06.pdf to /content/reports/2009/06_06.pdf\n",
            "⬇️ Download 100% for 07.docx\n",
            "✅ Saved 07.docx to /content/reports/2009/07_07.docx\n",
            "⬇️ Download 100% for 08.docx\n",
            "✅ Saved 08.docx to /content/reports/2009/08_08.docx\n",
            "⬇️ Download 100% for 09.docx\n",
            "✅ Saved 09.docx to /content/reports/2009/09_09.docx\n",
            "⬇️ Download 100% for 10.docx\n",
            "✅ Saved 10.docx to /content/reports/2009/10_10.docx\n",
            "⬇️ Download 100% for 11.docx\n",
            "✅ Saved 11.docx to /content/reports/2009/11_11.docx\n",
            "⬇️ Download 100% for 12.docx\n",
            "✅ Saved 12.docx to /content/reports/2009/12_12.docx\n",
            "⬇️ Download 100% for 13.docx\n",
            "✅ Saved 13.docx to /content/reports/2009/13_13.docx\n",
            "⬇️ Download 100% for 14.docx\n",
            "✅ Saved 14.docx to /content/reports/2009/14_14.docx\n",
            "⬇️ Download 100% for 15.docx\n",
            "✅ Saved 15.docx to /content/reports/2009/15_15.docx\n",
            "⬇️ Download 100% for 01.docx\n",
            "✅ Saved 01.docx to /content/reports/2010/01_01.docx\n",
            "⬇️ Download 100% for 02.docx\n",
            "✅ Saved 02.docx to /content/reports/2010/02_02.docx\n",
            "⬇️ Download 100% for 03.docx\n",
            "✅ Saved 03.docx to /content/reports/2010/03_03.docx\n",
            "⬇️ Download 100% for 04.docx\n",
            "✅ Saved 04.docx to /content/reports/2010/04_04.docx\n",
            "⬇️ Download 100% for 05.docx\n",
            "✅ Saved 05.docx to /content/reports/2010/05_05.docx\n",
            "⬇️ Download 100% for 06.docx\n",
            "✅ Saved 06.docx to /content/reports/2010/06_06.docx\n",
            "⬇️ Download 100% for 07.docx\n",
            "✅ Saved 07.docx to /content/reports/2010/07_07.docx\n",
            "⬇️ Download 100% for 08.docx\n",
            "✅ Saved 08.docx to /content/reports/2010/08_08.docx\n",
            "⬇️ Download 100% for 09.docx\n",
            "✅ Saved 09.docx to /content/reports/2010/09_09.docx\n",
            "⬇️ Download 100% for 10.docx\n",
            "✅ Saved 10.docx to /content/reports/2010/10_10.docx\n",
            "⬇️ Download 100% for 11.docx\n",
            "✅ Saved 11.docx to /content/reports/2010/11_11.docx\n",
            "⬇️ Download 100% for 12.docx\n",
            "✅ Saved 12.docx to /content/reports/2010/12_12.docx\n",
            "⬇️ Download 100% for 13.docx\n",
            "✅ Saved 13.docx to /content/reports/2010/13_13.docx\n",
            "⬇️ Download 100% for 14.docx\n",
            "✅ Saved 14.docx to /content/reports/2010/14_14.docx\n",
            "⬇️ Download 100% for 15.docx\n",
            "✅ Saved 15.docx to /content/reports/2010/15_15.docx\n",
            "⬇️ Download 100% for 01.docx\n",
            "✅ Saved 01.docx to /content/reports/2011/01_01.docx\n",
            "⬇️ Download 100% for 02.docx\n",
            "✅ Saved 02.docx to /content/reports/2011/02_02.docx\n",
            "⬇️ Download 100% for 03.docx\n",
            "✅ Saved 03.docx to /content/reports/2011/03_03.docx\n",
            "⬇️ Download 100% for 04.docx\n",
            "✅ Saved 04.docx to /content/reports/2011/04_04.docx\n",
            "⬇️ Download 100% for 05.docx\n",
            "✅ Saved 05.docx to /content/reports/2011/05_05.docx\n",
            "⬇️ Download 100% for 06.docx\n",
            "✅ Saved 06.docx to /content/reports/2011/06_06.docx\n",
            "⬇️ Download 100% for 07.docx\n",
            "✅ Saved 07.docx to /content/reports/2011/07_07.docx\n",
            "⬇️ Download 100% for 08.docx\n",
            "✅ Saved 08.docx to /content/reports/2011/08_08.docx\n",
            "⬇️ Download 100% for 09.docx\n",
            "✅ Saved 09.docx to /content/reports/2011/09_09.docx\n",
            "⬇️ Download 100% for 10.docx\n",
            "✅ Saved 10.docx to /content/reports/2011/10_10.docx\n",
            "⬇️ Download 100% for 11.docx\n",
            "✅ Saved 11.docx to /content/reports/2011/11_11.docx\n",
            "⬇️ Download 100% for 12.docx\n",
            "✅ Saved 12.docx to /content/reports/2011/12_12.docx\n",
            "⬇️ Download 100% for 13.docx\n",
            "✅ Saved 13.docx to /content/reports/2011/13_13.docx\n",
            "⬇️ Download 100% for 14.docx\n",
            "✅ Saved 14.docx to /content/reports/2011/14_14.docx\n",
            "⬇️ Download 100% for 15.docx\n",
            "✅ Saved 15.docx to /content/reports/2011/15_15.docx\n",
            "⬇️ Download 100% for 01.docx\n",
            "✅ Saved 01.docx to /content/reports/2012/01_01.docx\n",
            "⬇️ Download 100% for 02.docx\n",
            "✅ Saved 02.docx to /content/reports/2012/02_02.docx\n",
            "⬇️ Download 100% for 03.docx\n",
            "✅ Saved 03.docx to /content/reports/2012/03_03.docx\n",
            "⬇️ Download 100% for 04.docx\n",
            "✅ Saved 04.docx to /content/reports/2012/04_04.docx\n",
            "⬇️ Download 100% for 05.docx\n",
            "✅ Saved 05.docx to /content/reports/2012/05_05.docx\n",
            "⬇️ Download 100% for 06.docx\n",
            "✅ Saved 06.docx to /content/reports/2012/06_06.docx\n",
            "⬇️ Download 100% for 07.docx\n",
            "✅ Saved 07.docx to /content/reports/2012/07_07.docx\n",
            "⬇️ Download 100% for 08.docx\n",
            "✅ Saved 08.docx to /content/reports/2012/08_08.docx\n",
            "⬇️ Download 100% for 09.docx\n",
            "✅ Saved 09.docx to /content/reports/2012/09_09.docx\n",
            "⬇️ Download 100% for 10.docx\n",
            "✅ Saved 10.docx to /content/reports/2012/10_10.docx\n",
            "⬇️ Download 100% for 11.docx\n",
            "✅ Saved 11.docx to /content/reports/2012/11_11.docx\n",
            "⬇️ Download 100% for 12.docx\n",
            "✅ Saved 12.docx to /content/reports/2012/12_12.docx\n",
            "⬇️ Download 100% for 13.docx\n",
            "✅ Saved 13.docx to /content/reports/2012/13_13.docx\n",
            "⬇️ Download 100% for 14.docx\n",
            "✅ Saved 14.docx to /content/reports/2012/14_14.docx\n",
            "⬇️ Download 100% for 15.docx\n",
            "✅ Saved 15.docx to /content/reports/2012/15_15.docx\n",
            "⚠️ Chapter 01 not found for year 2013\n",
            "⬇️ Download 100% for 02.docx\n",
            "✅ Saved 02.docx to /content/reports/2013/02_02.docx\n",
            "⬇️ Download 100% for 03.docx\n",
            "✅ Saved 03.docx to /content/reports/2013/03_03.docx\n",
            "⬇️ Download 100% for 04.docx\n",
            "✅ Saved 04.docx to /content/reports/2013/04_04.docx\n",
            "⬇️ Download 100% for 05.docx\n",
            "✅ Saved 05.docx to /content/reports/2013/05_05.docx\n",
            "⬇️ Download 100% for 06.docx\n",
            "✅ Saved 06.docx to /content/reports/2013/06_06.docx\n",
            "⬇️ Download 100% for 07.docx\n",
            "✅ Saved 07.docx to /content/reports/2013/07_07.docx\n",
            "⬇️ Download 100% for 08.docx\n",
            "✅ Saved 08.docx to /content/reports/2013/08_08.docx\n",
            "⬇️ Download 100% for 09.docx\n",
            "✅ Saved 09.docx to /content/reports/2013/09_09.docx\n",
            "⬇️ Download 100% for 10.docx\n",
            "✅ Saved 10.docx to /content/reports/2013/10_10.docx\n",
            "⬇️ Download 100% for 11.docx\n",
            "✅ Saved 11.docx to /content/reports/2013/11_11.docx\n",
            "⬇️ Download 100% for 12.docx\n",
            "✅ Saved 12.docx to /content/reports/2013/12_12.docx\n",
            "⬇️ Download 100% for 13.docx\n",
            "✅ Saved 13.docx to /content/reports/2013/13_13.docx\n",
            "⬇️ Download 100% for 14.docx\n",
            "✅ Saved 14.docx to /content/reports/2013/14_14.docx\n",
            "⬇️ Download 100% for 15.docx\n",
            "✅ Saved 15.docx to /content/reports/2013/15_15.docx\n",
            "⬇️ Download 100% for 01.docx\n",
            "✅ Saved 01.docx to /content/reports/2014/01_01.docx\n",
            "⬇️ Download 100% for 02.docx\n",
            "✅ Saved 02.docx to /content/reports/2014/02_02.docx\n",
            "⬇️ Download 100% for 03.docx\n",
            "✅ Saved 03.docx to /content/reports/2014/03_03.docx\n",
            "⬇️ Download 100% for 04.docx\n",
            "✅ Saved 04.docx to /content/reports/2014/04_04.docx\n",
            "⬇️ Download 100% for 05.docx\n",
            "✅ Saved 05.docx to /content/reports/2014/05_05.docx\n",
            "⬇️ Download 100% for 06.docx\n",
            "✅ Saved 06.docx to /content/reports/2014/06_06.docx\n",
            "⬇️ Download 100% for 07.docx\n",
            "✅ Saved 07.docx to /content/reports/2014/07_07.docx\n",
            "⬇️ Download 100% for 08.docx\n",
            "✅ Saved 08.docx to /content/reports/2014/08_08.docx\n",
            "⬇️ Download 100% for 09.docx\n",
            "✅ Saved 09.docx to /content/reports/2014/09_09.docx\n",
            "⬇️ Download 100% for 10.docx\n",
            "✅ Saved 10.docx to /content/reports/2014/10_10.docx\n",
            "⬇️ Download 100% for 11.docx\n",
            "✅ Saved 11.docx to /content/reports/2014/11_11.docx\n",
            "⬇️ Download 100% for 12.docx\n",
            "✅ Saved 12.docx to /content/reports/2014/12_12.docx\n",
            "⬇️ Download 100% for 13.docx\n",
            "✅ Saved 13.docx to /content/reports/2014/13_13.docx\n",
            "⬇️ Download 100% for 14.docx\n",
            "✅ Saved 14.docx to /content/reports/2014/14_14.docx\n",
            "⬇️ Download 100% for 15.doc\n",
            "✅ Saved 15.doc to /content/reports/2014/15_15.doc\n",
            "⬇️ Download 100% for 01.docx\n",
            "✅ Saved 01.docx to /content/reports/2015/01_01.docx\n",
            "⬇️ Download 100% for 02.docx\n",
            "✅ Saved 02.docx to /content/reports/2015/02_02.docx\n",
            "⬇️ Download 100% for 03.docx\n",
            "✅ Saved 03.docx to /content/reports/2015/03_03.docx\n",
            "⬇️ Download 100% for 04.docx\n",
            "✅ Saved 04.docx to /content/reports/2015/04_04.docx\n",
            "⬇️ Download 100% for 05.docx\n",
            "✅ Saved 05.docx to /content/reports/2015/05_05.docx\n",
            "⬇️ Download 100% for 06.docx\n",
            "✅ Saved 06.docx to /content/reports/2015/06_06.docx\n",
            "⬇️ Download 100% for 07.docx\n",
            "✅ Saved 07.docx to /content/reports/2015/07_07.docx\n",
            "⬇️ Download 100% for 08.docx\n",
            "✅ Saved 08.docx to /content/reports/2015/08_08.docx\n",
            "⬇️ Download 100% for 09.docx\n",
            "✅ Saved 09.docx to /content/reports/2015/09_09.docx\n",
            "⬇️ Download 100% for 10.docx\n",
            "✅ Saved 10.docx to /content/reports/2015/10_10.docx\n",
            "⬇️ Download 100% for 11.docx\n",
            "✅ Saved 11.docx to /content/reports/2015/11_11.docx\n",
            "⬇️ Download 100% for 12.docx\n",
            "✅ Saved 12.docx to /content/reports/2015/12_12.docx\n",
            "⬇️ Download 100% for 13.docx\n",
            "✅ Saved 13.docx to /content/reports/2015/13_13.docx\n",
            "⬇️ Download 100% for 14.docx\n",
            "✅ Saved 14.docx to /content/reports/2015/14_14.docx\n",
            "⬇️ Download 100% for 15.docx\n",
            "✅ Saved 15.docx to /content/reports/2015/15_15.docx\n",
            "⬇️ Download 100% for 01_מקורות 2016  645-652.docx\n",
            "✅ Saved 01_מקורות 2016  645-652.docx to /content/reports/2016/01_01_מקורות 2016  645-652.docx\n",
            "⬇️ Download 100% for 02.docx\n",
            "✅ Saved 02.docx to /content/reports/2016/02_02.docx\n",
            "⬇️ Download 100% for 03.docx\n",
            "✅ Saved 03.docx to /content/reports/2016/03_03.docx\n",
            "⬇️ Download 100% for 04.docx\n",
            "✅ Saved 04.docx to /content/reports/2016/04_04.docx\n",
            "⬇️ Download 100% for 05.docx\n",
            "✅ Saved 05.docx to /content/reports/2016/05_05.docx\n",
            "⬇️ Download 100% for 06.docx\n",
            "✅ Saved 06.docx to /content/reports/2016/06_06.docx\n",
            "⬇️ Download 100% for 07.docx\n",
            "✅ Saved 07.docx to /content/reports/2016/07_07.docx\n",
            "⬇️ Download 100% for 08.docx\n",
            "✅ Saved 08.docx to /content/reports/2016/08_08.docx\n",
            "⬇️ Download 100% for 09.docx\n",
            "✅ Saved 09.docx to /content/reports/2016/09_09.docx\n",
            "⚠️ Chapter 10 not found for year 2016\n",
            "⬇️ Download 100% for 11.docx\n",
            "✅ Saved 11.docx to /content/reports/2016/11_11.docx\n",
            "⬇️ Download 100% for 12.docx\n",
            "✅ Saved 12.docx to /content/reports/2016/12_12.docx\n",
            "⬇️ Download 100% for 13.docx\n",
            "✅ Saved 13.docx to /content/reports/2016/13_13.docx\n",
            "⬇️ Download 100% for 14.docx\n",
            "✅ Saved 14.docx to /content/reports/2016/14_14.docx\n",
            "⚠️ Chapter 15 not found for year 2016\n",
            "⬇️ Download 100% for 01.docx\n",
            "✅ Saved 01.docx to /content/reports/2017/01_01.docx\n",
            "⬇️ Download 100% for 02.docx\n",
            "✅ Saved 02.docx to /content/reports/2017/02_02.docx\n",
            "⬇️ Download 100% for 03.docx\n",
            "✅ Saved 03.docx to /content/reports/2017/03_03.docx\n",
            "⬇️ Download 100% for 04.docx\n",
            "✅ Saved 04.docx to /content/reports/2017/04_04.docx\n",
            "⬇️ Download 100% for 05.docx\n",
            "✅ Saved 05.docx to /content/reports/2017/05_05.docx\n",
            "⬇️ Download 100% for 06.docx\n",
            "✅ Saved 06.docx to /content/reports/2017/06_06.docx\n",
            "⬇️ Download 100% for 07.docx\n",
            "✅ Saved 07.docx to /content/reports/2017/07_07.docx\n",
            "⬇️ Download 100% for 08.docx\n",
            "✅ Saved 08.docx to /content/reports/2017/08_08.docx\n",
            "⬇️ Download 100% for 09.docx\n",
            "✅ Saved 09.docx to /content/reports/2017/09_09.docx\n",
            "⬇️ Download 100% for 10.docx\n",
            "✅ Saved 10.docx to /content/reports/2017/10_10.docx\n",
            "⬇️ Download 100% for 11.docx\n",
            "✅ Saved 11.docx to /content/reports/2017/11_11.docx\n",
            "⬇️ Download 100% for 12.docx\n",
            "✅ Saved 12.docx to /content/reports/2017/12_12.docx\n",
            "⬇️ Download 100% for 13.docx\n",
            "✅ Saved 13.docx to /content/reports/2017/13_13.docx\n",
            "⬇️ Download 100% for 14.docx\n",
            "✅ Saved 14.docx to /content/reports/2017/14_14.docx\n",
            "⬇️ Download 100% for 15.docx\n",
            "✅ Saved 15.docx to /content/reports/2017/15_15.docx\n",
            "⬇️ Download 100% for 01.docx\n",
            "✅ Saved 01.docx to /content/reports/2018/01_01.docx\n",
            "⬇️ Download 100% for 02.docx\n",
            "✅ Saved 02.docx to /content/reports/2018/02_02.docx\n",
            "⬇️ Download 100% for 03.docx\n",
            "✅ Saved 03.docx to /content/reports/2018/03_03.docx\n",
            "⬇️ Download 100% for 04.docx\n",
            "✅ Saved 04.docx to /content/reports/2018/04_04.docx\n",
            "⬇️ Download 100% for 05.docx\n",
            "✅ Saved 05.docx to /content/reports/2018/05_05.docx\n",
            "⬇️ Download 100% for 06.docx\n",
            "✅ Saved 06.docx to /content/reports/2018/06_06.docx\n",
            "⬇️ Download 100% for 07.docx\n",
            "✅ Saved 07.docx to /content/reports/2018/07_07.docx\n",
            "⬇️ Download 100% for 08.docx\n",
            "✅ Saved 08.docx to /content/reports/2018/08_08.docx\n",
            "⬇️ Download 100% for 09.docx\n",
            "✅ Saved 09.docx to /content/reports/2018/09_09.docx\n",
            "⬇️ Download 100% for 10.docx\n",
            "✅ Saved 10.docx to /content/reports/2018/10_10.docx\n",
            "⬇️ Download 100% for 11.docx\n",
            "✅ Saved 11.docx to /content/reports/2018/11_11.docx\n",
            "⬇️ Download 100% for 12.docx\n",
            "✅ Saved 12.docx to /content/reports/2018/12_12.docx\n",
            "⬇️ Download 100% for 13.docx\n",
            "✅ Saved 13.docx to /content/reports/2018/13_13.docx\n",
            "⬇️ Download 100% for 14.docx\n",
            "✅ Saved 14.docx to /content/reports/2018/14_14.docx\n",
            "⚠️ Chapter 15 not found for year 2018\n",
            "⬇️ Download 100% for 01.docx\n",
            "✅ Saved 01.docx to /content/reports/2019/01_01.docx\n",
            "⬇️ Download 100% for 02.docx\n",
            "✅ Saved 02.docx to /content/reports/2019/02_02.docx\n",
            "⬇️ Download 100% for 03.docx\n",
            "✅ Saved 03.docx to /content/reports/2019/03_03.docx\n",
            "⬇️ Download 100% for 04.docx\n",
            "✅ Saved 04.docx to /content/reports/2019/04_04.docx\n",
            "⬇️ Download 100% for 05.docx\n",
            "✅ Saved 05.docx to /content/reports/2019/05_05.docx\n",
            "⬇️ Download 100% for 06.docx\n",
            "✅ Saved 06.docx to /content/reports/2019/06_06.docx\n",
            "⬇️ Download 100% for 07.docx\n",
            "✅ Saved 07.docx to /content/reports/2019/07_07.docx\n",
            "⬇️ Download 100% for 08.docx\n",
            "✅ Saved 08.docx to /content/reports/2019/08_08.docx\n",
            "⬇️ Download 100% for 09.docx\n",
            "✅ Saved 09.docx to /content/reports/2019/09_09.docx\n",
            "⬇️ Download 100% for 10.docx\n",
            "✅ Saved 10.docx to /content/reports/2019/10_10.docx\n",
            "⬇️ Download 100% for 11.docx\n",
            "✅ Saved 11.docx to /content/reports/2019/11_11.docx\n",
            "⬇️ Download 100% for 12.docx\n",
            "✅ Saved 12.docx to /content/reports/2019/12_12.docx\n",
            "⬇️ Download 100% for 13.docx\n",
            "✅ Saved 13.docx to /content/reports/2019/13_13.docx\n",
            "⬇️ Download 100% for 14.docx\n",
            "✅ Saved 14.docx to /content/reports/2019/14_14.docx\n",
            "⚠️ Chapter 15 not found for year 2019\n",
            "⬇️ Download 100% for 01.docx\n",
            "✅ Saved 01.docx to /content/reports/2020/01_01.docx\n",
            "⬇️ Download 100% for לקט נתוני שנתון 2020.docx\n",
            "✅ Saved לקט נתוני שנתון 2020.docx to /content/reports/2020/02_לקט נתוני שנתון 2020.docx\n",
            "⬇️ Download 100% for 03.docx\n",
            "✅ Saved 03.docx to /content/reports/2020/03_03.docx\n",
            "⬇️ Download 100% for 04.docx\n",
            "✅ Saved 04.docx to /content/reports/2020/04_04.docx\n",
            "⬇️ Download 100% for 05.docx\n",
            "✅ Saved 05.docx to /content/reports/2020/05_05.docx\n",
            "⬇️ Download 100% for 06.docx\n",
            "✅ Saved 06.docx to /content/reports/2020/06_06.docx\n",
            "⬇️ Download 100% for 07.docx\n",
            "✅ Saved 07.docx to /content/reports/2020/07_07.docx\n",
            "⬇️ Download 100% for 08.docx\n",
            "✅ Saved 08.docx to /content/reports/2020/08_08.docx\n",
            "⬇️ Download 100% for 09.docx\n",
            "✅ Saved 09.docx to /content/reports/2020/09_09.docx\n",
            "⬇️ Download 100% for 10.docx\n",
            "✅ Saved 10.docx to /content/reports/2020/10_10.docx\n",
            "⬇️ Download 100% for 11.docx\n",
            "✅ Saved 11.docx to /content/reports/2020/11_11.docx\n",
            "⬇️ Download 100% for 12.docx\n",
            "✅ Saved 12.docx to /content/reports/2020/12_12.docx\n",
            "⬇️ Download 100% for 13.docx\n",
            "✅ Saved 13.docx to /content/reports/2020/13_13.docx\n",
            "⬇️ Download 100% for 14.docx\n",
            "✅ Saved 14.docx to /content/reports/2020/14_14.docx\n",
            "⚠️ Chapter 15 not found for year 2020\n",
            "⬇️ Download 100% for 01.docx\n",
            "✅ Saved 01.docx to /content/reports/2021/01_01.docx\n",
            "⬇️ Download 100% for 02.docx\n",
            "✅ Saved 02.docx to /content/reports/2021/02_02.docx\n",
            "⬇️ Download 100% for 03.docx\n",
            "✅ Saved 03.docx to /content/reports/2021/03_03.docx\n",
            "⬇️ Download 100% for 04.docx\n",
            "✅ Saved 04.docx to /content/reports/2021/04_04.docx\n",
            "⬇️ Download 100% for 05.docx\n",
            "✅ Saved 05.docx to /content/reports/2021/05_05.docx\n",
            "⬇️ Download 100% for 06.docx\n",
            "✅ Saved 06.docx to /content/reports/2021/06_06.docx\n",
            "⬇️ Download 100% for 07.docx\n",
            "✅ Saved 07.docx to /content/reports/2021/07_07.docx\n",
            "⬇️ Download 100% for 08.docx\n",
            "✅ Saved 08.docx to /content/reports/2021/08_08.docx\n",
            "⬇️ Download 100% for 09.docx\n",
            "✅ Saved 09.docx to /content/reports/2021/09_09.docx\n",
            "⬇️ Download 100% for 10.docx\n",
            "✅ Saved 10.docx to /content/reports/2021/10_10.docx\n",
            "⬇️ Download 100% for 11.docx\n",
            "✅ Saved 11.docx to /content/reports/2021/11_11.docx\n",
            "⬇️ Download 100% for 12.docx\n",
            "✅ Saved 12.docx to /content/reports/2021/12_12.docx\n",
            "⬇️ Download 100% for 13.docx\n",
            "✅ Saved 13.docx to /content/reports/2021/13_13.docx\n",
            "⬇️ Download 100% for 14.docx\n",
            "✅ Saved 14.docx to /content/reports/2021/14_14.docx\n",
            "⚠️ Chapter 15 not found for year 2021\n",
            "⬇️ Download 100% for 01.docx\n",
            "✅ Saved 01.docx to /content/reports/2022/01_01.docx\n",
            "⬇️ Download 100% for 02.docx\n",
            "✅ Saved 02.docx to /content/reports/2022/02_02.docx\n",
            "⬇️ Download 100% for 03.docx\n",
            "✅ Saved 03.docx to /content/reports/2022/03_03.docx\n",
            "⬇️ Download 100% for 04.docx\n",
            "✅ Saved 04.docx to /content/reports/2022/04_04.docx\n",
            "⬇️ Download 100% for 05.docx\n",
            "✅ Saved 05.docx to /content/reports/2022/05_05.docx\n",
            "⬇️ Download 100% for 06.docx\n",
            "✅ Saved 06.docx to /content/reports/2022/06_06.docx\n",
            "⬇️ Download 100% for 07.docx\n",
            "✅ Saved 07.docx to /content/reports/2022/07_07.docx\n",
            "⬇️ Download 100% for 08.docx\n",
            "✅ Saved 08.docx to /content/reports/2022/08_08.docx\n",
            "⬇️ Download 100% for 09.docx\n",
            "✅ Saved 09.docx to /content/reports/2022/09_09.docx\n",
            "⬇️ Download 100% for 10.docx\n",
            "✅ Saved 10.docx to /content/reports/2022/10_10.docx\n",
            "⬇️ Download 100% for 11.docx\n",
            "✅ Saved 11.docx to /content/reports/2022/11_11.docx\n",
            "⬇️ Download 100% for 12.docx\n",
            "✅ Saved 12.docx to /content/reports/2022/12_12.docx\n",
            "⬇️ Download 100% for 13.docx\n",
            "✅ Saved 13.docx to /content/reports/2022/13_13.docx\n",
            "⬇️ Download 100% for 14.docx\n",
            "✅ Saved 14.docx to /content/reports/2022/14_14.docx\n",
            "⚠️ Chapter 15 not found for year 2022\n",
            "⬇️ Download 100% for 01.docx\n",
            "✅ Saved 01.docx to /content/reports/2023/01_01.docx\n",
            "⬇️ Download 100% for 02.docx\n",
            "✅ Saved 02.docx to /content/reports/2023/02_02.docx\n",
            "⬇️ Download 100% for 03.docx\n",
            "✅ Saved 03.docx to /content/reports/2023/03_03.docx\n",
            "⬇️ Download 100% for 04.docx\n",
            "✅ Saved 04.docx to /content/reports/2023/04_04.docx\n",
            "⬇️ Download 100% for 05.docx\n",
            "✅ Saved 05.docx to /content/reports/2023/05_05.docx\n",
            "⬇️ Download 100% for 06.docx\n",
            "✅ Saved 06.docx to /content/reports/2023/06_06.docx\n",
            "⬇️ Download 100% for 07.docx\n",
            "✅ Saved 07.docx to /content/reports/2023/07_07.docx\n",
            "⬇️ Download 100% for 08.docx\n",
            "✅ Saved 08.docx to /content/reports/2023/08_08.docx\n",
            "⬇️ Download 100% for 09.docx\n",
            "✅ Saved 09.docx to /content/reports/2023/09_09.docx\n",
            "⬇️ Download 100% for 10.docx\n",
            "✅ Saved 10.docx to /content/reports/2023/10_10.docx\n",
            "⬇️ Download 100% for 11.docx\n",
            "✅ Saved 11.docx to /content/reports/2023/11_11.docx\n",
            "⬇️ Download 100% for 12.docx\n",
            "✅ Saved 12.docx to /content/reports/2023/12_12.docx\n",
            "⬇️ Download 100% for 13.docx\n",
            "✅ Saved 13.docx to /content/reports/2023/13_13.docx\n",
            "⬇️ Download 100% for 14.docx\n",
            "✅ Saved 14.docx to /content/reports/2023/14_14.docx\n",
            "⚠️ Chapter 15 not found for year 2023\n",
            "⬇️ Download 100% for 01.docx\n",
            "✅ Saved 01.docx to /content/reports/2024/01_01.docx\n",
            "⬇️ Download 100% for 02.docx\n",
            "✅ Saved 02.docx to /content/reports/2024/02_02.docx\n",
            "⬇️ Download 100% for 03.docx\n",
            "✅ Saved 03.docx to /content/reports/2024/03_03.docx\n",
            "⬇️ Download 100% for 04.docx\n",
            "✅ Saved 04.docx to /content/reports/2024/04_04.docx\n",
            "⬇️ Download 100% for 05.docx\n",
            "✅ Saved 05.docx to /content/reports/2024/05_05.docx\n",
            "⬇️ Download 100% for 06.docx\n",
            "✅ Saved 06.docx to /content/reports/2024/06_06.docx\n",
            "⬇️ Download 100% for 07.docx\n",
            "✅ Saved 07.docx to /content/reports/2024/07_07.docx\n",
            "⬇️ Download 100% for 08.docx\n",
            "✅ Saved 08.docx to /content/reports/2024/08_08.docx\n",
            "⬇️ Download 100% for 09.docx\n",
            "✅ Saved 09.docx to /content/reports/2024/09_09.docx\n",
            "⬇️ Download 100% for 10.docx\n",
            "✅ Saved 10.docx to /content/reports/2024/10_10.docx\n",
            "⬇️ Download 100% for 11.docx\n",
            "✅ Saved 11.docx to /content/reports/2024/11_11.docx\n",
            "⬇️ Download 100% for 12.docx\n",
            "✅ Saved 12.docx to /content/reports/2024/12_12.docx\n",
            "⬇️ Download 100% for 13.docx\n",
            "✅ Saved 13.docx to /content/reports/2024/13_13.docx\n",
            "⬇️ Download 100% for 14.docx\n",
            "✅ Saved 14.docx to /content/reports/2024/14_14.docx\n",
            "⬇️ Download 100% for 14.15.xlsx\n",
            "✅ Saved 14.15.xlsx to /content/reports/2024/15_14.15.xlsx\n"
          ]
        },
        {
          "output_type": "execute_result",
          "data": {
            "text/plain": [
              "{'2001': {1: '/content/reports/2001/01_01.docx',\n",
              "  2: '/content/reports/2001/02_02.docx',\n",
              "  3: '/content/reports/2001/03_03.docx',\n",
              "  4: '/content/reports/2001/04_04.docx',\n",
              "  5: '/content/reports/2001/05_05.docx',\n",
              "  6: '/content/reports/2001/06_06.docx',\n",
              "  7: '/content/reports/2001/07_07.docx',\n",
              "  8: '/content/reports/2001/08_08.docx',\n",
              "  9: '/content/reports/2001/09_09.docx',\n",
              "  10: '/content/reports/2001/10_10.docx',\n",
              "  11: '/content/reports/2001/11_11.docx',\n",
              "  12: '/content/reports/2001/12_12.docx',\n",
              "  13: '/content/reports/2001/13_13.docx',\n",
              "  14: '/content/reports/2001/14_14.docx',\n",
              "  15: '/content/reports/2001/15_15.docx'},\n",
              " '2002': {1: '/content/reports/2002/01_01.docx',\n",
              "  2: '/content/reports/2002/02_02.docx',\n",
              "  3: '/content/reports/2002/03_03.docx',\n",
              "  4: '/content/reports/2002/04_04.docx',\n",
              "  5: '/content/reports/2002/05_05.docx',\n",
              "  6: '/content/reports/2002/06_06.docx',\n",
              "  7: '/content/reports/2002/07_07.docx',\n",
              "  8: '/content/reports/2002/08_08.docx',\n",
              "  9: '/content/reports/2002/09_09.docx',\n",
              "  10: '/content/reports/2002/10_10.docx',\n",
              "  11: '/content/reports/2002/11_11.docx',\n",
              "  12: '/content/reports/2002/12_12.docx',\n",
              "  13: '/content/reports/2002/13_13.docx',\n",
              "  14: '/content/reports/2002/14_14.docx',\n",
              "  15: '/content/reports/2002/15_15.docx'},\n",
              " '2003': {1: '/content/reports/2003/01_01.docx',\n",
              "  2: '/content/reports/2003/02_02.docx',\n",
              "  3: '/content/reports/2003/03_03.docx',\n",
              "  4: '/content/reports/2003/04_04.docx',\n",
              "  5: '/content/reports/2003/05_05.docx',\n",
              "  6: '/content/reports/2003/06_06.docx',\n",
              "  7: '/content/reports/2003/07_07.docx',\n",
              "  8: '/content/reports/2003/08_08.docx',\n",
              "  9: '/content/reports/2003/09_09.docx',\n",
              "  10: '/content/reports/2003/10_10.docx',\n",
              "  11: '/content/reports/2003/11_11.docx',\n",
              "  12: '/content/reports/2003/12_12.docx',\n",
              "  13: '/content/reports/2003/13_13.docx',\n",
              "  14: '/content/reports/2003/14_14.docx',\n",
              "  15: '/content/reports/2003/15_15.docx'},\n",
              " '2004': {1: '/content/reports/2004/01_01.docx',\n",
              "  2: '/content/reports/2004/02_02.docx',\n",
              "  3: '/content/reports/2004/03_03.docx',\n",
              "  4: '/content/reports/2004/04_04.docx',\n",
              "  5: '/content/reports/2004/05_05.docx',\n",
              "  6: '/content/reports/2004/06_06.docx',\n",
              "  7: '/content/reports/2004/07_07.docx',\n",
              "  8: '/content/reports/2004/08_08.docx',\n",
              "  10: '/content/reports/2004/10_10.docx',\n",
              "  12: '/content/reports/2004/12_12.docx',\n",
              "  13: '/content/reports/2004/13_13.docx',\n",
              "  14: '/content/reports/2004/14_14.docx',\n",
              "  15: '/content/reports/2004/15_15.docx'},\n",
              " '2005': {1: '/content/reports/2005/01_01.docx',\n",
              "  2: '/content/reports/2005/02_02.docx',\n",
              "  3: '/content/reports/2005/03_03.docx',\n",
              "  4: '/content/reports/2005/04_04.docx',\n",
              "  5: '/content/reports/2005/05_05_content2005.docx',\n",
              "  6: '/content/reports/2005/06_06.docx',\n",
              "  7: '/content/reports/2005/07_07.docx',\n",
              "  8: '/content/reports/2005/08_08.docx',\n",
              "  9: '/content/reports/2005/09_09.docx',\n",
              "  10: '/content/reports/2005/10_10.docx',\n",
              "  11: '/content/reports/2005/11_11.docx',\n",
              "  12: '/content/reports/2005/12_12.docx',\n",
              "  13: '/content/reports/2005/13_13.docx',\n",
              "  14: '/content/reports/2005/14_14.docx',\n",
              "  15: '/content/reports/2005/15_15.docx'},\n",
              " '2006': {1: '/content/reports/2006/01_01.docx',\n",
              "  2: '/content/reports/2006/02_02.docx',\n",
              "  3: '/content/reports/2006/03_03.docx',\n",
              "  4: '/content/reports/2006/04_04.docx',\n",
              "  5: '/content/reports/2006/05_05.docx',\n",
              "  6: '/content/reports/2006/06_06.docx',\n",
              "  7: '/content/reports/2006/07_07.docx',\n",
              "  8: '/content/reports/2006/08_08.docx',\n",
              "  9: '/content/reports/2006/09_09.docx',\n",
              "  10: '/content/reports/2006/10_10.docx',\n",
              "  11: '/content/reports/2006/11_11.docx',\n",
              "  12: '/content/reports/2006/12_12.docx',\n",
              "  13: '/content/reports/2006/13_13.docx',\n",
              "  14: '/content/reports/2006/14_14.docx',\n",
              "  15: '/content/reports/2006/15_15.docx'},\n",
              " '2007': {1: '/content/reports/2007/01_01.docx',\n",
              "  2: '/content/reports/2007/02_02.docx',\n",
              "  3: '/content/reports/2007/03_03.docx',\n",
              "  4: '/content/reports/2007/04_04.docx',\n",
              "  5: '/content/reports/2007/05_05.docx',\n",
              "  6: '/content/reports/2007/06_06.docx',\n",
              "  7: '/content/reports/2007/07_07.docx',\n",
              "  8: '/content/reports/2007/08_08.docx',\n",
              "  9: '/content/reports/2007/09_09.docx',\n",
              "  10: '/content/reports/2007/10_10.docx',\n",
              "  11: '/content/reports/2007/11_11.docx',\n",
              "  12: '/content/reports/2007/12_12.docx',\n",
              "  13: '/content/reports/2007/13_13.docx',\n",
              "  14: '/content/reports/2007/14_14.docx',\n",
              "  15: '/content/reports/2007/15_15.docx'},\n",
              " '2008': {1: '/content/reports/2008/01_01.docx',\n",
              "  2: '/content/reports/2008/02_02.docx',\n",
              "  3: '/content/reports/2008/03_03.docx',\n",
              "  4: '/content/reports/2008/04_04.docx',\n",
              "  5: '/content/reports/2008/05_05.docx',\n",
              "  6: '/content/reports/2008/06_06.docx',\n",
              "  7: '/content/reports/2008/07_07.docx',\n",
              "  8: '/content/reports/2008/08_08.docx',\n",
              "  9: '/content/reports/2008/09_09.docx',\n",
              "  10: '/content/reports/2008/10_10.docx',\n",
              "  11: '/content/reports/2008/11_11.docx',\n",
              "  12: '/content/reports/2008/12_12.docx',\n",
              "  13: '/content/reports/2008/13_13.docx',\n",
              "  14: '/content/reports/2008/14_14.docx',\n",
              "  15: '/content/reports/2008/15_15.docx'},\n",
              " '2009': {1: '/content/reports/2009/01_01.docx',\n",
              "  2: '/content/reports/2009/02_02.docx',\n",
              "  3: '/content/reports/2009/03_03.docx',\n",
              "  4: '/content/reports/2009/04_04.docx',\n",
              "  5: '/content/reports/2009/05_05.docx',\n",
              "  6: '/content/reports/2009/06_06.pdf',\n",
              "  7: '/content/reports/2009/07_07.docx',\n",
              "  8: '/content/reports/2009/08_08.docx',\n",
              "  9: '/content/reports/2009/09_09.docx',\n",
              "  10: '/content/reports/2009/10_10.docx',\n",
              "  11: '/content/reports/2009/11_11.docx',\n",
              "  12: '/content/reports/2009/12_12.docx',\n",
              "  13: '/content/reports/2009/13_13.docx',\n",
              "  14: '/content/reports/2009/14_14.docx',\n",
              "  15: '/content/reports/2009/15_15.docx'},\n",
              " '2010': {1: '/content/reports/2010/01_01.docx',\n",
              "  2: '/content/reports/2010/02_02.docx',\n",
              "  3: '/content/reports/2010/03_03.docx',\n",
              "  4: '/content/reports/2010/04_04.docx',\n",
              "  5: '/content/reports/2010/05_05.docx',\n",
              "  6: '/content/reports/2010/06_06.docx',\n",
              "  7: '/content/reports/2010/07_07.docx',\n",
              "  8: '/content/reports/2010/08_08.docx',\n",
              "  9: '/content/reports/2010/09_09.docx',\n",
              "  10: '/content/reports/2010/10_10.docx',\n",
              "  11: '/content/reports/2010/11_11.docx',\n",
              "  12: '/content/reports/2010/12_12.docx',\n",
              "  13: '/content/reports/2010/13_13.docx',\n",
              "  14: '/content/reports/2010/14_14.docx',\n",
              "  15: '/content/reports/2010/15_15.docx'},\n",
              " '2011': {1: '/content/reports/2011/01_01.docx',\n",
              "  2: '/content/reports/2011/02_02.docx',\n",
              "  3: '/content/reports/2011/03_03.docx',\n",
              "  4: '/content/reports/2011/04_04.docx',\n",
              "  5: '/content/reports/2011/05_05.docx',\n",
              "  6: '/content/reports/2011/06_06.docx',\n",
              "  7: '/content/reports/2011/07_07.docx',\n",
              "  8: '/content/reports/2011/08_08.docx',\n",
              "  9: '/content/reports/2011/09_09.docx',\n",
              "  10: '/content/reports/2011/10_10.docx',\n",
              "  11: '/content/reports/2011/11_11.docx',\n",
              "  12: '/content/reports/2011/12_12.docx',\n",
              "  13: '/content/reports/2011/13_13.docx',\n",
              "  14: '/content/reports/2011/14_14.docx',\n",
              "  15: '/content/reports/2011/15_15.docx'},\n",
              " '2012': {1: '/content/reports/2012/01_01.docx',\n",
              "  2: '/content/reports/2012/02_02.docx',\n",
              "  3: '/content/reports/2012/03_03.docx',\n",
              "  4: '/content/reports/2012/04_04.docx',\n",
              "  5: '/content/reports/2012/05_05.docx',\n",
              "  6: '/content/reports/2012/06_06.docx',\n",
              "  7: '/content/reports/2012/07_07.docx',\n",
              "  8: '/content/reports/2012/08_08.docx',\n",
              "  9: '/content/reports/2012/09_09.docx',\n",
              "  10: '/content/reports/2012/10_10.docx',\n",
              "  11: '/content/reports/2012/11_11.docx',\n",
              "  12: '/content/reports/2012/12_12.docx',\n",
              "  13: '/content/reports/2012/13_13.docx',\n",
              "  14: '/content/reports/2012/14_14.docx',\n",
              "  15: '/content/reports/2012/15_15.docx'},\n",
              " '2013': {2: '/content/reports/2013/02_02.docx',\n",
              "  3: '/content/reports/2013/03_03.docx',\n",
              "  4: '/content/reports/2013/04_04.docx',\n",
              "  5: '/content/reports/2013/05_05.docx',\n",
              "  6: '/content/reports/2013/06_06.docx',\n",
              "  7: '/content/reports/2013/07_07.docx',\n",
              "  8: '/content/reports/2013/08_08.docx',\n",
              "  9: '/content/reports/2013/09_09.docx',\n",
              "  10: '/content/reports/2013/10_10.docx',\n",
              "  11: '/content/reports/2013/11_11.docx',\n",
              "  12: '/content/reports/2013/12_12.docx',\n",
              "  13: '/content/reports/2013/13_13.docx',\n",
              "  14: '/content/reports/2013/14_14.docx',\n",
              "  15: '/content/reports/2013/15_15.docx'},\n",
              " '2014': {1: '/content/reports/2014/01_01.docx',\n",
              "  2: '/content/reports/2014/02_02.docx',\n",
              "  3: '/content/reports/2014/03_03.docx',\n",
              "  4: '/content/reports/2014/04_04.docx',\n",
              "  5: '/content/reports/2014/05_05.docx',\n",
              "  6: '/content/reports/2014/06_06.docx',\n",
              "  7: '/content/reports/2014/07_07.docx',\n",
              "  8: '/content/reports/2014/08_08.docx',\n",
              "  9: '/content/reports/2014/09_09.docx',\n",
              "  10: '/content/reports/2014/10_10.docx',\n",
              "  11: '/content/reports/2014/11_11.docx',\n",
              "  12: '/content/reports/2014/12_12.docx',\n",
              "  13: '/content/reports/2014/13_13.docx',\n",
              "  14: '/content/reports/2014/14_14.docx',\n",
              "  15: '/content/reports/2014/15_15.doc'},\n",
              " '2015': {1: '/content/reports/2015/01_01.docx',\n",
              "  2: '/content/reports/2015/02_02.docx',\n",
              "  3: '/content/reports/2015/03_03.docx',\n",
              "  4: '/content/reports/2015/04_04.docx',\n",
              "  5: '/content/reports/2015/05_05.docx',\n",
              "  6: '/content/reports/2015/06_06.docx',\n",
              "  7: '/content/reports/2015/07_07.docx',\n",
              "  8: '/content/reports/2015/08_08.docx',\n",
              "  9: '/content/reports/2015/09_09.docx',\n",
              "  10: '/content/reports/2015/10_10.docx',\n",
              "  11: '/content/reports/2015/11_11.docx',\n",
              "  12: '/content/reports/2015/12_12.docx',\n",
              "  13: '/content/reports/2015/13_13.docx',\n",
              "  14: '/content/reports/2015/14_14.docx',\n",
              "  15: '/content/reports/2015/15_15.docx'},\n",
              " '2016': {1: '/content/reports/2016/01_01_מקורות 2016  645-652.docx',\n",
              "  2: '/content/reports/2016/02_02.docx',\n",
              "  3: '/content/reports/2016/03_03.docx',\n",
              "  4: '/content/reports/2016/04_04.docx',\n",
              "  5: '/content/reports/2016/05_05.docx',\n",
              "  6: '/content/reports/2016/06_06.docx',\n",
              "  7: '/content/reports/2016/07_07.docx',\n",
              "  8: '/content/reports/2016/08_08.docx',\n",
              "  9: '/content/reports/2016/09_09.docx',\n",
              "  11: '/content/reports/2016/11_11.docx',\n",
              "  12: '/content/reports/2016/12_12.docx',\n",
              "  13: '/content/reports/2016/13_13.docx',\n",
              "  14: '/content/reports/2016/14_14.docx'},\n",
              " '2017': {1: '/content/reports/2017/01_01.docx',\n",
              "  2: '/content/reports/2017/02_02.docx',\n",
              "  3: '/content/reports/2017/03_03.docx',\n",
              "  4: '/content/reports/2017/04_04.docx',\n",
              "  5: '/content/reports/2017/05_05.docx',\n",
              "  6: '/content/reports/2017/06_06.docx',\n",
              "  7: '/content/reports/2017/07_07.docx',\n",
              "  8: '/content/reports/2017/08_08.docx',\n",
              "  9: '/content/reports/2017/09_09.docx',\n",
              "  10: '/content/reports/2017/10_10.docx',\n",
              "  11: '/content/reports/2017/11_11.docx',\n",
              "  12: '/content/reports/2017/12_12.docx',\n",
              "  13: '/content/reports/2017/13_13.docx',\n",
              "  14: '/content/reports/2017/14_14.docx',\n",
              "  15: '/content/reports/2017/15_15.docx'},\n",
              " '2018': {1: '/content/reports/2018/01_01.docx',\n",
              "  2: '/content/reports/2018/02_02.docx',\n",
              "  3: '/content/reports/2018/03_03.docx',\n",
              "  4: '/content/reports/2018/04_04.docx',\n",
              "  5: '/content/reports/2018/05_05.docx',\n",
              "  6: '/content/reports/2018/06_06.docx',\n",
              "  7: '/content/reports/2018/07_07.docx',\n",
              "  8: '/content/reports/2018/08_08.docx',\n",
              "  9: '/content/reports/2018/09_09.docx',\n",
              "  10: '/content/reports/2018/10_10.docx',\n",
              "  11: '/content/reports/2018/11_11.docx',\n",
              "  12: '/content/reports/2018/12_12.docx',\n",
              "  13: '/content/reports/2018/13_13.docx',\n",
              "  14: '/content/reports/2018/14_14.docx'},\n",
              " '2019': {1: '/content/reports/2019/01_01.docx',\n",
              "  2: '/content/reports/2019/02_02.docx',\n",
              "  3: '/content/reports/2019/03_03.docx',\n",
              "  4: '/content/reports/2019/04_04.docx',\n",
              "  5: '/content/reports/2019/05_05.docx',\n",
              "  6: '/content/reports/2019/06_06.docx',\n",
              "  7: '/content/reports/2019/07_07.docx',\n",
              "  8: '/content/reports/2019/08_08.docx',\n",
              "  9: '/content/reports/2019/09_09.docx',\n",
              "  10: '/content/reports/2019/10_10.docx',\n",
              "  11: '/content/reports/2019/11_11.docx',\n",
              "  12: '/content/reports/2019/12_12.docx',\n",
              "  13: '/content/reports/2019/13_13.docx',\n",
              "  14: '/content/reports/2019/14_14.docx'},\n",
              " '2020': {1: '/content/reports/2020/01_01.docx',\n",
              "  2: '/content/reports/2020/02_לקט נתוני שנתון 2020.docx',\n",
              "  3: '/content/reports/2020/03_03.docx',\n",
              "  4: '/content/reports/2020/04_04.docx',\n",
              "  5: '/content/reports/2020/05_05.docx',\n",
              "  6: '/content/reports/2020/06_06.docx',\n",
              "  7: '/content/reports/2020/07_07.docx',\n",
              "  8: '/content/reports/2020/08_08.docx',\n",
              "  9: '/content/reports/2020/09_09.docx',\n",
              "  10: '/content/reports/2020/10_10.docx',\n",
              "  11: '/content/reports/2020/11_11.docx',\n",
              "  12: '/content/reports/2020/12_12.docx',\n",
              "  13: '/content/reports/2020/13_13.docx',\n",
              "  14: '/content/reports/2020/14_14.docx'},\n",
              " '2021': {1: '/content/reports/2021/01_01.docx',\n",
              "  2: '/content/reports/2021/02_02.docx',\n",
              "  3: '/content/reports/2021/03_03.docx',\n",
              "  4: '/content/reports/2021/04_04.docx',\n",
              "  5: '/content/reports/2021/05_05.docx',\n",
              "  6: '/content/reports/2021/06_06.docx',\n",
              "  7: '/content/reports/2021/07_07.docx',\n",
              "  8: '/content/reports/2021/08_08.docx',\n",
              "  9: '/content/reports/2021/09_09.docx',\n",
              "  10: '/content/reports/2021/10_10.docx',\n",
              "  11: '/content/reports/2021/11_11.docx',\n",
              "  12: '/content/reports/2021/12_12.docx',\n",
              "  13: '/content/reports/2021/13_13.docx',\n",
              "  14: '/content/reports/2021/14_14.docx'},\n",
              " '2022': {1: '/content/reports/2022/01_01.docx',\n",
              "  2: '/content/reports/2022/02_02.docx',\n",
              "  3: '/content/reports/2022/03_03.docx',\n",
              "  4: '/content/reports/2022/04_04.docx',\n",
              "  5: '/content/reports/2022/05_05.docx',\n",
              "  6: '/content/reports/2022/06_06.docx',\n",
              "  7: '/content/reports/2022/07_07.docx',\n",
              "  8: '/content/reports/2022/08_08.docx',\n",
              "  9: '/content/reports/2022/09_09.docx',\n",
              "  10: '/content/reports/2022/10_10.docx',\n",
              "  11: '/content/reports/2022/11_11.docx',\n",
              "  12: '/content/reports/2022/12_12.docx',\n",
              "  13: '/content/reports/2022/13_13.docx',\n",
              "  14: '/content/reports/2022/14_14.docx'},\n",
              " '2023': {1: '/content/reports/2023/01_01.docx',\n",
              "  2: '/content/reports/2023/02_02.docx',\n",
              "  3: '/content/reports/2023/03_03.docx',\n",
              "  4: '/content/reports/2023/04_04.docx',\n",
              "  5: '/content/reports/2023/05_05.docx',\n",
              "  6: '/content/reports/2023/06_06.docx',\n",
              "  7: '/content/reports/2023/07_07.docx',\n",
              "  8: '/content/reports/2023/08_08.docx',\n",
              "  9: '/content/reports/2023/09_09.docx',\n",
              "  10: '/content/reports/2023/10_10.docx',\n",
              "  11: '/content/reports/2023/11_11.docx',\n",
              "  12: '/content/reports/2023/12_12.docx',\n",
              "  13: '/content/reports/2023/13_13.docx',\n",
              "  14: '/content/reports/2023/14_14.docx'},\n",
              " '2024': {1: '/content/reports/2024/01_01.docx',\n",
              "  2: '/content/reports/2024/02_02.docx',\n",
              "  3: '/content/reports/2024/03_03.docx',\n",
              "  4: '/content/reports/2024/04_04.docx',\n",
              "  5: '/content/reports/2024/05_05.docx',\n",
              "  6: '/content/reports/2024/06_06.docx',\n",
              "  7: '/content/reports/2024/07_07.docx',\n",
              "  8: '/content/reports/2024/08_08.docx',\n",
              "  9: '/content/reports/2024/09_09.docx',\n",
              "  10: '/content/reports/2024/10_10.docx',\n",
              "  11: '/content/reports/2024/11_11.docx',\n",
              "  12: '/content/reports/2024/12_12.docx',\n",
              "  13: '/content/reports/2024/13_13.docx',\n",
              "  14: '/content/reports/2024/14_14.docx',\n",
              "  15: '/content/reports/2024/15_14.15.xlsx'}}"
            ]
          },
          "metadata": {},
          "execution_count": 2
        }
      ]
    },
    {
      "cell_type": "code",
      "source": [
        "from google.colab import auth\n",
        "from googleapiclient.discovery import build\n",
        "import pandas as pd\n",
        "import os\n",
        "import io\n",
        "from googleapiclient.http import MediaIoBaseDownload\n",
        "import logging\n",
        "\n",
        "# Set up logging\n",
        "logger = logging.getLogger('__main__')\n",
        "logger.setLevel(logging.INFO)\n",
        "\n",
        "\n",
        "class GoogleDriveManager:\n",
        "    \"\"\"\n",
        "    Manages Google Drive operations including listing, filtering, downloading, and uploading files.\n",
        "    \"\"\"\n",
        "\n",
        "    def __init__(self, folder_id):\n",
        "        \"\"\"\n",
        "        Initialize the GoogleDriveManager with authentication and folder ID.\n",
        "\n",
        "        Args:\n",
        "            folder_id: The Google Drive folder ID to work with\n",
        "        \"\"\"\n",
        "        self.folder_id = folder_id\n",
        "        self.drive_service = None\n",
        "        self.files_df = None  # Cache for file listings\n",
        "\n",
        "        # Authenticate and build service\n",
        "        self._authenticate()\n",
        "\n",
        "    def _authenticate(self):\n",
        "        \"\"\"Authenticate with Google Drive and build the service object.\"\"\"\n",
        "        try:\n",
        "            auth.authenticate_user()\n",
        "            self.drive_service = build('drive', 'v3')\n",
        "            logger.info(\"✅ Successfully authenticated with Google Drive\")\n",
        "        except Exception as e:\n",
        "            logger.error(f\"❌ Authentication failed: {e}\")\n",
        "            raise\n",
        "\n",
        "    def list_all_files(self, force_refresh=False):\n",
        "        \"\"\"\n",
        "        Recursively list all files in the folder and subfolders.\n",
        "\n",
        "        Args:\n",
        "            force_refresh: If True, force a new listing even if cached data exists\n",
        "\n",
        "        Returns:\n",
        "            pd.DataFrame: DataFrame with columns [file_name, file_path, file_id, file_url]\n",
        "        \"\"\"\n",
        "        if self.files_df is not None and not force_refresh:\n",
        "            logger.info(\"📋 Using cached file list\")\n",
        "            return self.files_df\n",
        "\n",
        "        logger.info(\"🔍 Listing all files in folder...\")\n",
        "        all_files = self._list_files_recursive(self.folder_id)\n",
        "\n",
        "        # Convert to DataFrame\n",
        "        if all_files:\n",
        "            self.files_df = pd.DataFrame(all_files)\n",
        "\n",
        "            # Deduplicate by folder+name (file_path already encodes folder)\n",
        "            self.files_df = self.files_df.drop_duplicates(\n",
        "                subset=[\"file_path\", \"file_name\"], keep=\"first\"\n",
        "            )\n",
        "\n",
        "            logger.info(f\"✅ Found {len(self.files_df)} unique files\")\n",
        "        else:\n",
        "            self.files_df = pd.DataFrame(columns=['file_name', 'file_path', 'file_id', 'file_url'])\n",
        "            logger.info(\"📁 No files found in folder\")\n",
        "\n",
        "        return self.files_df\n",
        "\n",
        "    def _list_files_recursive(self, parent_id, parent_path=\"\"):\n",
        "        \"\"\"\n",
        "        Recursively list files in a folder.\n",
        "\n",
        "        Args:\n",
        "            parent_id: Google Drive folder ID\n",
        "            parent_path: Path string for tracking folder hierarchy\n",
        "\n",
        "        Returns:\n",
        "            list: List of file dictionaries\n",
        "        \"\"\"\n",
        "        all_files = []\n",
        "        query = f\"'{parent_id}' in parents and trashed=false\"\n",
        "        page_token = None\n",
        "\n",
        "        while True:\n",
        "            try:\n",
        "                response = self.drive_service.files().list(\n",
        "                    q=query,\n",
        "                    spaces='drive',\n",
        "                    fields='nextPageToken, files(id, name, mimeType)',\n",
        "                    pageToken=page_token\n",
        "                ).execute()\n",
        "\n",
        "                for item in response.get('files', []):\n",
        "                    item_path = f\"{parent_path}/{item['name']}\" if parent_path else item['name']\n",
        "\n",
        "                    if item['mimeType'] == 'application/vnd.google-apps.folder':\n",
        "                        # Recurse into subfolder\n",
        "                        all_files.extend(self._list_files_recursive(item['id'], item_path))\n",
        "                    else:\n",
        "                        all_files.append({\n",
        "                            \"file_name\": item['name'],\n",
        "                            \"file_path\": item_path,\n",
        "                            \"file_id\": item['id'],\n",
        "                            \"file_url\": f\"https://drive.google.com/file/d/{item['id']}/view?usp=sharing\"\n",
        "                        })\n",
        "\n",
        "                page_token = response.get('nextPageToken', None)\n",
        "                if page_token is None:\n",
        "                    break\n",
        "\n",
        "            except Exception as e:\n",
        "                logger.error(f\"❌ Error listing files in {parent_path}: {e}\")\n",
        "                break\n",
        "\n",
        "        return all_files\n",
        "\n",
        "    def filter_files(self, df=None, years=None, chapters=None):\n",
        "        \"\"\"\n",
        "        Filter files based on specified years and chapters using exact matching.\n",
        "\n",
        "        Args:\n",
        "            df: DataFrame to filter (if None, uses cached files_df)\n",
        "            years: List of years to include (e.g., [2021, 2022, 2023])\n",
        "            chapters: List of chapter numbers to include (e.g., [1, 2, 5, 10])\n",
        "\n",
        "        Returns:\n",
        "            pd.DataFrame: Filtered DataFrame containing only requested files\n",
        "        \"\"\"\n",
        "        # Use provided df or cached one\n",
        "        if df is None:\n",
        "            if self.files_df is None:\n",
        "                logger.warning(\"⚠️ No files listed yet. Running list_all_files() first.\")\n",
        "                self.list_all_files()\n",
        "            df = self.files_df.copy()\n",
        "        else:\n",
        "            df = df.copy()\n",
        "\n",
        "        if df.empty:\n",
        "            logger.warning(\"⚠️ No files to filter\")\n",
        "            return df\n",
        "\n",
        "        # Apply year filter\n",
        "        if years is not None:\n",
        "            year_strings = [str(year) for year in years]\n",
        "            # Exact match: year must be a folder in the path\n",
        "            year_mask = df['file_path'].apply(\n",
        "                lambda path: any(f\"/{year}/\" in f\"/{path}\" or path.startswith(f\"{year}/\")\n",
        "                               for year in year_strings)\n",
        "            )\n",
        "            df = df[year_mask]\n",
        "            logger.info(f\"📅 Filtered for years: {years} - {len(df)} files\")\n",
        "\n",
        "        # Apply chapter filter\n",
        "        if chapters is not None:\n",
        "            # Exact match for filename pattern: 01.docx, 02.docx, etc.\n",
        "            chapter_filenames = [f\"{ch:02d}.docx\" for ch in chapters]\n",
        "            chapter_mask = df['file_name'].apply(\n",
        "                lambda name: name in chapter_filenames\n",
        "            )\n",
        "            df = df[chapter_mask]\n",
        "            logger.info(f\"📖 Filtered for chapters: {chapters} - {len(df)} files\")\n",
        "\n",
        "        return df\n",
        "\n",
        "    def download_files(self, filtered_df, download_dir=\"/content/reports\"):\n",
        "        \"\"\"\n",
        "        Download files from a filtered DataFrame.\n",
        "\n",
        "        Args:\n",
        "            filtered_df: DataFrame containing files to download\n",
        "            download_dir: Base directory for downloads\n",
        "\n",
        "        Returns:\n",
        "            dict: Dictionary mapping file paths to local paths\n",
        "        \"\"\"\n",
        "        if filtered_df is None or filtered_df.empty:\n",
        "            logger.warning(\"⚠️ No files to download\")\n",
        "            return {}\n",
        "\n",
        "        downloaded_files = {}\n",
        "        total_files = len(filtered_df)\n",
        "\n",
        "        logger.info(f\"📥 Starting download of {total_files} files...\")\n",
        "\n",
        "        for idx, row in filtered_df.iterrows():\n",
        "            file_id = row['file_id']\n",
        "            file_name = row['file_name']\n",
        "            file_path = row['file_path']\n",
        "\n",
        "            # Extract year from path (assuming structure: year/filename)\n",
        "            path_parts = file_path.split('/')\n",
        "            if len(path_parts) >= 2:\n",
        "                year = path_parts[0]\n",
        "                local_path = os.path.join(download_dir, year, file_name)\n",
        "            else:\n",
        "                local_path = os.path.join(download_dir, file_name)\n",
        "\n",
        "            # Ensure directory exists\n",
        "            os.makedirs(os.path.dirname(local_path), exist_ok=True)\n",
        "\n",
        "            try:\n",
        "                # Download file\n",
        "                request = self.drive_service.files().get_media(fileId=file_id)\n",
        "                fh = io.FileIO(local_path, \"wb\")\n",
        "                downloader = MediaIoBaseDownload(fh, request)\n",
        "\n",
        "                done = False\n",
        "                while not done:\n",
        "                    status, done = downloader.next_chunk()\n",
        "                    if status:\n",
        "                        progress = int(status.progress() * 100)\n",
        "                        print(f\"⬇️  Downloading {file_name}: {progress}%\", end='\\r')\n",
        "\n",
        "                logger.info(f\"✅ Downloaded {file_name} to {local_path}\")\n",
        "                downloaded_files[file_path] = local_path\n",
        "\n",
        "            except Exception as e:\n",
        "                logger.warning(f\"⚠️ Failed to download {file_name}: {e}\")\n",
        "                continue\n",
        "\n",
        "        logger.info(f\"✅ Download complete: {len(downloaded_files)}/{total_files} files\")\n",
        "        return downloaded_files\n",
        "\n",
        "    def download_selective(self, years=None, chapters=None, download_dir=\"/content/reports\"):\n",
        "        \"\"\"\n",
        "        Convenience method to list, filter, and download files in one operation.\n",
        "\n",
        "        Args:\n",
        "            years: List of years to download (e.g., [2021, 2022, 2023])\n",
        "            chapters: List of chapter numbers to download (e.g., [1, 2, 5, 10])\n",
        "            download_dir: Base directory for downloads\n",
        "\n",
        "        Returns:\n",
        "            dict: Dictionary mapping file paths to local paths\n",
        "\n",
        "        Example:\n",
        "            # Download chapters 1-5 for years 2021-2023\n",
        "            manager.download_selective(\n",
        "                years=range(2021, 2024),\n",
        "                chapters=range(1, 6),\n",
        "                download_dir=\"/content/reports\"\n",
        "            )\n",
        "        \"\"\"\n",
        "        # Step 1: List all files\n",
        "        logger.info(\"🚀 Starting selective download workflow...\")\n",
        "        all_files = self.list_all_files()\n",
        "\n",
        "        # Step 2: Filter files\n",
        "        filtered_files = self.filter_files(all_files, years=years, chapters=chapters)\n",
        "\n",
        "        if filtered_files is None or filtered_files.empty:\n",
        "            logger.warning(\"⚠️ No files match the specified criteria\")\n",
        "            return {}\n",
        "\n",
        "        logger.info(f\"📊 Found {len(filtered_files)} files matching criteria\")\n",
        "\n",
        "        # Step 3: Download filtered files\n",
        "        downloaded = self.download_files(filtered_files, download_dir)\n",
        "\n",
        "        return downloaded\n",
        "\n",
        "    def get_summary(self, df=None):\n",
        "        \"\"\"\n",
        "        Get summary statistics about the files.\n",
        "\n",
        "        Args:\n",
        "            df: DataFrame to summarize (if None, uses cached files_df)\n",
        "\n",
        "        Returns:\n",
        "            dict: Summary statistics\n",
        "        \"\"\"\n",
        "        if df is None:\n",
        "            if self.files_df is None:\n",
        "                logger.warning(\"⚠️ No files listed yet. Running list_all_files() first.\")\n",
        "                self.list_all_files()\n",
        "            df = self.files_df\n",
        "\n",
        "        if df is None or df.empty:\n",
        "            return {\"total_files\": 0, \"years\": [], \"chapters\": []}\n",
        "\n",
        "        # Extract years from paths\n",
        "        years = df['file_path'].apply(lambda x: x.split('/')[0] if '/' in x else None)\n",
        "        years = sorted(years.dropna().unique())\n",
        "\n",
        "        # Extract chapters from filenames (assuming pattern: 01.docx, 02.docx)\n",
        "        chapters = df['file_name'].apply(\n",
        "            lambda x: int(x[:2]) if x[:2].isdigit() and x.endswith('.docx') else None\n",
        "        )\n",
        "        chapters = sorted(chapters.dropna().unique())\n",
        "\n",
        "        summary = {\n",
        "            \"total_files\": len(df),\n",
        "            \"years\": years,\n",
        "            \"year_count\": len(years),\n",
        "            \"chapters\": chapters,\n",
        "            \"chapter_count\": len(chapters),\n",
        "            \"file_types\": df['file_name'].apply(lambda x: x.split('.')[-1]).value_counts().to_dict()\n",
        "        }\n",
        "\n",
        "        return summary\n",
        "\n",
        "    def preview_files(self, df=None, n=10):\n",
        "        \"\"\"\n",
        "        Preview first n files from the DataFrame.\n",
        "\n",
        "        Args:\n",
        "            df: DataFrame to preview (if None, uses cached files_df)\n",
        "            n: Number of files to preview\n",
        "        \"\"\"\n",
        "        if df is None:\n",
        "            if self.files_df is None:\n",
        "                logger.warning(\"⚠️ No files listed yet. Running list_all_files() first.\")\n",
        "                self.list_all_files()\n",
        "            df = self.files_df\n",
        "\n",
        "        if df is None or df.empty:\n",
        "            logger.info(\"No files to preview\")\n",
        "            return\n",
        "\n",
        "        preview = df.head(n)[['file_name', 'file_path']]\n",
        "        logger.info(f\"\\n📋 Preview of first {min(n, len(df))} files:\")\n",
        "        for idx, row in preview.iterrows():\n",
        "            logger.info(f\"  {row['file_path']}\")\n",
        "\n",
        "    def check_missing_files(self, years, chapters):\n",
        "        \"\"\"\n",
        "        Check which year/chapter combinations are missing.\n",
        "\n",
        "        Args:\n",
        "            years: List of years to check\n",
        "            chapters: List of chapter numbers to check\n",
        "\n",
        "        Returns:\n",
        "            list: List of missing (year, chapter) tuples\n",
        "        \"\"\"\n",
        "        if self.files_df is None:\n",
        "            self.list_all_files()\n",
        "\n",
        "        missing = []\n",
        "\n",
        "        for year in years:\n",
        "            for chapter in chapters:\n",
        "                # Check if this combination exists\n",
        "                filtered = self.filter_files(\n",
        "                    self.files_df,\n",
        "                    years=[year],\n",
        "                    chapters=[chapter]\n",
        "                )\n",
        "\n",
        "                if filtered is None or filtered.empty:\n",
        "                    missing.append((year, chapter))\n",
        "                    logger.warning(f\"⚠️ Missing: Year {year}, Chapter {chapter:02d}\")\n",
        "\n",
        "        if missing:\n",
        "            logger.info(f\"📊 Total missing files: {len(missing)}\")\n",
        "        else:\n",
        "            logger.info(\"✅ All requested files are present\")\n",
        "\n",
        "        return missing"
      ],
      "metadata": {
        "id": "Km-JPMKWmgBM"
      },
      "execution_count": null,
      "outputs": []
    },
    {
      "cell_type": "code",
      "source": [
        "# Initialize\n",
        "folder_id = \"1e0eA-AIsz_BSwVHOppJMXECX42hBfG4J\"\n",
        "manager = GoogleDriveManager(folder_id)\n",
        "\n",
        "# Download specific years and chapters\n",
        "downloaded = manager.download_selective(\n",
        "    years=range(2001, 2025),\n",
        "    chapters=range(1, 16)\n",
        ")\n",
        "\n",
        "print(f\"Downloaded {len(downloaded)} files\")"
      ],
      "metadata": {
        "colab": {
          "base_uri": "https://localhost:8080/"
        },
        "id": "7QTrNaXWpI3Q",
        "outputId": "d7b04751-6669-4006-cb27-ee479a82335d"
      },
      "execution_count": null,
      "outputs": [
        {
          "metadata": {
            "tags": null
          },
          "name": "stderr",
          "output_type": "stream",
          "text": [
            "INFO:__main__:✅ Successfully authenticated with Google Drive\n",
            "INFO:__main__:🚀 Starting selective download workflow...\n",
            "INFO:__main__:🔍 Listing all files in folder...\n",
            "INFO:__main__:✅ Found 882 unique files\n",
            "INFO:__main__:📅 Filtered for years: range(2001, 2025) - 882 files\n",
            "INFO:__main__:📖 Filtered for chapters: range(1, 16) - 361 files\n",
            "INFO:__main__:📊 Found 361 files matching criteria\n",
            "INFO:__main__:📥 Starting download of 361 files...\n",
            "INFO:__main__:✅ Downloaded 04.docx to /content/reports/2016/04.docx\n"
          ]
        },
        {
          "metadata": {
            "tags": null
          },
          "name": "stdout",
          "output_type": "stream",
          "text": [
            "⬇️  Downloading 04.docx: 100%\r"
          ]
        },
        {
          "metadata": {
            "tags": null
          },
          "name": "stderr",
          "output_type": "stream",
          "text": [
            "INFO:__main__:✅ Downloaded 11.docx to /content/reports/2016/11.docx\n"
          ]
        },
        {
          "metadata": {
            "tags": null
          },
          "name": "stdout",
          "output_type": "stream",
          "text": [
            "⬇️  Downloading 11.docx: 100%\r"
          ]
        },
        {
          "metadata": {
            "tags": null
          },
          "name": "stderr",
          "output_type": "stream",
          "text": [
            "INFO:__main__:✅ Downloaded 14.docx to /content/reports/2016/14.docx\n"
          ]
        },
        {
          "metadata": {
            "tags": null
          },
          "name": "stdout",
          "output_type": "stream",
          "text": [
            "⬇️  Downloading 14.docx: 100%\r"
          ]
        },
        {
          "metadata": {
            "tags": null
          },
          "name": "stderr",
          "output_type": "stream",
          "text": [
            "INFO:__main__:✅ Downloaded 02.docx to /content/reports/2016/02.docx\n"
          ]
        },
        {
          "metadata": {
            "tags": null
          },
          "name": "stdout",
          "output_type": "stream",
          "text": [
            "⬇️  Downloading 02.docx: 100%\r"
          ]
        },
        {
          "metadata": {
            "tags": null
          },
          "name": "stderr",
          "output_type": "stream",
          "text": [
            "INFO:__main__:✅ Downloaded 09.docx to /content/reports/2016/09.docx\n"
          ]
        },
        {
          "metadata": {
            "tags": null
          },
          "name": "stdout",
          "output_type": "stream",
          "text": [
            "⬇️  Downloading 09.docx: 100%\r"
          ]
        },
        {
          "metadata": {
            "tags": null
          },
          "name": "stderr",
          "output_type": "stream",
          "text": [
            "INFO:__main__:✅ Downloaded 07.docx to /content/reports/2016/07.docx\n"
          ]
        },
        {
          "metadata": {
            "tags": null
          },
          "name": "stdout",
          "output_type": "stream",
          "text": [
            "⬇️  Downloading 07.docx: 100%\r"
          ]
        },
        {
          "metadata": {
            "tags": null
          },
          "name": "stderr",
          "output_type": "stream",
          "text": [
            "INFO:__main__:✅ Downloaded 13.docx to /content/reports/2016/13.docx\n"
          ]
        },
        {
          "metadata": {
            "tags": null
          },
          "name": "stdout",
          "output_type": "stream",
          "text": [
            "⬇️  Downloading 13.docx: 100%\r"
          ]
        },
        {
          "metadata": {
            "tags": null
          },
          "name": "stderr",
          "output_type": "stream",
          "text": [
            "INFO:__main__:✅ Downloaded 12.docx to /content/reports/2016/12.docx\n"
          ]
        },
        {
          "metadata": {
            "tags": null
          },
          "name": "stdout",
          "output_type": "stream",
          "text": [
            "⬇️  Downloading 12.docx: 100%\r"
          ]
        },
        {
          "metadata": {
            "tags": null
          },
          "name": "stderr",
          "output_type": "stream",
          "text": [
            "INFO:__main__:✅ Downloaded 05.docx to /content/reports/2016/05.docx\n"
          ]
        },
        {
          "metadata": {
            "tags": null
          },
          "name": "stdout",
          "output_type": "stream",
          "text": [
            "⬇️  Downloading 05.docx: 100%\r"
          ]
        },
        {
          "metadata": {
            "tags": null
          },
          "name": "stderr",
          "output_type": "stream",
          "text": [
            "INFO:__main__:✅ Downloaded 08.docx to /content/reports/2016/08.docx\n"
          ]
        },
        {
          "metadata": {
            "tags": null
          },
          "name": "stdout",
          "output_type": "stream",
          "text": [
            "⬇️  Downloading 08.docx: 100%\r"
          ]
        },
        {
          "metadata": {
            "tags": null
          },
          "name": "stderr",
          "output_type": "stream",
          "text": [
            "INFO:__main__:✅ Downloaded 03.docx to /content/reports/2016/03.docx\n"
          ]
        },
        {
          "metadata": {
            "tags": null
          },
          "name": "stdout",
          "output_type": "stream",
          "text": [
            "⬇️  Downloading 03.docx: 100%\r"
          ]
        },
        {
          "metadata": {
            "tags": null
          },
          "name": "stderr",
          "output_type": "stream",
          "text": [
            "INFO:__main__:✅ Downloaded 06.docx to /content/reports/2016/06.docx\n"
          ]
        },
        {
          "metadata": {
            "tags": null
          },
          "name": "stdout",
          "output_type": "stream",
          "text": [
            "⬇️  Downloading 06.docx: 100%\r"
          ]
        },
        {
          "metadata": {
            "tags": null
          },
          "name": "stderr",
          "output_type": "stream",
          "text": [
            "INFO:__main__:✅ Downloaded 14.docx to /content/reports/2020/14.docx\n"
          ]
        },
        {
          "metadata": {
            "tags": null
          },
          "name": "stdout",
          "output_type": "stream",
          "text": [
            "⬇️  Downloading 14.docx: 100%\r"
          ]
        },
        {
          "metadata": {
            "tags": null
          },
          "name": "stderr",
          "output_type": "stream",
          "text": [
            "INFO:__main__:✅ Downloaded 13.docx to /content/reports/2020/13.docx\n"
          ]
        },
        {
          "metadata": {
            "tags": null
          },
          "name": "stdout",
          "output_type": "stream",
          "text": [
            "⬇️  Downloading 13.docx: 100%\r"
          ]
        },
        {
          "metadata": {
            "tags": null
          },
          "name": "stderr",
          "output_type": "stream",
          "text": [
            "INFO:__main__:✅ Downloaded 12.docx to /content/reports/2020/12.docx\n"
          ]
        },
        {
          "metadata": {
            "tags": null
          },
          "name": "stdout",
          "output_type": "stream",
          "text": [
            "⬇️  Downloading 12.docx: 100%\r"
          ]
        },
        {
          "metadata": {
            "tags": null
          },
          "name": "stderr",
          "output_type": "stream",
          "text": [
            "INFO:__main__:✅ Downloaded 11.docx to /content/reports/2020/11.docx\n"
          ]
        },
        {
          "metadata": {
            "tags": null
          },
          "name": "stdout",
          "output_type": "stream",
          "text": [
            "⬇️  Downloading 11.docx: 100%\r"
          ]
        },
        {
          "metadata": {
            "tags": null
          },
          "name": "stderr",
          "output_type": "stream",
          "text": [
            "INFO:__main__:✅ Downloaded 10.docx to /content/reports/2020/10.docx\n"
          ]
        },
        {
          "metadata": {
            "tags": null
          },
          "name": "stdout",
          "output_type": "stream",
          "text": [
            "⬇️  Downloading 10.docx: 100%\r"
          ]
        },
        {
          "metadata": {
            "tags": null
          },
          "name": "stderr",
          "output_type": "stream",
          "text": [
            "INFO:__main__:✅ Downloaded 09.docx to /content/reports/2020/09.docx\n"
          ]
        },
        {
          "metadata": {
            "tags": null
          },
          "name": "stdout",
          "output_type": "stream",
          "text": [
            "⬇️  Downloading 09.docx: 100%\r"
          ]
        },
        {
          "metadata": {
            "tags": null
          },
          "name": "stderr",
          "output_type": "stream",
          "text": [
            "INFO:__main__:✅ Downloaded 08.docx to /content/reports/2020/08.docx\n"
          ]
        },
        {
          "metadata": {
            "tags": null
          },
          "name": "stdout",
          "output_type": "stream",
          "text": [
            "⬇️  Downloading 08.docx: 100%\r"
          ]
        },
        {
          "metadata": {
            "tags": null
          },
          "name": "stderr",
          "output_type": "stream",
          "text": [
            "INFO:__main__:✅ Downloaded 07.docx to /content/reports/2020/07.docx\n"
          ]
        },
        {
          "metadata": {
            "tags": null
          },
          "name": "stdout",
          "output_type": "stream",
          "text": [
            "⬇️  Downloading 07.docx: 100%\r"
          ]
        },
        {
          "metadata": {
            "tags": null
          },
          "name": "stderr",
          "output_type": "stream",
          "text": [
            "INFO:__main__:✅ Downloaded 06.docx to /content/reports/2020/06.docx\n"
          ]
        },
        {
          "metadata": {
            "tags": null
          },
          "name": "stdout",
          "output_type": "stream",
          "text": [
            "⬇️  Downloading 06.docx: 100%\r"
          ]
        },
        {
          "metadata": {
            "tags": null
          },
          "name": "stderr",
          "output_type": "stream",
          "text": [
            "INFO:__main__:✅ Downloaded 05.docx to /content/reports/2020/05.docx\n"
          ]
        },
        {
          "metadata": {
            "tags": null
          },
          "name": "stdout",
          "output_type": "stream",
          "text": [
            "⬇️  Downloading 05.docx: 100%\r"
          ]
        },
        {
          "metadata": {
            "tags": null
          },
          "name": "stderr",
          "output_type": "stream",
          "text": [
            "INFO:__main__:✅ Downloaded 04.docx to /content/reports/2020/04.docx\n"
          ]
        },
        {
          "metadata": {
            "tags": null
          },
          "name": "stdout",
          "output_type": "stream",
          "text": [
            "⬇️  Downloading 04.docx: 100%\r"
          ]
        },
        {
          "metadata": {
            "tags": null
          },
          "name": "stderr",
          "output_type": "stream",
          "text": [
            "INFO:__main__:✅ Downloaded 03.docx to /content/reports/2020/03.docx\n"
          ]
        },
        {
          "metadata": {
            "tags": null
          },
          "name": "stdout",
          "output_type": "stream",
          "text": [
            "⬇️  Downloading 03.docx: 100%\r"
          ]
        },
        {
          "metadata": {
            "tags": null
          },
          "name": "stderr",
          "output_type": "stream",
          "text": [
            "INFO:__main__:✅ Downloaded 02.docx to /content/reports/2020/02.docx\n"
          ]
        },
        {
          "metadata": {
            "tags": null
          },
          "name": "stdout",
          "output_type": "stream",
          "text": [
            "⬇️  Downloading 02.docx: 100%\r"
          ]
        },
        {
          "metadata": {
            "tags": null
          },
          "name": "stderr",
          "output_type": "stream",
          "text": [
            "INFO:__main__:✅ Downloaded 01.docx to /content/reports/2020/01.docx\n"
          ]
        },
        {
          "metadata": {
            "tags": null
          },
          "name": "stdout",
          "output_type": "stream",
          "text": [
            "⬇️  Downloading 01.docx: 100%\r"
          ]
        },
        {
          "metadata": {
            "tags": null
          },
          "name": "stderr",
          "output_type": "stream",
          "text": [
            "INFO:__main__:✅ Downloaded 11.docx to /content/reports/2015/11.docx\n"
          ]
        },
        {
          "metadata": {
            "tags": null
          },
          "name": "stdout",
          "output_type": "stream",
          "text": [
            "⬇️  Downloading 11.docx: 100%\r"
          ]
        },
        {
          "metadata": {
            "tags": null
          },
          "name": "stderr",
          "output_type": "stream",
          "text": [
            "INFO:__main__:✅ Downloaded 01.docx to /content/reports/2015/01.docx\n"
          ]
        },
        {
          "metadata": {
            "tags": null
          },
          "name": "stdout",
          "output_type": "stream",
          "text": [
            "⬇️  Downloading 01.docx: 100%\r"
          ]
        },
        {
          "metadata": {
            "tags": null
          },
          "name": "stderr",
          "output_type": "stream",
          "text": [
            "INFO:__main__:✅ Downloaded 15.docx to /content/reports/2015/15.docx\n"
          ]
        },
        {
          "metadata": {
            "tags": null
          },
          "name": "stdout",
          "output_type": "stream",
          "text": [
            "⬇️  Downloading 15.docx: 100%\r"
          ]
        },
        {
          "metadata": {
            "tags": null
          },
          "name": "stderr",
          "output_type": "stream",
          "text": [
            "INFO:__main__:✅ Downloaded 14.docx to /content/reports/2015/14.docx\n"
          ]
        },
        {
          "metadata": {
            "tags": null
          },
          "name": "stdout",
          "output_type": "stream",
          "text": [
            "⬇️  Downloading 14.docx: 100%\r"
          ]
        },
        {
          "metadata": {
            "tags": null
          },
          "name": "stderr",
          "output_type": "stream",
          "text": [
            "INFO:__main__:✅ Downloaded 02.docx to /content/reports/2015/02.docx\n"
          ]
        },
        {
          "metadata": {
            "tags": null
          },
          "name": "stdout",
          "output_type": "stream",
          "text": [
            "⬇️  Downloading 02.docx: 100%\r"
          ]
        },
        {
          "metadata": {
            "tags": null
          },
          "name": "stderr",
          "output_type": "stream",
          "text": [
            "INFO:__main__:✅ Downloaded 09.docx to /content/reports/2015/09.docx\n"
          ]
        },
        {
          "metadata": {
            "tags": null
          },
          "name": "stdout",
          "output_type": "stream",
          "text": [
            "⬇️  Downloading 09.docx: 100%\r"
          ]
        },
        {
          "metadata": {
            "tags": null
          },
          "name": "stderr",
          "output_type": "stream",
          "text": [
            "INFO:__main__:✅ Downloaded 07.docx to /content/reports/2015/07.docx\n"
          ]
        },
        {
          "metadata": {
            "tags": null
          },
          "name": "stdout",
          "output_type": "stream",
          "text": [
            "⬇️  Downloading 07.docx: 100%\r"
          ]
        },
        {
          "metadata": {
            "tags": null
          },
          "name": "stderr",
          "output_type": "stream",
          "text": [
            "INFO:__main__:✅ Downloaded 13.docx to /content/reports/2015/13.docx\n"
          ]
        },
        {
          "metadata": {
            "tags": null
          },
          "name": "stdout",
          "output_type": "stream",
          "text": [
            "⬇️  Downloading 13.docx: 100%\r"
          ]
        },
        {
          "metadata": {
            "tags": null
          },
          "name": "stderr",
          "output_type": "stream",
          "text": [
            "INFO:__main__:✅ Downloaded 04.docx to /content/reports/2015/04.docx\n"
          ]
        },
        {
          "metadata": {
            "tags": null
          },
          "name": "stdout",
          "output_type": "stream",
          "text": [
            "⬇️  Downloading 04.docx: 100%\r"
          ]
        },
        {
          "metadata": {
            "tags": null
          },
          "name": "stderr",
          "output_type": "stream",
          "text": [
            "INFO:__main__:✅ Downloaded 12.docx to /content/reports/2015/12.docx\n"
          ]
        },
        {
          "metadata": {
            "tags": null
          },
          "name": "stdout",
          "output_type": "stream",
          "text": [
            "⬇️  Downloading 12.docx: 100%\r"
          ]
        },
        {
          "metadata": {
            "tags": null
          },
          "name": "stderr",
          "output_type": "stream",
          "text": [
            "INFO:__main__:✅ Downloaded 05.docx to /content/reports/2015/05.docx\n"
          ]
        },
        {
          "metadata": {
            "tags": null
          },
          "name": "stdout",
          "output_type": "stream",
          "text": [
            "⬇️  Downloading 05.docx: 100%\r"
          ]
        },
        {
          "metadata": {
            "tags": null
          },
          "name": "stderr",
          "output_type": "stream",
          "text": [
            "INFO:__main__:✅ Downloaded 08.docx to /content/reports/2015/08.docx\n"
          ]
        },
        {
          "metadata": {
            "tags": null
          },
          "name": "stdout",
          "output_type": "stream",
          "text": [
            "⬇️  Downloading 08.docx: 100%\r"
          ]
        },
        {
          "metadata": {
            "tags": null
          },
          "name": "stderr",
          "output_type": "stream",
          "text": [
            "INFO:__main__:✅ Downloaded 10.docx to /content/reports/2015/10.docx\n"
          ]
        },
        {
          "metadata": {
            "tags": null
          },
          "name": "stdout",
          "output_type": "stream",
          "text": [
            "⬇️  Downloading 10.docx: 100%\r"
          ]
        },
        {
          "metadata": {
            "tags": null
          },
          "name": "stderr",
          "output_type": "stream",
          "text": [
            "INFO:__main__:✅ Downloaded 03.docx to /content/reports/2015/03.docx\n"
          ]
        },
        {
          "metadata": {
            "tags": null
          },
          "name": "stdout",
          "output_type": "stream",
          "text": [
            "⬇️  Downloading 03.docx: 100%\r"
          ]
        },
        {
          "metadata": {
            "tags": null
          },
          "name": "stderr",
          "output_type": "stream",
          "text": [
            "INFO:__main__:✅ Downloaded 06.docx to /content/reports/2015/06.docx\n"
          ]
        },
        {
          "metadata": {
            "tags": null
          },
          "name": "stdout",
          "output_type": "stream",
          "text": [
            "⬇️  Downloading 06.docx: 100%\r"
          ]
        },
        {
          "metadata": {
            "tags": null
          },
          "name": "stderr",
          "output_type": "stream",
          "text": [
            "INFO:__main__:✅ Downloaded 06.docx to /content/reports/2004/06.docx\n"
          ]
        },
        {
          "metadata": {
            "tags": null
          },
          "name": "stdout",
          "output_type": "stream",
          "text": [
            "⬇️  Downloading 06.docx: 100%\r"
          ]
        },
        {
          "metadata": {
            "tags": null
          },
          "name": "stderr",
          "output_type": "stream",
          "text": [
            "INFO:__main__:✅ Downloaded 01.docx to /content/reports/2004/01.docx\n"
          ]
        },
        {
          "metadata": {
            "tags": null
          },
          "name": "stdout",
          "output_type": "stream",
          "text": [
            "⬇️  Downloading 01.docx: 100%\r"
          ]
        },
        {
          "metadata": {
            "tags": null
          },
          "name": "stderr",
          "output_type": "stream",
          "text": [
            "INFO:__main__:✅ Downloaded 15.docx to /content/reports/2004/15.docx\n"
          ]
        },
        {
          "metadata": {
            "tags": null
          },
          "name": "stdout",
          "output_type": "stream",
          "text": [
            "⬇️  Downloading 15.docx: 100%\r"
          ]
        },
        {
          "metadata": {
            "tags": null
          },
          "name": "stderr",
          "output_type": "stream",
          "text": [
            "INFO:__main__:✅ Downloaded 14.docx to /content/reports/2004/14.docx\n"
          ]
        },
        {
          "metadata": {
            "tags": null
          },
          "name": "stdout",
          "output_type": "stream",
          "text": [
            "⬇️  Downloading 14.docx: 100%\r"
          ]
        },
        {
          "metadata": {
            "tags": null
          },
          "name": "stderr",
          "output_type": "stream",
          "text": [
            "INFO:__main__:✅ Downloaded 02.docx to /content/reports/2004/02.docx\n"
          ]
        },
        {
          "metadata": {
            "tags": null
          },
          "name": "stdout",
          "output_type": "stream",
          "text": [
            "⬇️  Downloading 02.docx: 100%\r"
          ]
        },
        {
          "metadata": {
            "tags": null
          },
          "name": "stderr",
          "output_type": "stream",
          "text": [
            "INFO:__main__:✅ Downloaded 07.docx to /content/reports/2004/07.docx\n"
          ]
        },
        {
          "metadata": {
            "tags": null
          },
          "name": "stdout",
          "output_type": "stream",
          "text": [
            "⬇️  Downloading 07.docx: 100%\r"
          ]
        },
        {
          "metadata": {
            "tags": null
          },
          "name": "stderr",
          "output_type": "stream",
          "text": [
            "INFO:__main__:✅ Downloaded 13.docx to /content/reports/2004/13.docx\n"
          ]
        },
        {
          "metadata": {
            "tags": null
          },
          "name": "stdout",
          "output_type": "stream",
          "text": [
            "⬇️  Downloading 13.docx: 100%\r"
          ]
        },
        {
          "metadata": {
            "tags": null
          },
          "name": "stderr",
          "output_type": "stream",
          "text": [
            "INFO:__main__:✅ Downloaded 04.docx to /content/reports/2004/04.docx\n"
          ]
        },
        {
          "metadata": {
            "tags": null
          },
          "name": "stdout",
          "output_type": "stream",
          "text": [
            "⬇️  Downloading 04.docx: 100%\r"
          ]
        },
        {
          "metadata": {
            "tags": null
          },
          "name": "stderr",
          "output_type": "stream",
          "text": [
            "INFO:__main__:✅ Downloaded 12.docx to /content/reports/2004/12.docx\n"
          ]
        },
        {
          "metadata": {
            "tags": null
          },
          "name": "stdout",
          "output_type": "stream",
          "text": [
            "⬇️  Downloading 12.docx: 100%\r"
          ]
        },
        {
          "metadata": {
            "tags": null
          },
          "name": "stderr",
          "output_type": "stream",
          "text": [
            "INFO:__main__:✅ Downloaded 05.docx to /content/reports/2004/05.docx\n"
          ]
        },
        {
          "metadata": {
            "tags": null
          },
          "name": "stdout",
          "output_type": "stream",
          "text": [
            "⬇️  Downloading 05.docx: 100%\r"
          ]
        },
        {
          "metadata": {
            "tags": null
          },
          "name": "stderr",
          "output_type": "stream",
          "text": [
            "INFO:__main__:✅ Downloaded 08.docx to /content/reports/2004/08.docx\n"
          ]
        },
        {
          "metadata": {
            "tags": null
          },
          "name": "stdout",
          "output_type": "stream",
          "text": [
            "⬇️  Downloading 08.docx: 100%\r"
          ]
        },
        {
          "metadata": {
            "tags": null
          },
          "name": "stderr",
          "output_type": "stream",
          "text": [
            "INFO:__main__:✅ Downloaded 10.docx to /content/reports/2004/10.docx\n"
          ]
        },
        {
          "metadata": {
            "tags": null
          },
          "name": "stdout",
          "output_type": "stream",
          "text": [
            "⬇️  Downloading 10.docx: 100%\r"
          ]
        },
        {
          "metadata": {
            "tags": null
          },
          "name": "stderr",
          "output_type": "stream",
          "text": [
            "INFO:__main__:✅ Downloaded 03.docx to /content/reports/2004/03.docx\n"
          ]
        },
        {
          "metadata": {
            "tags": null
          },
          "name": "stdout",
          "output_type": "stream",
          "text": [
            "⬇️  Downloading 03.docx: 100%\r"
          ]
        },
        {
          "metadata": {
            "tags": null
          },
          "name": "stderr",
          "output_type": "stream",
          "text": [
            "INFO:__main__:✅ Downloaded 11.docx to /content/reports/2003/11.docx\n"
          ]
        },
        {
          "metadata": {
            "tags": null
          },
          "name": "stdout",
          "output_type": "stream",
          "text": [
            "⬇️  Downloading 11.docx: 100%\r"
          ]
        },
        {
          "metadata": {
            "tags": null
          },
          "name": "stderr",
          "output_type": "stream",
          "text": [
            "INFO:__main__:✅ Downloaded 01.docx to /content/reports/2003/01.docx\n"
          ]
        },
        {
          "metadata": {
            "tags": null
          },
          "name": "stdout",
          "output_type": "stream",
          "text": [
            "⬇️  Downloading 01.docx: 100%\r"
          ]
        },
        {
          "metadata": {
            "tags": null
          },
          "name": "stderr",
          "output_type": "stream",
          "text": [
            "INFO:__main__:✅ Downloaded 15.docx to /content/reports/2003/15.docx\n"
          ]
        },
        {
          "metadata": {
            "tags": null
          },
          "name": "stdout",
          "output_type": "stream",
          "text": [
            "⬇️  Downloading 15.docx: 100%\r"
          ]
        },
        {
          "metadata": {
            "tags": null
          },
          "name": "stderr",
          "output_type": "stream",
          "text": [
            "INFO:__main__:✅ Downloaded 14.docx to /content/reports/2003/14.docx\n"
          ]
        },
        {
          "metadata": {
            "tags": null
          },
          "name": "stdout",
          "output_type": "stream",
          "text": [
            "⬇️  Downloading 14.docx: 100%\r"
          ]
        },
        {
          "metadata": {
            "tags": null
          },
          "name": "stderr",
          "output_type": "stream",
          "text": [
            "INFO:__main__:✅ Downloaded 02.docx to /content/reports/2003/02.docx\n"
          ]
        },
        {
          "metadata": {
            "tags": null
          },
          "name": "stdout",
          "output_type": "stream",
          "text": [
            "⬇️  Downloading 02.docx: 100%\r"
          ]
        },
        {
          "metadata": {
            "tags": null
          },
          "name": "stderr",
          "output_type": "stream",
          "text": [
            "INFO:__main__:✅ Downloaded 09.docx to /content/reports/2003/09.docx\n"
          ]
        },
        {
          "metadata": {
            "tags": null
          },
          "name": "stdout",
          "output_type": "stream",
          "text": [
            "⬇️  Downloading 09.docx: 100%\r"
          ]
        },
        {
          "metadata": {
            "tags": null
          },
          "name": "stderr",
          "output_type": "stream",
          "text": [
            "INFO:__main__:✅ Downloaded 07.docx to /content/reports/2003/07.docx\n"
          ]
        },
        {
          "metadata": {
            "tags": null
          },
          "name": "stdout",
          "output_type": "stream",
          "text": [
            "⬇️  Downloading 07.docx: 100%\r"
          ]
        },
        {
          "metadata": {
            "tags": null
          },
          "name": "stderr",
          "output_type": "stream",
          "text": [
            "INFO:__main__:✅ Downloaded 13.docx to /content/reports/2003/13.docx\n"
          ]
        },
        {
          "metadata": {
            "tags": null
          },
          "name": "stdout",
          "output_type": "stream",
          "text": [
            "⬇️  Downloading 13.docx: 100%\r"
          ]
        },
        {
          "metadata": {
            "tags": null
          },
          "name": "stderr",
          "output_type": "stream",
          "text": [
            "INFO:__main__:✅ Downloaded 04.docx to /content/reports/2003/04.docx\n"
          ]
        },
        {
          "metadata": {
            "tags": null
          },
          "name": "stdout",
          "output_type": "stream",
          "text": [
            "⬇️  Downloading 04.docx: 100%\r"
          ]
        },
        {
          "metadata": {
            "tags": null
          },
          "name": "stderr",
          "output_type": "stream",
          "text": [
            "INFO:__main__:✅ Downloaded 12.docx to /content/reports/2003/12.docx\n"
          ]
        },
        {
          "metadata": {
            "tags": null
          },
          "name": "stdout",
          "output_type": "stream",
          "text": [
            "⬇️  Downloading 12.docx: 100%\r"
          ]
        },
        {
          "metadata": {
            "tags": null
          },
          "name": "stderr",
          "output_type": "stream",
          "text": [
            "INFO:__main__:✅ Downloaded 05.docx to /content/reports/2003/05.docx\n"
          ]
        },
        {
          "metadata": {
            "tags": null
          },
          "name": "stdout",
          "output_type": "stream",
          "text": [
            "⬇️  Downloading 05.docx: 100%\r"
          ]
        },
        {
          "metadata": {
            "tags": null
          },
          "name": "stderr",
          "output_type": "stream",
          "text": [
            "INFO:__main__:✅ Downloaded 08.docx to /content/reports/2003/08.docx\n"
          ]
        },
        {
          "metadata": {
            "tags": null
          },
          "name": "stdout",
          "output_type": "stream",
          "text": [
            "⬇️  Downloading 08.docx: 100%\r"
          ]
        },
        {
          "metadata": {
            "tags": null
          },
          "name": "stderr",
          "output_type": "stream",
          "text": [
            "INFO:__main__:✅ Downloaded 10.docx to /content/reports/2003/10.docx\n"
          ]
        },
        {
          "metadata": {
            "tags": null
          },
          "name": "stdout",
          "output_type": "stream",
          "text": [
            "⬇️  Downloading 10.docx: 100%\r"
          ]
        },
        {
          "metadata": {
            "tags": null
          },
          "name": "stderr",
          "output_type": "stream",
          "text": [
            "INFO:__main__:✅ Downloaded 03.docx to /content/reports/2003/03.docx\n"
          ]
        },
        {
          "metadata": {
            "tags": null
          },
          "name": "stdout",
          "output_type": "stream",
          "text": [
            "⬇️  Downloading 03.docx: 100%\r"
          ]
        },
        {
          "metadata": {
            "tags": null
          },
          "name": "stderr",
          "output_type": "stream",
          "text": [
            "INFO:__main__:✅ Downloaded 06.docx to /content/reports/2003/06.docx\n"
          ]
        },
        {
          "metadata": {
            "tags": null
          },
          "name": "stdout",
          "output_type": "stream",
          "text": [
            "⬇️  Downloading 06.docx: 100%\r"
          ]
        },
        {
          "metadata": {
            "tags": null
          },
          "name": "stderr",
          "output_type": "stream",
          "text": [
            "INFO:__main__:✅ Downloaded 11.docx to /content/reports/2018/11.docx\n"
          ]
        },
        {
          "metadata": {
            "tags": null
          },
          "name": "stdout",
          "output_type": "stream",
          "text": [
            "⬇️  Downloading 11.docx: 100%\r"
          ]
        },
        {
          "metadata": {
            "tags": null
          },
          "name": "stderr",
          "output_type": "stream",
          "text": [
            "INFO:__main__:✅ Downloaded 01.docx to /content/reports/2018/01.docx\n"
          ]
        },
        {
          "metadata": {
            "tags": null
          },
          "name": "stdout",
          "output_type": "stream",
          "text": [
            "⬇️  Downloading 01.docx: 100%\r"
          ]
        },
        {
          "metadata": {
            "tags": null
          },
          "name": "stderr",
          "output_type": "stream",
          "text": [
            "INFO:__main__:✅ Downloaded 14.docx to /content/reports/2018/14.docx\n"
          ]
        },
        {
          "metadata": {
            "tags": null
          },
          "name": "stdout",
          "output_type": "stream",
          "text": [
            "⬇️  Downloading 14.docx: 100%\r"
          ]
        },
        {
          "metadata": {
            "tags": null
          },
          "name": "stderr",
          "output_type": "stream",
          "text": [
            "INFO:__main__:✅ Downloaded 02.docx to /content/reports/2018/02.docx\n"
          ]
        },
        {
          "metadata": {
            "tags": null
          },
          "name": "stdout",
          "output_type": "stream",
          "text": [
            "⬇️  Downloading 02.docx: 100%\r"
          ]
        },
        {
          "metadata": {
            "tags": null
          },
          "name": "stderr",
          "output_type": "stream",
          "text": [
            "INFO:__main__:✅ Downloaded 09.docx to /content/reports/2018/09.docx\n"
          ]
        },
        {
          "metadata": {
            "tags": null
          },
          "name": "stdout",
          "output_type": "stream",
          "text": [
            "⬇️  Downloading 09.docx: 100%\r"
          ]
        },
        {
          "metadata": {
            "tags": null
          },
          "name": "stderr",
          "output_type": "stream",
          "text": [
            "INFO:__main__:✅ Downloaded 07.docx to /content/reports/2018/07.docx\n"
          ]
        },
        {
          "metadata": {
            "tags": null
          },
          "name": "stdout",
          "output_type": "stream",
          "text": [
            "⬇️  Downloading 07.docx: 100%\r"
          ]
        },
        {
          "metadata": {
            "tags": null
          },
          "name": "stderr",
          "output_type": "stream",
          "text": [
            "INFO:__main__:✅ Downloaded 13.docx to /content/reports/2018/13.docx\n"
          ]
        },
        {
          "metadata": {
            "tags": null
          },
          "name": "stdout",
          "output_type": "stream",
          "text": [
            "⬇️  Downloading 13.docx: 100%\r"
          ]
        },
        {
          "metadata": {
            "tags": null
          },
          "name": "stderr",
          "output_type": "stream",
          "text": [
            "INFO:__main__:✅ Downloaded 04.docx to /content/reports/2018/04.docx\n"
          ]
        },
        {
          "metadata": {
            "tags": null
          },
          "name": "stdout",
          "output_type": "stream",
          "text": [
            "⬇️  Downloading 04.docx: 100%\r"
          ]
        },
        {
          "metadata": {
            "tags": null
          },
          "name": "stderr",
          "output_type": "stream",
          "text": [
            "INFO:__main__:✅ Downloaded 12.docx to /content/reports/2018/12.docx\n"
          ]
        },
        {
          "metadata": {
            "tags": null
          },
          "name": "stdout",
          "output_type": "stream",
          "text": [
            "⬇️  Downloading 12.docx: 100%\r"
          ]
        },
        {
          "metadata": {
            "tags": null
          },
          "name": "stderr",
          "output_type": "stream",
          "text": [
            "INFO:__main__:✅ Downloaded 05.docx to /content/reports/2018/05.docx\n"
          ]
        },
        {
          "metadata": {
            "tags": null
          },
          "name": "stdout",
          "output_type": "stream",
          "text": [
            "⬇️  Downloading 05.docx: 100%\r"
          ]
        },
        {
          "metadata": {
            "tags": null
          },
          "name": "stderr",
          "output_type": "stream",
          "text": [
            "INFO:__main__:✅ Downloaded 08.docx to /content/reports/2018/08.docx\n"
          ]
        },
        {
          "metadata": {
            "tags": null
          },
          "name": "stdout",
          "output_type": "stream",
          "text": [
            "⬇️  Downloading 08.docx: 100%\r"
          ]
        },
        {
          "metadata": {
            "tags": null
          },
          "name": "stderr",
          "output_type": "stream",
          "text": [
            "INFO:__main__:✅ Downloaded 10.docx to /content/reports/2018/10.docx\n"
          ]
        },
        {
          "metadata": {
            "tags": null
          },
          "name": "stdout",
          "output_type": "stream",
          "text": [
            "⬇️  Downloading 10.docx: 100%\r"
          ]
        },
        {
          "metadata": {
            "tags": null
          },
          "name": "stderr",
          "output_type": "stream",
          "text": [
            "INFO:__main__:✅ Downloaded 03.docx to /content/reports/2018/03.docx\n"
          ]
        },
        {
          "metadata": {
            "tags": null
          },
          "name": "stdout",
          "output_type": "stream",
          "text": [
            "⬇️  Downloading 03.docx: 100%\r"
          ]
        },
        {
          "metadata": {
            "tags": null
          },
          "name": "stderr",
          "output_type": "stream",
          "text": [
            "INFO:__main__:✅ Downloaded 06.docx to /content/reports/2018/06.docx\n"
          ]
        },
        {
          "metadata": {
            "tags": null
          },
          "name": "stdout",
          "output_type": "stream",
          "text": [
            "⬇️  Downloading 06.docx: 100%\r"
          ]
        },
        {
          "metadata": {
            "tags": null
          },
          "name": "stderr",
          "output_type": "stream",
          "text": [
            "INFO:__main__:✅ Downloaded 11.docx to /content/reports/2019/11.docx\n"
          ]
        },
        {
          "metadata": {
            "tags": null
          },
          "name": "stdout",
          "output_type": "stream",
          "text": [
            "⬇️  Downloading 11.docx: 100%\r"
          ]
        },
        {
          "metadata": {
            "tags": null
          },
          "name": "stderr",
          "output_type": "stream",
          "text": [
            "INFO:__main__:✅ Downloaded 01.docx to /content/reports/2019/01.docx\n"
          ]
        },
        {
          "metadata": {
            "tags": null
          },
          "name": "stdout",
          "output_type": "stream",
          "text": [
            "⬇️  Downloading 01.docx: 100%\r"
          ]
        },
        {
          "metadata": {
            "tags": null
          },
          "name": "stderr",
          "output_type": "stream",
          "text": [
            "INFO:__main__:✅ Downloaded 14.docx to /content/reports/2019/14.docx\n"
          ]
        },
        {
          "metadata": {
            "tags": null
          },
          "name": "stdout",
          "output_type": "stream",
          "text": [
            "⬇️  Downloading 14.docx: 100%\r"
          ]
        },
        {
          "metadata": {
            "tags": null
          },
          "name": "stderr",
          "output_type": "stream",
          "text": [
            "INFO:__main__:✅ Downloaded 02.docx to /content/reports/2019/02.docx\n"
          ]
        },
        {
          "metadata": {
            "tags": null
          },
          "name": "stdout",
          "output_type": "stream",
          "text": [
            "⬇️  Downloading 02.docx: 100%\r"
          ]
        },
        {
          "metadata": {
            "tags": null
          },
          "name": "stderr",
          "output_type": "stream",
          "text": [
            "INFO:__main__:✅ Downloaded 09.docx to /content/reports/2019/09.docx\n"
          ]
        },
        {
          "metadata": {
            "tags": null
          },
          "name": "stdout",
          "output_type": "stream",
          "text": [
            "⬇️  Downloading 09.docx: 100%\r"
          ]
        },
        {
          "metadata": {
            "tags": null
          },
          "name": "stderr",
          "output_type": "stream",
          "text": [
            "INFO:__main__:✅ Downloaded 07.docx to /content/reports/2019/07.docx\n"
          ]
        },
        {
          "metadata": {
            "tags": null
          },
          "name": "stdout",
          "output_type": "stream",
          "text": [
            "⬇️  Downloading 07.docx: 100%\r"
          ]
        },
        {
          "metadata": {
            "tags": null
          },
          "name": "stderr",
          "output_type": "stream",
          "text": [
            "INFO:__main__:✅ Downloaded 13.docx to /content/reports/2019/13.docx\n"
          ]
        },
        {
          "metadata": {
            "tags": null
          },
          "name": "stdout",
          "output_type": "stream",
          "text": [
            "⬇️  Downloading 13.docx: 100%\r"
          ]
        },
        {
          "metadata": {
            "tags": null
          },
          "name": "stderr",
          "output_type": "stream",
          "text": [
            "INFO:__main__:✅ Downloaded 04.docx to /content/reports/2019/04.docx\n"
          ]
        },
        {
          "metadata": {
            "tags": null
          },
          "name": "stdout",
          "output_type": "stream",
          "text": [
            "⬇️  Downloading 04.docx: 100%\r"
          ]
        },
        {
          "metadata": {
            "tags": null
          },
          "name": "stderr",
          "output_type": "stream",
          "text": [
            "INFO:__main__:✅ Downloaded 12.docx to /content/reports/2019/12.docx\n"
          ]
        },
        {
          "metadata": {
            "tags": null
          },
          "name": "stdout",
          "output_type": "stream",
          "text": [
            "⬇️  Downloading 12.docx: 100%\r"
          ]
        },
        {
          "metadata": {
            "tags": null
          },
          "name": "stderr",
          "output_type": "stream",
          "text": [
            "INFO:__main__:✅ Downloaded 05.docx to /content/reports/2019/05.docx\n"
          ]
        },
        {
          "metadata": {
            "tags": null
          },
          "name": "stdout",
          "output_type": "stream",
          "text": [
            "⬇️  Downloading 05.docx: 100%\r"
          ]
        },
        {
          "metadata": {
            "tags": null
          },
          "name": "stderr",
          "output_type": "stream",
          "text": [
            "INFO:__main__:✅ Downloaded 08.docx to /content/reports/2019/08.docx\n"
          ]
        },
        {
          "metadata": {
            "tags": null
          },
          "name": "stdout",
          "output_type": "stream",
          "text": [
            "⬇️  Downloading 08.docx: 100%\r"
          ]
        },
        {
          "metadata": {
            "tags": null
          },
          "name": "stderr",
          "output_type": "stream",
          "text": [
            "INFO:__main__:✅ Downloaded 10.docx to /content/reports/2019/10.docx\n"
          ]
        },
        {
          "metadata": {
            "tags": null
          },
          "name": "stdout",
          "output_type": "stream",
          "text": [
            "⬇️  Downloading 10.docx: 100%\r"
          ]
        },
        {
          "metadata": {
            "tags": null
          },
          "name": "stderr",
          "output_type": "stream",
          "text": [
            "INFO:__main__:✅ Downloaded 03.docx to /content/reports/2019/03.docx\n"
          ]
        },
        {
          "metadata": {
            "tags": null
          },
          "name": "stdout",
          "output_type": "stream",
          "text": [
            "⬇️  Downloading 03.docx: 100%\r"
          ]
        },
        {
          "metadata": {
            "tags": null
          },
          "name": "stderr",
          "output_type": "stream",
          "text": [
            "INFO:__main__:✅ Downloaded 06.docx to /content/reports/2019/06.docx\n"
          ]
        },
        {
          "metadata": {
            "tags": null
          },
          "name": "stdout",
          "output_type": "stream",
          "text": [
            "⬇️  Downloading 06.docx: 100%\r"
          ]
        },
        {
          "metadata": {
            "tags": null
          },
          "name": "stderr",
          "output_type": "stream",
          "text": [
            "INFO:__main__:✅ Downloaded 02.docx to /content/reports/2021/02.docx\n"
          ]
        },
        {
          "metadata": {
            "tags": null
          },
          "name": "stdout",
          "output_type": "stream",
          "text": [
            "⬇️  Downloading 02.docx: 100%\r"
          ]
        },
        {
          "metadata": {
            "tags": null
          },
          "name": "stderr",
          "output_type": "stream",
          "text": [
            "INFO:__main__:✅ Downloaded 14.docx to /content/reports/2021/14.docx\n"
          ]
        },
        {
          "metadata": {
            "tags": null
          },
          "name": "stdout",
          "output_type": "stream",
          "text": [
            "⬇️  Downloading 14.docx: 100%\r"
          ]
        },
        {
          "metadata": {
            "tags": null
          },
          "name": "stderr",
          "output_type": "stream",
          "text": [
            "INFO:__main__:✅ Downloaded 13.docx to /content/reports/2021/13.docx\n"
          ]
        },
        {
          "metadata": {
            "tags": null
          },
          "name": "stdout",
          "output_type": "stream",
          "text": [
            "⬇️  Downloading 13.docx: 100%\r"
          ]
        },
        {
          "metadata": {
            "tags": null
          },
          "name": "stderr",
          "output_type": "stream",
          "text": [
            "INFO:__main__:✅ Downloaded 12.docx to /content/reports/2021/12.docx\n"
          ]
        },
        {
          "metadata": {
            "tags": null
          },
          "name": "stdout",
          "output_type": "stream",
          "text": [
            "⬇️  Downloading 12.docx: 100%\r"
          ]
        },
        {
          "metadata": {
            "tags": null
          },
          "name": "stderr",
          "output_type": "stream",
          "text": [
            "INFO:__main__:✅ Downloaded 11.docx to /content/reports/2021/11.docx\n"
          ]
        },
        {
          "metadata": {
            "tags": null
          },
          "name": "stdout",
          "output_type": "stream",
          "text": [
            "⬇️  Downloading 11.docx: 100%\r"
          ]
        },
        {
          "metadata": {
            "tags": null
          },
          "name": "stderr",
          "output_type": "stream",
          "text": [
            "INFO:__main__:✅ Downloaded 10.docx to /content/reports/2021/10.docx\n"
          ]
        },
        {
          "metadata": {
            "tags": null
          },
          "name": "stdout",
          "output_type": "stream",
          "text": [
            "⬇️  Downloading 10.docx: 100%\r"
          ]
        },
        {
          "metadata": {
            "tags": null
          },
          "name": "stderr",
          "output_type": "stream",
          "text": [
            "INFO:__main__:✅ Downloaded 09.docx to /content/reports/2021/09.docx\n"
          ]
        },
        {
          "metadata": {
            "tags": null
          },
          "name": "stdout",
          "output_type": "stream",
          "text": [
            "⬇️  Downloading 09.docx: 100%\r"
          ]
        },
        {
          "metadata": {
            "tags": null
          },
          "name": "stderr",
          "output_type": "stream",
          "text": [
            "INFO:__main__:✅ Downloaded 08.docx to /content/reports/2021/08.docx\n"
          ]
        },
        {
          "metadata": {
            "tags": null
          },
          "name": "stdout",
          "output_type": "stream",
          "text": [
            "⬇️  Downloading 08.docx: 100%\r"
          ]
        },
        {
          "metadata": {
            "tags": null
          },
          "name": "stderr",
          "output_type": "stream",
          "text": [
            "INFO:__main__:✅ Downloaded 07.docx to /content/reports/2021/07.docx\n"
          ]
        },
        {
          "metadata": {
            "tags": null
          },
          "name": "stdout",
          "output_type": "stream",
          "text": [
            "⬇️  Downloading 07.docx: 100%\r"
          ]
        },
        {
          "metadata": {
            "tags": null
          },
          "name": "stderr",
          "output_type": "stream",
          "text": [
            "INFO:__main__:✅ Downloaded 06.docx to /content/reports/2021/06.docx\n"
          ]
        },
        {
          "metadata": {
            "tags": null
          },
          "name": "stdout",
          "output_type": "stream",
          "text": [
            "⬇️  Downloading 06.docx: 100%\r"
          ]
        },
        {
          "output_type": "stream",
          "name": "stderr",
          "text": [
            "INFO:__main__:✅ Downloaded 05.docx to /content/reports/2021/05.docx\n"
          ]
        },
        {
          "output_type": "stream",
          "name": "stdout",
          "text": [
            "⬇️  Downloading 05.docx: 100%\r"
          ]
        },
        {
          "output_type": "stream",
          "name": "stderr",
          "text": [
            "INFO:__main__:✅ Downloaded 04.docx to /content/reports/2021/04.docx\n"
          ]
        },
        {
          "output_type": "stream",
          "name": "stdout",
          "text": [
            "⬇️  Downloading 04.docx: 100%\r"
          ]
        },
        {
          "output_type": "stream",
          "name": "stderr",
          "text": [
            "INFO:__main__:✅ Downloaded 03.docx to /content/reports/2021/03.docx\n"
          ]
        },
        {
          "output_type": "stream",
          "name": "stdout",
          "text": [
            "⬇️  Downloading 03.docx: 100%\r"
          ]
        },
        {
          "output_type": "stream",
          "name": "stderr",
          "text": [
            "INFO:__main__:✅ Downloaded 01.docx to /content/reports/2021/01.docx\n"
          ]
        },
        {
          "output_type": "stream",
          "name": "stdout",
          "text": [
            "⬇️  Downloading 01.docx: 100%\r"
          ]
        },
        {
          "output_type": "stream",
          "name": "stderr",
          "text": [
            "INFO:__main__:✅ Downloaded 01.docx to /content/reports/2021/01.docx\n"
          ]
        },
        {
          "output_type": "stream",
          "name": "stdout",
          "text": [
            "⬇️  Downloading 01.docx: 100%\r"
          ]
        },
        {
          "output_type": "stream",
          "name": "stderr",
          "text": [
            "INFO:__main__:✅ Downloaded 02.docx to /content/reports/2021/02.docx\n"
          ]
        },
        {
          "output_type": "stream",
          "name": "stdout",
          "text": [
            "⬇️  Downloading 02.docx: 100%\r"
          ]
        },
        {
          "output_type": "stream",
          "name": "stderr",
          "text": [
            "INFO:__main__:✅ Downloaded 09.docx to /content/reports/2021/09.docx\n"
          ]
        },
        {
          "output_type": "stream",
          "name": "stdout",
          "text": [
            "⬇️  Downloading 09.docx: 100%\r"
          ]
        },
        {
          "output_type": "stream",
          "name": "stderr",
          "text": [
            "INFO:__main__:✅ Downloaded 07.docx to /content/reports/2021/07.docx\n"
          ]
        },
        {
          "output_type": "stream",
          "name": "stdout",
          "text": [
            "⬇️  Downloading 07.docx: 100%\r"
          ]
        },
        {
          "output_type": "stream",
          "name": "stderr",
          "text": [
            "INFO:__main__:✅ Downloaded 04.docx to /content/reports/2021/04.docx\n"
          ]
        },
        {
          "output_type": "stream",
          "name": "stdout",
          "text": [
            "⬇️  Downloading 04.docx: 100%\r"
          ]
        },
        {
          "output_type": "stream",
          "name": "stderr",
          "text": [
            "INFO:__main__:✅ Downloaded 05.docx to /content/reports/2021/05.docx\n"
          ]
        },
        {
          "output_type": "stream",
          "name": "stdout",
          "text": [
            "⬇️  Downloading 05.docx: 100%\r"
          ]
        },
        {
          "output_type": "stream",
          "name": "stderr",
          "text": [
            "INFO:__main__:✅ Downloaded 08.docx to /content/reports/2021/08.docx\n"
          ]
        },
        {
          "output_type": "stream",
          "name": "stdout",
          "text": [
            "⬇️  Downloading 08.docx: 100%\r"
          ]
        },
        {
          "output_type": "stream",
          "name": "stderr",
          "text": [
            "INFO:__main__:✅ Downloaded 03.docx to /content/reports/2021/03.docx\n"
          ]
        },
        {
          "output_type": "stream",
          "name": "stdout",
          "text": [
            "⬇️  Downloading 03.docx: 100%\r"
          ]
        },
        {
          "output_type": "stream",
          "name": "stderr",
          "text": [
            "INFO:__main__:✅ Downloaded 06.docx to /content/reports/2021/06.docx\n"
          ]
        },
        {
          "output_type": "stream",
          "name": "stdout",
          "text": [
            "⬇️  Downloading 06.docx: 100%\r"
          ]
        },
        {
          "output_type": "stream",
          "name": "stderr",
          "text": [
            "INFO:__main__:✅ Downloaded 02.docx to /content/reports/2002/02.docx\n"
          ]
        },
        {
          "output_type": "stream",
          "name": "stdout",
          "text": [
            "⬇️  Downloading 02.docx: 100%\r"
          ]
        },
        {
          "output_type": "stream",
          "name": "stderr",
          "text": [
            "INFO:__main__:✅ Downloaded 11.docx to /content/reports/2002/11.docx\n"
          ]
        },
        {
          "output_type": "stream",
          "name": "stdout",
          "text": [
            "⬇️  Downloading 11.docx: 100%\r"
          ]
        },
        {
          "output_type": "stream",
          "name": "stderr",
          "text": [
            "INFO:__main__:✅ Downloaded 01.docx to /content/reports/2002/01.docx\n"
          ]
        },
        {
          "output_type": "stream",
          "name": "stdout",
          "text": [
            "⬇️  Downloading 01.docx: 100%\r"
          ]
        },
        {
          "output_type": "stream",
          "name": "stderr",
          "text": [
            "INFO:__main__:✅ Downloaded 15.docx to /content/reports/2002/15.docx\n"
          ]
        },
        {
          "output_type": "stream",
          "name": "stdout",
          "text": [
            "⬇️  Downloading 15.docx: 100%\r"
          ]
        },
        {
          "output_type": "stream",
          "name": "stderr",
          "text": [
            "INFO:__main__:✅ Downloaded 14.docx to /content/reports/2002/14.docx\n"
          ]
        },
        {
          "output_type": "stream",
          "name": "stdout",
          "text": [
            "⬇️  Downloading 14.docx: 100%\r"
          ]
        },
        {
          "output_type": "stream",
          "name": "stderr",
          "text": [
            "INFO:__main__:✅ Downloaded 09.docx to /content/reports/2002/09.docx\n"
          ]
        },
        {
          "output_type": "stream",
          "name": "stdout",
          "text": [
            "⬇️  Downloading 09.docx: 100%\r"
          ]
        },
        {
          "output_type": "stream",
          "name": "stderr",
          "text": [
            "INFO:__main__:✅ Downloaded 07.docx to /content/reports/2002/07.docx\n"
          ]
        },
        {
          "output_type": "stream",
          "name": "stdout",
          "text": [
            "⬇️  Downloading 07.docx: 100%\r"
          ]
        },
        {
          "output_type": "stream",
          "name": "stderr",
          "text": [
            "INFO:__main__:✅ Downloaded 13.docx to /content/reports/2002/13.docx\n"
          ]
        },
        {
          "output_type": "stream",
          "name": "stdout",
          "text": [
            "⬇️  Downloading 13.docx: 100%\r"
          ]
        },
        {
          "output_type": "stream",
          "name": "stderr",
          "text": [
            "INFO:__main__:✅ Downloaded 04.docx to /content/reports/2002/04.docx\n"
          ]
        },
        {
          "output_type": "stream",
          "name": "stdout",
          "text": [
            "⬇️  Downloading 04.docx: 100%\r"
          ]
        },
        {
          "output_type": "stream",
          "name": "stderr",
          "text": [
            "INFO:__main__:✅ Downloaded 12.docx to /content/reports/2002/12.docx\n"
          ]
        },
        {
          "output_type": "stream",
          "name": "stdout",
          "text": [
            "⬇️  Downloading 12.docx: 100%\r"
          ]
        },
        {
          "output_type": "stream",
          "name": "stderr",
          "text": [
            "INFO:__main__:✅ Downloaded 05.docx to /content/reports/2002/05.docx\n"
          ]
        },
        {
          "output_type": "stream",
          "name": "stdout",
          "text": [
            "⬇️  Downloading 05.docx: 100%\r"
          ]
        },
        {
          "output_type": "stream",
          "name": "stderr",
          "text": [
            "INFO:__main__:✅ Downloaded 08.docx to /content/reports/2002/08.docx\n"
          ]
        },
        {
          "output_type": "stream",
          "name": "stdout",
          "text": [
            "⬇️  Downloading 08.docx: 100%\r"
          ]
        },
        {
          "output_type": "stream",
          "name": "stderr",
          "text": [
            "INFO:__main__:✅ Downloaded 10.docx to /content/reports/2002/10.docx\n"
          ]
        },
        {
          "output_type": "stream",
          "name": "stdout",
          "text": [
            "⬇️  Downloading 10.docx: 100%\r"
          ]
        },
        {
          "output_type": "stream",
          "name": "stderr",
          "text": [
            "INFO:__main__:✅ Downloaded 03.docx to /content/reports/2002/03.docx\n"
          ]
        },
        {
          "output_type": "stream",
          "name": "stdout",
          "text": [
            "⬇️  Downloading 03.docx: 100%\r"
          ]
        },
        {
          "output_type": "stream",
          "name": "stderr",
          "text": [
            "INFO:__main__:✅ Downloaded 06.docx to /content/reports/2002/06.docx\n"
          ]
        },
        {
          "output_type": "stream",
          "name": "stdout",
          "text": [
            "⬇️  Downloading 06.docx: 100%\r"
          ]
        },
        {
          "output_type": "stream",
          "name": "stderr",
          "text": [
            "INFO:__main__:✅ Downloaded 11.docx to /content/reports/2005/11.docx\n"
          ]
        },
        {
          "output_type": "stream",
          "name": "stdout",
          "text": [
            "⬇️  Downloading 11.docx: 100%\r"
          ]
        },
        {
          "output_type": "stream",
          "name": "stderr",
          "text": [
            "INFO:__main__:✅ Downloaded 01.docx to /content/reports/2005/01.docx\n"
          ]
        },
        {
          "output_type": "stream",
          "name": "stdout",
          "text": [
            "⬇️  Downloading 01.docx: 100%\r"
          ]
        },
        {
          "output_type": "stream",
          "name": "stderr",
          "text": [
            "INFO:__main__:✅ Downloaded 15.docx to /content/reports/2005/15.docx\n"
          ]
        },
        {
          "output_type": "stream",
          "name": "stdout",
          "text": [
            "⬇️  Downloading 15.docx: 100%\r"
          ]
        },
        {
          "output_type": "stream",
          "name": "stderr",
          "text": [
            "INFO:__main__:✅ Downloaded 14.docx to /content/reports/2005/14.docx\n"
          ]
        },
        {
          "output_type": "stream",
          "name": "stdout",
          "text": [
            "⬇️  Downloading 14.docx: 100%\r"
          ]
        },
        {
          "output_type": "stream",
          "name": "stderr",
          "text": [
            "INFO:__main__:✅ Downloaded 02.docx to /content/reports/2005/02.docx\n"
          ]
        },
        {
          "output_type": "stream",
          "name": "stdout",
          "text": [
            "⬇️  Downloading 02.docx: 100%\r"
          ]
        },
        {
          "output_type": "stream",
          "name": "stderr",
          "text": [
            "INFO:__main__:✅ Downloaded 09.docx to /content/reports/2005/09.docx\n"
          ]
        },
        {
          "output_type": "stream",
          "name": "stdout",
          "text": [
            "⬇️  Downloading 09.docx: 100%\r"
          ]
        },
        {
          "output_type": "stream",
          "name": "stderr",
          "text": [
            "INFO:__main__:✅ Downloaded 07.docx to /content/reports/2005/07.docx\n"
          ]
        },
        {
          "output_type": "stream",
          "name": "stdout",
          "text": [
            "⬇️  Downloading 07.docx: 100%\r"
          ]
        },
        {
          "output_type": "stream",
          "name": "stderr",
          "text": [
            "INFO:__main__:✅ Downloaded 13.docx to /content/reports/2005/13.docx\n"
          ]
        },
        {
          "output_type": "stream",
          "name": "stdout",
          "text": [
            "⬇️  Downloading 13.docx: 100%\r"
          ]
        },
        {
          "output_type": "stream",
          "name": "stderr",
          "text": [
            "INFO:__main__:✅ Downloaded 04.docx to /content/reports/2005/04.docx\n"
          ]
        },
        {
          "output_type": "stream",
          "name": "stdout",
          "text": [
            "⬇️  Downloading 04.docx: 100%\r"
          ]
        },
        {
          "output_type": "stream",
          "name": "stderr",
          "text": [
            "INFO:__main__:✅ Downloaded 12.docx to /content/reports/2005/12.docx\n"
          ]
        },
        {
          "output_type": "stream",
          "name": "stdout",
          "text": [
            "⬇️  Downloading 12.docx: 100%\r"
          ]
        },
        {
          "output_type": "stream",
          "name": "stderr",
          "text": [
            "INFO:__main__:✅ Downloaded 08.docx to /content/reports/2005/08.docx\n"
          ]
        },
        {
          "output_type": "stream",
          "name": "stdout",
          "text": [
            "⬇️  Downloading 08.docx: 100%\r"
          ]
        },
        {
          "output_type": "stream",
          "name": "stderr",
          "text": [
            "INFO:__main__:✅ Downloaded 10.docx to /content/reports/2005/10.docx\n"
          ]
        },
        {
          "output_type": "stream",
          "name": "stdout",
          "text": [
            "⬇️  Downloading 10.docx: 100%\r"
          ]
        },
        {
          "output_type": "stream",
          "name": "stderr",
          "text": [
            "INFO:__main__:✅ Downloaded 03.docx to /content/reports/2005/03.docx\n"
          ]
        },
        {
          "output_type": "stream",
          "name": "stdout",
          "text": [
            "⬇️  Downloading 03.docx: 100%\r"
          ]
        },
        {
          "output_type": "stream",
          "name": "stderr",
          "text": [
            "INFO:__main__:✅ Downloaded 06.docx to /content/reports/2005/06.docx\n"
          ]
        },
        {
          "output_type": "stream",
          "name": "stdout",
          "text": [
            "⬇️  Downloading 06.docx: 100%\r"
          ]
        },
        {
          "output_type": "stream",
          "name": "stderr",
          "text": [
            "INFO:__main__:✅ Downloaded 11.docx to /content/reports/2010/11.docx\n"
          ]
        },
        {
          "output_type": "stream",
          "name": "stdout",
          "text": [
            "⬇️  Downloading 11.docx: 100%\r"
          ]
        },
        {
          "output_type": "stream",
          "name": "stderr",
          "text": [
            "INFO:__main__:✅ Downloaded 01.docx to /content/reports/2010/01.docx\n"
          ]
        },
        {
          "output_type": "stream",
          "name": "stdout",
          "text": [
            "⬇️  Downloading 01.docx: 100%\r"
          ]
        },
        {
          "output_type": "stream",
          "name": "stderr",
          "text": [
            "INFO:__main__:✅ Downloaded 15.docx to /content/reports/2010/15.docx\n"
          ]
        },
        {
          "output_type": "stream",
          "name": "stdout",
          "text": [
            "⬇️  Downloading 15.docx: 100%\r"
          ]
        },
        {
          "output_type": "stream",
          "name": "stderr",
          "text": [
            "INFO:__main__:✅ Downloaded 14.docx to /content/reports/2010/14.docx\n"
          ]
        },
        {
          "output_type": "stream",
          "name": "stdout",
          "text": [
            "⬇️  Downloading 14.docx: 100%\r"
          ]
        },
        {
          "output_type": "stream",
          "name": "stderr",
          "text": [
            "INFO:__main__:✅ Downloaded 02.docx to /content/reports/2010/02.docx\n"
          ]
        },
        {
          "output_type": "stream",
          "name": "stdout",
          "text": [
            "⬇️  Downloading 02.docx: 100%\r"
          ]
        },
        {
          "output_type": "stream",
          "name": "stderr",
          "text": [
            "INFO:__main__:✅ Downloaded 09.docx to /content/reports/2010/09.docx\n"
          ]
        },
        {
          "output_type": "stream",
          "name": "stdout",
          "text": [
            "⬇️  Downloading 09.docx: 100%\r"
          ]
        },
        {
          "output_type": "stream",
          "name": "stderr",
          "text": [
            "INFO:__main__:✅ Downloaded 07.docx to /content/reports/2010/07.docx\n"
          ]
        },
        {
          "output_type": "stream",
          "name": "stdout",
          "text": [
            "⬇️  Downloading 07.docx: 100%\r"
          ]
        },
        {
          "output_type": "stream",
          "name": "stderr",
          "text": [
            "INFO:__main__:✅ Downloaded 13.docx to /content/reports/2010/13.docx\n"
          ]
        },
        {
          "output_type": "stream",
          "name": "stdout",
          "text": [
            "⬇️  Downloading 13.docx: 100%\r"
          ]
        },
        {
          "output_type": "stream",
          "name": "stderr",
          "text": [
            "INFO:__main__:✅ Downloaded 04.docx to /content/reports/2010/04.docx\n"
          ]
        },
        {
          "output_type": "stream",
          "name": "stdout",
          "text": [
            "⬇️  Downloading 04.docx: 100%\r"
          ]
        },
        {
          "output_type": "stream",
          "name": "stderr",
          "text": [
            "INFO:__main__:✅ Downloaded 12.docx to /content/reports/2010/12.docx\n"
          ]
        },
        {
          "output_type": "stream",
          "name": "stdout",
          "text": [
            "⬇️  Downloading 12.docx: 100%\r"
          ]
        },
        {
          "output_type": "stream",
          "name": "stderr",
          "text": [
            "INFO:__main__:✅ Downloaded 05.docx to /content/reports/2010/05.docx\n"
          ]
        },
        {
          "output_type": "stream",
          "name": "stdout",
          "text": [
            "⬇️  Downloading 05.docx: 100%\r"
          ]
        },
        {
          "output_type": "stream",
          "name": "stderr",
          "text": [
            "INFO:__main__:✅ Downloaded 08.docx to /content/reports/2010/08.docx\n"
          ]
        },
        {
          "output_type": "stream",
          "name": "stdout",
          "text": [
            "⬇️  Downloading 08.docx: 100%\r"
          ]
        },
        {
          "output_type": "stream",
          "name": "stderr",
          "text": [
            "INFO:__main__:✅ Downloaded 10.docx to /content/reports/2010/10.docx\n"
          ]
        },
        {
          "output_type": "stream",
          "name": "stdout",
          "text": [
            "⬇️  Downloading 10.docx: 100%\r"
          ]
        },
        {
          "output_type": "stream",
          "name": "stderr",
          "text": [
            "INFO:__main__:✅ Downloaded 03.docx to /content/reports/2010/03.docx\n"
          ]
        },
        {
          "output_type": "stream",
          "name": "stdout",
          "text": [
            "⬇️  Downloading 03.docx: 100%\r"
          ]
        },
        {
          "output_type": "stream",
          "name": "stderr",
          "text": [
            "INFO:__main__:✅ Downloaded 06.docx to /content/reports/2010/06.docx\n"
          ]
        },
        {
          "output_type": "stream",
          "name": "stdout",
          "text": [
            "⬇️  Downloading 06.docx: 100%\r"
          ]
        },
        {
          "output_type": "stream",
          "name": "stderr",
          "text": [
            "INFO:__main__:✅ Downloaded 11.docx to /content/reports/2011/11.docx\n"
          ]
        },
        {
          "output_type": "stream",
          "name": "stdout",
          "text": [
            "⬇️  Downloading 11.docx: 100%\r"
          ]
        },
        {
          "output_type": "stream",
          "name": "stderr",
          "text": [
            "INFO:__main__:✅ Downloaded 01.docx to /content/reports/2011/01.docx\n"
          ]
        },
        {
          "output_type": "stream",
          "name": "stdout",
          "text": [
            "⬇️  Downloading 01.docx: 100%\r"
          ]
        },
        {
          "output_type": "stream",
          "name": "stderr",
          "text": [
            "INFO:__main__:✅ Downloaded 15.docx to /content/reports/2011/15.docx\n"
          ]
        },
        {
          "output_type": "stream",
          "name": "stdout",
          "text": [
            "⬇️  Downloading 15.docx: 100%\r"
          ]
        },
        {
          "output_type": "stream",
          "name": "stderr",
          "text": [
            "INFO:__main__:✅ Downloaded 14.docx to /content/reports/2011/14.docx\n"
          ]
        },
        {
          "output_type": "stream",
          "name": "stdout",
          "text": [
            "⬇️  Downloading 14.docx: 100%\r"
          ]
        },
        {
          "output_type": "stream",
          "name": "stderr",
          "text": [
            "INFO:__main__:✅ Downloaded 02.docx to /content/reports/2011/02.docx\n"
          ]
        },
        {
          "output_type": "stream",
          "name": "stdout",
          "text": [
            "⬇️  Downloading 02.docx: 100%\r"
          ]
        },
        {
          "output_type": "stream",
          "name": "stderr",
          "text": [
            "INFO:__main__:✅ Downloaded 09.docx to /content/reports/2011/09.docx\n"
          ]
        },
        {
          "output_type": "stream",
          "name": "stdout",
          "text": [
            "⬇️  Downloading 09.docx: 100%\r"
          ]
        },
        {
          "output_type": "stream",
          "name": "stderr",
          "text": [
            "INFO:__main__:✅ Downloaded 07.docx to /content/reports/2011/07.docx\n"
          ]
        },
        {
          "output_type": "stream",
          "name": "stdout",
          "text": [
            "⬇️  Downloading 07.docx: 100%\r"
          ]
        },
        {
          "output_type": "stream",
          "name": "stderr",
          "text": [
            "INFO:__main__:✅ Downloaded 13.docx to /content/reports/2011/13.docx\n"
          ]
        },
        {
          "output_type": "stream",
          "name": "stdout",
          "text": [
            "⬇️  Downloading 13.docx: 100%\r"
          ]
        },
        {
          "output_type": "stream",
          "name": "stderr",
          "text": [
            "INFO:__main__:✅ Downloaded 04.docx to /content/reports/2011/04.docx\n"
          ]
        },
        {
          "output_type": "stream",
          "name": "stdout",
          "text": [
            "⬇️  Downloading 04.docx: 100%\r"
          ]
        },
        {
          "output_type": "stream",
          "name": "stderr",
          "text": [
            "INFO:__main__:✅ Downloaded 12.docx to /content/reports/2011/12.docx\n"
          ]
        },
        {
          "output_type": "stream",
          "name": "stdout",
          "text": [
            "⬇️  Downloading 12.docx: 100%\r"
          ]
        },
        {
          "output_type": "stream",
          "name": "stderr",
          "text": [
            "INFO:__main__:✅ Downloaded 05.docx to /content/reports/2011/05.docx\n"
          ]
        },
        {
          "output_type": "stream",
          "name": "stdout",
          "text": [
            "⬇️  Downloading 05.docx: 100%\r"
          ]
        },
        {
          "output_type": "stream",
          "name": "stderr",
          "text": [
            "INFO:__main__:✅ Downloaded 08.docx to /content/reports/2011/08.docx\n"
          ]
        },
        {
          "output_type": "stream",
          "name": "stdout",
          "text": [
            "⬇️  Downloading 08.docx: 100%\r"
          ]
        },
        {
          "output_type": "stream",
          "name": "stderr",
          "text": [
            "INFO:__main__:✅ Downloaded 10.docx to /content/reports/2011/10.docx\n"
          ]
        },
        {
          "output_type": "stream",
          "name": "stdout",
          "text": [
            "⬇️  Downloading 10.docx: 100%\r"
          ]
        },
        {
          "output_type": "stream",
          "name": "stderr",
          "text": [
            "INFO:__main__:✅ Downloaded 03.docx to /content/reports/2011/03.docx\n"
          ]
        },
        {
          "output_type": "stream",
          "name": "stdout",
          "text": [
            "⬇️  Downloading 03.docx: 100%\r"
          ]
        },
        {
          "output_type": "stream",
          "name": "stderr",
          "text": [
            "INFO:__main__:✅ Downloaded 06.docx to /content/reports/2011/06.docx\n"
          ]
        },
        {
          "output_type": "stream",
          "name": "stdout",
          "text": [
            "⬇️  Downloading 06.docx: 100%\r"
          ]
        },
        {
          "output_type": "stream",
          "name": "stderr",
          "text": [
            "INFO:__main__:✅ Downloaded 11.docx to /content/reports/2009/11.docx\n"
          ]
        },
        {
          "output_type": "stream",
          "name": "stdout",
          "text": [
            "⬇️  Downloading 11.docx: 100%\r"
          ]
        },
        {
          "output_type": "stream",
          "name": "stderr",
          "text": [
            "INFO:__main__:✅ Downloaded 01.docx to /content/reports/2009/01.docx\n"
          ]
        },
        {
          "output_type": "stream",
          "name": "stdout",
          "text": [
            "⬇️  Downloading 01.docx: 100%\r"
          ]
        },
        {
          "output_type": "stream",
          "name": "stderr",
          "text": [
            "INFO:__main__:✅ Downloaded 15.docx to /content/reports/2009/15.docx\n"
          ]
        },
        {
          "output_type": "stream",
          "name": "stdout",
          "text": [
            "⬇️  Downloading 15.docx: 100%\r"
          ]
        },
        {
          "output_type": "stream",
          "name": "stderr",
          "text": [
            "INFO:__main__:✅ Downloaded 14.docx to /content/reports/2009/14.docx\n"
          ]
        },
        {
          "output_type": "stream",
          "name": "stdout",
          "text": [
            "⬇️  Downloading 14.docx: 100%\r"
          ]
        },
        {
          "output_type": "stream",
          "name": "stderr",
          "text": [
            "INFO:__main__:✅ Downloaded 02.docx to /content/reports/2009/02.docx\n"
          ]
        },
        {
          "output_type": "stream",
          "name": "stdout",
          "text": [
            "⬇️  Downloading 02.docx: 100%\r"
          ]
        },
        {
          "output_type": "stream",
          "name": "stderr",
          "text": [
            "INFO:__main__:✅ Downloaded 09.docx to /content/reports/2009/09.docx\n"
          ]
        },
        {
          "output_type": "stream",
          "name": "stdout",
          "text": [
            "⬇️  Downloading 09.docx: 100%\r"
          ]
        },
        {
          "output_type": "stream",
          "name": "stderr",
          "text": [
            "INFO:__main__:✅ Downloaded 07.docx to /content/reports/2009/07.docx\n"
          ]
        },
        {
          "output_type": "stream",
          "name": "stdout",
          "text": [
            "⬇️  Downloading 07.docx: 100%\r"
          ]
        },
        {
          "output_type": "stream",
          "name": "stderr",
          "text": [
            "INFO:__main__:✅ Downloaded 13.docx to /content/reports/2009/13.docx\n"
          ]
        },
        {
          "output_type": "stream",
          "name": "stdout",
          "text": [
            "⬇️  Downloading 13.docx: 100%\r"
          ]
        },
        {
          "output_type": "stream",
          "name": "stderr",
          "text": [
            "INFO:__main__:✅ Downloaded 04.docx to /content/reports/2009/04.docx\n"
          ]
        },
        {
          "output_type": "stream",
          "name": "stdout",
          "text": [
            "⬇️  Downloading 04.docx: 100%\r"
          ]
        },
        {
          "output_type": "stream",
          "name": "stderr",
          "text": [
            "INFO:__main__:✅ Downloaded 12.docx to /content/reports/2009/12.docx\n"
          ]
        },
        {
          "output_type": "stream",
          "name": "stdout",
          "text": [
            "⬇️  Downloading 12.docx: 100%\r"
          ]
        },
        {
          "output_type": "stream",
          "name": "stderr",
          "text": [
            "INFO:__main__:✅ Downloaded 05.docx to /content/reports/2009/05.docx\n"
          ]
        },
        {
          "output_type": "stream",
          "name": "stdout",
          "text": [
            "⬇️  Downloading 05.docx: 100%\r"
          ]
        },
        {
          "output_type": "stream",
          "name": "stderr",
          "text": [
            "INFO:__main__:✅ Downloaded 08.docx to /content/reports/2009/08.docx\n"
          ]
        },
        {
          "output_type": "stream",
          "name": "stdout",
          "text": [
            "⬇️  Downloading 08.docx: 100%\r"
          ]
        },
        {
          "output_type": "stream",
          "name": "stderr",
          "text": [
            "INFO:__main__:✅ Downloaded 10.docx to /content/reports/2009/10.docx\n"
          ]
        },
        {
          "output_type": "stream",
          "name": "stdout",
          "text": [
            "⬇️  Downloading 10.docx: 100%\r"
          ]
        },
        {
          "output_type": "stream",
          "name": "stderr",
          "text": [
            "INFO:__main__:✅ Downloaded 03.docx to /content/reports/2009/03.docx\n"
          ]
        },
        {
          "output_type": "stream",
          "name": "stdout",
          "text": [
            "⬇️  Downloading 03.docx: 100%\r"
          ]
        },
        {
          "output_type": "stream",
          "name": "stderr",
          "text": [
            "INFO:__main__:✅ Downloaded 11.docx to /content/reports/2017/11.docx\n"
          ]
        },
        {
          "output_type": "stream",
          "name": "stdout",
          "text": [
            "⬇️  Downloading 11.docx: 100%\r"
          ]
        },
        {
          "output_type": "stream",
          "name": "stderr",
          "text": [
            "INFO:__main__:✅ Downloaded 01.docx to /content/reports/2017/01.docx\n"
          ]
        },
        {
          "output_type": "stream",
          "name": "stdout",
          "text": [
            "⬇️  Downloading 01.docx: 100%\r"
          ]
        },
        {
          "output_type": "stream",
          "name": "stderr",
          "text": [
            "INFO:__main__:✅ Downloaded 15.docx to /content/reports/2017/15.docx\n"
          ]
        },
        {
          "output_type": "stream",
          "name": "stdout",
          "text": [
            "⬇️  Downloading 15.docx: 100%\r"
          ]
        },
        {
          "output_type": "stream",
          "name": "stderr",
          "text": [
            "INFO:__main__:✅ Downloaded 14.docx to /content/reports/2017/14.docx\n"
          ]
        },
        {
          "output_type": "stream",
          "name": "stdout",
          "text": [
            "⬇️  Downloading 14.docx: 100%\r"
          ]
        },
        {
          "output_type": "stream",
          "name": "stderr",
          "text": [
            "INFO:__main__:✅ Downloaded 02.docx to /content/reports/2017/02.docx\n"
          ]
        },
        {
          "output_type": "stream",
          "name": "stdout",
          "text": [
            "⬇️  Downloading 02.docx: 100%\r"
          ]
        },
        {
          "output_type": "stream",
          "name": "stderr",
          "text": [
            "INFO:__main__:✅ Downloaded 09.docx to /content/reports/2017/09.docx\n"
          ]
        },
        {
          "output_type": "stream",
          "name": "stdout",
          "text": [
            "⬇️  Downloading 09.docx: 100%\r"
          ]
        },
        {
          "output_type": "stream",
          "name": "stderr",
          "text": [
            "INFO:__main__:✅ Downloaded 07.docx to /content/reports/2017/07.docx\n"
          ]
        },
        {
          "output_type": "stream",
          "name": "stdout",
          "text": [
            "⬇️  Downloading 07.docx: 100%\r"
          ]
        },
        {
          "output_type": "stream",
          "name": "stderr",
          "text": [
            "INFO:__main__:✅ Downloaded 13.docx to /content/reports/2017/13.docx\n"
          ]
        },
        {
          "output_type": "stream",
          "name": "stdout",
          "text": [
            "⬇️  Downloading 13.docx: 100%\r"
          ]
        },
        {
          "output_type": "stream",
          "name": "stderr",
          "text": [
            "INFO:__main__:✅ Downloaded 04.docx to /content/reports/2017/04.docx\n"
          ]
        },
        {
          "output_type": "stream",
          "name": "stdout",
          "text": [
            "⬇️  Downloading 04.docx: 100%\r"
          ]
        },
        {
          "output_type": "stream",
          "name": "stderr",
          "text": [
            "INFO:__main__:✅ Downloaded 12.docx to /content/reports/2017/12.docx\n"
          ]
        },
        {
          "output_type": "stream",
          "name": "stdout",
          "text": [
            "⬇️  Downloading 12.docx: 100%\r"
          ]
        },
        {
          "output_type": "stream",
          "name": "stderr",
          "text": [
            "INFO:__main__:✅ Downloaded 05.docx to /content/reports/2017/05.docx\n"
          ]
        },
        {
          "output_type": "stream",
          "name": "stdout",
          "text": [
            "⬇️  Downloading 05.docx: 100%\r"
          ]
        },
        {
          "output_type": "stream",
          "name": "stderr",
          "text": [
            "INFO:__main__:✅ Downloaded 08.docx to /content/reports/2017/08.docx\n"
          ]
        },
        {
          "output_type": "stream",
          "name": "stdout",
          "text": [
            "⬇️  Downloading 08.docx: 100%\r"
          ]
        },
        {
          "output_type": "stream",
          "name": "stderr",
          "text": [
            "INFO:__main__:✅ Downloaded 10.docx to /content/reports/2017/10.docx\n"
          ]
        },
        {
          "output_type": "stream",
          "name": "stdout",
          "text": [
            "⬇️  Downloading 10.docx: 100%\r"
          ]
        },
        {
          "output_type": "stream",
          "name": "stderr",
          "text": [
            "INFO:__main__:✅ Downloaded 03.docx to /content/reports/2017/03.docx\n"
          ]
        },
        {
          "output_type": "stream",
          "name": "stdout",
          "text": [
            "⬇️  Downloading 03.docx: 100%\r"
          ]
        },
        {
          "output_type": "stream",
          "name": "stderr",
          "text": [
            "INFO:__main__:✅ Downloaded 06.docx to /content/reports/2017/06.docx\n"
          ]
        },
        {
          "output_type": "stream",
          "name": "stdout",
          "text": [
            "⬇️  Downloading 06.docx: 100%\r"
          ]
        },
        {
          "output_type": "stream",
          "name": "stderr",
          "text": [
            "INFO:__main__:✅ Downloaded 11.docx to /content/reports/2013/11.docx\n"
          ]
        },
        {
          "output_type": "stream",
          "name": "stdout",
          "text": [
            "⬇️  Downloading 11.docx: 100%\r"
          ]
        },
        {
          "output_type": "stream",
          "name": "stderr",
          "text": [
            "INFO:__main__:✅ Downloaded 15.docx to /content/reports/2013/15.docx\n"
          ]
        },
        {
          "output_type": "stream",
          "name": "stdout",
          "text": [
            "⬇️  Downloading 15.docx: 100%\r"
          ]
        },
        {
          "output_type": "stream",
          "name": "stderr",
          "text": [
            "INFO:__main__:✅ Downloaded 14.docx to /content/reports/2013/14.docx\n"
          ]
        },
        {
          "output_type": "stream",
          "name": "stdout",
          "text": [
            "⬇️  Downloading 14.docx: 100%\r"
          ]
        },
        {
          "output_type": "stream",
          "name": "stderr",
          "text": [
            "INFO:__main__:✅ Downloaded 02.docx to /content/reports/2013/02.docx\n"
          ]
        },
        {
          "output_type": "stream",
          "name": "stdout",
          "text": [
            "⬇️  Downloading 02.docx: 100%\r"
          ]
        },
        {
          "output_type": "stream",
          "name": "stderr",
          "text": [
            "INFO:__main__:✅ Downloaded 09.docx to /content/reports/2013/09.docx\n"
          ]
        },
        {
          "output_type": "stream",
          "name": "stdout",
          "text": [
            "⬇️  Downloading 09.docx: 100%\r"
          ]
        },
        {
          "output_type": "stream",
          "name": "stderr",
          "text": [
            "INFO:__main__:✅ Downloaded 07.docx to /content/reports/2013/07.docx\n"
          ]
        },
        {
          "output_type": "stream",
          "name": "stdout",
          "text": [
            "⬇️  Downloading 07.docx: 100%\r"
          ]
        },
        {
          "output_type": "stream",
          "name": "stderr",
          "text": [
            "INFO:__main__:✅ Downloaded 13.docx to /content/reports/2013/13.docx\n"
          ]
        },
        {
          "output_type": "stream",
          "name": "stdout",
          "text": [
            "⬇️  Downloading 13.docx: 100%\r"
          ]
        },
        {
          "output_type": "stream",
          "name": "stderr",
          "text": [
            "INFO:__main__:✅ Downloaded 04.docx to /content/reports/2013/04.docx\n"
          ]
        },
        {
          "output_type": "stream",
          "name": "stdout",
          "text": [
            "⬇️  Downloading 04.docx: 100%\r"
          ]
        },
        {
          "output_type": "stream",
          "name": "stderr",
          "text": [
            "INFO:__main__:✅ Downloaded 12.docx to /content/reports/2013/12.docx\n"
          ]
        },
        {
          "output_type": "stream",
          "name": "stdout",
          "text": [
            "⬇️  Downloading 12.docx: 100%\r"
          ]
        },
        {
          "output_type": "stream",
          "name": "stderr",
          "text": [
            "INFO:__main__:✅ Downloaded 05.docx to /content/reports/2013/05.docx\n"
          ]
        },
        {
          "output_type": "stream",
          "name": "stdout",
          "text": [
            "⬇️  Downloading 05.docx: 100%\r"
          ]
        },
        {
          "output_type": "stream",
          "name": "stderr",
          "text": [
            "INFO:__main__:✅ Downloaded 08.docx to /content/reports/2013/08.docx\n"
          ]
        },
        {
          "output_type": "stream",
          "name": "stdout",
          "text": [
            "⬇️  Downloading 08.docx: 100%\r"
          ]
        },
        {
          "output_type": "stream",
          "name": "stderr",
          "text": [
            "INFO:__main__:✅ Downloaded 10.docx to /content/reports/2013/10.docx\n"
          ]
        },
        {
          "output_type": "stream",
          "name": "stdout",
          "text": [
            "⬇️  Downloading 10.docx: 100%\r"
          ]
        },
        {
          "output_type": "stream",
          "name": "stderr",
          "text": [
            "INFO:__main__:✅ Downloaded 03.docx to /content/reports/2013/03.docx\n"
          ]
        },
        {
          "output_type": "stream",
          "name": "stdout",
          "text": [
            "⬇️  Downloading 03.docx: 100%\r"
          ]
        },
        {
          "output_type": "stream",
          "name": "stderr",
          "text": [
            "INFO:__main__:✅ Downloaded 06.docx to /content/reports/2013/06.docx\n"
          ]
        },
        {
          "output_type": "stream",
          "name": "stdout",
          "text": [
            "⬇️  Downloading 06.docx: 100%\r"
          ]
        },
        {
          "output_type": "stream",
          "name": "stderr",
          "text": [
            "INFO:__main__:✅ Downloaded 11.docx to /content/reports/2006/11.docx\n"
          ]
        },
        {
          "output_type": "stream",
          "name": "stdout",
          "text": [
            "⬇️  Downloading 11.docx: 100%\r"
          ]
        },
        {
          "output_type": "stream",
          "name": "stderr",
          "text": [
            "INFO:__main__:✅ Downloaded 01.docx to /content/reports/2006/01.docx\n"
          ]
        },
        {
          "output_type": "stream",
          "name": "stdout",
          "text": [
            "⬇️  Downloading 01.docx: 100%\r"
          ]
        },
        {
          "output_type": "stream",
          "name": "stderr",
          "text": [
            "INFO:__main__:✅ Downloaded 15.docx to /content/reports/2006/15.docx\n"
          ]
        },
        {
          "output_type": "stream",
          "name": "stdout",
          "text": [
            "⬇️  Downloading 15.docx: 100%\r"
          ]
        },
        {
          "output_type": "stream",
          "name": "stderr",
          "text": [
            "INFO:__main__:✅ Downloaded 14.docx to /content/reports/2006/14.docx\n"
          ]
        },
        {
          "output_type": "stream",
          "name": "stdout",
          "text": [
            "⬇️  Downloading 14.docx: 100%\r"
          ]
        },
        {
          "output_type": "stream",
          "name": "stderr",
          "text": [
            "INFO:__main__:✅ Downloaded 02.docx to /content/reports/2006/02.docx\n"
          ]
        },
        {
          "output_type": "stream",
          "name": "stdout",
          "text": [
            "⬇️  Downloading 02.docx: 100%\r"
          ]
        },
        {
          "output_type": "stream",
          "name": "stderr",
          "text": [
            "INFO:__main__:✅ Downloaded 09.docx to /content/reports/2006/09.docx\n"
          ]
        },
        {
          "output_type": "stream",
          "name": "stdout",
          "text": [
            "⬇️  Downloading 09.docx: 100%\r"
          ]
        },
        {
          "output_type": "stream",
          "name": "stderr",
          "text": [
            "INFO:__main__:✅ Downloaded 07.docx to /content/reports/2006/07.docx\n"
          ]
        },
        {
          "output_type": "stream",
          "name": "stdout",
          "text": [
            "⬇️  Downloading 07.docx: 100%\r"
          ]
        },
        {
          "output_type": "stream",
          "name": "stderr",
          "text": [
            "INFO:__main__:✅ Downloaded 13.docx to /content/reports/2006/13.docx\n"
          ]
        },
        {
          "output_type": "stream",
          "name": "stdout",
          "text": [
            "⬇️  Downloading 13.docx: 100%\r"
          ]
        },
        {
          "output_type": "stream",
          "name": "stderr",
          "text": [
            "INFO:__main__:✅ Downloaded 04.docx to /content/reports/2006/04.docx\n"
          ]
        },
        {
          "output_type": "stream",
          "name": "stdout",
          "text": [
            "⬇️  Downloading 04.docx: 100%\r"
          ]
        },
        {
          "output_type": "stream",
          "name": "stderr",
          "text": [
            "INFO:__main__:✅ Downloaded 12.docx to /content/reports/2006/12.docx\n"
          ]
        },
        {
          "output_type": "stream",
          "name": "stdout",
          "text": [
            "⬇️  Downloading 12.docx: 100%\r"
          ]
        },
        {
          "output_type": "stream",
          "name": "stderr",
          "text": [
            "INFO:__main__:✅ Downloaded 05.docx to /content/reports/2006/05.docx\n"
          ]
        },
        {
          "output_type": "stream",
          "name": "stdout",
          "text": [
            "⬇️  Downloading 05.docx: 100%\r"
          ]
        },
        {
          "output_type": "stream",
          "name": "stderr",
          "text": [
            "INFO:__main__:✅ Downloaded 08.docx to /content/reports/2006/08.docx\n"
          ]
        },
        {
          "output_type": "stream",
          "name": "stdout",
          "text": [
            "⬇️  Downloading 08.docx: 100%\r"
          ]
        },
        {
          "output_type": "stream",
          "name": "stderr",
          "text": [
            "INFO:__main__:✅ Downloaded 10.docx to /content/reports/2006/10.docx\n"
          ]
        },
        {
          "output_type": "stream",
          "name": "stdout",
          "text": [
            "⬇️  Downloading 10.docx: 100%\r"
          ]
        },
        {
          "output_type": "stream",
          "name": "stderr",
          "text": [
            "INFO:__main__:✅ Downloaded 03.docx to /content/reports/2006/03.docx\n"
          ]
        },
        {
          "output_type": "stream",
          "name": "stdout",
          "text": [
            "⬇️  Downloading 03.docx: 100%\r"
          ]
        },
        {
          "output_type": "stream",
          "name": "stderr",
          "text": [
            "INFO:__main__:✅ Downloaded 06.docx to /content/reports/2006/06.docx\n"
          ]
        },
        {
          "output_type": "stream",
          "name": "stdout",
          "text": [
            "⬇️  Downloading 06.docx: 100%\r"
          ]
        },
        {
          "output_type": "stream",
          "name": "stderr",
          "text": [
            "INFO:__main__:✅ Downloaded 11.docx to /content/reports/2007/11.docx\n"
          ]
        },
        {
          "output_type": "stream",
          "name": "stdout",
          "text": [
            "⬇️  Downloading 11.docx: 100%\r"
          ]
        },
        {
          "output_type": "stream",
          "name": "stderr",
          "text": [
            "INFO:__main__:✅ Downloaded 01.docx to /content/reports/2007/01.docx\n"
          ]
        },
        {
          "output_type": "stream",
          "name": "stdout",
          "text": [
            "⬇️  Downloading 01.docx: 100%\r"
          ]
        },
        {
          "output_type": "stream",
          "name": "stderr",
          "text": [
            "INFO:__main__:✅ Downloaded 15.docx to /content/reports/2007/15.docx\n"
          ]
        },
        {
          "output_type": "stream",
          "name": "stdout",
          "text": [
            "⬇️  Downloading 15.docx: 100%\r"
          ]
        },
        {
          "output_type": "stream",
          "name": "stderr",
          "text": [
            "INFO:__main__:✅ Downloaded 14.docx to /content/reports/2007/14.docx\n"
          ]
        },
        {
          "output_type": "stream",
          "name": "stdout",
          "text": [
            "⬇️  Downloading 14.docx: 100%\r"
          ]
        },
        {
          "output_type": "stream",
          "name": "stderr",
          "text": [
            "INFO:__main__:✅ Downloaded 02.docx to /content/reports/2007/02.docx\n"
          ]
        },
        {
          "output_type": "stream",
          "name": "stdout",
          "text": [
            "⬇️  Downloading 02.docx: 100%\r"
          ]
        },
        {
          "output_type": "stream",
          "name": "stderr",
          "text": [
            "INFO:__main__:✅ Downloaded 09.docx to /content/reports/2007/09.docx\n"
          ]
        },
        {
          "output_type": "stream",
          "name": "stdout",
          "text": [
            "⬇️  Downloading 09.docx: 100%\r"
          ]
        },
        {
          "output_type": "stream",
          "name": "stderr",
          "text": [
            "INFO:__main__:✅ Downloaded 07.docx to /content/reports/2007/07.docx\n"
          ]
        },
        {
          "output_type": "stream",
          "name": "stdout",
          "text": [
            "⬇️  Downloading 07.docx: 100%\r"
          ]
        },
        {
          "output_type": "stream",
          "name": "stderr",
          "text": [
            "INFO:__main__:✅ Downloaded 13.docx to /content/reports/2007/13.docx\n"
          ]
        },
        {
          "output_type": "stream",
          "name": "stdout",
          "text": [
            "⬇️  Downloading 13.docx: 100%\r"
          ]
        },
        {
          "output_type": "stream",
          "name": "stderr",
          "text": [
            "INFO:__main__:✅ Downloaded 04.docx to /content/reports/2007/04.docx\n"
          ]
        },
        {
          "output_type": "stream",
          "name": "stdout",
          "text": [
            "⬇️  Downloading 04.docx: 100%\r"
          ]
        },
        {
          "output_type": "stream",
          "name": "stderr",
          "text": [
            "INFO:__main__:✅ Downloaded 12.docx to /content/reports/2007/12.docx\n"
          ]
        },
        {
          "output_type": "stream",
          "name": "stdout",
          "text": [
            "⬇️  Downloading 12.docx: 100%\r"
          ]
        },
        {
          "output_type": "stream",
          "name": "stderr",
          "text": [
            "INFO:__main__:✅ Downloaded 05.docx to /content/reports/2007/05.docx\n"
          ]
        },
        {
          "output_type": "stream",
          "name": "stdout",
          "text": [
            "⬇️  Downloading 05.docx: 100%\r"
          ]
        },
        {
          "output_type": "stream",
          "name": "stderr",
          "text": [
            "INFO:__main__:✅ Downloaded 08.docx to /content/reports/2007/08.docx\n"
          ]
        },
        {
          "output_type": "stream",
          "name": "stdout",
          "text": [
            "⬇️  Downloading 08.docx: 100%\r"
          ]
        },
        {
          "output_type": "stream",
          "name": "stderr",
          "text": [
            "INFO:__main__:✅ Downloaded 10.docx to /content/reports/2007/10.docx\n"
          ]
        },
        {
          "output_type": "stream",
          "name": "stdout",
          "text": [
            "⬇️  Downloading 10.docx: 100%\r"
          ]
        },
        {
          "output_type": "stream",
          "name": "stderr",
          "text": [
            "INFO:__main__:✅ Downloaded 03.docx to /content/reports/2007/03.docx\n"
          ]
        },
        {
          "output_type": "stream",
          "name": "stdout",
          "text": [
            "⬇️  Downloading 03.docx: 100%\r"
          ]
        },
        {
          "output_type": "stream",
          "name": "stderr",
          "text": [
            "INFO:__main__:✅ Downloaded 06.docx to /content/reports/2007/06.docx\n"
          ]
        },
        {
          "output_type": "stream",
          "name": "stdout",
          "text": [
            "⬇️  Downloading 06.docx: 100%\r"
          ]
        },
        {
          "output_type": "stream",
          "name": "stderr",
          "text": [
            "INFO:__main__:✅ Downloaded 11.docx to /content/reports/2008/11.docx\n"
          ]
        },
        {
          "output_type": "stream",
          "name": "stdout",
          "text": [
            "⬇️  Downloading 11.docx: 100%\r"
          ]
        },
        {
          "output_type": "stream",
          "name": "stderr",
          "text": [
            "INFO:__main__:✅ Downloaded 01.docx to /content/reports/2008/01.docx\n"
          ]
        },
        {
          "output_type": "stream",
          "name": "stdout",
          "text": [
            "⬇️  Downloading 01.docx: 100%\r"
          ]
        },
        {
          "output_type": "stream",
          "name": "stderr",
          "text": [
            "INFO:__main__:✅ Downloaded 15.docx to /content/reports/2008/15.docx\n"
          ]
        },
        {
          "output_type": "stream",
          "name": "stdout",
          "text": [
            "⬇️  Downloading 15.docx: 100%\r"
          ]
        },
        {
          "output_type": "stream",
          "name": "stderr",
          "text": [
            "INFO:__main__:✅ Downloaded 14.docx to /content/reports/2008/14.docx\n"
          ]
        },
        {
          "output_type": "stream",
          "name": "stdout",
          "text": [
            "⬇️  Downloading 14.docx: 100%\r"
          ]
        },
        {
          "output_type": "stream",
          "name": "stderr",
          "text": [
            "INFO:__main__:✅ Downloaded 02.docx to /content/reports/2008/02.docx\n"
          ]
        },
        {
          "output_type": "stream",
          "name": "stdout",
          "text": [
            "⬇️  Downloading 02.docx: 100%\r"
          ]
        },
        {
          "output_type": "stream",
          "name": "stderr",
          "text": [
            "INFO:__main__:✅ Downloaded 09.docx to /content/reports/2008/09.docx\n"
          ]
        },
        {
          "output_type": "stream",
          "name": "stdout",
          "text": [
            "⬇️  Downloading 09.docx: 100%\r"
          ]
        },
        {
          "output_type": "stream",
          "name": "stderr",
          "text": [
            "INFO:__main__:✅ Downloaded 07.docx to /content/reports/2008/07.docx\n"
          ]
        },
        {
          "output_type": "stream",
          "name": "stdout",
          "text": [
            "⬇️  Downloading 07.docx: 100%\r"
          ]
        },
        {
          "output_type": "stream",
          "name": "stderr",
          "text": [
            "INFO:__main__:✅ Downloaded 13.docx to /content/reports/2008/13.docx\n"
          ]
        },
        {
          "output_type": "stream",
          "name": "stdout",
          "text": [
            "⬇️  Downloading 13.docx: 100%\r"
          ]
        },
        {
          "output_type": "stream",
          "name": "stderr",
          "text": [
            "INFO:__main__:✅ Downloaded 04.docx to /content/reports/2008/04.docx\n"
          ]
        },
        {
          "output_type": "stream",
          "name": "stdout",
          "text": [
            "⬇️  Downloading 04.docx: 100%\r"
          ]
        },
        {
          "output_type": "stream",
          "name": "stderr",
          "text": [
            "INFO:__main__:✅ Downloaded 12.docx to /content/reports/2008/12.docx\n"
          ]
        },
        {
          "output_type": "stream",
          "name": "stdout",
          "text": [
            "⬇️  Downloading 12.docx: 100%\r"
          ]
        },
        {
          "output_type": "stream",
          "name": "stderr",
          "text": [
            "INFO:__main__:✅ Downloaded 05.docx to /content/reports/2008/05.docx\n"
          ]
        },
        {
          "output_type": "stream",
          "name": "stdout",
          "text": [
            "⬇️  Downloading 05.docx: 100%\r"
          ]
        },
        {
          "output_type": "stream",
          "name": "stderr",
          "text": [
            "INFO:__main__:✅ Downloaded 08.docx to /content/reports/2008/08.docx\n"
          ]
        },
        {
          "output_type": "stream",
          "name": "stdout",
          "text": [
            "⬇️  Downloading 08.docx: 100%\r"
          ]
        },
        {
          "output_type": "stream",
          "name": "stderr",
          "text": [
            "INFO:__main__:✅ Downloaded 10.docx to /content/reports/2008/10.docx\n"
          ]
        },
        {
          "output_type": "stream",
          "name": "stdout",
          "text": [
            "⬇️  Downloading 10.docx: 100%\r"
          ]
        },
        {
          "output_type": "stream",
          "name": "stderr",
          "text": [
            "INFO:__main__:✅ Downloaded 03.docx to /content/reports/2008/03.docx\n"
          ]
        },
        {
          "output_type": "stream",
          "name": "stdout",
          "text": [
            "⬇️  Downloading 03.docx: 100%\r"
          ]
        },
        {
          "output_type": "stream",
          "name": "stderr",
          "text": [
            "INFO:__main__:✅ Downloaded 06.docx to /content/reports/2008/06.docx\n"
          ]
        },
        {
          "output_type": "stream",
          "name": "stdout",
          "text": [
            "⬇️  Downloading 06.docx: 100%\r"
          ]
        },
        {
          "output_type": "stream",
          "name": "stderr",
          "text": [
            "INFO:__main__:✅ Downloaded 01.docx to /content/reports/2001/01.docx\n"
          ]
        },
        {
          "output_type": "stream",
          "name": "stdout",
          "text": [
            "⬇️  Downloading 01.docx: 100%\r"
          ]
        },
        {
          "output_type": "stream",
          "name": "stderr",
          "text": [
            "INFO:__main__:✅ Downloaded 11.docx to /content/reports/2001/11.docx\n"
          ]
        },
        {
          "output_type": "stream",
          "name": "stdout",
          "text": [
            "⬇️  Downloading 11.docx: 100%\r"
          ]
        },
        {
          "output_type": "stream",
          "name": "stderr",
          "text": [
            "INFO:__main__:✅ Downloaded 15.docx to /content/reports/2001/15.docx\n"
          ]
        },
        {
          "output_type": "stream",
          "name": "stdout",
          "text": [
            "⬇️  Downloading 15.docx: 100%\r"
          ]
        },
        {
          "output_type": "stream",
          "name": "stderr",
          "text": [
            "INFO:__main__:✅ Downloaded 14.docx to /content/reports/2001/14.docx\n"
          ]
        },
        {
          "output_type": "stream",
          "name": "stdout",
          "text": [
            "⬇️  Downloading 14.docx: 100%\r"
          ]
        },
        {
          "output_type": "stream",
          "name": "stderr",
          "text": [
            "INFO:__main__:✅ Downloaded 02.docx to /content/reports/2001/02.docx\n"
          ]
        },
        {
          "output_type": "stream",
          "name": "stdout",
          "text": [
            "⬇️  Downloading 02.docx: 100%\r"
          ]
        },
        {
          "output_type": "stream",
          "name": "stderr",
          "text": [
            "INFO:__main__:✅ Downloaded 09.docx to /content/reports/2001/09.docx\n"
          ]
        },
        {
          "output_type": "stream",
          "name": "stdout",
          "text": [
            "⬇️  Downloading 09.docx: 100%\r"
          ]
        },
        {
          "output_type": "stream",
          "name": "stderr",
          "text": [
            "INFO:__main__:✅ Downloaded 07.docx to /content/reports/2001/07.docx\n"
          ]
        },
        {
          "output_type": "stream",
          "name": "stdout",
          "text": [
            "⬇️  Downloading 07.docx: 100%\r"
          ]
        },
        {
          "output_type": "stream",
          "name": "stderr",
          "text": [
            "INFO:__main__:✅ Downloaded 13.docx to /content/reports/2001/13.docx\n"
          ]
        },
        {
          "output_type": "stream",
          "name": "stdout",
          "text": [
            "⬇️  Downloading 13.docx: 100%\r"
          ]
        },
        {
          "output_type": "stream",
          "name": "stderr",
          "text": [
            "INFO:__main__:✅ Downloaded 04.docx to /content/reports/2001/04.docx\n"
          ]
        },
        {
          "output_type": "stream",
          "name": "stdout",
          "text": [
            "⬇️  Downloading 04.docx: 100%\r"
          ]
        },
        {
          "output_type": "stream",
          "name": "stderr",
          "text": [
            "INFO:__main__:✅ Downloaded 12.docx to /content/reports/2001/12.docx\n"
          ]
        },
        {
          "output_type": "stream",
          "name": "stdout",
          "text": [
            "⬇️  Downloading 12.docx: 100%\r"
          ]
        },
        {
          "output_type": "stream",
          "name": "stderr",
          "text": [
            "INFO:__main__:✅ Downloaded 05.docx to /content/reports/2001/05.docx\n"
          ]
        },
        {
          "output_type": "stream",
          "name": "stdout",
          "text": [
            "⬇️  Downloading 05.docx: 100%\r"
          ]
        },
        {
          "output_type": "stream",
          "name": "stderr",
          "text": [
            "INFO:__main__:✅ Downloaded 08.docx to /content/reports/2001/08.docx\n"
          ]
        },
        {
          "output_type": "stream",
          "name": "stdout",
          "text": [
            "⬇️  Downloading 08.docx: 100%\r"
          ]
        },
        {
          "output_type": "stream",
          "name": "stderr",
          "text": [
            "INFO:__main__:✅ Downloaded 10.docx to /content/reports/2001/10.docx\n"
          ]
        },
        {
          "output_type": "stream",
          "name": "stdout",
          "text": [
            "⬇️  Downloading 10.docx: 100%\r"
          ]
        },
        {
          "output_type": "stream",
          "name": "stderr",
          "text": [
            "INFO:__main__:✅ Downloaded 03.docx to /content/reports/2001/03.docx\n"
          ]
        },
        {
          "output_type": "stream",
          "name": "stdout",
          "text": [
            "⬇️  Downloading 03.docx: 100%\r"
          ]
        },
        {
          "output_type": "stream",
          "name": "stderr",
          "text": [
            "INFO:__main__:✅ Downloaded 06.docx to /content/reports/2001/06.docx\n"
          ]
        },
        {
          "output_type": "stream",
          "name": "stdout",
          "text": [
            "⬇️  Downloading 06.docx: 100%\r"
          ]
        },
        {
          "output_type": "stream",
          "name": "stderr",
          "text": [
            "INFO:__main__:✅ Downloaded 13.docx to /content/reports/2024/13.docx\n"
          ]
        },
        {
          "output_type": "stream",
          "name": "stdout",
          "text": [
            "⬇️  Downloading 13.docx: 100%\r"
          ]
        },
        {
          "output_type": "stream",
          "name": "stderr",
          "text": [
            "INFO:__main__:✅ Downloaded 11.docx to /content/reports/2024/11.docx\n"
          ]
        },
        {
          "output_type": "stream",
          "name": "stdout",
          "text": [
            "⬇️  Downloading 11.docx: 100%\r"
          ]
        },
        {
          "output_type": "stream",
          "name": "stderr",
          "text": [
            "INFO:__main__:✅ Downloaded 01.docx to /content/reports/2024/01.docx\n"
          ]
        },
        {
          "output_type": "stream",
          "name": "stdout",
          "text": [
            "⬇️  Downloading 01.docx: 100%\r"
          ]
        },
        {
          "output_type": "stream",
          "name": "stderr",
          "text": [
            "INFO:__main__:✅ Downloaded 14.docx to /content/reports/2024/14.docx\n"
          ]
        },
        {
          "output_type": "stream",
          "name": "stdout",
          "text": [
            "⬇️  Downloading 14.docx: 100%\r"
          ]
        },
        {
          "output_type": "stream",
          "name": "stderr",
          "text": [
            "INFO:__main__:✅ Downloaded 02.docx to /content/reports/2024/02.docx\n"
          ]
        },
        {
          "output_type": "stream",
          "name": "stdout",
          "text": [
            "⬇️  Downloading 02.docx: 100%\r"
          ]
        },
        {
          "output_type": "stream",
          "name": "stderr",
          "text": [
            "INFO:__main__:✅ Downloaded 09.docx to /content/reports/2024/09.docx\n"
          ]
        },
        {
          "output_type": "stream",
          "name": "stdout",
          "text": [
            "⬇️  Downloading 09.docx: 100%\r"
          ]
        },
        {
          "output_type": "stream",
          "name": "stderr",
          "text": [
            "INFO:__main__:✅ Downloaded 07.docx to /content/reports/2024/07.docx\n"
          ]
        },
        {
          "output_type": "stream",
          "name": "stdout",
          "text": [
            "⬇️  Downloading 07.docx: 100%\r"
          ]
        },
        {
          "output_type": "stream",
          "name": "stderr",
          "text": [
            "INFO:__main__:✅ Downloaded 04.docx to /content/reports/2024/04.docx\n"
          ]
        },
        {
          "output_type": "stream",
          "name": "stdout",
          "text": [
            "⬇️  Downloading 04.docx: 100%\r"
          ]
        },
        {
          "output_type": "stream",
          "name": "stderr",
          "text": [
            "INFO:__main__:✅ Downloaded 12.docx to /content/reports/2024/12.docx\n"
          ]
        },
        {
          "output_type": "stream",
          "name": "stdout",
          "text": [
            "⬇️  Downloading 12.docx: 100%\r"
          ]
        },
        {
          "output_type": "stream",
          "name": "stderr",
          "text": [
            "INFO:__main__:✅ Downloaded 05.docx to /content/reports/2024/05.docx\n"
          ]
        },
        {
          "output_type": "stream",
          "name": "stdout",
          "text": [
            "⬇️  Downloading 05.docx: 100%\r"
          ]
        },
        {
          "output_type": "stream",
          "name": "stderr",
          "text": [
            "INFO:__main__:✅ Downloaded 08.docx to /content/reports/2024/08.docx\n"
          ]
        },
        {
          "output_type": "stream",
          "name": "stdout",
          "text": [
            "⬇️  Downloading 08.docx: 100%\r"
          ]
        },
        {
          "output_type": "stream",
          "name": "stderr",
          "text": [
            "INFO:__main__:✅ Downloaded 10.docx to /content/reports/2024/10.docx\n"
          ]
        },
        {
          "output_type": "stream",
          "name": "stdout",
          "text": [
            "⬇️  Downloading 10.docx: 100%\r"
          ]
        },
        {
          "output_type": "stream",
          "name": "stderr",
          "text": [
            "INFO:__main__:✅ Downloaded 03.docx to /content/reports/2024/03.docx\n"
          ]
        },
        {
          "output_type": "stream",
          "name": "stdout",
          "text": [
            "⬇️  Downloading 03.docx: 100%\r"
          ]
        },
        {
          "output_type": "stream",
          "name": "stderr",
          "text": [
            "INFO:__main__:✅ Downloaded 06.docx to /content/reports/2024/06.docx\n"
          ]
        },
        {
          "output_type": "stream",
          "name": "stdout",
          "text": [
            "⬇️  Downloading 06.docx: 100%\r"
          ]
        },
        {
          "output_type": "stream",
          "name": "stderr",
          "text": [
            "INFO:__main__:✅ Downloaded 11.docx to /content/reports/2022/11.docx\n"
          ]
        },
        {
          "output_type": "stream",
          "name": "stdout",
          "text": [
            "⬇️  Downloading 11.docx: 100%\r"
          ]
        },
        {
          "output_type": "stream",
          "name": "stderr",
          "text": [
            "INFO:__main__:✅ Downloaded 01.docx to /content/reports/2022/01.docx\n"
          ]
        },
        {
          "output_type": "stream",
          "name": "stdout",
          "text": [
            "⬇️  Downloading 01.docx: 100%\r"
          ]
        },
        {
          "output_type": "stream",
          "name": "stderr",
          "text": [
            "INFO:__main__:✅ Downloaded 14.docx to /content/reports/2022/14.docx\n"
          ]
        },
        {
          "output_type": "stream",
          "name": "stdout",
          "text": [
            "⬇️  Downloading 14.docx: 100%\r"
          ]
        },
        {
          "output_type": "stream",
          "name": "stderr",
          "text": [
            "INFO:__main__:✅ Downloaded 02.docx to /content/reports/2022/02.docx\n"
          ]
        },
        {
          "output_type": "stream",
          "name": "stdout",
          "text": [
            "⬇️  Downloading 02.docx: 100%\r"
          ]
        },
        {
          "output_type": "stream",
          "name": "stderr",
          "text": [
            "INFO:__main__:✅ Downloaded 09.docx to /content/reports/2022/09.docx\n"
          ]
        },
        {
          "output_type": "stream",
          "name": "stdout",
          "text": [
            "⬇️  Downloading 09.docx: 100%\r"
          ]
        },
        {
          "output_type": "stream",
          "name": "stderr",
          "text": [
            "INFO:__main__:✅ Downloaded 07.docx to /content/reports/2022/07.docx\n"
          ]
        },
        {
          "output_type": "stream",
          "name": "stdout",
          "text": [
            "⬇️  Downloading 07.docx: 100%\r"
          ]
        },
        {
          "output_type": "stream",
          "name": "stderr",
          "text": [
            "INFO:__main__:✅ Downloaded 13.docx to /content/reports/2022/13.docx\n"
          ]
        },
        {
          "output_type": "stream",
          "name": "stdout",
          "text": [
            "⬇️  Downloading 13.docx: 100%\r"
          ]
        },
        {
          "output_type": "stream",
          "name": "stderr",
          "text": [
            "INFO:__main__:✅ Downloaded 04.docx to /content/reports/2022/04.docx\n"
          ]
        },
        {
          "output_type": "stream",
          "name": "stdout",
          "text": [
            "⬇️  Downloading 04.docx: 100%\r"
          ]
        },
        {
          "output_type": "stream",
          "name": "stderr",
          "text": [
            "INFO:__main__:✅ Downloaded 12.docx to /content/reports/2022/12.docx\n"
          ]
        },
        {
          "output_type": "stream",
          "name": "stdout",
          "text": [
            "⬇️  Downloading 12.docx: 100%\r"
          ]
        },
        {
          "output_type": "stream",
          "name": "stderr",
          "text": [
            "INFO:__main__:✅ Downloaded 05.docx to /content/reports/2022/05.docx\n"
          ]
        },
        {
          "output_type": "stream",
          "name": "stdout",
          "text": [
            "⬇️  Downloading 05.docx: 100%\r"
          ]
        },
        {
          "output_type": "stream",
          "name": "stderr",
          "text": [
            "INFO:__main__:✅ Downloaded 08.docx to /content/reports/2022/08.docx\n"
          ]
        },
        {
          "output_type": "stream",
          "name": "stdout",
          "text": [
            "⬇️  Downloading 08.docx: 100%\r"
          ]
        },
        {
          "output_type": "stream",
          "name": "stderr",
          "text": [
            "INFO:__main__:✅ Downloaded 10.docx to /content/reports/2022/10.docx\n"
          ]
        },
        {
          "output_type": "stream",
          "name": "stdout",
          "text": [
            "⬇️  Downloading 10.docx: 100%\r"
          ]
        },
        {
          "output_type": "stream",
          "name": "stderr",
          "text": [
            "INFO:__main__:✅ Downloaded 03.docx to /content/reports/2022/03.docx\n"
          ]
        },
        {
          "output_type": "stream",
          "name": "stdout",
          "text": [
            "⬇️  Downloading 03.docx: 100%\r"
          ]
        },
        {
          "output_type": "stream",
          "name": "stderr",
          "text": [
            "INFO:__main__:✅ Downloaded 06.docx to /content/reports/2022/06.docx\n"
          ]
        },
        {
          "output_type": "stream",
          "name": "stdout",
          "text": [
            "⬇️  Downloading 06.docx: 100%\r"
          ]
        },
        {
          "output_type": "stream",
          "name": "stderr",
          "text": [
            "INFO:__main__:✅ Downloaded 14.docx to /content/reports/2023/14.docx\n"
          ]
        },
        {
          "output_type": "stream",
          "name": "stdout",
          "text": [
            "⬇️  Downloading 14.docx: 100%\r"
          ]
        },
        {
          "output_type": "stream",
          "name": "stderr",
          "text": [
            "INFO:__main__:✅ Downloaded 13.docx to /content/reports/2023/13.docx\n"
          ]
        },
        {
          "output_type": "stream",
          "name": "stdout",
          "text": [
            "⬇️  Downloading 13.docx: 100%\r"
          ]
        },
        {
          "output_type": "stream",
          "name": "stderr",
          "text": [
            "INFO:__main__:✅ Downloaded 12.docx to /content/reports/2023/12.docx\n"
          ]
        },
        {
          "output_type": "stream",
          "name": "stdout",
          "text": [
            "⬇️  Downloading 12.docx: 100%\r"
          ]
        },
        {
          "output_type": "stream",
          "name": "stderr",
          "text": [
            "INFO:__main__:✅ Downloaded 11.docx to /content/reports/2023/11.docx\n"
          ]
        },
        {
          "output_type": "stream",
          "name": "stdout",
          "text": [
            "⬇️  Downloading 11.docx: 100%\r"
          ]
        },
        {
          "output_type": "stream",
          "name": "stderr",
          "text": [
            "INFO:__main__:✅ Downloaded 09.docx to /content/reports/2023/09.docx\n"
          ]
        },
        {
          "output_type": "stream",
          "name": "stdout",
          "text": [
            "⬇️  Downloading 09.docx: 100%\r"
          ]
        },
        {
          "output_type": "stream",
          "name": "stderr",
          "text": [
            "INFO:__main__:✅ Downloaded 10.docx to /content/reports/2023/10.docx\n"
          ]
        },
        {
          "output_type": "stream",
          "name": "stdout",
          "text": [
            "⬇️  Downloading 10.docx: 100%\r"
          ]
        },
        {
          "output_type": "stream",
          "name": "stderr",
          "text": [
            "INFO:__main__:✅ Downloaded 08.docx to /content/reports/2023/08.docx\n"
          ]
        },
        {
          "output_type": "stream",
          "name": "stdout",
          "text": [
            "⬇️  Downloading 08.docx: 100%\r"
          ]
        },
        {
          "output_type": "stream",
          "name": "stderr",
          "text": [
            "INFO:__main__:✅ Downloaded 07.docx to /content/reports/2023/07.docx\n"
          ]
        },
        {
          "output_type": "stream",
          "name": "stdout",
          "text": [
            "⬇️  Downloading 07.docx: 100%\r"
          ]
        },
        {
          "output_type": "stream",
          "name": "stderr",
          "text": [
            "INFO:__main__:✅ Downloaded 06.docx to /content/reports/2023/06.docx\n"
          ]
        },
        {
          "output_type": "stream",
          "name": "stdout",
          "text": [
            "⬇️  Downloading 06.docx: 100%\r"
          ]
        },
        {
          "output_type": "stream",
          "name": "stderr",
          "text": [
            "INFO:__main__:✅ Downloaded 05.docx to /content/reports/2023/05.docx\n"
          ]
        },
        {
          "output_type": "stream",
          "name": "stdout",
          "text": [
            "⬇️  Downloading 05.docx: 100%\r"
          ]
        },
        {
          "output_type": "stream",
          "name": "stderr",
          "text": [
            "INFO:__main__:✅ Downloaded 04.docx to /content/reports/2023/04.docx\n"
          ]
        },
        {
          "output_type": "stream",
          "name": "stdout",
          "text": [
            "⬇️  Downloading 04.docx: 100%\r"
          ]
        },
        {
          "output_type": "stream",
          "name": "stderr",
          "text": [
            "INFO:__main__:✅ Downloaded 03.docx to /content/reports/2023/03.docx\n"
          ]
        },
        {
          "output_type": "stream",
          "name": "stdout",
          "text": [
            "⬇️  Downloading 03.docx: 100%\r"
          ]
        },
        {
          "output_type": "stream",
          "name": "stderr",
          "text": [
            "INFO:__main__:✅ Downloaded 02.docx to /content/reports/2023/02.docx\n"
          ]
        },
        {
          "output_type": "stream",
          "name": "stdout",
          "text": [
            "⬇️  Downloading 02.docx: 100%\r"
          ]
        },
        {
          "output_type": "stream",
          "name": "stderr",
          "text": [
            "INFO:__main__:✅ Downloaded 01.docx to /content/reports/2023/01.docx\n"
          ]
        },
        {
          "output_type": "stream",
          "name": "stdout",
          "text": [
            "⬇️  Downloading 01.docx: 100%\r"
          ]
        },
        {
          "output_type": "stream",
          "name": "stderr",
          "text": [
            "INFO:__main__:✅ Downloaded 01.docx to /content/reports/2023/01.docx\n"
          ]
        },
        {
          "output_type": "stream",
          "name": "stdout",
          "text": [
            "⬇️  Downloading 01.docx: 100%\r"
          ]
        },
        {
          "output_type": "stream",
          "name": "stderr",
          "text": [
            "INFO:__main__:✅ Downloaded 09.docx to /content/reports/2023/09.docx\n"
          ]
        },
        {
          "output_type": "stream",
          "name": "stdout",
          "text": [
            "⬇️  Downloading 09.docx: 100%\r"
          ]
        },
        {
          "output_type": "stream",
          "name": "stderr",
          "text": [
            "INFO:__main__:✅ Downloaded 07.docx to /content/reports/2023/07.docx\n"
          ]
        },
        {
          "output_type": "stream",
          "name": "stdout",
          "text": [
            "⬇️  Downloading 07.docx: 100%\r"
          ]
        },
        {
          "output_type": "stream",
          "name": "stderr",
          "text": [
            "INFO:__main__:✅ Downloaded 04.docx to /content/reports/2023/04.docx\n"
          ]
        },
        {
          "output_type": "stream",
          "name": "stdout",
          "text": [
            "⬇️  Downloading 04.docx: 100%\r"
          ]
        },
        {
          "output_type": "stream",
          "name": "stderr",
          "text": [
            "INFO:__main__:✅ Downloaded 05.docx to /content/reports/2023/05.docx\n"
          ]
        },
        {
          "output_type": "stream",
          "name": "stdout",
          "text": [
            "⬇️  Downloading 05.docx: 100%\r"
          ]
        },
        {
          "output_type": "stream",
          "name": "stderr",
          "text": [
            "INFO:__main__:✅ Downloaded 08.docx to /content/reports/2023/08.docx\n"
          ]
        },
        {
          "output_type": "stream",
          "name": "stdout",
          "text": [
            "⬇️  Downloading 08.docx: 100%\r"
          ]
        },
        {
          "output_type": "stream",
          "name": "stderr",
          "text": [
            "INFO:__main__:✅ Downloaded 03.docx to /content/reports/2023/03.docx\n"
          ]
        },
        {
          "output_type": "stream",
          "name": "stdout",
          "text": [
            "⬇️  Downloading 03.docx: 100%\r"
          ]
        },
        {
          "output_type": "stream",
          "name": "stderr",
          "text": [
            "INFO:__main__:✅ Downloaded 06.docx to /content/reports/2023/06.docx\n"
          ]
        },
        {
          "output_type": "stream",
          "name": "stdout",
          "text": [
            "⬇️  Downloading 06.docx: 100%\r"
          ]
        },
        {
          "output_type": "stream",
          "name": "stderr",
          "text": [
            "INFO:__main__:✅ Downloaded 11.docx to /content/reports/2012/11.docx\n"
          ]
        },
        {
          "output_type": "stream",
          "name": "stdout",
          "text": [
            "⬇️  Downloading 11.docx: 100%\r"
          ]
        },
        {
          "output_type": "stream",
          "name": "stderr",
          "text": [
            "INFO:__main__:✅ Downloaded 01.docx to /content/reports/2012/01.docx\n"
          ]
        },
        {
          "output_type": "stream",
          "name": "stdout",
          "text": [
            "⬇️  Downloading 01.docx: 100%\r"
          ]
        },
        {
          "output_type": "stream",
          "name": "stderr",
          "text": [
            "INFO:__main__:✅ Downloaded 15.docx to /content/reports/2012/15.docx\n"
          ]
        },
        {
          "output_type": "stream",
          "name": "stdout",
          "text": [
            "⬇️  Downloading 15.docx: 100%\r"
          ]
        },
        {
          "output_type": "stream",
          "name": "stderr",
          "text": [
            "INFO:__main__:✅ Downloaded 14.docx to /content/reports/2012/14.docx\n"
          ]
        },
        {
          "output_type": "stream",
          "name": "stdout",
          "text": [
            "⬇️  Downloading 14.docx: 100%\r"
          ]
        },
        {
          "output_type": "stream",
          "name": "stderr",
          "text": [
            "INFO:__main__:✅ Downloaded 02.docx to /content/reports/2012/02.docx\n"
          ]
        },
        {
          "output_type": "stream",
          "name": "stdout",
          "text": [
            "⬇️  Downloading 02.docx: 100%\r"
          ]
        },
        {
          "output_type": "stream",
          "name": "stderr",
          "text": [
            "INFO:__main__:✅ Downloaded 09.docx to /content/reports/2012/09.docx\n"
          ]
        },
        {
          "output_type": "stream",
          "name": "stdout",
          "text": [
            "⬇️  Downloading 09.docx: 100%\r"
          ]
        },
        {
          "output_type": "stream",
          "name": "stderr",
          "text": [
            "INFO:__main__:✅ Downloaded 07.docx to /content/reports/2012/07.docx\n"
          ]
        },
        {
          "output_type": "stream",
          "name": "stdout",
          "text": [
            "⬇️  Downloading 07.docx: 100%\r"
          ]
        },
        {
          "output_type": "stream",
          "name": "stderr",
          "text": [
            "INFO:__main__:✅ Downloaded 13.docx to /content/reports/2012/13.docx\n"
          ]
        },
        {
          "output_type": "stream",
          "name": "stdout",
          "text": [
            "⬇️  Downloading 13.docx: 100%\r"
          ]
        },
        {
          "output_type": "stream",
          "name": "stderr",
          "text": [
            "INFO:__main__:✅ Downloaded 04.docx to /content/reports/2012/04.docx\n"
          ]
        },
        {
          "output_type": "stream",
          "name": "stdout",
          "text": [
            "⬇️  Downloading 04.docx: 100%\r"
          ]
        },
        {
          "output_type": "stream",
          "name": "stderr",
          "text": [
            "INFO:__main__:✅ Downloaded 12.docx to /content/reports/2012/12.docx\n"
          ]
        },
        {
          "output_type": "stream",
          "name": "stdout",
          "text": [
            "⬇️  Downloading 12.docx: 100%\r"
          ]
        },
        {
          "output_type": "stream",
          "name": "stderr",
          "text": [
            "INFO:__main__:✅ Downloaded 05.docx to /content/reports/2012/05.docx\n"
          ]
        },
        {
          "output_type": "stream",
          "name": "stdout",
          "text": [
            "⬇️  Downloading 05.docx: 100%\r"
          ]
        },
        {
          "output_type": "stream",
          "name": "stderr",
          "text": [
            "INFO:__main__:✅ Downloaded 08.docx to /content/reports/2012/08.docx\n"
          ]
        },
        {
          "output_type": "stream",
          "name": "stdout",
          "text": [
            "⬇️  Downloading 08.docx: 100%\r"
          ]
        },
        {
          "output_type": "stream",
          "name": "stderr",
          "text": [
            "INFO:__main__:✅ Downloaded 10.docx to /content/reports/2012/10.docx\n"
          ]
        },
        {
          "output_type": "stream",
          "name": "stdout",
          "text": [
            "⬇️  Downloading 10.docx: 100%\r"
          ]
        },
        {
          "output_type": "stream",
          "name": "stderr",
          "text": [
            "INFO:__main__:✅ Downloaded 03.docx to /content/reports/2012/03.docx\n"
          ]
        },
        {
          "output_type": "stream",
          "name": "stdout",
          "text": [
            "⬇️  Downloading 03.docx: 100%\r"
          ]
        },
        {
          "output_type": "stream",
          "name": "stderr",
          "text": [
            "INFO:__main__:✅ Downloaded 06.docx to /content/reports/2012/06.docx\n"
          ]
        },
        {
          "output_type": "stream",
          "name": "stdout",
          "text": [
            "⬇️  Downloading 06.docx: 100%\r"
          ]
        },
        {
          "output_type": "stream",
          "name": "stderr",
          "text": [
            "INFO:__main__:✅ Downloaded 11.docx to /content/reports/2014/11.docx\n"
          ]
        },
        {
          "output_type": "stream",
          "name": "stdout",
          "text": [
            "⬇️  Downloading 11.docx: 100%\r"
          ]
        },
        {
          "output_type": "stream",
          "name": "stderr",
          "text": [
            "INFO:__main__:✅ Downloaded 01.docx to /content/reports/2014/01.docx\n"
          ]
        },
        {
          "output_type": "stream",
          "name": "stdout",
          "text": [
            "⬇️  Downloading 01.docx: 100%\r"
          ]
        },
        {
          "output_type": "stream",
          "name": "stderr",
          "text": [
            "INFO:__main__:✅ Downloaded 14.docx to /content/reports/2014/14.docx\n"
          ]
        },
        {
          "output_type": "stream",
          "name": "stdout",
          "text": [
            "⬇️  Downloading 14.docx: 100%\r"
          ]
        },
        {
          "output_type": "stream",
          "name": "stderr",
          "text": [
            "INFO:__main__:✅ Downloaded 02.docx to /content/reports/2014/02.docx\n"
          ]
        },
        {
          "output_type": "stream",
          "name": "stdout",
          "text": [
            "⬇️  Downloading 02.docx: 100%\r"
          ]
        },
        {
          "output_type": "stream",
          "name": "stderr",
          "text": [
            "INFO:__main__:✅ Downloaded 09.docx to /content/reports/2014/09.docx\n"
          ]
        },
        {
          "output_type": "stream",
          "name": "stdout",
          "text": [
            "⬇️  Downloading 09.docx: 100%\r"
          ]
        },
        {
          "output_type": "stream",
          "name": "stderr",
          "text": [
            "INFO:__main__:✅ Downloaded 07.docx to /content/reports/2014/07.docx\n"
          ]
        },
        {
          "output_type": "stream",
          "name": "stdout",
          "text": [
            "⬇️  Downloading 07.docx: 100%\r"
          ]
        },
        {
          "output_type": "stream",
          "name": "stderr",
          "text": [
            "INFO:__main__:✅ Downloaded 13.docx to /content/reports/2014/13.docx\n"
          ]
        },
        {
          "output_type": "stream",
          "name": "stdout",
          "text": [
            "⬇️  Downloading 13.docx: 100%\r"
          ]
        },
        {
          "output_type": "stream",
          "name": "stderr",
          "text": [
            "INFO:__main__:✅ Downloaded 04.docx to /content/reports/2014/04.docx\n"
          ]
        },
        {
          "output_type": "stream",
          "name": "stdout",
          "text": [
            "⬇️  Downloading 04.docx: 100%\r"
          ]
        },
        {
          "output_type": "stream",
          "name": "stderr",
          "text": [
            "INFO:__main__:✅ Downloaded 12.docx to /content/reports/2014/12.docx\n"
          ]
        },
        {
          "output_type": "stream",
          "name": "stdout",
          "text": [
            "⬇️  Downloading 12.docx: 100%\r"
          ]
        },
        {
          "output_type": "stream",
          "name": "stderr",
          "text": [
            "INFO:__main__:✅ Downloaded 05.docx to /content/reports/2014/05.docx\n"
          ]
        },
        {
          "output_type": "stream",
          "name": "stdout",
          "text": [
            "⬇️  Downloading 05.docx: 100%\r"
          ]
        },
        {
          "output_type": "stream",
          "name": "stderr",
          "text": [
            "INFO:__main__:✅ Downloaded 08.docx to /content/reports/2014/08.docx\n"
          ]
        },
        {
          "output_type": "stream",
          "name": "stdout",
          "text": [
            "⬇️  Downloading 08.docx: 100%\r"
          ]
        },
        {
          "output_type": "stream",
          "name": "stderr",
          "text": [
            "INFO:__main__:✅ Downloaded 10.docx to /content/reports/2014/10.docx\n"
          ]
        },
        {
          "output_type": "stream",
          "name": "stdout",
          "text": [
            "⬇️  Downloading 10.docx: 100%\r"
          ]
        },
        {
          "output_type": "stream",
          "name": "stderr",
          "text": [
            "INFO:__main__:✅ Downloaded 03.docx to /content/reports/2014/03.docx\n"
          ]
        },
        {
          "output_type": "stream",
          "name": "stdout",
          "text": [
            "⬇️  Downloading 03.docx: 100%\r"
          ]
        },
        {
          "output_type": "stream",
          "name": "stderr",
          "text": [
            "INFO:__main__:✅ Downloaded 06.docx to /content/reports/2014/06.docx\n",
            "INFO:__main__:✅ Download complete: 361/361 files\n"
          ]
        },
        {
          "output_type": "stream",
          "name": "stdout",
          "text": [
            "⬇️  Downloading 06.docx: 100%\rDownloaded 361 files\n"
          ]
        }
      ]
    },
    {
      "cell_type": "markdown",
      "source": [
        "# Old code for extracting tables\n"
      ],
      "metadata": {
        "id": "z0yPrPrpcfVB"
      }
    },
    {
      "cell_type": "code",
      "source": [
        "import os\n",
        "import json\n",
        "import pandas as pd\n",
        "from docx import Document\n",
        "\n",
        "def extract_tables_from_reports(base_dir=\"/content/reports\", out_dir=\"/content/tables\"):\n",
        "    os.makedirs(out_dir, exist_ok=True)\n",
        "    summary = {}\n",
        "    colnames_map = {}\n",
        "\n",
        "    for year in range(2001, 2025):  # adjust later\n",
        "        print(year)\n",
        "        year_path = os.path.join(base_dir, str(year))\n",
        "        if not os.path.isdir(year_path):\n",
        "            continue\n",
        "\n",
        "        for fname in os.listdir(year_path):\n",
        "            if not fname.endswith(\".docx\"):\n",
        "                continue\n",
        "\n",
        "            chapter = fname.split(\"_\")[0]\n",
        "            fpath = os.path.join(year_path, fname)\n",
        "\n",
        "            try:\n",
        "                doc = Document(fpath)\n",
        "            except Exception as e:\n",
        "                print(f\"skip {fpath}: {e}\")\n",
        "                continue\n",
        "\n",
        "            serial = 1\n",
        "            # find all tables with names containing \"לוח\"\n",
        "            for i, table in enumerate(doc.tables):\n",
        "                table_name = \"\"  # default\n",
        "\n",
        "                # check the first row cells for \"לוח\"\n",
        "                if len(table.rows) > 0:\n",
        "                    for cell in table.rows[0].cells:\n",
        "                        if \"לוח\" in cell.text and \"תרשים\" not in cell.text:  # extra check\n",
        "                            table_name = cell.text.strip()\n",
        "                            break\n",
        "\n",
        "                    if not table_name:  # skip if not a valid table\n",
        "                        continue\n",
        "\n",
        "                    # convert table to dataframe\n",
        "                    data = [[cell.text.strip() for cell in row.cells] for row in table.rows]\n",
        "                    df = pd.DataFrame(data)\n",
        "\n",
        "                    identifier = f\"{serial}_{chapter}_{year}\"\n",
        "\n",
        "                    # RWMOVING THIS\n",
        "                    # record mapping for JSON\n",
        "                    # if len(df) > 0:\n",
        "                    #    summary[identifier] = \" \".join(df.iloc[0].astype(str).tolist())\n",
        "                    # else:\n",
        "                    #    continue\n",
        "\n",
        "                    #if len(df) > 1:\n",
        "                    #    colnames_map[identifier] = df.iloc[1].astype(str).tolist()\n",
        "                    #else:\n",
        "                    #    colnames_map[identifier] = []\n",
        "\n",
        "                    # ADD THIS\n",
        "                    # record mapping for JSON\n",
        "                    if len(df) > 0:\n",
        "                        # Deduplicate consecutive repeated text in header\n",
        "                        header_cells = df.iloc[0].astype(str).tolist()\n",
        "                        unique_header = []\n",
        "                        for cell in header_cells:\n",
        "                            if not unique_header or cell != unique_header[-1]:\n",
        "                                unique_header.append(cell)\n",
        "                        summary[identifier] = \" \".join(unique_header)\n",
        "                    else:\n",
        "                        continue\n",
        "\n",
        "                    # Combine rows [1] and [2] for column names\n",
        "                    if len(df) > 2:\n",
        "                        row1 = df.iloc[1].astype(str).tolist()\n",
        "                        row2 = df.iloc[2].astype(str).tolist()\n",
        "                        colnames_map[identifier] = [f\"{r1} {r2}\".strip() for r1, r2 in zip(row1, row2)]\n",
        "                    elif len(df) > 1:\n",
        "                        colnames_map[identifier] = df.iloc[1].astype(str).tolist()\n",
        "                    else:\n",
        "                        colnames_map[identifier] = []\n",
        "\n",
        "                    #FROM HERE ON IT'S AS IT WAS BEFORE (SHAUL 08.09)\n",
        "                    # save CSV\n",
        "                    save_dir = os.path.join(out_dir, str(year), chapter)\n",
        "                    os.makedirs(save_dir, exist_ok=True)\n",
        "                    save_path = os.path.join(save_dir, f\"{identifier}.csv\")\n",
        "                    df.to_csv(save_path, index=False, encoding=\"utf-8-sig\")\n",
        "\n",
        "                    serial += 1\n",
        "\n",
        "    # write summary JSON\n",
        "    with open(os.path.join(out_dir, \"tables_summary.json\"), \"w\", encoding=\"utf-8\") as f:\n",
        "        json.dump(summary, f, ensure_ascii=False, indent=2)\n",
        "\n",
        "    with open(os.path.join(out_dir, \"tables_columns.json\"), \"w\", encoding=\"utf-8\") as f:\n",
        "        json.dump(colnames_map, f, ensure_ascii=False, indent=2)\n",
        "\n",
        "\n",
        "extract_tables_from_reports()\n"
      ],
      "metadata": {
        "colab": {
          "base_uri": "https://localhost:8080/"
        },
        "id": "zkBcC-xkwcbD",
        "outputId": "b32200a8-0404-44ca-c4b7-e4116dbbfc89"
      },
      "execution_count": null,
      "outputs": [
        {
          "output_type": "stream",
          "name": "stdout",
          "text": [
            "2001\n",
            "2002\n",
            "2003\n",
            "2004\n",
            "2005\n",
            "2006\n",
            "2007\n",
            "2008\n",
            "2009\n",
            "2010\n",
            "2011\n",
            "2012\n",
            "2013\n",
            "2014\n",
            "2015\n",
            "2016\n",
            "2017\n",
            "2018\n",
            "2019\n",
            "2020\n",
            "2021\n",
            "2022\n",
            "2023\n",
            "2024\n"
          ]
        }
      ]
    },
    {
      "cell_type": "markdown",
      "source": [
        "# New code for extracting tables"
      ],
      "metadata": {
        "id": "ydWK6pkHckEV"
      }
    },
    {
      "cell_type": "code",
      "source": [
        "import os\n",
        "import json\n",
        "import pandas as pd\n",
        "from docx import Document\n",
        "\n",
        "# Configuration Constants\n",
        "YEAR_RANGE = (2001, 2025)  # Years to process\n",
        "VALID_EXTENSION = \".docx\"\n",
        "TABLE_MARKER = \"לוח\"  # Hebrew for \"table\"\n",
        "EXCLUDE_MARKER = \"תרשים\"  # Hebrew for \"diagram\" - exclude these\n",
        "ENCODING = \"utf-8-sig\"\n",
        "SUMMARY_FILE = \"tables_summary.json\"\n",
        "COLUMNS_FILE = \"tables_columns.json\"\n",
        "\n",
        "def is_valid_table(table):\n",
        "    \"\"\"\n",
        "    Check if a table is valid (contains Hebrew table marker in first row).\n",
        "\n",
        "    Args:\n",
        "        table: A docx table object\n",
        "\n",
        "    Returns:\n",
        "        tuple: (is_valid: bool, table_name: str)\n",
        "    \"\"\"\n",
        "    if len(table.rows) == 0:\n",
        "        return False, \"\"\n",
        "\n",
        "    # Check first row cells for table marker\n",
        "    for cell in table.rows[0].cells:\n",
        "        cell_text = cell.text\n",
        "        if TABLE_MARKER in cell_text and EXCLUDE_MARKER not in cell_text:\n",
        "            return True, cell_text.strip()\n",
        "\n",
        "    return False, \"\"\n",
        "\n",
        "\n",
        "def extract_table_data(table):\n",
        "    \"\"\"\n",
        "    Extract data from a docx table and convert to DataFrame.\n",
        "\n",
        "    Args:\n",
        "        table: A docx table object\n",
        "\n",
        "    Returns:\n",
        "        pd.DataFrame: Table data as a DataFrame\n",
        "    \"\"\"\n",
        "    data = [[cell.text.strip() for cell in row.cells] for row in table.rows]\n",
        "    return pd.DataFrame(data)\n",
        "\n",
        "\n",
        "def save_table_data(df, identifier, year, chapter, out_dir):\n",
        "    \"\"\"\n",
        "    Save DataFrame as CSV file in the appropriate directory structure.\n",
        "\n",
        "    Args:\n",
        "        df: pandas DataFrame to save\n",
        "        identifier: Unique identifier for the table\n",
        "        year: Year of the document\n",
        "        chapter: Chapter identifier\n",
        "        out_dir: Base output directory\n",
        "\n",
        "    Returns:\n",
        "        str: Path where the file was saved\n",
        "    \"\"\"\n",
        "    save_dir = os.path.join(out_dir, str(year), chapter)\n",
        "    os.makedirs(save_dir, exist_ok=True)\n",
        "\n",
        "    save_path = os.path.join(save_dir, f\"{identifier}.csv\")\n",
        "    df.to_csv(save_path, index=False, encoding=ENCODING)\n",
        "\n",
        "    return save_path\n",
        "\n",
        "\n",
        "def process_document(fpath, year, chapter, out_dir):\n",
        "    \"\"\"\n",
        "    Process a single Word document and extract all valid tables.\n",
        "\n",
        "    Args:\n",
        "        fpath: Full path to the document\n",
        "        year: Year of the document\n",
        "        chapter: Chapter identifier from filename\n",
        "        out_dir: Base output directory\n",
        "\n",
        "    Returns:\n",
        "        tuple: (summary_dict, colnames_dict) containing extracted data\n",
        "    \"\"\"\n",
        "    summary = {}\n",
        "    colnames_map = {}\n",
        "\n",
        "    try:\n",
        "        doc = Document(fpath)\n",
        "    except Exception as e:\n",
        "        print(f\"skip {fpath}: {e}\")\n",
        "        return summary, colnames_map\n",
        "\n",
        "    serial = 1\n",
        "\n",
        "    for table in doc.tables:\n",
        "        # Validate table\n",
        "        is_valid, table_name = is_valid_table(table)\n",
        "        if not is_valid:\n",
        "            continue\n",
        "\n",
        "        # Extract data\n",
        "        df = extract_table_data(table)\n",
        "\n",
        "        # Skip empty tables\n",
        "        if len(df) == 0:\n",
        "            continue\n",
        "\n",
        "        # Create identifier\n",
        "        identifier = f\"{serial}_{chapter}_{year}\"\n",
        "\n",
        "        # Record table summary (first row)\n",
        "        summary[identifier] = \" \".join(df.iloc[0].astype(str).tolist())\n",
        "\n",
        "        # Record column names (second row if exists)\n",
        "        if len(df) > 1:\n",
        "            colnames_map[identifier] = df.iloc[1].astype(str).tolist() ## add 2 and 3\n",
        "        else:\n",
        "            colnames_map[identifier] = []\n",
        "\n",
        "        # Save to CSV\n",
        "        save_table_data(df, identifier, year, chapter, out_dir)\n",
        "\n",
        "        serial += 1\n",
        "      # fix table name to not have duplicates due to multiple cells\n",
        "    return summary, colnames_map\n",
        "\n",
        "\n",
        "def save_metadata(summary, colnames_map, out_dir):\n",
        "    \"\"\"\n",
        "    Save summary and column metadata to JSON files.\n",
        "\n",
        "    Args:\n",
        "        summary: Dictionary of table summaries\n",
        "        colnames_map: Dictionary of column names\n",
        "        out_dir: Output directory\n",
        "    \"\"\"\n",
        "    with open(os.path.join(out_dir, SUMMARY_FILE), \"w\", encoding=\"utf-8\") as f:\n",
        "        json.dump(summary, f, ensure_ascii=False, indent=2)\n",
        "\n",
        "    with open(os.path.join(out_dir, COLUMNS_FILE), \"w\", encoding=\"utf-8\") as f:\n",
        "        json.dump(colnames_map, f, ensure_ascii=False, indent=2)\n",
        "\n",
        "\n",
        "def extract_tables_from_reports(base_dir=\"/content/reports\", out_dir=\"/content/tables\"):\n",
        "    \"\"\"\n",
        "    Extract tables from Word documents organized by year and chapter.\n",
        "\n",
        "    Processes all .docx files in year subdirectories, extracts tables containing\n",
        "    Hebrew table markers, and saves them as CSV files with metadata JSON files.\n",
        "\n",
        "    Args:\n",
        "        base_dir: Root directory containing year subdirectories with reports\n",
        "        out_dir: Output directory for extracted tables and metadata\n",
        "    \"\"\"\n",
        "    os.makedirs(out_dir, exist_ok=True)\n",
        "\n",
        "    # Initialize collectors for all documents\n",
        "    all_summaries = {}\n",
        "    all_colnames = {}\n",
        "\n",
        "    # Process each year\n",
        "    for year in range(*YEAR_RANGE):\n",
        "        print(year)\n",
        "        year_path = os.path.join(base_dir, str(year))\n",
        "\n",
        "        if not os.path.isdir(year_path):\n",
        "            continue\n",
        "\n",
        "        # Process each document in the year directory\n",
        "        for fname in os.listdir(year_path):\n",
        "            if not fname.endswith(VALID_EXTENSION):\n",
        "                continue\n",
        "\n",
        "            # Extract chapter from filename\n",
        "            chapter = fname.split(\"_\")[0]\n",
        "            fpath = os.path.join(year_path, fname)\n",
        "\n",
        "            # Process the document\n",
        "            doc_summary, doc_colnames = process_document(fpath, year, chapter, out_dir)\n",
        "\n",
        "            # Merge results\n",
        "            all_summaries.update(doc_summary)\n",
        "            all_colnames.update(doc_colnames)\n",
        "\n",
        "    # Save consolidated metadata\n",
        "    save_metadata(all_summaries, all_colnames, out_dir)"
      ],
      "metadata": {
        "id": "bWlSkLJ8Ymm_"
      },
      "execution_count": null,
      "outputs": []
    },
    {
      "cell_type": "code",
      "source": [],
      "metadata": {
        "id": "5b2eWANkuyhQ"
      },
      "execution_count": null,
      "outputs": []
    }
  ]
}