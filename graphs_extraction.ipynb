{
  "nbformat": 4,
  "nbformat_minor": 5,
  "metadata": {
    "colab": {
      "provenance": []
    },
    "language_info": {
      "name": "python"
    },
    "kernelspec": {
      "name": "python3",
      "display_name": "Python 3"
    }
  },
  "cells": [
    {
      "cell_type": "code",
      "metadata": {
        "id": "KDF2q4dwm-jj"
      },
      "execution_count": null,
      "source": [],
      "outputs": [],
      "id": "KDF2q4dwm-jj"
    }
  ]
}